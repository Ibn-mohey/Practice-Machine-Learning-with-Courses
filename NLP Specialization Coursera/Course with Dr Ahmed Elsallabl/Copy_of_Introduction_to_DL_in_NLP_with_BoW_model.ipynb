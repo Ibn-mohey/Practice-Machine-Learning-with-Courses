{
 "cells": [
  {
   "cell_type": "markdown",
   "metadata": {
    "id": "nXAn2KBtMQ6Y"
   },
   "source": [
    "# Introduction to DL NLP with BoW\n",
    "\n",
    "In this tutorial, we will cover:\n",
    "\n",
    "- Simple BoW model on ready processed `keras.datasets.imdb`.\n",
    "- NLP data pre-processing on `aclimbd` raw data set.\n",
    "- Text binarization using keras `Tokenizer`\n",
    "- Text features using both sklearn and keras Tokenizer: `binary`, `count`, `freq` and `tfidf`\n",
    "- Introduce Keras `Embedding` layer and how to use it with Bag-of-word vectors model."
   ]
  },
  {
   "cell_type": "code",
   "execution_count": 1,
   "metadata": {
    "colab": {
     "base_uri": "https://localhost:8080/"
    },
    "id": "_cY6rIse9SVL",
    "outputId": "bfaa811b-c787-4498-cece-1dfee52d51ff"
   },
   "outputs": [
    {
     "name": "stderr",
     "output_type": "stream",
     "text": [
      "[nltk_data] Downloading package punkt to\n",
      "[nltk_data]     C:\\Users\\asd_v\\AppData\\Roaming\\nltk_data...\n",
      "[nltk_data]   Package punkt is already up-to-date!\n",
      "[nltk_data] Downloading package stopwords to\n",
      "[nltk_data]     C:\\Users\\asd_v\\AppData\\Roaming\\nltk_data...\n",
      "[nltk_data]   Unzipping corpora\\stopwords.zip.\n",
      "[nltk_data] Downloading package wordnet to\n",
      "[nltk_data]     C:\\Users\\asd_v\\AppData\\Roaming\\nltk_data...\n",
      "[nltk_data]   Unzipping corpora\\wordnet.zip.\n"
     ]
    }
   ],
   "source": [
    "from tensorflow.keras.datasets import imdb\n",
    "from tensorflow.keras.preprocessing.text import text_to_word_sequence\n",
    "from tensorflow.keras.preprocessing.text import Tokenizer  \n",
    "from tensorflow.keras.preprocessing.sequence import pad_sequences\n",
    "from tensorflow.keras import models\n",
    "from tensorflow.keras import layers\n",
    "from tensorflow.keras import losses\n",
    "from tensorflow.keras import metrics\n",
    "from tensorflow.keras import optimizers\n",
    "from tensorflow.keras.utils import plot_model\n",
    "\n",
    "import numpy as np\n",
    "import matplotlib.pyplot as plt\n",
    "\n",
    "from sklearn.feature_extraction.text import CountVectorizer\n",
    "from sklearn.feature_extraction.text import TfidfVectorizer\n",
    "from sklearn.model_selection import train_test_split\n",
    "\n",
    "from collections import Counter\n",
    "from pathlib import Path\n",
    "import os\n",
    "import numpy as np\n",
    "import re\n",
    "import string\n",
    "import nltk\n",
    "nltk.download('punkt')\n",
    "from nltk.tokenize import word_tokenize\n",
    "from nltk.corpus import stopwords\n",
    "nltk.download('stopwords')\n",
    "from nltk.stem.porter import PorterStemmer\n",
    "from nltk.stem import WordNetLemmatizer\n",
    "nltk.download('wordnet')\n",
    "from nltk.corpus import wordnet\n",
    "import unicodedata\n",
    "import html\n",
    "stop_words = stopwords.words('english')"
   ]
  },
  {
   "cell_type": "markdown",
   "metadata": {
    "id": "hdwIHLa2PRuW"
   },
   "source": [
    "# Classifying movie reviews with BoW model"
   ]
  },
  {
   "cell_type": "markdown",
   "metadata": {
    "id": "ZUo0oK6pJZ_h"
   },
   "source": [
    "__Core ideas:__\n",
    "\n",
    "1- How text is represented in ML/DL (vocab)\n",
    "\n",
    "2- Simple Dense keras model\n",
    "\n",
    "3- Binary classification loss and activation"
   ]
  },
  {
   "cell_type": "markdown",
   "metadata": {
    "id": "d7svi23njbbE"
   },
   "source": [
    "## The IMDB dataset\n",
    "\n",
    "\n",
    "We'll be working with \"IMDB dataset\", a set of 50,000 highly-polarized reviews from the Internet Movie Database. They are split into 25,000 \n",
    "reviews for training and 25,000 reviews for testing, each set consisting in 50% negative and 50% positive reviews.\n",
    "\n",
    "Why do we have these two separate training and test sets? You should never test a machine learning model on the same data that you used to \n",
    "train it! Just because a model performs well on its training data doesn't mean that it will perform well on data it has never seen, and \n",
    "what you actually care about is your model's performance on new data (since you already know the labels of your training data -- obviously \n",
    "you don't need your model to predict those). For instance, it is possible that your model could end up merely _memorizing_ a mapping between \n",
    "your training samples and their targets -- which would be completely useless for the task of predicting targets for data never seen before. \n",
    "We will go over this point in much more detail in the next chapter.\n",
    "\n",
    "Just like the MNIST dataset, the IMDB dataset comes packaged with Keras. It has already been preprocessed: the reviews (sequences of words) \n",
    "have been turned into sequences of integers, where each integer stands for a specific word in a dictionary.\n",
    "\n",
    "The following code will load the dataset (when you run it for the first time, about 80MB of data will be downloaded to your machine):"
   ]
  },
  {
   "cell_type": "code",
   "execution_count": 2,
   "metadata": {
    "colab": {
     "base_uri": "https://localhost:8080/"
    },
    "id": "STRUdYOnjbbF",
    "outputId": "9bd88bd3-828d-402a-f039-5b29b490a1f2"
   },
   "outputs": [
    {
     "name": "stdout",
     "output_type": "stream",
     "text": [
      "Downloading data from https://storage.googleapis.com/tensorflow/tf-keras-datasets/imdb.npz\n",
      "17465344/17464789 [==============================] - 8s 0us/step\n",
      "17473536/17464789 [==============================] - 8s 0us/step\n"
     ]
    }
   ],
   "source": [
    "\n",
    "\n",
    "(train_data, train_labels), (test_data, test_labels) = imdb.load_data(num_words=10000)"
   ]
  },
  {
   "cell_type": "markdown",
   "metadata": {
    "id": "fFL8SiSXjbbI"
   },
   "source": [
    "\n",
    "The argument `num_words=10000` means that we will only keep the top 10,000 most frequently occurring words in the training data. Rare words \n",
    "will be discarded. This allows us to work with vector data of manageable size.\n",
    "\n",
    "The variables `train_data` and `test_data` are lists of reviews, each review being a list of word indices (encoding a sequence of words). \n",
    "`train_labels` and `test_labels` are lists of 0s and 1s, where 0 stands for \"negative\" and 1 stands for \"positive\":"
   ]
  },
  {
   "cell_type": "code",
   "execution_count": 3,
   "metadata": {
    "colab": {
     "base_uri": "https://localhost:8080/"
    },
    "id": "pzOFmWDNjbbJ",
    "outputId": "ac52372d-0404-40a3-abac-8ca2f0fd90c7"
   },
   "outputs": [
    {
     "data": {
      "text/plain": [
       "[1,\n",
       " 14,\n",
       " 22,\n",
       " 16,\n",
       " 43,\n",
       " 530,\n",
       " 973,\n",
       " 1622,\n",
       " 1385,\n",
       " 65,\n",
       " 458,\n",
       " 4468,\n",
       " 66,\n",
       " 3941,\n",
       " 4,\n",
       " 173,\n",
       " 36,\n",
       " 256,\n",
       " 5,\n",
       " 25,\n",
       " 100,\n",
       " 43,\n",
       " 838,\n",
       " 112,\n",
       " 50,\n",
       " 670,\n",
       " 2,\n",
       " 9,\n",
       " 35,\n",
       " 480,\n",
       " 284,\n",
       " 5,\n",
       " 150,\n",
       " 4,\n",
       " 172,\n",
       " 112,\n",
       " 167,\n",
       " 2,\n",
       " 336,\n",
       " 385,\n",
       " 39,\n",
       " 4,\n",
       " 172,\n",
       " 4536,\n",
       " 1111,\n",
       " 17,\n",
       " 546,\n",
       " 38,\n",
       " 13,\n",
       " 447,\n",
       " 4,\n",
       " 192,\n",
       " 50,\n",
       " 16,\n",
       " 6,\n",
       " 147,\n",
       " 2025,\n",
       " 19,\n",
       " 14,\n",
       " 22,\n",
       " 4,\n",
       " 1920,\n",
       " 4613,\n",
       " 469,\n",
       " 4,\n",
       " 22,\n",
       " 71,\n",
       " 87,\n",
       " 12,\n",
       " 16,\n",
       " 43,\n",
       " 530,\n",
       " 38,\n",
       " 76,\n",
       " 15,\n",
       " 13,\n",
       " 1247,\n",
       " 4,\n",
       " 22,\n",
       " 17,\n",
       " 515,\n",
       " 17,\n",
       " 12,\n",
       " 16,\n",
       " 626,\n",
       " 18,\n",
       " 2,\n",
       " 5,\n",
       " 62,\n",
       " 386,\n",
       " 12,\n",
       " 8,\n",
       " 316,\n",
       " 8,\n",
       " 106,\n",
       " 5,\n",
       " 4,\n",
       " 2223,\n",
       " 5244,\n",
       " 16,\n",
       " 480,\n",
       " 66,\n",
       " 3785,\n",
       " 33,\n",
       " 4,\n",
       " 130,\n",
       " 12,\n",
       " 16,\n",
       " 38,\n",
       " 619,\n",
       " 5,\n",
       " 25,\n",
       " 124,\n",
       " 51,\n",
       " 36,\n",
       " 135,\n",
       " 48,\n",
       " 25,\n",
       " 1415,\n",
       " 33,\n",
       " 6,\n",
       " 22,\n",
       " 12,\n",
       " 215,\n",
       " 28,\n",
       " 77,\n",
       " 52,\n",
       " 5,\n",
       " 14,\n",
       " 407,\n",
       " 16,\n",
       " 82,\n",
       " 2,\n",
       " 8,\n",
       " 4,\n",
       " 107,\n",
       " 117,\n",
       " 5952,\n",
       " 15,\n",
       " 256,\n",
       " 4,\n",
       " 2,\n",
       " 7,\n",
       " 3766,\n",
       " 5,\n",
       " 723,\n",
       " 36,\n",
       " 71,\n",
       " 43,\n",
       " 530,\n",
       " 476,\n",
       " 26,\n",
       " 400,\n",
       " 317,\n",
       " 46,\n",
       " 7,\n",
       " 4,\n",
       " 2,\n",
       " 1029,\n",
       " 13,\n",
       " 104,\n",
       " 88,\n",
       " 4,\n",
       " 381,\n",
       " 15,\n",
       " 297,\n",
       " 98,\n",
       " 32,\n",
       " 2071,\n",
       " 56,\n",
       " 26,\n",
       " 141,\n",
       " 6,\n",
       " 194,\n",
       " 7486,\n",
       " 18,\n",
       " 4,\n",
       " 226,\n",
       " 22,\n",
       " 21,\n",
       " 134,\n",
       " 476,\n",
       " 26,\n",
       " 480,\n",
       " 5,\n",
       " 144,\n",
       " 30,\n",
       " 5535,\n",
       " 18,\n",
       " 51,\n",
       " 36,\n",
       " 28,\n",
       " 224,\n",
       " 92,\n",
       " 25,\n",
       " 104,\n",
       " 4,\n",
       " 226,\n",
       " 65,\n",
       " 16,\n",
       " 38,\n",
       " 1334,\n",
       " 88,\n",
       " 12,\n",
       " 16,\n",
       " 283,\n",
       " 5,\n",
       " 16,\n",
       " 4472,\n",
       " 113,\n",
       " 103,\n",
       " 32,\n",
       " 15,\n",
       " 16,\n",
       " 5345,\n",
       " 19,\n",
       " 178,\n",
       " 32]"
      ]
     },
     "execution_count": 3,
     "metadata": {},
     "output_type": "execute_result"
    }
   ],
   "source": [
    "train_data[0]"
   ]
  },
  {
   "cell_type": "code",
   "execution_count": 4,
   "metadata": {
    "colab": {
     "base_uri": "https://localhost:8080/"
    },
    "id": "FfkzaEHkjbbM",
    "outputId": "519e1598-c312-4feb-acf3-645ba04fb3a3"
   },
   "outputs": [
    {
     "data": {
      "text/plain": [
       "1"
      ]
     },
     "execution_count": 4,
     "metadata": {},
     "output_type": "execute_result"
    }
   ],
   "source": [
    "train_labels[0]"
   ]
  },
  {
   "cell_type": "markdown",
   "metadata": {
    "id": "oPStDLSCjbbU"
   },
   "source": [
    "Since we restricted ourselves to the top 10,000 most frequent words, no word index will exceed 10,000:"
   ]
  },
  {
   "cell_type": "code",
   "execution_count": 5,
   "metadata": {
    "colab": {
     "base_uri": "https://localhost:8080/"
    },
    "id": "9nS1RttSjbbV",
    "outputId": "153a8f82-a32c-4c40-8a49-eb5fa1dcb98b"
   },
   "outputs": [
    {
     "data": {
      "text/plain": [
       "9999"
      ]
     },
     "execution_count": 5,
     "metadata": {},
     "output_type": "execute_result"
    }
   ],
   "source": [
    "max([max(sequence) for sequence in train_data])"
   ]
  },
  {
   "cell_type": "markdown",
   "metadata": {
    "id": "0GGQxMSMjbba"
   },
   "source": [
    "For kicks, here's how you can quickly decode one of these reviews back to English words:"
   ]
  },
  {
   "cell_type": "code",
   "execution_count": 8,
   "metadata": {
    "colab": {
     "base_uri": "https://localhost:8080/"
    },
    "id": "PIq8Ykhkjbba",
    "outputId": "3685964e-24e9-4e10-c209-1f97a886cfb0"
   },
   "outputs": [],
   "source": [
    "# word_index is a dictionary mapping words to an integer index\n",
    "word_index = imdb.get_word_index()\n",
    "# We reverse it, mapping integer indices to words\n",
    "reverse_word_index = dict([(value, key) for (key, value) in word_index.items()])\n",
    "# We decode the review; note that our indices were offset by 3\n",
    "# because 0, 1 and 2 are reserved indices for \"padding\", \"start of sequence\", and \"unknown\".\n",
    "decoded_review = ' '.join([reverse_word_index.get(i - 3, '?') for i in train_data[0]])"
   ]
  },
  {
   "cell_type": "code",
   "execution_count": 9,
   "metadata": {
    "colab": {
     "base_uri": "https://localhost:8080/",
     "height": 109
    },
    "id": "SKG0QBbTjbbf",
    "outputId": "baf1683a-74a4-4a7d-b123-c6a3bef9070c"
   },
   "outputs": [
    {
     "data": {
      "text/plain": [
       "\"? this film was just brilliant casting location scenery story direction everyone's really suited the part they played and you could just imagine being there robert ? is an amazing actor and now the same being director ? father came from the same scottish island as myself so i loved the fact there was a real connection with this film the witty remarks throughout the film were great it was just brilliant so much that i bought the film as soon as it was released for ? and would recommend it to everyone to watch and the fly fishing was amazing really cried at the end it was so sad and you know what they say if you cry at a film it must have been good and this definitely was also ? to the two little boy's that played the ? of norman and paul they were just brilliant children are often left out of the ? list i think because the stars that play them all grown up are such a big profile for the whole film but these children are amazing and should be praised for what they have done don't you think the whole story was so lovely because it was true and was someone's life after all that was shared with us all\""
      ]
     },
     "execution_count": 9,
     "metadata": {},
     "output_type": "execute_result"
    }
   ],
   "source": [
    "decoded_review"
   ]
  },
  {
   "cell_type": "markdown",
   "metadata": {
    "id": "gYxR0mbsLtG-"
   },
   "source": [
    "# Bag of Words\n",
    "\n",
    "The term BoW is used in many different occasions in NLP. In general, it referes to treating every word equally as the others, without consideration of sequential information of the sentence or document. In other words, the context of the words is not considered. \n",
    "\n",
    "In some settings, words in the bag are summed, averaged,...etc (or their vectors). In other settings, they are simply mutlipled by different _learnable_ weighting. This is the case we will consider. We will use the `Dense` layer, applied to a _long_ vector of 1's and 0's. The length of that vector is the same as the number of words in our vocab (we specified when loading the data above using the `num_words` param). We will have such vector for every sentence/document of the data. Whenever a word of the vocab is mentioned, we set the corresponding location to 1. Otherwise, it's 0. \n",
    "\n",
    "__You can imagine how sparse and inefficient is that vector!__\n",
    "\n",
    "__In this setting, we are treating the mention or absence of a word as a feature__\n",
    "\n",
    "The `Dense` layer will assign a _learnable_ weight to each word location. If the word is mentioned, that weight will be multiplied by 1, else it's 0. Then the output of the `Dense` is a number of neurons (hyper param), each represents different weighting of the input long vector of features/words.\n",
    "\n",
    "The next layers, are just further _refinements_ of the learnt features from the previous layers. Until we reach the final layer, which produces 1 or k outputs according to the problem or task (binary or multi classification).\n",
    "\n",
    "__Pros__:\n",
    "- All words are normalized, regardless of their index in the vocab\n",
    "\n",
    "__Cons__:\n",
    "\n",
    "- Sparsity = inefficiency = A lot of useless features = confusion of the model = unnecessary big model = more overfitting\n",
    "\n",
    "- Need to pad to max (again inefficiency): \n",
    "\n",
    "This model, requires ALL the data samples to have the same length, sense the `Dense` layer cannot handle variable length input (weight matrix is fixed). This mandates to perform padding\n",
    "\n",
    "- No context = no sequence = hard to model co-reference, sarcasm, negation...etc\n",
    "\n",
    "_Example_\n",
    "\n",
    "Such BoW model has no clue to differentiate the following cases:\n",
    "\n",
    "- This movie is good --> +\n",
    "\n",
    "- This movie is bad --> -\n",
    "\n",
    "- This movie is not good --> -\n",
    "\n",
    "- This movie is not bad --> +\n",
    "\n",
    "Simple because it cannot link the context of the words \"good\" and \"bad\" to the negatition or affirmation context \"not\"\n",
    "\n"
   ]
  },
  {
   "cell_type": "markdown",
   "metadata": {
    "id": "OHAoXs4IgRv6"
   },
   "source": []
  },
  {
   "cell_type": "markdown",
   "metadata": {
    "id": "yZy2lUo9jbbk"
   },
   "source": [
    "## Preparing the data\n",
    "\n",
    "\n",
    "We cannot feed lists of integers into a neural network. We have to turn our lists into tensors. There are two ways we could do that:\n",
    "\n",
    "* We could pad our lists so that they all have the same length, and turn them into an integer tensor of shape `(samples, word_indices)`, \n",
    "then use as first layer in our network a layer capable of handling such integer tensors (the `Embedding` layer, which we will cover in \n",
    "detail later).\n",
    "* We could one-hot-encode our lists to turn them into vectors of 0s and 1s. Concretely, this would mean for instance turning the sequence \n",
    "`[3, 5]` into a 10,000-dimensional vector that would be all-zeros except for indices 3 and 5, which would be ones. Then we could use as \n",
    "first layer in our network a `Dense` layer, capable of handling floating point vector data.\n",
    "\n",
    "We will go with the latter solution. Let's vectorize our data, which we will do manually for maximum clarity:"
   ]
  },
  {
   "cell_type": "code",
   "execution_count": 10,
   "metadata": {
    "id": "hnIe0FhHjbbl"
   },
   "outputs": [],
   "source": [
    "\n",
    "\n",
    "def vectorize_sequences(sequences, dimension=10000):\n",
    "    # Create an all-zero matrix of shape (len(sequences), dimension)\n",
    "    results = np.zeros((len(sequences), dimension))\n",
    "    for i, sequence in enumerate(sequences):\n",
    "        results[i, sequence] = 1.  # set specific indices of results[i] to 1s\n",
    "    return results\n",
    "\n",
    "# Our vectorized training data\n",
    "x_train = vectorize_sequences(train_data)\n",
    "# Our vectorized test data\n",
    "x_test = vectorize_sequences(test_data)"
   ]
  },
  {
   "cell_type": "markdown",
   "metadata": {
    "id": "C3V-8_vvjbbn"
   },
   "source": [
    "Here's what our samples look like now:"
   ]
  },
  {
   "cell_type": "code",
   "execution_count": 11,
   "metadata": {
    "colab": {
     "base_uri": "https://localhost:8080/"
    },
    "id": "pWzbi0o1jbbp",
    "outputId": "bd2b6fc2-36f3-4452-c50e-48a157f627ad"
   },
   "outputs": [
    {
     "data": {
      "text/plain": [
       "array([0., 1., 1., ..., 0., 0., 0.])"
      ]
     },
     "execution_count": 11,
     "metadata": {},
     "output_type": "execute_result"
    }
   ],
   "source": [
    "x_train[0]"
   ]
  },
  {
   "cell_type": "markdown",
   "metadata": {
    "id": "qjNw0fiUjbbs"
   },
   "source": [
    "We should also vectorize our labels, which is straightforward:"
   ]
  },
  {
   "cell_type": "code",
   "execution_count": 12,
   "metadata": {
    "id": "UziknEIijbbv"
   },
   "outputs": [],
   "source": [
    "# Our vectorized labels\n",
    "y_train = np.asarray(train_labels).astype('float32')\n",
    "y_test = np.asarray(test_labels).astype('float32')"
   ]
  },
  {
   "cell_type": "markdown",
   "metadata": {
    "id": "cRvzkiQcjbbz"
   },
   "source": [
    "Now our data is ready to be fed into a neural network."
   ]
  },
  {
   "cell_type": "markdown",
   "metadata": {
    "id": "7KORE8-Bjbb2"
   },
   "source": [
    "## Building our network\n",
    "\n",
    "\n",
    "Our input data is simply vectors, and our labels are scalars (1s and 0s): this is the easiest setup you will ever encounter. A type of \n",
    "network that performs well on such a problem would be a simple stack of fully-connected (`Dense`) layers with `relu` activations: `Dense(16, \n",
    "activation='relu')`\n",
    "\n",
    "The argument being passed to each `Dense` layer (16) is the number of \"hidden units\" of the layer. What's a hidden unit? It's a dimension \n",
    "in the representation space of the layer. You may remember from the previous chapter that each such `Dense` layer with a `relu` activation implements \n",
    "the following chain of tensor operations:\n",
    "\n",
    "`output = relu(dot(W, input) + b)`\n",
    "\n",
    "Having 16 hidden units means that the weight matrix `W` will have shape `(input_dimension, 16)`, i.e. the dot product with `W` will project the \n",
    "input data onto a 16-dimensional representation space (and then we would add the bias vector `b` and apply the `relu` operation). You can \n",
    "intuitively understand the dimensionality of your representation space as \"how much freedom you are allowing the network to have when \n",
    "learning internal representations\". Having more hidden units (a higher-dimensional representation space) allows your network to learn more \n",
    "complex representations, but it makes your network more computationally expensive and may lead to learning unwanted patterns (patterns that \n",
    "will improve performance on the training data but not on the test data).\n",
    "\n",
    "There are two key architecture decisions to be made about such stack of dense layers:\n",
    "\n",
    "* How many layers to use.\n",
    "* How many \"hidden units\" to chose for each layer.\n",
    "\n",
    "In the next chapter, you will learn formal principles to guide you in making these choices. \n",
    "For the time being, you will have to trust us with the following architecture choice: \n",
    "two intermediate layers with 16 hidden units each, \n",
    "and a third layer which will output the scalar prediction regarding the sentiment of the current review. \n",
    "The intermediate layers will use `relu` as their \"activation function\", \n",
    "and the final layer will use a sigmoid activation so as to output a probability \n",
    "(a score between 0 and 1, indicating how likely the sample is to have the target \"1\", i.e. how likely the review is to be positive). \n",
    "A `relu` (rectified linear unit) is a function meant to zero-out negative values, \n",
    "while a sigmoid \"squashes\" arbitrary values into the `[0, 1]` interval, thus outputting something that can be interpreted as a probability."
   ]
  },
  {
   "cell_type": "markdown",
   "metadata": {
    "id": "2KE604Pajbb4"
   },
   "source": [
    "Here's what our network looks like:\n",
    "\n",
    "![3-layer network](https://s3.amazonaws.com/book.keras.io/img/ch3/3_layer_network.png)"
   ]
  },
  {
   "cell_type": "markdown",
   "metadata": {
    "id": "82FQQsEOjbb5"
   },
   "source": [
    "And here's the Keras implementation, very similar to the MNIST example you saw previously:"
   ]
  },
  {
   "cell_type": "code",
   "execution_count": 13,
   "metadata": {
    "id": "rNFjVJdMjbb5"
   },
   "outputs": [],
   "source": [
    "from tensorflow.keras import models\n",
    "from tensorflow.keras import layers\n",
    "\n",
    "model = models.Sequential()\n",
    "model.add(layers.Dense(16, activation='relu', input_shape=(10000,)))\n",
    "model.add(layers.Dense(16, activation='relu'))\n",
    "model.add(layers.Dense(1, activation='sigmoid'))"
   ]
  },
  {
   "cell_type": "markdown",
   "metadata": {
    "id": "TwwZgXxqjbb9"
   },
   "source": [
    "\n",
    "Lastly, we need to pick a loss function and an optimizer. Since we are facing a binary classification problem and the output of our network \n",
    "is a probability (we end our network with a single-unit layer with a sigmoid activation), is it best to use the `binary_crossentropy` loss. \n",
    "It isn't the only viable choice: you could use, for instance, `mean_squared_error`. But crossentropy is usually the best choice when you \n",
    "are dealing with models that output probabilities. Crossentropy is a quantity from the field of Information Theory, that measures the \"distance\" \n",
    "between probability distributions, or in our case, between the ground-truth distribution and our predictions.\n",
    "\n",
    "Here's the step where we configure our model with the `rmsprop` optimizer and the `binary_crossentropy` loss function. Note that we will \n",
    "also monitor accuracy during training."
   ]
  },
  {
   "cell_type": "code",
   "execution_count": 14,
   "metadata": {
    "id": "vVxj_E7njbb-"
   },
   "outputs": [],
   "source": [
    "model.compile(optimizer='rmsprop',\n",
    "              loss='binary_crossentropy',\n",
    "              metrics=['accuracy'])"
   ]
  },
  {
   "cell_type": "markdown",
   "metadata": {
    "id": "d6TJvwM4jbcC"
   },
   "source": [
    "We are passing our optimizer, loss function and metrics as strings, which is possible because `rmsprop`, `binary_crossentropy` and \n",
    "`accuracy` are packaged as part of Keras. Sometimes you may want to configure the parameters of your optimizer, or pass a custom loss \n",
    "function or metric function. This former can be done by passing an optimizer class instance as the `optimizer` argument:"
   ]
  },
  {
   "cell_type": "code",
   "execution_count": 16,
   "metadata": {
    "colab": {
     "base_uri": "https://localhost:8080/"
    },
    "id": "ztOY0GfgjbcD",
    "outputId": "b3535a6a-ea71-4ba8-ed4a-e3cf93c9546a"
   },
   "outputs": [],
   "source": [
    "from tensorflow.keras import optimizers\n",
    "\n",
    "model.compile(optimizer=optimizers.RMSprop(learning_rate=0.001),\n",
    "              loss='binary_crossentropy',\n",
    "              metrics=['accuracy'])"
   ]
  },
  {
   "cell_type": "markdown",
   "metadata": {
    "id": "rLKiYKK7jbcI"
   },
   "source": [
    "The latter can be done by passing function objects as the `loss` or `metrics` arguments:"
   ]
  },
  {
   "cell_type": "code",
   "execution_count": 17,
   "metadata": {
    "colab": {
     "base_uri": "https://localhost:8080/"
    },
    "id": "D-T98txDjbcJ",
    "outputId": "01102b7f-f57b-4d00-9103-794ab030b5a2"
   },
   "outputs": [],
   "source": [
    "from tensorflow.keras import losses\n",
    "from tensorflow.keras import metrics\n",
    "\n",
    "model.compile(optimizer=optimizers.RMSprop(learning_rate=0.001),\n",
    "              loss=losses.binary_crossentropy,\n",
    "              metrics=[metrics.binary_accuracy])"
   ]
  },
  {
   "cell_type": "markdown",
   "metadata": {
    "id": "6CV0gFrbjbcQ"
   },
   "source": [
    "## Validating our approach\n",
    "\n",
    "In order to monitor during training the accuracy of the model on data that it has never seen before, we will create a \"validation set\" by \n",
    "setting apart 10,000 samples from the original training data:"
   ]
  },
  {
   "cell_type": "code",
   "execution_count": 18,
   "metadata": {
    "id": "8XuByTHhjbcQ"
   },
   "outputs": [],
   "source": [
    "x_val = x_train[:10000]\n",
    "partial_x_train = x_train[10000:]\n",
    "\n",
    "y_val = y_train[:10000]\n",
    "partial_y_train = y_train[10000:]"
   ]
  },
  {
   "cell_type": "markdown",
   "metadata": {
    "collapsed": true,
    "id": "d23VFZWejbcT"
   },
   "source": [
    "We will now train our model for 20 epochs (20 iterations over all samples in the `x_train` and `y_train` tensors), in mini-batches of 512 \n",
    "samples. At this same time we will monitor loss and accuracy on the 10,000 samples that we set apart. This is done by passing the \n",
    "validation data as the `validation_data` argument:"
   ]
  },
  {
   "cell_type": "code",
   "execution_count": 19,
   "metadata": {
    "colab": {
     "base_uri": "https://localhost:8080/"
    },
    "id": "Umy_h9kEjbcU",
    "outputId": "c94146f5-a9e6-49c6-b010-fc4c6acd75f8"
   },
   "outputs": [
    {
     "name": "stdout",
     "output_type": "stream",
     "text": [
      "Epoch 1/20\n",
      "30/30 [==============================] - 5s 63ms/step - loss: 0.5169 - binary_accuracy: 0.7901 - val_loss: 0.3961 - val_binary_accuracy: 0.8627\n",
      "Epoch 2/20\n",
      "30/30 [==============================] - 1s 30ms/step - loss: 0.3117 - binary_accuracy: 0.9016 - val_loss: 0.3076 - val_binary_accuracy: 0.8859\n",
      "Epoch 3/20\n",
      "30/30 [==============================] - 1s 30ms/step - loss: 0.2298 - binary_accuracy: 0.9268 - val_loss: 0.2900 - val_binary_accuracy: 0.8829\n",
      "Epoch 4/20\n",
      "30/30 [==============================] - 1s 31ms/step - loss: 0.1821 - binary_accuracy: 0.9393 - val_loss: 0.2742 - val_binary_accuracy: 0.8903\n",
      "Epoch 5/20\n",
      "30/30 [==============================] - 1s 31ms/step - loss: 0.1464 - binary_accuracy: 0.9538 - val_loss: 0.2874 - val_binary_accuracy: 0.8856\n",
      "Epoch 6/20\n",
      "30/30 [==============================] - 1s 30ms/step - loss: 0.1237 - binary_accuracy: 0.9619 - val_loss: 0.2886 - val_binary_accuracy: 0.8875\n",
      "Epoch 7/20\n",
      "30/30 [==============================] - 1s 28ms/step - loss: 0.0993 - binary_accuracy: 0.9712 - val_loss: 0.3082 - val_binary_accuracy: 0.8842\n",
      "Epoch 8/20\n",
      "30/30 [==============================] - 1s 29ms/step - loss: 0.0871 - binary_accuracy: 0.9742 - val_loss: 0.3246 - val_binary_accuracy: 0.8829\n",
      "Epoch 9/20\n",
      "30/30 [==============================] - 1s 28ms/step - loss: 0.0687 - binary_accuracy: 0.9822 - val_loss: 0.3535 - val_binary_accuracy: 0.8814\n",
      "Epoch 10/20\n",
      "30/30 [==============================] - 1s 28ms/step - loss: 0.0581 - binary_accuracy: 0.9857 - val_loss: 0.3712 - val_binary_accuracy: 0.8790\n",
      "Epoch 11/20\n",
      "30/30 [==============================] - 1s 27ms/step - loss: 0.0462 - binary_accuracy: 0.9895 - val_loss: 0.4404 - val_binary_accuracy: 0.8671\n",
      "Epoch 12/20\n",
      "30/30 [==============================] - 1s 28ms/step - loss: 0.0373 - binary_accuracy: 0.9918 - val_loss: 0.4811 - val_binary_accuracy: 0.8661\n",
      "Epoch 13/20\n",
      "30/30 [==============================] - 1s 28ms/step - loss: 0.0327 - binary_accuracy: 0.9930 - val_loss: 0.4606 - val_binary_accuracy: 0.8746\n",
      "Epoch 14/20\n",
      "30/30 [==============================] - 1s 29ms/step - loss: 0.0230 - binary_accuracy: 0.9959 - val_loss: 0.5860 - val_binary_accuracy: 0.8574\n",
      "Epoch 15/20\n",
      "30/30 [==============================] - 1s 36ms/step - loss: 0.0193 - binary_accuracy: 0.9972 - val_loss: 0.5241 - val_binary_accuracy: 0.8709\n",
      "Epoch 16/20\n",
      "30/30 [==============================] - 1s 30ms/step - loss: 0.0165 - binary_accuracy: 0.9973 - val_loss: 0.5626 - val_binary_accuracy: 0.8684\n",
      "Epoch 17/20\n",
      "30/30 [==============================] - 1s 30ms/step - loss: 0.0139 - binary_accuracy: 0.9974 - val_loss: 0.5983 - val_binary_accuracy: 0.8679\n",
      "Epoch 18/20\n",
      "30/30 [==============================] - 1s 30ms/step - loss: 0.0074 - binary_accuracy: 0.9997 - val_loss: 0.6313 - val_binary_accuracy: 0.8677\n",
      "Epoch 19/20\n",
      "30/30 [==============================] - 1s 28ms/step - loss: 0.0092 - binary_accuracy: 0.9983 - val_loss: 0.6673 - val_binary_accuracy: 0.8662\n",
      "Epoch 20/20\n",
      "30/30 [==============================] - 1s 29ms/step - loss: 0.0044 - binary_accuracy: 0.9999 - val_loss: 0.7381 - val_binary_accuracy: 0.8614\n"
     ]
    }
   ],
   "source": [
    "history = model.fit(partial_x_train,\n",
    "                    partial_y_train,\n",
    "                    epochs=20,\n",
    "                    batch_size=512,\n",
    "                    validation_data=(x_val, y_val))"
   ]
  },
  {
   "cell_type": "markdown",
   "metadata": {
    "id": "A-7cRYJdjbcW"
   },
   "source": [
    "On CPU, this will take less than two seconds per epoch -- training is over in 20 seconds. At the end of every epoch, there is a slight pause \n",
    "as the model computes its loss and accuracy on the 10,000 samples of the validation data.\n",
    "\n",
    "Note that the call to `model.fit()` returns a `History` object. This object has a member `history`, which is a dictionary containing data \n",
    "about everything that happened during training. Let's take a look at it:"
   ]
  },
  {
   "cell_type": "code",
   "execution_count": 20,
   "metadata": {
    "colab": {
     "base_uri": "https://localhost:8080/"
    },
    "id": "CX_DkiW8jbcX",
    "outputId": "ceddf55a-bf14-4381-8b0e-0b7a91e42878"
   },
   "outputs": [
    {
     "data": {
      "text/plain": [
       "dict_keys(['loss', 'binary_accuracy', 'val_loss', 'val_binary_accuracy'])"
      ]
     },
     "execution_count": 20,
     "metadata": {},
     "output_type": "execute_result"
    }
   ],
   "source": [
    "history_dict = history.history\n",
    "history_dict.keys()"
   ]
  },
  {
   "cell_type": "markdown",
   "metadata": {
    "id": "9iWqNcRDjbcc"
   },
   "source": [
    "It contains 4 entries: one per metric that was being monitored, during training and during validation. Let's use Matplotlib to plot the \n",
    "training and validation loss side by side, as well as the training and validation accuracy:"
   ]
  },
  {
   "cell_type": "code",
   "execution_count": 21,
   "metadata": {
    "colab": {
     "base_uri": "https://localhost:8080/",
     "height": 295
    },
    "id": "nqNXNQ3Ijbcc",
    "outputId": "b97a16d5-e05f-4fe4-f22e-ace0a0bc8791"
   },
   "outputs": [
    {
     "data": {
      "image/png": "[encoded data removed]",
      "text/plain": [
       "<Figure size 432x288 with 1 Axes>"
      ]
     },
     "metadata": {
      "needs_background": "light"
     },
     "output_type": "display_data"
    }
   ],
   "source": [
    "import matplotlib.pyplot as plt\n",
    "\n",
    "acc = history.history['binary_accuracy']\n",
    "val_acc = history.history['val_binary_accuracy']\n",
    "loss = history.history['loss']\n",
    "val_loss = history.history['val_loss']\n",
    "\n",
    "epochs = range(1, len(acc) + 1)\n",
    "\n",
    "# \"bo\" is for \"blue dot\"\n",
    "plt.plot(epochs, loss, 'bo', label='Training loss')\n",
    "# b is for \"solid blue line\"\n",
    "plt.plot(epochs, val_loss, 'b', label='Validation loss')\n",
    "plt.title('Training and validation loss')\n",
    "plt.xlabel('Epochs')\n",
    "plt.ylabel('Loss')\n",
    "plt.legend()\n",
    "\n",
    "plt.show()"
   ]
  },
  {
   "cell_type": "code",
   "execution_count": 22,
   "metadata": {
    "colab": {
     "base_uri": "https://localhost:8080/",
     "height": 295
    },
    "id": "ePY12wXOjbcg",
    "outputId": "51c0e5ad-1993-42c9-b943-a7e353b0757e"
   },
   "outputs": [
    {
     "data": {
      "image/png": "[encoded data removed]",
      "text/plain": [
       "<Figure size 432x288 with 1 Axes>"
      ]
     },
     "metadata": {
      "needs_background": "light"
     },
     "output_type": "display_data"
    }
   ],
   "source": [
    "plt.clf()   # clear figure\n",
    "acc_values = history_dict['binary_accuracy']\n",
    "val_acc_values = history_dict['val_binary_accuracy']\n",
    "\n",
    "plt.plot(epochs, acc, 'bo', label='Training acc')\n",
    "plt.plot(epochs, val_acc, 'b', label='Validation acc')\n",
    "plt.title('Training and validation accuracy')\n",
    "plt.xlabel('Epochs')\n",
    "plt.ylabel('Loss')\n",
    "plt.legend()\n",
    "\n",
    "plt.show()"
   ]
  },
  {
   "cell_type": "markdown",
   "metadata": {
    "id": "KXSoAHZ4Kyzh"
   },
   "source": [
    "# Classifying movie reviews from scratch"
   ]
  },
  {
   "cell_type": "markdown",
   "metadata": {
    "id": "Oe3Un41lK5hw"
   },
   "source": [
    "So far, we have used the processed IMDB dataset in `keras`. As you have seen, for text to be \"usable\" in a DNN, we need to transform it into digital form, i.e. integers not strings.\n",
    "\n",
    "In the basic BoW Dense model, we treat every word as a _feature_\n",
    "\n",
    "Moreover, for neurons (or ML features in general), we need normalized values [0,1]. Otherwise, words with higher index will be interpretted as higher features importance.\n",
    "\n",
    "In `keras.datasets.imdb` this digitization was readily made for us. We could see the data represented as numbers:"
   ]
  },
  {
   "cell_type": "markdown",
   "metadata": {
    "id": "QKxW9bCTgKhp"
   },
   "source": [
    "However, the raw [IMDB](http://ai.stanford.edu/~amaas/data/sentiment/aclImdb_v1.tar.gz ) is just plain text:"
   ]
  },
  {
   "cell_type": "code",
   "execution_count": null,
   "metadata": {
    "colab": {
     "base_uri": "https://localhost:8080/"
    },
    "id": "hRL1ymKKgwfs",
    "outputId": "0956500b-ca7a-43f6-e40b-92174294b74d"
   },
   "outputs": [
    {
     "name": "stdout",
     "output_type": "stream",
     "text": [
      "  % Total    % Received % Xferd  Average Speed   Time    Time     Time  Current\n",
      "                                 Dload  Upload   Total   Spent    Left  Speed\n",
      "100 80.2M  100 80.2M    0     0  26.1M      0  0:00:03  0:00:03 --:--:-- 26.1M\n"
     ]
    }
   ],
   "source": [
    "from pathlib import Path\n",
    "import os\n",
    "DATA_PATH=Path('./dat/')\n",
    "DATA_PATH.mkdir(exist_ok=True)\n",
    "#if not os.path.exists('./dat/aclImdb_v1.tar.gz'):\n",
    "if not os.path.exists('./dat/aclImdb'):\n",
    "    !curl -O http://ai.stanford.edu/~amaas/data/sentiment/aclImdb_v1.tar.gz \n",
    "    !tar -xf aclImdb_v1.tar.gz -C {DATA_PATH}"
   ]
  },
  {
   "cell_type": "markdown",
   "metadata": {
    "id": "W0QxCJE_hHTW"
   },
   "source": [
    "The data is already split into train/test. Moreover, we have 3 class folders:\n",
    "\n",
    "- pos\n",
    "\n",
    "- neg\n",
    "\n",
    "- unsup (no specific label)"
   ]
  },
  {
   "cell_type": "markdown",
   "metadata": {
    "id": "P6WR0hr1hkfP"
   },
   "source": [
    "Let's have a look on the raw data:"
   ]
  },
  {
   "cell_type": "code",
   "execution_count": 23,
   "metadata": {
    "id": "DBdi8Vrhg7oM"
   },
   "outputs": [],
   "source": [
    "import numpy as np\n",
    "CLASSES = ['neg', 'pos']#, 'unsup']\n",
    "PATH=Path('./dat/aclImdb/')\n",
    "\n",
    "def get_texts(path):\n",
    "    texts,labels = [],[]\n",
    "    for idx,label in enumerate(CLASSES):\n",
    "        for fname in (path/label).glob('*.*'):\n",
    "            #texts.append(fixup(fname.open('r', encoding='utf-8').read()))\n",
    "            texts.append(fname.open('r', encoding='utf-8').read())\n",
    "            labels.append(idx)\n",
    "    #return np.array(texts),np.array(labels)\n",
    "    return texts, labels\n"
   ]
  },
  {
   "cell_type": "code",
   "execution_count": 24,
   "metadata": {
    "id": "-f9C-zGR796Z"
   },
   "outputs": [],
   "source": [
    "\n",
    "trn_texts,trn_labels = get_texts(PATH/'train')\n",
    "tst_texts,tst_labels = get_texts(PATH/'test')"
   ]
  },
  {
   "cell_type": "code",
   "execution_count": 25,
   "metadata": {
    "colab": {
     "base_uri": "https://localhost:8080/"
    },
    "id": "DA20l_K0hqkI",
    "outputId": "a517c4e0-290d-45dd-b204-8985a45aa016"
   },
   "outputs": [
    {
     "name": "stdout",
     "output_type": "stream",
     "text": [
      "Story of a man who has unnatural feelings for a pig. Starts out with a opening scene that is a terrific example of absurd comedy. A formal orchestra audience is turned into an insane, violent mob by the crazy chantings of it's singers. Unfortunately it stays absurd the WHOLE time with no general narrative eventually making it just too off putting. Even those from the era should be turned off. The cryptic dialogue would make Shakespeare seem easy to a third grader. On a technical level it's better than you might think with some good cinematography by future great Vilmos Zsigmond. Future stars Sally Kirkland and Frederic Forrest can be seen briefly.\n",
      "\n",
      "\n",
      "Airport '77 starts as a brand new luxury 747 plane is loaded up with valuable paintings & such belonging to rich businessman Philip Stevens (James Stewart) who is flying them & a bunch of VIP's to his estate in preparation of it being opened to the public as a museum, also on board is Stevens daughter Julie (Kathleen Quinlan) & her son. The luxury jetliner takes off as planned but mid-air the plane is hi-jacked by the co-pilot Chambers (Robert Foxworth) & his two accomplice's Banker (Monte Markham) & Wilson (Michael Pataki) who knock the passengers & crew out with sleeping gas, they plan to steal the valuable cargo & land on a disused plane strip on an isolated island but while making his descent Chambers almost hits an oil rig in the Ocean & loses control of the plane sending it crashing into the sea where it sinks to the bottom right bang in the middle of the Bermuda Triangle. With air in short supply, water leaking in & having flown over 200 miles off course the problems mount for the survivor's as they await help with time fast running out...<br /><br />Also known under the slightly different tile Airport 1977 this second sequel to the smash-hit disaster thriller Airport (1970) was directed by Jerry Jameson & while once again like it's predecessors I can't say Airport '77 is any sort of forgotten classic it is entertaining although not necessarily for the right reasons. Out of the three Airport films I have seen so far I actually liked this one the best, just. It has my favourite plot of the three with a nice mid-air hi-jacking & then the crashing (didn't he see the oil rig?) & sinking of the 747 (maybe the makers were trying to cross the original Airport with another popular disaster flick of the period The Poseidon Adventure (1972)) & submerged is where it stays until the end with a stark dilemma facing those trapped inside, either suffocate when the air runs out or drown as the 747 floods or if any of the doors are opened & it's a decent idea that could have made for a great little disaster flick but bad unsympathetic character's, dull dialogue, lethargic set-pieces & a real lack of danger or suspense or tension means this is a missed opportunity. While the rather sluggish plot keeps one entertained for 108 odd minutes not that much happens after the plane sinks & there's not as much urgency as I thought there should have been. Even when the Navy become involved things don't pick up that much with a few shots of huge ships & helicopters flying about but there's just something lacking here. George Kennedy as the jinxed airline worker Joe Patroni is back but only gets a couple of scenes & barely even says anything preferring to just look worried in the background.<br /><br />The home video & theatrical version of Airport '77 run 108 minutes while the US TV versions add an extra hour of footage including a new opening credits sequence, many more scenes with George Kennedy as Patroni, flashbacks to flesh out character's, longer rescue scenes & the discovery or another couple of dead bodies including the navigator. While I would like to see this extra footage I am not sure I could sit through a near three hour cut of Airport '77. As expected the film has dated badly with horrible fashions & interior design choices, I will say no more other than the toy plane model effects aren't great either. Along with the other two Airport sequels this takes pride of place in the Razzie Award's Hall of Shame although I can think of lots of worse films than this so I reckon that's a little harsh. The action scenes are a little dull unfortunately, the pace is slow & not much excitement or tension is generated which is a shame as I reckon this could have been a pretty good film if made properly.<br /><br />The production values are alright if nothing spectacular. The acting isn't great, two time Oscar winner Jack Lemmon has said since it was a mistake to star in this, one time Oscar winner James Stewart looks old & frail, also one time Oscar winner Lee Grant looks drunk while Sir Christopher Lee is given little to do & there are plenty of other familiar faces to look out for too.<br /><br />Airport '77 is the most disaster orientated of the three Airport films so far & I liked the ideas behind it even if they were a bit silly, the production & bland direction doesn't help though & a film about a sunken plane just shouldn't be this boring or lethargic. Followed by The Concorde ... Airport '79 (1979).\n",
      "\n",
      "\n",
      "This film lacked something I couldn't put my finger on at first: charisma on the part of the leading actress. This inevitably translated to lack of chemistry when she shared the screen with her leading man. Even the romantic scenes came across as being merely the actors at play. It could very well have been the director who miscalculated what he needed from the actors. I just don't know.<br /><br />But could it have been the screenplay? Just exactly who was the chef in love with? He seemed more enamored of his culinary skills and restaurant, and ultimately of himself and his youthful exploits, than of anybody or anything else. He never convinced me he was in love with the princess.<br /><br />I was disappointed in this movie. But, don't forget it was nominated for an Oscar, so judge for yourself.\n",
      "\n",
      "\n",
      "Sorry everyone,,, I know this is supposed to be an \"art\" film,, but wow, they should have handed out guns at the screening so people could blow their brains out and not watch. Although the scene design and photographic direction was excellent, this story is too painful to watch. The absence of a sound track was brutal. The loooonnnnng shots were too long. How long can you watch two people just sitting there and talking? Especially when the dialogue is two people complaining. I really had a hard time just getting through this film. The performances were excellent, but how much of that dark, sombre, uninspired, stuff can you take? The only thing i liked was Maureen Stapleton and her red dress and dancing scene. Otherwise this was a ripoff of Bergman. And i'm no fan f his either. I think anyone who says they enjoyed 1 1/2 hours of this is,, well, lying.\n",
      "\n",
      "\n",
      "When I was little my parents took me along to the theater to see Interiors. It was one of many movies I watched with my parents, but this was the only one we walked out of. Since then I had never seen Interiors until just recently, and I could have lived out the rest of my life without it. What a pretentious, ponderous, and painfully boring piece of 70's wine and cheese tripe. Woody Allen is one of my favorite directors but Interiors is by far the worst piece of crap of his career. In the unmistakable style of Ingmar Berman, Allen gives us a dark, angular, muted, insight in to the lives of a family wrought by the psychological damage caused by divorce, estrangement, career, love, non-love, halitosis, whatever. The film, intentionally, has no comic relief, no music, and is drenched in shadowy pathos. This film style can be best defined as expressionist in nature, using an improvisational method of dialogue to illicit a \"more pronounced depth of meaning and truth\". But Woody Allen is no Ingmar Bergman. The film is painfully slow and dull. But beyond that, I simply had no connection with or sympathy for any of the characters. Instead I felt only contempt for this parade of shuffling, whining, nicotine stained, martyrs in a perpetual quest for identity. Amid a backdrop of cosmopolitan affluence and baked Brie intelligentsia the story looms like a fart in the room. Everyone speaks in affected platitudes and elevated language between cigarettes. Everyone is \"lost\" and \"struggling\", desperate to find direction or understanding or whatever and it just goes on and on to the point where you just want to slap all of them. It's never about resolution, it's only about interminable introspective babble. It is nothing more than a psychological drama taken to an extreme beyond the audience's ability to connect. Woody Allen chose to make characters so immersed in themselves we feel left out. And for that reason I found this movie painfully self indulgent and spiritually draining. I see what he was going for but his insistence on promoting his message through Prozac prose and distorted film techniques jettisons it past the point of relevance. I highly recommend this one if you're feeling a little too happy and need something to remind you of death. Otherwise, let's just pretend this film never happened.\n",
      "\n",
      "\n",
      "\"It appears that many critics find the idea of a Woody Allen drama unpalatable.\" And for good reason: they are unbearably wooden and pretentious imitations of Bergman. And let's not kid ourselves: critics were mostly supportive of Allen's Bergman pretensions, Allen's whining accusations to the contrary notwithstanding. What I don't get is this: why was Allen generally applauded for his originality in imitating Bergman, but the contemporaneous Brian DePalma was excoriated for \"ripping off\" Hitchcock in his suspense/horror films? In Robin Wood's view, it's a strange form of cultural snobbery. I would have to agree with that.\n",
      "\n",
      "\n",
      "The second attempt by a New York intellectual in less than 10 years to make a \"Swedish\" film - the first being Susan Sontag's \"Brother Carl\" (which was made in Sweden, with Swedish actors, no less!) The results? Oscar Wilde said it best, in reference to Dickens' \"The Old Curiosity Shop\": \"One would have to have a heart of stone not to laugh out loud at the death of Little Nell.\" Pretty much the same thing here. \"Interiors\" is chock full of solemnly intoned howlers. (\"I'm afraid of my anger.\" Looking into the middle distance: \"I don't like who I'm becoming.\") The directorial quotations (to use a polite term) from Bergman are close to parody. The incredibly self-involved family keep reminding us of how brilliant and talented they are, to the point of strangulation. (\"I read a poem of yours the other day. It was in - I don't know - The New Yorker.\" \"Oh. That was an old poem. I reworked it.\") Far from not caring about these people, however, I found them quite hilarious. Much of the dialog is exactly like the funny stuff from Allen's earlier films - only he's directed his actors to play the lines straight. Having not cast himself in the movie, he has poor Mary Beth Hurt copy all of his thespian tics, intonations, and neurotic habits, turning her into an embarrassing surrogate (much like Kenneth Branagh in \"Celebrity\").<br /><br />The basic plot - dysfunctional family with quietly domineering mother - seems to be lifted more or less from Bergman's \"Winter Light,\" the basic family melodrama tricked up with a lot of existential angst. It all comes through in the shopworn visual/aural tricks: the deafening scratching of a pencil on paper, the towering surf that dwarfs the people walking on the beach. etc, etc.<br /><br />Allen's later \"serious\" films are less embarrassing, but also far less entertaining. I'll take \"Interiors.\" Woody's rarely made a funnier movie.\n",
      "\n",
      "\n",
      "I don't know who to blame, the timid writers or the clueless director. It seemed to be one of those movies where so much was paid to the stars (Angie, Charlie, Denise, Rosanna and Jon) that there wasn't enough left to really make a movie. This could have been very entertaining, but there was a veil of timidity, even cowardice, that hung over each scene. Since it got an R rating anyway why was the ubiquitous bubble bath scene shot with a 70-year-old woman and not Angie Harmon? Why does Sheen sleepwalk through potentially hot relationships WITH TWO OF THE MOST BEAUTIFUL AND SEXY ACTRESSES in the world? If they were only looking for laughs why not cast Whoopi Goldberg and Judy Tenuta instead? This was so predictable I was surprised to find that the director wasn't a five year old. What a waste, not just for the viewers but for the actors as well.\n",
      "\n",
      "\n",
      "This film is mediocre at best. Angie Harmon is as funny as a bag of hammers. Her bitchy demeanor from \"Law and Order\" carries over in a failed attempt at comedy. Charlie Sheen is the only one to come out unscathed in this horrible anti-comedy. The only positive thing to come out of this mess is Charlie and Denise's marriage. Hopefully that effort produces better results.\n",
      "\n",
      "\n",
      "The film is bad. There is no other way to say it. The story is weak and outdated, especially for this country. I don't think most people know what a \"walker\" is or will really care. I felt as if I was watching a movie from the 70's. The subject was just not believable for the year 2007, even being set in DC. I think this rang true for everyone else who watched it too as the applause were low and quick at the end. Most didn't stay for the Q&A either.<br /><br />I don't think Schrader really thought the film out ahead of time. Many of the scenes seemed to be cut short as if they were never finished or he just didn't know how to finish them. He jumped from one scene to the next and you had to try and figure out or guess what was going on. I really didn't get Woody's (Carter) private life or boyfriend either. What were all the \"artistic\" male bondage and torture pictures (from Iraq prisons) about? What was he thinking? I think it was his very poor attempt at trying to create this dark private subculture life for Woody's character (Car). It didn't work. It didn't even seem to make sense really.<br /><br />The only good thing about this film was Woody Harrelson. He played his character (Car) flawlessly. You really did get a great sense of what a \"walker\" may have been like (say twenty years ago). He was great and most likely will never get recognized for it. <br /><br />As for Lauren, Lily and Kristin... Boring.<br /><br />Don't see it! It is painful! Unless you are a true Harrelson fan.\n",
      "\n",
      "\n"
     ]
    }
   ],
   "source": [
    "for t in trn_texts[:10]:\n",
    "  print(t)\n",
    "  print('\\n')"
   ]
  },
  {
   "cell_type": "markdown",
   "metadata": {
    "id": "MmGpFxzIhthj"
   },
   "source": [
    "# So what it takes to go from the raw form to the prepared form?\n",
    "\n",
    "__A - Text preprocessing__\n",
    "\n",
    "1- Data sequencing: each sentence --> sequence (list) of words\n",
    "\n",
    "2- Data cleaning: This step varies from task to task. For some tasks it's better to remove special characters and punctuations, for other they are critical (emotiocons). Good for perfromance.\n",
    "\n",
    "3- Text normalization: in general text morphology is a big issue in NLP. Upper and lower cases, stemming and lemmatization, ...etc. Again it's task dependent.\n",
    "\n",
    "4- Padding (model dependent): Dense and CNN. RNN can skip this step.\n",
    "\n",
    "__B- Text preparation__\n",
    "\n",
    "5- Binarization/vectorization/digitization: transform words into numbers according to a vocab index."
   ]
  },
  {
   "cell_type": "markdown",
   "metadata": {
    "id": "2Ss7n8b3i0i0"
   },
   "source": [
    "Let's start with the first phase:"
   ]
  },
  {
   "cell_type": "markdown",
   "metadata": {
    "id": "YdbVFwy3BDVE"
   },
   "source": [
    "# Text preprocessing\n",
    "\n",
    "In this phase, we apply some operations on the text, to make it in the most usable form for the task at hand. Mainly we clean it up to be more appealing to the problem we try to solve. The input is __text__ and the output is a transformed __text__."
   ]
  },
  {
   "cell_type": "markdown",
   "metadata": {
    "id": "_4jXkHw_i-FF"
   },
   "source": [
    "# Splitting text into sequence"
   ]
  },
  {
   "cell_type": "markdown",
   "metadata": {
    "id": "tTofcpUEjASl"
   },
   "source": [
    "## Manual (split on white spaces)"
   ]
  },
  {
   "cell_type": "code",
   "execution_count": 27,
   "metadata": {
    "colab": {
     "base_uri": "https://localhost:8080/"
    },
    "id": "HTAb5EVLi7Yv",
    "outputId": "3ef33ff7-d74d-43a3-82e4-16bb8d6b9bd8"
   },
   "outputs": [
    {
     "data": {
      "text/plain": [
       "['Story',\n",
       " 'of',\n",
       " 'a',\n",
       " 'man',\n",
       " 'who',\n",
       " 'has',\n",
       " 'unnatural',\n",
       " 'feelings',\n",
       " 'for',\n",
       " 'a',\n",
       " 'pig.',\n",
       " 'Starts',\n",
       " 'out',\n",
       " 'with',\n",
       " 'a',\n",
       " 'opening',\n",
       " 'scene',\n",
       " 'that',\n",
       " 'is',\n",
       " 'a',\n",
       " 'terrific',\n",
       " 'example',\n",
       " 'of',\n",
       " 'absurd',\n",
       " 'comedy.',\n",
       " 'A',\n",
       " 'formal',\n",
       " 'orchestra',\n",
       " 'audience',\n",
       " 'is',\n",
       " 'turned',\n",
       " 'into',\n",
       " 'an',\n",
       " 'insane,',\n",
       " 'violent',\n",
       " 'mob',\n",
       " 'by',\n",
       " 'the',\n",
       " 'crazy',\n",
       " 'chantings',\n",
       " 'of',\n",
       " \"it's\",\n",
       " 'singers.',\n",
       " 'Unfortunately',\n",
       " 'it',\n",
       " 'stays',\n",
       " 'absurd',\n",
       " 'the',\n",
       " 'WHOLE',\n",
       " 'time',\n",
       " 'with',\n",
       " 'no',\n",
       " 'general',\n",
       " 'narrative',\n",
       " 'eventually',\n",
       " 'making',\n",
       " 'it',\n",
       " 'just',\n",
       " 'too',\n",
       " 'off',\n",
       " 'putting.',\n",
       " 'Even',\n",
       " 'those',\n",
       " 'from',\n",
       " 'the',\n",
       " 'era',\n",
       " 'should',\n",
       " 'be',\n",
       " 'turned',\n",
       " 'off.',\n",
       " 'The',\n",
       " 'cryptic',\n",
       " 'dialogue',\n",
       " 'would',\n",
       " 'make',\n",
       " 'Shakespeare',\n",
       " 'seem',\n",
       " 'easy',\n",
       " 'to',\n",
       " 'a',\n",
       " 'third',\n",
       " 'grader.',\n",
       " 'On',\n",
       " 'a',\n",
       " 'technical',\n",
       " 'level',\n",
       " \"it's\",\n",
       " 'better',\n",
       " 'than',\n",
       " 'you',\n",
       " 'might',\n",
       " 'think',\n",
       " 'with',\n",
       " 'some',\n",
       " 'good',\n",
       " 'cinematography',\n",
       " 'by',\n",
       " 'future',\n",
       " 'great',\n",
       " 'Vilmos',\n",
       " 'Zsigmond.',\n",
       " 'Future',\n",
       " 'stars',\n",
       " 'Sally',\n",
       " 'Kirkland',\n",
       " 'and',\n",
       " 'Frederic',\n",
       " 'Forrest',\n",
       " 'can',\n",
       " 'be',\n",
       " 'seen',\n",
       " 'briefly.']"
      ]
     },
     "execution_count": 27,
     "metadata": {},
     "output_type": "execute_result"
    }
   ],
   "source": [
    "s = trn_texts[0]\n",
    "s.split()"
   ]
  },
  {
   "cell_type": "markdown",
   "metadata": {
    "id": "346PwgNB_MCq"
   },
   "source": [
    "__Notice how punctuation is preserved!__\n",
    "\n",
    "Do we care to have 'movie.', instead of 'movie.' or 'movie,'?\n",
    "\n",
    "Actually we do!\n",
    "\n",
    "As you have already had an idea from previous excercise on clean IMDB, we use vocabulary to binarize the words (word2index).\n",
    "\n",
    "Having such punctuations mandates that we have 2 entries in the vocab for the word movie. This has 2 issues:\n",
    "\n",
    "1- Increased vocab size--> sparse features and more memory\n",
    "\n",
    "2- What other forms we account for: 'movie!', 'movie:',...etc. Those are different and unexpected morphologies.\n",
    "\n",
    "__Remember, we aim at normalizing the text to common format as much as possible (like lower)__"
   ]
  },
  {
   "cell_type": "markdown",
   "metadata": {
    "id": "4iWpzpgiAKlf"
   },
   "source": [
    "## Using regex\n",
    "\n",
    "We could escape this trap by keeping only the words, using a regex:"
   ]
  },
  {
   "cell_type": "code",
   "execution_count": 28,
   "metadata": {
    "colab": {
     "base_uri": "https://localhost:8080/"
    },
    "id": "wdIMFndGARtN",
    "outputId": "38106ee4-64ec-4c61-f315-917c42a3b8eb"
   },
   "outputs": [
    {
     "data": {
      "text/plain": [
       "['Story',\n",
       " 'of',\n",
       " 'a',\n",
       " 'man',\n",
       " 'who',\n",
       " 'has',\n",
       " 'unnatural',\n",
       " 'feelings',\n",
       " 'for',\n",
       " 'a',\n",
       " 'pig',\n",
       " 'Starts',\n",
       " 'out',\n",
       " 'with',\n",
       " 'a',\n",
       " 'opening',\n",
       " 'scene',\n",
       " 'that',\n",
       " 'is',\n",
       " 'a',\n",
       " 'terrific',\n",
       " 'example',\n",
       " 'of',\n",
       " 'absurd',\n",
       " 'comedy',\n",
       " 'A',\n",
       " 'formal',\n",
       " 'orchestra',\n",
       " 'audience',\n",
       " 'is',\n",
       " 'turned',\n",
       " 'into',\n",
       " 'an',\n",
       " 'insane',\n",
       " 'violent',\n",
       " 'mob',\n",
       " 'by',\n",
       " 'the',\n",
       " 'crazy',\n",
       " 'chantings',\n",
       " 'of',\n",
       " 'it',\n",
       " 's',\n",
       " 'singers',\n",
       " 'Unfortunately',\n",
       " 'it',\n",
       " 'stays',\n",
       " 'absurd',\n",
       " 'the',\n",
       " 'WHOLE',\n",
       " 'time',\n",
       " 'with',\n",
       " 'no',\n",
       " 'general',\n",
       " 'narrative',\n",
       " 'eventually',\n",
       " 'making',\n",
       " 'it',\n",
       " 'just',\n",
       " 'too',\n",
       " 'off',\n",
       " 'putting',\n",
       " 'Even',\n",
       " 'those',\n",
       " 'from',\n",
       " 'the',\n",
       " 'era',\n",
       " 'should',\n",
       " 'be',\n",
       " 'turned',\n",
       " 'off',\n",
       " 'The',\n",
       " 'cryptic',\n",
       " 'dialogue',\n",
       " 'would',\n",
       " 'make',\n",
       " 'Shakespeare',\n",
       " 'seem',\n",
       " 'easy',\n",
       " 'to',\n",
       " 'a',\n",
       " 'third',\n",
       " 'grader',\n",
       " 'On',\n",
       " 'a',\n",
       " 'technical',\n",
       " 'level',\n",
       " 'it',\n",
       " 's',\n",
       " 'better',\n",
       " 'than',\n",
       " 'you',\n",
       " 'might',\n",
       " 'think',\n",
       " 'with',\n",
       " 'some',\n",
       " 'good',\n",
       " 'cinematography',\n",
       " 'by',\n",
       " 'future',\n",
       " 'great',\n",
       " 'Vilmos',\n",
       " 'Zsigmond',\n",
       " 'Future',\n",
       " 'stars',\n",
       " 'Sally',\n",
       " 'Kirkland',\n",
       " 'and',\n",
       " 'Frederic',\n",
       " 'Forrest',\n",
       " 'can',\n",
       " 'be',\n",
       " 'seen',\n",
       " 'briefly',\n",
       " '']"
      ]
     },
     "execution_count": 28,
     "metadata": {},
     "output_type": "execute_result"
    }
   ],
   "source": [
    "\n",
    "re.split(r'\\W+', s)"
   ]
  },
  {
   "cell_type": "markdown",
   "metadata": {
    "id": "_Ik0ha6pAlTB"
   },
   "source": [
    "This is better. But imagine have the following:\n",
    "\n"
   ]
  },
  {
   "cell_type": "code",
   "execution_count": 29,
   "metadata": {
    "colab": {
     "base_uri": "https://localhost:8080/"
    },
    "id": "vNHXcWWqApap",
    "outputId": "5713e3d9-3380-4f39-c323-4e45915c4014"
   },
   "outputs": [
    {
     "data": {
      "text/plain": [
       "['human', 'like', 'robots', 'are', 'dump']"
      ]
     },
     "execution_count": 29,
     "metadata": {},
     "output_type": "execute_result"
    }
   ],
   "source": [
    "s = 'human-like robots are dump'\n",
    "re.split(r'\\W+', s)"
   ]
  },
  {
   "cell_type": "markdown",
   "metadata": {
    "id": "VwUEkS9pA1GQ"
   },
   "source": [
    "This is completely opposite meaning!!"
   ]
  },
  {
   "cell_type": "code",
   "execution_count": 30,
   "metadata": {
    "colab": {
     "base_uri": "https://localhost:8080/"
    },
    "id": "XS2sFngmA4FY",
    "outputId": "76b7998d-99c6-430a-87fd-684facd42377"
   },
   "outputs": [
    {
     "data": {
      "text/plain": [
       "['What', 's', 'on', 'your', 'mind', '']"
      ]
     },
     "execution_count": 30,
     "metadata": {},
     "output_type": "execute_result"
    }
   ],
   "source": [
    "s = \"What's on your mind?\"\n",
    "re.split(r'\\W+', s)"
   ]
  },
  {
   "cell_type": "markdown",
   "metadata": {
    "id": "E5L0zz6fBA2y"
   },
   "source": [
    "The 's is split.\n",
    "\n",
    "Also the ? is removed!"
   ]
  },
  {
   "cell_type": "markdown",
   "metadata": {
    "id": "x__2BzKsBFZU"
   },
   "source": [
    "Removing punctuations altogether is not what we want.\n",
    "\n",
    "For sentiment for example, those symbols might be the reason of classfication:\n",
    "\n",
    "- 'What a moview :)'\n",
    "\n",
    "- 'What a movie!'\n",
    "\n"
   ]
  },
  {
   "cell_type": "markdown",
   "metadata": {
    "id": "lZzk_bjRBbPs"
   },
   "source": [
    "## Split by white spaces and remove punctuations\n",
    "\n",
    "For the example above, if we want to keep 'What's' but get rid of the punctuations like ? we can use regex to filter punctuations.\n",
    "\n",
    "We can use:"
   ]
  },
  {
   "cell_type": "code",
   "execution_count": 31,
   "metadata": {
    "colab": {
     "base_uri": "https://localhost:8080/",
     "height": 35
    },
    "id": "KXcSKA-sC9M2",
    "outputId": "63d8e31a-da84-4f71-b023-eba865f2d038"
   },
   "outputs": [
    {
     "data": {
      "text/plain": [
       "'!\"#$%&\\'()*+,-./:;<=>?@[\\\\]^_`{|}~'"
      ]
     },
     "execution_count": 31,
     "metadata": {},
     "output_type": "execute_result"
    }
   ],
   "source": [
    "\n",
    "string.punctuation"
   ]
  },
  {
   "cell_type": "code",
   "execution_count": 32,
   "metadata": {
    "colab": {
     "base_uri": "https://localhost:8080/"
    },
    "id": "8xo9jis6QbAA",
    "outputId": "bda50579-2020-4b0f-f56d-f90d6fcb8e9b"
   },
   "outputs": [
    {
     "data": {
      "text/plain": [
       "['Whats', 'on', 'your', 'mind']"
      ]
     },
     "execution_count": 32,
     "metadata": {},
     "output_type": "execute_result"
    }
   ],
   "source": [
    "re_punc = re.compile('[%s]' % re.escape(string.punctuation))\n",
    "# remove punctuation from each word\n",
    "s = \"What's on your mind?\"\n",
    "stripped = [re_punc.sub('', w) for w in s.split()]\n",
    "stripped"
   ]
  },
  {
   "cell_type": "code",
   "execution_count": 33,
   "metadata": {
    "colab": {
     "base_uri": "https://localhost:8080/"
    },
    "id": "o_SsyrDfQovK",
    "outputId": "32b2ac9e-9ba7-493c-980b-fe52cb764204"
   },
   "outputs": [
    {
     "data": {
      "text/plain": [
       "['humanlike', 'robots', 'are', 'dump']"
      ]
     },
     "execution_count": 33,
     "metadata": {},
     "output_type": "execute_result"
    }
   ],
   "source": [
    "s = 'human-like robots are dump'\n",
    "stripped = [re_punc.sub('', w) for w in s.split()]\n",
    "stripped"
   ]
  },
  {
   "cell_type": "markdown",
   "metadata": {
    "id": "JIWYHuCXQtVQ"
   },
   "source": [
    "See how human-like is translated into humanlike, which somehow keeps the meaning."
   ]
  },
  {
   "cell_type": "markdown",
   "metadata": {
    "id": "sIYPHEDXQ2dQ"
   },
   "source": [
    "# Case normalization"
   ]
  },
  {
   "cell_type": "markdown",
   "metadata": {
    "id": "4MxVfEaeQ5EO"
   },
   "source": [
    "One of the important and easy normalization is to convert all case to common case. Mostly lower case. This has the effect of reducing the vocabulary size, and also reduct Out-Of-Vocab (OOV).\n",
    "\n",
    "For example, if our vocab is as follows:"
   ]
  },
  {
   "cell_type": "code",
   "execution_count": 34,
   "metadata": {
    "id": "7W3VfSvVRcfe"
   },
   "outputs": [],
   "source": [
    "v = {'the':1, 'cat':2, 'mat':3}"
   ]
  },
  {
   "cell_type": "markdown",
   "metadata": {
    "id": "EIj9GaPZRkPi"
   },
   "source": [
    "Now if we try to binarize the following sentence:"
   ]
  },
  {
   "cell_type": "code",
   "execution_count": 35,
   "metadata": {
    "id": "NA3kABf0AfW9"
   },
   "outputs": [],
   "source": [
    "s = 'The CAT sat on the mat'\n"
   ]
  },
  {
   "cell_type": "code",
   "execution_count": 36,
   "metadata": {
    "colab": {
     "base_uri": "https://localhost:8080/",
     "height": 263
    },
    "id": "2cA4T3uIRpuy",
    "outputId": "da68b574-86a6-447d-b61b-77030aa2e0a4"
   },
   "outputs": [
    {
     "ename": "KeyError",
     "evalue": "'The'",
     "output_type": "error",
     "traceback": [
      "\u001b[1;31m---------------------------------------------------------------------------\u001b[0m",
      "\u001b[1;31mKeyError\u001b[0m                                  Traceback (most recent call last)",
      "\u001b[1;32m~\\AppData\\Local\\Temp/ipykernel_27080/3736512301.py\u001b[0m in \u001b[0;36m<module>\u001b[1;34m\u001b[0m\n\u001b[1;32m----> 1\u001b[1;33m \u001b[0mx\u001b[0m \u001b[1;33m=\u001b[0m \u001b[1;33m[\u001b[0m\u001b[0mv\u001b[0m\u001b[1;33m[\u001b[0m\u001b[0mw\u001b[0m\u001b[1;33m]\u001b[0m \u001b[1;32mfor\u001b[0m \u001b[0mw\u001b[0m \u001b[1;32min\u001b[0m \u001b[0ms\u001b[0m\u001b[1;33m.\u001b[0m\u001b[0msplit\u001b[0m\u001b[1;33m(\u001b[0m\u001b[1;33m)\u001b[0m\u001b[1;33m]\u001b[0m\u001b[1;33m\u001b[0m\u001b[1;33m\u001b[0m\u001b[0m\n\u001b[0m\u001b[0;32m      2\u001b[0m \u001b[0mx\u001b[0m\u001b[1;33m\u001b[0m\u001b[1;33m\u001b[0m\u001b[0m\n",
      "\u001b[1;32m~\\AppData\\Local\\Temp/ipykernel_27080/3736512301.py\u001b[0m in \u001b[0;36m<listcomp>\u001b[1;34m(.0)\u001b[0m\n\u001b[1;32m----> 1\u001b[1;33m \u001b[0mx\u001b[0m \u001b[1;33m=\u001b[0m \u001b[1;33m[\u001b[0m\u001b[0mv\u001b[0m\u001b[1;33m[\u001b[0m\u001b[0mw\u001b[0m\u001b[1;33m]\u001b[0m \u001b[1;32mfor\u001b[0m \u001b[0mw\u001b[0m \u001b[1;32min\u001b[0m \u001b[0ms\u001b[0m\u001b[1;33m.\u001b[0m\u001b[0msplit\u001b[0m\u001b[1;33m(\u001b[0m\u001b[1;33m)\u001b[0m\u001b[1;33m]\u001b[0m\u001b[1;33m\u001b[0m\u001b[1;33m\u001b[0m\u001b[0m\n\u001b[0m\u001b[0;32m      2\u001b[0m \u001b[0mx\u001b[0m\u001b[1;33m\u001b[0m\u001b[1;33m\u001b[0m\u001b[0m\n",
      "\u001b[1;31mKeyError\u001b[0m: 'The'"
     ]
    }
   ],
   "source": [
    "x = [v[w] for w in s.split()]\n",
    "x"
   ]
  },
  {
   "cell_type": "markdown",
   "metadata": {
    "id": "wV1l8IutRxg8"
   },
   "source": [
    "To avoid OOV, we can add special term: '_UNK_' for unknown words:"
   ]
  },
  {
   "cell_type": "code",
   "execution_count": 37,
   "metadata": {
    "id": "1clZ2TGRR61c"
   },
   "outputs": [],
   "source": [
    "v = {'the':1, 'cat':2, 'sat': 3, 'on': 4, 'mat':5}"
   ]
  },
  {
   "cell_type": "code",
   "execution_count": 38,
   "metadata": {
    "colab": {
     "base_uri": "https://localhost:8080/"
    },
    "id": "gpBRdLaaRo3j",
    "outputId": "ac8df432-fa75-4146-9c5c-6cd17ac3cc92"
   },
   "outputs": [
    {
     "data": {
      "text/plain": [
       "[0, 0, 3, 4, 1, 5]"
      ]
     },
     "execution_count": 38,
     "metadata": {},
     "output_type": "execute_result"
    }
   ],
   "source": [
    "x = []\n",
    "\n",
    "for w in s.split():\n",
    "  if w in v:\n",
    "    x.append(v[w])\n",
    "  else:\n",
    "    x.append(0)\n",
    "x    "
   ]
  },
  {
   "cell_type": "markdown",
   "metadata": {
    "id": "bI5wa2fcRP6D"
   },
   "source": [
    "As you can see, 'The' and 'Cat' are mapped as UNK. While they are already in the vocab.\n",
    "\n",
    "To workaround this, we try to get all the text to a common morphology:"
   ]
  },
  {
   "cell_type": "code",
   "execution_count": 39,
   "metadata": {
    "colab": {
     "base_uri": "https://localhost:8080/"
    },
    "id": "3pvBdNTxSfbr",
    "outputId": "3d597755-2965-45d1-fcbc-86e8a021562d"
   },
   "outputs": [
    {
     "data": {
      "text/plain": [
       "[1, 2, 3, 4, 1, 5]"
      ]
     },
     "execution_count": 39,
     "metadata": {},
     "output_type": "execute_result"
    }
   ],
   "source": [
    "x = []\n",
    "\n",
    "for w in s.lower().split():\n",
    "  if w in v:\n",
    "    x.append(v[w])\n",
    "  else:\n",
    "    x.append(0)\n",
    "x "
   ]
  },
  {
   "cell_type": "markdown",
   "metadata": {
    "id": "L56hHiSWSi6w"
   },
   "source": [
    "But sometimes, this simple normalization might remove some semantics. For example in sentiment, captiatlization might reflect certain negative emotion/sentiment:\n",
    "\n",
    "_WHAT are you doing?_"
   ]
  },
  {
   "cell_type": "markdown",
   "metadata": {
    "id": "pjmfJ5HFjDSw"
   },
   "source": [
    "## NLTK"
   ]
  },
  {
   "cell_type": "markdown",
   "metadata": {
    "id": "K-iffubQThY9"
   },
   "source": [
    "So far, we have split the words using manual approaches (white spaces mainly).\n",
    "\n",
    "Is there more mature method?\n",
    "\n",
    "Actually there is: __tokenizers__\n",
    "\n",
    "The most basic tokenizers take care of punctuation (although we already handled with regex above), and other splitting criteria.\n",
    "\n",
    "NLTK can be used for that."
   ]
  },
  {
   "cell_type": "markdown",
   "metadata": {
    "id": "UsvPP2OuUEJL"
   },
   "source": [
    "## Sentence tokenization\n",
    "\n",
    "Before we dive into words splitting, let's talk a little about sentence tokenization. Sometimes, the data comes in very long bult of text, a document or long paragraphs for example. \n",
    "\n",
    "In most NLP models, such long sequences are not desirable (forgetting effect).\n",
    "\n",
    "\n",
    "`sent_tokenize` can be used to tokenize into shorter sequences, mapped to sentences as we know it. This tokenization is mostly driven by punctuations like full stop."
   ]
  },
  {
   "cell_type": "code",
   "execution_count": 40,
   "metadata": {
    "colab": {
     "base_uri": "https://localhost:8080/",
     "height": 109
    },
    "id": "9GznnB_bUq4f",
    "outputId": "e1300068-a56f-47c2-bfe0-31380c956c5c"
   },
   "outputs": [
    {
     "data": {
      "text/plain": [
       "\"Story of a man who has unnatural feelings for a pig. Starts out with a opening scene that is a terrific example of absurd comedy. A formal orchestra audience is turned into an insane, violent mob by the crazy chantings of it's singers. Unfortunately it stays absurd the WHOLE time with no general narrative eventually making it just too off putting. Even those from the era should be turned off. The cryptic dialogue would make Shakespeare seem easy to a third grader. On a technical level it's better than you might think with some good cinematography by future great Vilmos Zsigmond. Future stars Sally Kirkland and Frederic Forrest can be seen briefly.\""
      ]
     },
     "execution_count": 40,
     "metadata": {},
     "output_type": "execute_result"
    }
   ],
   "source": [
    "s = trn_texts[0]\n",
    "s"
   ]
  },
  {
   "cell_type": "code",
   "execution_count": 41,
   "metadata": {
    "colab": {
     "base_uri": "https://localhost:8080/"
    },
    "id": "LQ3GuUmYUtx7",
    "outputId": "30656bb8-69c4-4eae-857e-2ed3be9e72ca"
   },
   "outputs": [
    {
     "name": "stderr",
     "output_type": "stream",
     "text": [
      "[nltk_data] Downloading package punkt to\n",
      "[nltk_data]     C:\\Users\\asd_v\\AppData\\Roaming\\nltk_data...\n",
      "[nltk_data]   Package punkt is already up-to-date!\n"
     ]
    },
    {
     "data": {
      "text/plain": [
       "True"
      ]
     },
     "execution_count": 41,
     "metadata": {},
     "output_type": "execute_result"
    }
   ],
   "source": [
    "import nltk\n",
    "nltk.download('punkt')\n"
   ]
  },
  {
   "cell_type": "code",
   "execution_count": 42,
   "metadata": {
    "colab": {
     "base_uri": "https://localhost:8080/"
    },
    "id": "qS4hhTKFU5ki",
    "outputId": "fa8367bf-5f76-4cda-f941-078422acc63d"
   },
   "outputs": [
    {
     "data": {
      "text/plain": [
       "['Story of a man who has unnatural feelings for a pig.',\n",
       " 'Starts out with a opening scene that is a terrific example of absurd comedy.',\n",
       " \"A formal orchestra audience is turned into an insane, violent mob by the crazy chantings of it's singers.\",\n",
       " 'Unfortunately it stays absurd the WHOLE time with no general narrative eventually making it just too off putting.',\n",
       " 'Even those from the era should be turned off.',\n",
       " 'The cryptic dialogue would make Shakespeare seem easy to a third grader.',\n",
       " \"On a technical level it's better than you might think with some good cinematography by future great Vilmos Zsigmond.\",\n",
       " 'Future stars Sally Kirkland and Frederic Forrest can be seen briefly.']"
      ]
     },
     "execution_count": 42,
     "metadata": {},
     "output_type": "execute_result"
    }
   ],
   "source": [
    "nltk.tokenize.sent_tokenize(s)"
   ]
  },
  {
   "cell_type": "markdown",
   "metadata": {
    "id": "Om-HLCXsUoE8"
   },
   "source": [
    "## Words tokenization\n",
    "\n",
    "Now, let's do as we did with regex: split on white spaces, and take care of punctuations (human-like --> humanlike)"
   ]
  },
  {
   "cell_type": "code",
   "execution_count": 43,
   "metadata": {
    "colab": {
     "base_uri": "https://localhost:8080/"
    },
    "id": "o4P9d4o6VOcb",
    "outputId": "d1d2b44c-422c-4f28-8e2e-423fce458081"
   },
   "outputs": [
    {
     "data": {
      "text/plain": [
       "['human-like', 'robots', 'are', 'dump', ',', 'but', 'cute']"
      ]
     },
     "execution_count": 43,
     "metadata": {},
     "output_type": "execute_result"
    }
   ],
   "source": [
    "from nltk.tokenize import word_tokenize\n",
    "word_tokenize('human-like robots are dump, but cute')"
   ]
  },
  {
   "cell_type": "code",
   "execution_count": 44,
   "metadata": {
    "colab": {
     "base_uri": "https://localhost:8080/"
    },
    "id": "2kNTrq0iV1kx",
    "outputId": "bd3a314b-c245-4c95-e466-f8527891d695"
   },
   "outputs": [
    {
     "data": {
      "text/plain": [
       "['What', \"'s\", 'up', '?']"
      ]
     },
     "execution_count": 44,
     "metadata": {},
     "output_type": "execute_result"
    }
   ],
   "source": [
    "word_tokenize(\"What's up?\")"
   ]
  },
  {
   "cell_type": "markdown",
   "metadata": {
    "id": "b-liCMI2Vbl7"
   },
   "source": [
    "We now get new results, we couldn't get with regex:\n",
    "\n",
    "- human-like are kept, not transformed. Remember we had to translate - into nothing to remove punctuations\n",
    "\n",
    "- punctuations are kept, but as _separate_ tokens. Now, we are free to decide what to do with them. They can be easily filtered out if we want. One way is using isalpha function of str in python:"
   ]
  },
  {
   "cell_type": "code",
   "execution_count": 45,
   "metadata": {
    "colab": {
     "base_uri": "https://localhost:8080/"
    },
    "id": "5eSYPR30WEG4",
    "outputId": "a8171aa8-83c9-485e-ed87-baed26168a5e"
   },
   "outputs": [
    {
     "data": {
      "text/plain": [
       "['What', 'up']"
      ]
     },
     "execution_count": 45,
     "metadata": {},
     "output_type": "execute_result"
    }
   ],
   "source": [
    "s = \"What's up?\"\n",
    "words = [w for w in word_tokenize(s) if w.isalpha()]\n",
    "words"
   ]
  },
  {
   "cell_type": "markdown",
   "metadata": {
    "id": "ezsfi-TmWd9W"
   },
   "source": [
    "## Stop words\n",
    "\n",
    "Not every word contribute to the semantics or meaning. Some words like 'the', 'to', 'on', 'we',...etc are not important for many tasks, specially classification tasks.\n",
    "\n",
    "Such words are called _stop words_"
   ]
  },
  {
   "cell_type": "code",
   "execution_count": 46,
   "metadata": {
    "colab": {
     "base_uri": "https://localhost:8080/"
    },
    "id": "IOP7p2OpW0XH",
    "outputId": "c4f9760b-a9d4-4674-e16f-b3642c19f9cc"
   },
   "outputs": [
    {
     "name": "stderr",
     "output_type": "stream",
     "text": [
      "[nltk_data] Downloading package stopwords to\n",
      "[nltk_data]     C:\\Users\\asd_v\\AppData\\Roaming\\nltk_data...\n",
      "[nltk_data]   Package stopwords is already up-to-date!\n"
     ]
    },
    {
     "data": {
      "text/plain": [
       "True"
      ]
     },
     "execution_count": 46,
     "metadata": {},
     "output_type": "execute_result"
    }
   ],
   "source": [
    "from nltk.corpus import stopwords\n",
    "nltk.download('stopwords')\n",
    "\n"
   ]
  },
  {
   "cell_type": "code",
   "execution_count": 47,
   "metadata": {
    "colab": {
     "base_uri": "https://localhost:8080/"
    },
    "id": "dc3o-nooW4-H",
    "outputId": "e67327b3-5e61-4440-f28b-e28029671099"
   },
   "outputs": [
    {
     "name": "stdout",
     "output_type": "stream",
     "text": [
      "['i', 'me', 'my', 'myself', 'we', 'our', 'ours', 'ourselves', 'you', \"you're\", \"you've\", \"you'll\", \"you'd\", 'your', 'yours', 'yourself', 'yourselves', 'he', 'him', 'his', 'himself', 'she', \"she's\", 'her', 'hers', 'herself', 'it', \"it's\", 'its', 'itself', 'they', 'them', 'their', 'theirs', 'themselves', 'what', 'which', 'who', 'whom', 'this', 'that', \"that'll\", 'these', 'those', 'am', 'is', 'are', 'was', 'were', 'be', 'been', 'being', 'have', 'has', 'had', 'having', 'do', 'does', 'did', 'doing', 'a', 'an', 'the', 'and', 'but', 'if', 'or', 'because', 'as', 'until', 'while', 'of', 'at', 'by', 'for', 'with', 'about', 'against', 'between', 'into', 'through', 'during', 'before', 'after', 'above', 'below', 'to', 'from', 'up', 'down', 'in', 'out', 'on', 'off', 'over', 'under', 'again', 'further', 'then', 'once', 'here', 'there', 'when', 'where', 'why', 'how', 'all', 'any', 'both', 'each', 'few', 'more', 'most', 'other', 'some', 'such', 'no', 'nor', 'not', 'only', 'own', 'same', 'so', 'than', 'too', 'very', 's', 't', 'can', 'will', 'just', 'don', \"don't\", 'should', \"should've\", 'now', 'd', 'll', 'm', 'o', 're', 've', 'y', 'ain', 'aren', \"aren't\", 'couldn', \"couldn't\", 'didn', \"didn't\", 'doesn', \"doesn't\", 'hadn', \"hadn't\", 'hasn', \"hasn't\", 'haven', \"haven't\", 'isn', \"isn't\", 'ma', 'mightn', \"mightn't\", 'mustn', \"mustn't\", 'needn', \"needn't\", 'shan', \"shan't\", 'shouldn', \"shouldn't\", 'wasn', \"wasn't\", 'weren', \"weren't\", 'won', \"won't\", 'wouldn', \"wouldn't\"]\n"
     ]
    }
   ],
   "source": [
    "stop_words = stopwords.words('english')\n",
    "print(stop_words)"
   ]
  },
  {
   "cell_type": "markdown",
   "metadata": {
    "id": "qA7PNy4nXDNg"
   },
   "source": [
    "We can filter them out easily using list comprehensions:"
   ]
  },
  {
   "cell_type": "code",
   "execution_count": 48,
   "metadata": {
    "colab": {
     "base_uri": "https://localhost:8080/"
    },
    "id": "Ze2HP0PyXGwt",
    "outputId": "637f0879-e6bd-44a4-cc70-624481bfba31"
   },
   "outputs": [
    {
     "data": {
      "text/plain": [
       "['The', 'cat', 'sat', 'mat']"
      ]
     },
     "execution_count": 48,
     "metadata": {},
     "output_type": "execute_result"
    }
   ],
   "source": [
    "s = 'The cat sat on the mat'\n",
    "words = [w for w in s.split() if w not in stop_words]\n",
    "words"
   ]
  },
  {
   "cell_type": "markdown",
   "metadata": {
    "id": "HPj9g4dKXREt"
   },
   "source": [
    "__Why The is kept?__\n",
    "\n",
    "Because it has upper case!\n",
    "\n",
    "All stop words are lower and have no punctuation. Otherwise, it'd be very big and unmaintanable list!\n",
    "\n",
    "So better to lower first to remove stop words:\n"
   ]
  },
  {
   "cell_type": "code",
   "execution_count": 49,
   "metadata": {
    "colab": {
     "base_uri": "https://localhost:8080/"
    },
    "id": "J4Y0SkbVjFT5",
    "outputId": "ccb3809f-aa31-48a6-c5a0-054b1b5dda3d"
   },
   "outputs": [
    {
     "data": {
      "text/plain": [
       "['cat', 'sat', 'mat']"
      ]
     },
     "execution_count": 49,
     "metadata": {},
     "output_type": "execute_result"
    }
   ],
   "source": [
    "s = 'The cat sat on the mat'\n",
    "words = [w for w in s.lower().split() if w not in stop_words]\n",
    "words"
   ]
  },
  {
   "cell_type": "markdown",
   "metadata": {
    "id": "8uZnFF-BYBvC"
   },
   "source": [
    "# Stemming\n",
    "\n",
    "Another source of redundancy and highly variable/unexpected morphology are the prefixes and suffixes. For example, suppose out vocab and text are as follows:"
   ]
  },
  {
   "cell_type": "code",
   "execution_count": 50,
   "metadata": {
    "colab": {
     "base_uri": "https://localhost:8080/",
     "height": 299
    },
    "id": "m068AgaAYeQ9",
    "outputId": "73fb513e-d132-42eb-ecbf-49626c18e35f"
   },
   "outputs": [
    {
     "ename": "KeyError",
     "evalue": "'cats'",
     "output_type": "error",
     "traceback": [
      "\u001b[1;31m---------------------------------------------------------------------------\u001b[0m",
      "\u001b[1;31mKeyError\u001b[0m                                  Traceback (most recent call last)",
      "\u001b[1;32m~\\AppData\\Local\\Temp/ipykernel_27080/1048873725.py\u001b[0m in \u001b[0;36m<module>\u001b[1;34m\u001b[0m\n\u001b[0;32m      1\u001b[0m \u001b[0mv\u001b[0m \u001b[1;33m=\u001b[0m \u001b[1;33m{\u001b[0m\u001b[1;34m'the'\u001b[0m\u001b[1;33m:\u001b[0m\u001b[1;36m1\u001b[0m\u001b[1;33m,\u001b[0m \u001b[1;34m'cat'\u001b[0m\u001b[1;33m:\u001b[0m\u001b[1;36m2\u001b[0m\u001b[1;33m,\u001b[0m \u001b[1;34m'sat'\u001b[0m\u001b[1;33m:\u001b[0m \u001b[1;36m3\u001b[0m\u001b[1;33m,\u001b[0m \u001b[1;34m'on'\u001b[0m\u001b[1;33m:\u001b[0m \u001b[1;36m4\u001b[0m\u001b[1;33m,\u001b[0m \u001b[1;34m'mat'\u001b[0m\u001b[1;33m:\u001b[0m\u001b[1;36m5\u001b[0m\u001b[1;33m}\u001b[0m\u001b[1;33m\u001b[0m\u001b[1;33m\u001b[0m\u001b[0m\n\u001b[0;32m      2\u001b[0m \u001b[0ms\u001b[0m \u001b[1;33m=\u001b[0m \u001b[1;34m'the cats sat on the mats'\u001b[0m\u001b[1;33m\u001b[0m\u001b[1;33m\u001b[0m\u001b[0m\n\u001b[1;32m----> 3\u001b[1;33m \u001b[0mwords\u001b[0m \u001b[1;33m=\u001b[0m \u001b[1;33m[\u001b[0m\u001b[0mv\u001b[0m\u001b[1;33m[\u001b[0m\u001b[0mw\u001b[0m\u001b[1;33m]\u001b[0m \u001b[1;32mfor\u001b[0m \u001b[0mw\u001b[0m \u001b[1;32min\u001b[0m \u001b[0ms\u001b[0m\u001b[1;33m.\u001b[0m\u001b[0msplit\u001b[0m\u001b[1;33m(\u001b[0m\u001b[1;33m)\u001b[0m\u001b[1;33m]\u001b[0m\u001b[1;33m\u001b[0m\u001b[1;33m\u001b[0m\u001b[0m\n\u001b[0m",
      "\u001b[1;32m~\\AppData\\Local\\Temp/ipykernel_27080/1048873725.py\u001b[0m in \u001b[0;36m<listcomp>\u001b[1;34m(.0)\u001b[0m\n\u001b[0;32m      1\u001b[0m \u001b[0mv\u001b[0m \u001b[1;33m=\u001b[0m \u001b[1;33m{\u001b[0m\u001b[1;34m'the'\u001b[0m\u001b[1;33m:\u001b[0m\u001b[1;36m1\u001b[0m\u001b[1;33m,\u001b[0m \u001b[1;34m'cat'\u001b[0m\u001b[1;33m:\u001b[0m\u001b[1;36m2\u001b[0m\u001b[1;33m,\u001b[0m \u001b[1;34m'sat'\u001b[0m\u001b[1;33m:\u001b[0m \u001b[1;36m3\u001b[0m\u001b[1;33m,\u001b[0m \u001b[1;34m'on'\u001b[0m\u001b[1;33m:\u001b[0m \u001b[1;36m4\u001b[0m\u001b[1;33m,\u001b[0m \u001b[1;34m'mat'\u001b[0m\u001b[1;33m:\u001b[0m\u001b[1;36m5\u001b[0m\u001b[1;33m}\u001b[0m\u001b[1;33m\u001b[0m\u001b[1;33m\u001b[0m\u001b[0m\n\u001b[0;32m      2\u001b[0m \u001b[0ms\u001b[0m \u001b[1;33m=\u001b[0m \u001b[1;34m'the cats sat on the mats'\u001b[0m\u001b[1;33m\u001b[0m\u001b[1;33m\u001b[0m\u001b[0m\n\u001b[1;32m----> 3\u001b[1;33m \u001b[0mwords\u001b[0m \u001b[1;33m=\u001b[0m \u001b[1;33m[\u001b[0m\u001b[0mv\u001b[0m\u001b[1;33m[\u001b[0m\u001b[0mw\u001b[0m\u001b[1;33m]\u001b[0m \u001b[1;32mfor\u001b[0m \u001b[0mw\u001b[0m \u001b[1;32min\u001b[0m \u001b[0ms\u001b[0m\u001b[1;33m.\u001b[0m\u001b[0msplit\u001b[0m\u001b[1;33m(\u001b[0m\u001b[1;33m)\u001b[0m\u001b[1;33m]\u001b[0m\u001b[1;33m\u001b[0m\u001b[1;33m\u001b[0m\u001b[0m\n\u001b[0m",
      "\u001b[1;31mKeyError\u001b[0m: 'cats'"
     ]
    }
   ],
   "source": [
    "v = {'the':1, 'cat':2, 'sat': 3, 'on': 4, 'mat':5}\n",
    "s = 'the cats sat on the mats'\n",
    "words = [v[w] for w in s.split()]"
   ]
  },
  {
   "cell_type": "markdown",
   "metadata": {
    "id": "8k5QwBUNYwQb"
   },
   "source": [
    "Another normalization trick is _stemming_, which has various algorithms, mainly focused on morphology. The most basic ones trims prefixes and suffixes, known in the language; English for example:\n"
   ]
  },
  {
   "cell_type": "code",
   "execution_count": 51,
   "metadata": {
    "colab": {
     "base_uri": "https://localhost:8080/"
    },
    "id": "h62pebFvY-HY",
    "outputId": "42da821f-476b-434b-ffdf-2a41adf9ff3d"
   },
   "outputs": [
    {
     "name": "stdout",
     "output_type": "stream",
     "text": [
      "['the', 'cat', 'sat', 'on', 'the', 'mat']\n",
      "[1, 2, 3, 4, 1, 5]\n"
     ]
    }
   ],
   "source": [
    "from nltk.stem.porter import PorterStemmer\n",
    "porter = PorterStemmer()\n",
    "s = 'the cats sat on the mats'\n",
    "stemmed = [porter.stem(word) for word in s.split()]\n",
    "print(stemmed)\n",
    "x = [v[w] for w in stemmed]\n",
    "print(x)"
   ]
  },
  {
   "cell_type": "markdown",
   "metadata": {
    "id": "SZc3kCcTZaai"
   },
   "source": [
    "Note that: stemming might produce __meaningless words__ sometimes!\n",
    "\n",
    "This is because, some prefix/suffix removal might also remove parts of the word:"
   ]
  },
  {
   "cell_type": "code",
   "execution_count": 52,
   "metadata": {
    "colab": {
     "base_uri": "https://localhost:8080/"
    },
    "id": "LVHTrDWSZleo",
    "outputId": "ee15e2dc-9560-4b2c-df19-9dc6b75e363a"
   },
   "outputs": [
    {
     "data": {
      "text/plain": [
       "['the', 'littl', 'girl']"
      ]
     },
     "execution_count": 52,
     "metadata": {},
     "output_type": "execute_result"
    }
   ],
   "source": [
    "s = 'The little girl'\n",
    "stemmed = [porter.stem(word) for word in s.split()]\n",
    "stemmed"
   ]
  },
  {
   "cell_type": "markdown",
   "metadata": {
    "id": "QyrLC-UFZwoV"
   },
   "source": [
    "little is reduced to littl\n",
    "\n",
    "Also, notice how stemming automatically reduce to lower case.\n",
    "\n",
    "If we are going to preprocess with stemming, we must do the same on the text we use for building our vocab!\n",
    "\n",
    "__As a rule of thumb, perform the same preprocessing on the vocab (or its training corpus), as that on the input text__"
   ]
  },
  {
   "cell_type": "markdown",
   "metadata": {
    "id": "HqXgDykPaPIn"
   },
   "source": [
    "# Lemmatization\n",
    "\n",
    "Unlike stemming, lemmatization understand the root of the word in the language:\n",
    "\n",
    "(am, is, are → be)\n",
    "\n",
    "So not only the morphology is considered, but also the root. This has more importance in languages like Arabic (requires special lemmatizers and stemmers).\n",
    "\n"
   ]
  },
  {
   "cell_type": "code",
   "execution_count": 53,
   "metadata": {
    "colab": {
     "base_uri": "https://localhost:8080/"
    },
    "id": "S8V6qc37bAsz",
    "outputId": "a04f6c0e-a2e0-4463-815b-0d458d92fe9c"
   },
   "outputs": [
    {
     "name": "stderr",
     "output_type": "stream",
     "text": [
      "[nltk_data] Downloading package wordnet to\n",
      "[nltk_data]     C:\\Users\\asd_v\\AppData\\Roaming\\nltk_data...\n",
      "[nltk_data]   Package wordnet is already up-to-date!\n"
     ]
    },
    {
     "data": {
      "text/plain": [
       "True"
      ]
     },
     "execution_count": 53,
     "metadata": {},
     "output_type": "execute_result"
    }
   ],
   "source": [
    "from nltk.stem import WordNetLemmatizer\n",
    "nltk.download('wordnet')"
   ]
  },
  {
   "cell_type": "code",
   "execution_count": 54,
   "metadata": {
    "colab": {
     "base_uri": "https://localhost:8080/"
    },
    "id": "v7YHn6qKatko",
    "outputId": "2feb6ff4-22d2-4ca9-e304-6b6d72d63e14"
   },
   "outputs": [
    {
     "data": {
      "text/plain": [
       "['The', 'little', 'girl', 'rided', 'in', 'the', 'car']"
      ]
     },
     "execution_count": 54,
     "metadata": {},
     "output_type": "execute_result"
    }
   ],
   "source": [
    "\n",
    "\n",
    "\n",
    "lemmatizer = WordNetLemmatizer()\n",
    "s = 'The little girls rided in the cars'\n",
    "[lemmatizer.lemmatize(word) for word in s.split()]"
   ]
  },
  {
   "cell_type": "code",
   "execution_count": 55,
   "metadata": {
    "colab": {
     "base_uri": "https://localhost:8080/"
    },
    "id": "rFW3Cd8ZbODa",
    "outputId": "977e2a81-1e21-4eae-bc14-697f0d7ad881"
   },
   "outputs": [
    {
     "data": {
      "text/plain": [
       "['He', 'is', 'going', 'on', 'a', 'journey', 'fishing']"
      ]
     },
     "execution_count": 55,
     "metadata": {},
     "output_type": "execute_result"
    }
   ],
   "source": [
    "s = 'He is going on a journey fishing'\n",
    "[lemmatizer.lemmatize(word) for word in s.split()]"
   ]
  },
  {
   "cell_type": "markdown",
   "metadata": {
    "id": "kSFXW-zybtpJ"
   },
   "source": [
    "__But why are verbs not lemmatized?__\n",
    "is --> be"
   ]
  },
  {
   "cell_type": "markdown",
   "metadata": {
    "id": "BhNa3O-ecTht"
   },
   "source": [
    "# PoS tags\n",
    "\n",
    "https://www.sketchengine.eu/pos-tags/\n",
    "\n",
    "In NLP, Part-of-Speech refers to the different classes a word can belong to: noun, verb, adjective, ....etc. The different tags/classes are called tagset, and there's no common standard. They usually encode grammar + tense.\n",
    "\n",
    "The task of PoS tagging resembles the task of semantic segmentation in CV; assign a class for every word."
   ]
  },
  {
   "cell_type": "code",
   "execution_count": 56,
   "metadata": {
    "colab": {
     "base_uri": "https://localhost:8080/"
    },
    "id": "B7RXAFnidZPU",
    "outputId": "978af699-a29c-4a9b-8d47-6af4d7ab917d"
   },
   "outputs": [
    {
     "name": "stderr",
     "output_type": "stream",
     "text": [
      "[nltk_data] Downloading package averaged_perceptron_tagger to\n",
      "[nltk_data]     C:\\Users\\asd_v\\AppData\\Roaming\\nltk_data...\n",
      "[nltk_data]   Unzipping taggers\\averaged_perceptron_tagger.zip.\n"
     ]
    },
    {
     "data": {
      "text/plain": [
       "True"
      ]
     },
     "execution_count": 56,
     "metadata": {},
     "output_type": "execute_result"
    }
   ],
   "source": [
    "nltk.download('averaged_perceptron_tagger')"
   ]
  },
  {
   "cell_type": "code",
   "execution_count": 57,
   "metadata": {
    "colab": {
     "base_uri": "https://localhost:8080/"
    },
    "id": "oJnNnIv_dTsF",
    "outputId": "5e0dac8c-b073-4d9c-beae-eafc0c413c66"
   },
   "outputs": [
    {
     "data": {
      "text/plain": [
       "[('He', 'PRP'),\n",
       " ('is', 'VBZ'),\n",
       " ('going', 'VBG'),\n",
       " ('on', 'IN'),\n",
       " ('a', 'DT'),\n",
       " ('journey', 'NN'),\n",
       " ('fishing', 'NN'),\n",
       " ('on', 'IN'),\n",
       " ('ships', 'NNS')]"
      ]
     },
     "execution_count": 57,
     "metadata": {},
     "output_type": "execute_result"
    }
   ],
   "source": [
    "s = 'He is going on a journey fishing on ships'\n",
    "tagged = nltk.pos_tag(s.split())\n",
    "tagged"
   ]
  },
  {
   "cell_type": "markdown",
   "metadata": {
    "id": "HcZTPzunc3af"
   },
   "source": [
    "Lemmatizers can be assigned a pos argument to tell which PoS class to lemmatize:"
   ]
  },
  {
   "cell_type": "code",
   "execution_count": 58,
   "metadata": {
    "colab": {
     "base_uri": "https://localhost:8080/"
    },
    "id": "QL26HWyMbH6Q",
    "outputId": "4f4b6b70-75e2-4636-82bf-948158d1e941"
   },
   "outputs": [
    {
     "name": "stdout",
     "output_type": "stream",
     "text": [
      "Original Text:  He is going on a journey fishing on ships\n",
      "return verbs into it's base:  ['He', 'be', 'go', 'on', 'a', 'journey', 'fish', 'on', 'ship']\n",
      "return Nouns into it's base:  ['He', 'is', 'going', 'on', 'a', 'journey', 'fishing', 'on', 'ship']\n"
     ]
    }
   ],
   "source": [
    "s = 'He is going on a journey fishing on ships'\n",
    "print(\"Original Text: \" , s)\n",
    "print(\"return verbs into it's base: \" , [lemmatizer.lemmatize(word, pos='v') for word in s.split()])\n",
    "print(\"return Nouns into it's base: \",[lemmatizer.lemmatize(word, pos='n') for word in s.split()])\n"
   ]
  },
  {
   "cell_type": "markdown",
   "metadata": {
    "id": "rMPSnbk3fWww"
   },
   "source": [
    "The default is pos='n'"
   ]
  },
  {
   "cell_type": "markdown",
   "metadata": {
    "id": "mxhx8X18eMzF"
   },
   "source": [
    "What other tags are possible?"
   ]
  },
  {
   "cell_type": "code",
   "execution_count": 59,
   "metadata": {
    "colab": {
     "base_uri": "https://localhost:8080/"
    },
    "id": "cYJ-jLiieDM3",
    "outputId": "4fe799db-1f60-4395-d093-fbe1f23a5dd2"
   },
   "outputs": [
    {
     "name": "stdout",
     "output_type": "stream",
     "text": [
      "['He', 'be', 'go', 'on', 'a', 'journey', 'fish', 'on', 'ship']\n",
      "['He', 'is', 'going', 'on', 'a', 'journey', 'fishing', 'on', 'ship']\n",
      "['He', 'is', 'going', 'on', 'a', 'journey', 'fishing', 'on', 'ships']\n",
      "['He', 'is', 'going', 'on', 'a', 'journey', 'fishing', 'on', 'ships']\n"
     ]
    }
   ],
   "source": [
    "from nltk.corpus import wordnet\n",
    "s = 'He is going on a journey fishing on ships'\n",
    "print([lemmatizer.lemmatize(word, pos=wordnet.VERB) for word in s.split()])\n",
    "print([lemmatizer.lemmatize(word, pos=wordnet.NOUN) for word in s.split()])\n",
    "print([lemmatizer.lemmatize(word, pos=wordnet.ADJ) for word in s.split()])\n",
    "print([lemmatizer.lemmatize(word, pos=wordnet.ADV) for word in s.split()])\n",
    "#print([lemmatizer.lemmatize(word, pos=[wordnet.VERB, wordnet.NOUN]) for word in s.split()])"
   ]
  },
  {
   "cell_type": "markdown",
   "metadata": {
    "id": "DHjWxcxZfgC5"
   },
   "source": [
    "You can combine by looping:\n"
   ]
  },
  {
   "cell_type": "code",
   "execution_count": 60,
   "metadata": {
    "colab": {
     "base_uri": "https://localhost:8080/"
    },
    "id": "zN02CmqDfh9n",
    "outputId": "777fe7e2-0dc8-4f4b-f612-c3be46658ae8"
   },
   "outputs": [
    {
     "data": {
      "text/plain": [
       "['He', 'be', 'go', 'on', 'a', 'journey', 'fish', 'on', 'ship']"
      ]
     },
     "execution_count": 60,
     "metadata": {},
     "output_type": "execute_result"
    }
   ],
   "source": [
    "pos_tags = [wordnet.VERB, wordnet.NOUN, wordnet.ADJ, wordnet.ADV]\n",
    "s = 'He is going on a journey fishing on ships'\n",
    "words = s.split()\n",
    "for pos in pos_tags:\n",
    "  words = [lemmatizer.lemmatize(word, pos=pos) for word in words]\n",
    "words\n"
   ]
  },
  {
   "cell_type": "markdown",
   "metadata": {
    "id": "yMQgKSaojN97"
   },
   "source": [
    "# Either stem or lemmatize\n",
    "\n",
    "There's no need to do both.\n",
    "\n",
    "Actually stemming might make lemmatization not working."
   ]
  },
  {
   "cell_type": "markdown",
   "metadata": {
    "id": "QMjGCz3YgMyF"
   },
   "source": [
    "# Extra clean-up"
   ]
  },
  {
   "cell_type": "markdown",
   "metadata": {
    "id": "28N7QQbMhykL"
   },
   "source": [
    "We might encounter non ascii codes. In this case we need to decode Unicode characters into a normalized form, such as UTF8."
   ]
  },
  {
   "cell_type": "code",
   "execution_count": 61,
   "metadata": {
    "colab": {
     "base_uri": "https://localhost:8080/",
     "height": 35
    },
    "id": "YPt4Iy1lh04I",
    "outputId": "4d11a041-00c7-4dfb-f1de-4396b3e245b6"
   },
   "outputs": [
    {
     "data": {
      "text/plain": [
       "'some text'"
      ]
     },
     "execution_count": 61,
     "metadata": {},
     "output_type": "execute_result"
    }
   ],
   "source": [
    " import unicodedata\n",
    " text = 'some text'\n",
    " unicodedata.normalize('NFKD', text).encode('ascii', 'ignore').decode('utf-8', 'ignore')"
   ]
  },
  {
   "cell_type": "markdown",
   "metadata": {
    "id": "y6JSPX3igaKm"
   },
   "source": [
    "For IMDB specifically, other special characters might exist due to html escape symbols and tags, like \\<br />\\<br />\"\n"
   ]
  },
  {
   "cell_type": "code",
   "execution_count": 62,
   "metadata": {
    "colab": {
     "base_uri": "https://localhost:8080/",
     "height": 109
    },
    "id": "w_W6AJcxgjH7",
    "outputId": "1c185be1-5eb3-4fa8-f5fe-aedc088d3131"
   },
   "outputs": [
    {
     "data": {
      "text/plain": [
       "\"Story of a man who has unnatural feelings for a pig. Starts out with a opening scene that is a terrific example of absurd comedy. A formal orchestra audience is turned into an insane, violent mob by the crazy chantings of it's singers. Unfortunately it stays absurd the WHOLE time with no general narrative eventually making it just too off putting. Even those from the era should be turned off. The cryptic dialogue would make Shakespeare seem easy to a third grader. On a technical level it's better than you might think with some good cinematography by future great Vilmos Zsigmond. Future stars Sally Kirkland and Frederic Forrest can be seen briefly.\""
      ]
     },
     "execution_count": 62,
     "metadata": {},
     "output_type": "execute_result"
    }
   ],
   "source": [
    "s = trn_texts[0]\n",
    "s"
   ]
  },
  {
   "cell_type": "markdown",
   "metadata": {
    "id": "RiyJVhASgyTD"
   },
   "source": [
    "We can use further special replacements and tanslations:"
   ]
  },
  {
   "cell_type": "code",
   "execution_count": 63,
   "metadata": {
    "id": "TI-vNsktgOim"
   },
   "outputs": [],
   "source": [
    "import re\n",
    "re1 = re.compile(r'  +')\n",
    "import html\n",
    "\n",
    "def fixup(x):\n",
    "    x = x.replace('#39;', \"'\").replace('amp;', '&').replace('#146;', \"'\").replace(\n",
    "        'nbsp;', ' ').replace('#36;', '$').replace('\\\\n', \"\\n\").replace('quot;', \"'\").replace(\n",
    "        '<br />', \"\\n\").replace('\\\\\"', '\"').replace('<unk>','u_n').replace(' @.@ ','.').replace(\n",
    "        ' @-@ ','-').replace('\\\\', ' \\\\ ')\n",
    "    return re1.sub(' ', html.unescape(x))"
   ]
  },
  {
   "cell_type": "code",
   "execution_count": 64,
   "metadata": {
    "colab": {
     "base_uri": "https://localhost:8080/",
     "height": 109
    },
    "id": "rFT_2v5fg2uL",
    "outputId": "6cf13c50-a9b5-4e67-e807-1f92e3e908a7"
   },
   "outputs": [
    {
     "data": {
      "text/plain": [
       "\"Story of a man who has unnatural feelings for a pig. Starts out with a opening scene that is a terrific example of absurd comedy. A formal orchestra audience is turned into an insane, violent mob by the crazy chantings of it's singers. Unfortunately it stays absurd the WHOLE time with no general narrative eventually making it just too off putting. Even those from the era should be turned off. The cryptic dialogue would make Shakespeare seem easy to a third grader. On a technical level it's better than you might think with some good cinematography by future great Vilmos Zsigmond. Future stars Sally Kirkland and Frederic Forrest can be seen briefly.\""
      ]
     },
     "execution_count": 64,
     "metadata": {},
     "output_type": "execute_result"
    }
   ],
   "source": [
    "fixup(s)"
   ]
  },
  {
   "cell_type": "markdown",
   "metadata": {
    "id": "TBpc3ZM3g9M4"
   },
   "source": [
    "This should happen before all other preprocessing steps, as we will see in the full pipeline, since it will help sentence and words tokenization for example, and will reduce vocab."
   ]
  },
  {
   "cell_type": "code",
   "execution_count": 65,
   "metadata": {
    "colab": {
     "base_uri": "https://localhost:8080/",
     "height": 72
    },
    "id": "_ZUAD1MGea0J",
    "outputId": "909f4911-d098-4e6f-91ff-491499963366"
   },
   "outputs": [
    {
     "data": {
      "text/plain": [
       "\"\\nimport numpy as np\\nCLASSES = ['neg', 'pos']#, 'unsup']\\nPATH=Path('./dat/aclImdb/')\\n\\ndef get_texts(path):\\n    texts,labels = [],[]\\n    for idx,label in enumerate(CLASSES):\\n        for fname in (path/label).glob('*.*'):\\n            #texts.append(fixup(fname.open('r', encoding='utf-8').read()))\\n            texts.append(fname.open('r', encoding='utf-8').read())\\n            labels.append(idx)\\n    return np.array(texts),np.array(labels)\\n    #return texts, labels\\n\\ntrn_texts,trn_labels = get_texts(PATH/'train')\\ntst_texts,tst_labels = get_texts(PATH/'test')\\n\""
      ]
     },
     "execution_count": 65,
     "metadata": {},
     "output_type": "execute_result"
    }
   ],
   "source": [
    "'''\n",
    "import numpy as np\n",
    "CLASSES = ['neg', 'pos']#, 'unsup']\n",
    "PATH=Path('./dat/aclImdb/')\n",
    "\n",
    "def get_texts(path):\n",
    "    texts,labels = [],[]\n",
    "    for idx,label in enumerate(CLASSES):\n",
    "        for fname in (path/label).glob('*.*'):\n",
    "            #texts.append(fixup(fname.open('r', encoding='utf-8').read()))\n",
    "            texts.append(fname.open('r', encoding='utf-8').read())\n",
    "            labels.append(idx)\n",
    "    return np.array(texts),np.array(labels)\n",
    "    #return texts, labels\n",
    "\n",
    "trn_texts,trn_labels = get_texts(PATH/'train')\n",
    "tst_texts,tst_labels = get_texts(PATH/'test')\n",
    "'''"
   ]
  },
  {
   "cell_type": "markdown",
   "metadata": {
    "id": "Q32yBXgMiU0y"
   },
   "source": [
    "# Putting all the pipeline together:"
   ]
  },
  {
   "cell_type": "code",
   "execution_count": 67,
   "metadata": {
    "id": "1YzcLcAziSV2"
   },
   "outputs": [],
   "source": [
    "def remove_special_chars(text):\n",
    "    re1 = re.compile(r'  +')\n",
    "    x1 = text.lower().replace('#39;', \"'\").replace('amp;', '&').replace('#146;', \"'\").replace(\n",
    "        'nbsp;', ' ').replace('#36;', '$').replace('\\\\n', \"\\n\").replace('quot;', \"'\").replace(\n",
    "        '<br />', \"\\n\").replace('\\\\\"', '\"').replace('<unk>', 'u_n').replace(' @.@ ', '.').replace(\n",
    "        ' @-@ ', '-').replace('\\\\', ' \\\\ ')\n",
    "    return re1.sub(' ', html.unescape(x1))\n",
    "\n",
    "\n",
    "def remove_non_ascii(text):\n",
    "    \"\"\"Remove non-ASCII characters from list of tokenized words\"\"\"\n",
    "    return unicodedata.normalize('NFKD', text).encode('ascii', 'ignore').decode('utf-8', 'ignore')\n",
    "\n",
    "\n",
    "def to_lowercase(text):\n",
    "    return text.lower()\n",
    "\n",
    "\n",
    "\n",
    "def remove_punctuation(text):\n",
    "    \"\"\"Remove punctuation from list of tokenized words\"\"\"\n",
    "    translator = str.maketrans('', '', string.punctuation)\n",
    "    return text.translate(translator)\n",
    "\n",
    "\n",
    "def replace_numbers(text):\n",
    "    \"\"\"Replace all interger occurrences in list of tokenized words with textual representation\"\"\"\n",
    "    return re.sub(r'\\d+', '', text)\n",
    "\n",
    "\n",
    "def remove_whitespaces(text):\n",
    "    return text.strip()\n",
    "\n",
    "\n",
    "def remove_stopwords(words, stop_words):\n",
    "    \"\"\"\n",
    "    :param words:\n",
    "    :type words:\n",
    "    :param stop_words: from sklearn.feature_extraction.stop_words import ENGLISH_STOP_WORDS\n",
    "    or\n",
    "    from spacy.lang.en.stop_words import STOP_WORDS\n",
    "    :type stop_words:\n",
    "    :return:\n",
    "    :rtype:\n",
    "    \"\"\"\n",
    "    return [word for word in words if word not in stop_words]\n",
    "\n",
    "\n",
    "def stem_words(words):\n",
    "    \"\"\"Stem words in text\"\"\"\n",
    "    stemmer = PorterStemmer()\n",
    "    return [stemmer.stem(word) for word in words]\n",
    "\n",
    "def lemmatize_words(words):\n",
    "    \"\"\"Lemmatize words in text\"\"\"\n",
    "\n",
    "    lemmatizer = WordNetLemmatizer()\n",
    "    return [lemmatizer.lemmatize(word) for word in words]\n",
    "\n",
    "def lemmatize_verbs(words):\n",
    "    \"\"\"Lemmatize verbs in text\"\"\"\n",
    "\n",
    "    lemmatizer = WordNetLemmatizer()\n",
    "    return ' '.join([lemmatizer.lemmatize(word, pos='v') for word in words])\n",
    "\n",
    "def text2words(text):\n",
    "  return word_tokenize(text)\n",
    "\n",
    "def normalize_text( text):\n",
    "    text = remove_special_chars(text)\n",
    "    text = remove_non_ascii(text)\n",
    "    text = remove_punctuation(text)\n",
    "    text = to_lowercase(text)\n",
    "    text = replace_numbers(text)\n",
    "    words = text2words(text)\n",
    "    words = remove_stopwords(words, stop_words)\n",
    "    #words = stem_words(words)# Either stem ovocar lemmatize\n",
    "    words = lemmatize_words(words)\n",
    "    words = lemmatize_verbs(words)\n",
    "\n",
    "    return ''.join(words)"
   ]
  },
  {
   "cell_type": "code",
   "execution_count": 68,
   "metadata": {
    "colab": {
     "base_uri": "https://localhost:8080/",
     "height": 129
    },
    "id": "Z3T0Ch_SjZGB",
    "outputId": "4ae0a2ba-a282-4872-b858-3f4034bd17ce"
   },
   "outputs": [
    {
     "name": "stdout",
     "output_type": "stream",
     "text": [
      "Story of a man who has unnatural feelings for a pig. Starts out with a opening scene that is a terrific example of absurd comedy. A formal orchestra audience is turned into an insane, violent mob by the crazy chantings of it's singers. Unfortunately it stays absurd the WHOLE time with no general narrative eventually making it just too off putting. Even those from the era should be turned off. The cryptic dialogue would make Shakespeare seem easy to a third grader. On a technical level it's better than you might think with some good cinematography by future great Vilmos Zsigmond. Future stars Sally Kirkland and Frederic Forrest can be seen briefly. \n",
      "\n"
     ]
    },
    {
     "data": {
      "text/plain": [
       "'story man unnatural feel pig start open scene terrific example absurd comedy formal orchestra audience turn insane violent mob crazy chant singer unfortunately stay absurd whole time general narrative eventually make put even era turn cryptic dialogue would make shakespeare seem easy third grader technical level better might think good cinematography future great vilmos zsigmond future star sally kirkland frederic forrest see briefly'"
      ]
     },
     "execution_count": 68,
     "metadata": {},
     "output_type": "execute_result"
    }
   ],
   "source": [
    "print(trn_texts[0],\"\\n\")\n",
    "normalize_text(trn_texts[0])"
   ]
  },
  {
   "cell_type": "markdown",
   "metadata": {
    "id": "MYG1dzHtlp2J"
   },
   "source": [
    "Now let's apply this on the whole corpus:d"
   ]
  },
  {
   "cell_type": "code",
   "execution_count": 69,
   "metadata": {
    "id": "HpWFgR_Eltjt"
   },
   "outputs": [],
   "source": [
    "def normalize_corpus(corpus):\n",
    "  return [normalize_text(t) for t in corpus]\n",
    "  "
   ]
  },
  {
   "cell_type": "code",
   "execution_count": 70,
   "metadata": {
    "id": "K4MKyMgql2AT"
   },
   "outputs": [],
   "source": [
    "def normalize_corpus(corpus):\n",
    "  return [normalize_text(t) for t in corpus]\n",
    "tst_texts = normalize_corpus(tst_texts)"
   ]
  },
  {
   "cell_type": "code",
   "execution_count": 71,
   "metadata": {
    "colab": {
     "base_uri": "https://localhost:8080/"
    },
    "id": "_h7uADYYlpQs",
    "outputId": "ed2d8978-910a-4ea1-f6e8-0688171761b2"
   },
   "outputs": [
    {
     "name": "stdout",
     "output_type": "stream",
     "text": [
      "Story of a man who has unnatural feelings for a pig. Starts out with a opening scene that is a terrific example of absurd comedy. A formal orchestra audience is turned into an insane, violent mob by the crazy chantings of it's singers. Unfortunately it stays absurd the WHOLE time with no general narrative eventually making it just too off putting. Even those from the era should be turned off. The cryptic dialogue would make Shakespeare seem easy to a third grader. On a technical level it's better than you might think with some good cinematography by future great Vilmos Zsigmond. Future stars Sally Kirkland and Frederic Forrest can be seen briefly.\n",
      "Airport '77 starts as a brand new luxury 747 plane is loaded up with valuable paintings & such belonging to rich businessman Philip Stevens (James Stewart) who is flying them & a bunch of VIP's to his estate in preparation of it being opened to the public as a museum, also on board is Stevens daughter Julie (Kathleen Quinlan) & her son. The luxury jetliner takes off as planned but mid-air the plane is hi-jacked by the co-pilot Chambers (Robert Foxworth) & his two accomplice's Banker (Monte Markham) & Wilson (Michael Pataki) who knock the passengers & crew out with sleeping gas, they plan to steal the valuable cargo & land on a disused plane strip on an isolated island but while making his descent Chambers almost hits an oil rig in the Ocean & loses control of the plane sending it crashing into the sea where it sinks to the bottom right bang in the middle of the Bermuda Triangle. With air in short supply, water leaking in & having flown over 200 miles off course the problems mount for the survivor's as they await help with time fast running out...<br /><br />Also known under the slightly different tile Airport 1977 this second sequel to the smash-hit disaster thriller Airport (1970) was directed by Jerry Jameson & while once again like it's predecessors I can't say Airport '77 is any sort of forgotten classic it is entertaining although not necessarily for the right reasons. Out of the three Airport films I have seen so far I actually liked this one the best, just. It has my favourite plot of the three with a nice mid-air hi-jacking & then the crashing (didn't he see the oil rig?) & sinking of the 747 (maybe the makers were trying to cross the original Airport with another popular disaster flick of the period The Poseidon Adventure (1972)) & submerged is where it stays until the end with a stark dilemma facing those trapped inside, either suffocate when the air runs out or drown as the 747 floods or if any of the doors are opened & it's a decent idea that could have made for a great little disaster flick but bad unsympathetic character's, dull dialogue, lethargic set-pieces & a real lack of danger or suspense or tension means this is a missed opportunity. While the rather sluggish plot keeps one entertained for 108 odd minutes not that much happens after the plane sinks & there's not as much urgency as I thought there should have been. Even when the Navy become involved things don't pick up that much with a few shots of huge ships & helicopters flying about but there's just something lacking here. George Kennedy as the jinxed airline worker Joe Patroni is back but only gets a couple of scenes & barely even says anything preferring to just look worried in the background.<br /><br />The home video & theatrical version of Airport '77 run 108 minutes while the US TV versions add an extra hour of footage including a new opening credits sequence, many more scenes with George Kennedy as Patroni, flashbacks to flesh out character's, longer rescue scenes & the discovery or another couple of dead bodies including the navigator. While I would like to see this extra footage I am not sure I could sit through a near three hour cut of Airport '77. As expected the film has dated badly with horrible fashions & interior design choices, I will say no more other than the toy plane model effects aren't great either. Along with the other two Airport sequels this takes pride of place in the Razzie Award's Hall of Shame although I can think of lots of worse films than this so I reckon that's a little harsh. The action scenes are a little dull unfortunately, the pace is slow & not much excitement or tension is generated which is a shame as I reckon this could have been a pretty good film if made properly.<br /><br />The production values are alright if nothing spectacular. The acting isn't great, two time Oscar winner Jack Lemmon has said since it was a mistake to star in this, one time Oscar winner James Stewart looks old & frail, also one time Oscar winner Lee Grant looks drunk while Sir Christopher Lee is given little to do & there are plenty of other familiar faces to look out for too.<br /><br />Airport '77 is the most disaster orientated of the three Airport films so far & I liked the ideas behind it even if they were a bit silly, the production & bland direction doesn't help though & a film about a sunken plane just shouldn't be this boring or lethargic. Followed by The Concorde ... Airport '79 (1979).\n",
      "This film lacked something I couldn't put my finger on at first: charisma on the part of the leading actress. This inevitably translated to lack of chemistry when she shared the screen with her leading man. Even the romantic scenes came across as being merely the actors at play. It could very well have been the director who miscalculated what he needed from the actors. I just don't know.<br /><br />But could it have been the screenplay? Just exactly who was the chef in love with? He seemed more enamored of his culinary skills and restaurant, and ultimately of himself and his youthful exploits, than of anybody or anything else. He never convinced me he was in love with the princess.<br /><br />I was disappointed in this movie. But, don't forget it was nominated for an Oscar, so judge for yourself.\n",
      "Sorry everyone,,, I know this is supposed to be an \"art\" film,, but wow, they should have handed out guns at the screening so people could blow their brains out and not watch. Although the scene design and photographic direction was excellent, this story is too painful to watch. The absence of a sound track was brutal. The loooonnnnng shots were too long. How long can you watch two people just sitting there and talking? Especially when the dialogue is two people complaining. I really had a hard time just getting through this film. The performances were excellent, but how much of that dark, sombre, uninspired, stuff can you take? The only thing i liked was Maureen Stapleton and her red dress and dancing scene. Otherwise this was a ripoff of Bergman. And i'm no fan f his either. I think anyone who says they enjoyed 1 1/2 hours of this is,, well, lying.\n",
      "When I was little my parents took me along to the theater to see Interiors. It was one of many movies I watched with my parents, but this was the only one we walked out of. Since then I had never seen Interiors until just recently, and I could have lived out the rest of my life without it. What a pretentious, ponderous, and painfully boring piece of 70's wine and cheese tripe. Woody Allen is one of my favorite directors but Interiors is by far the worst piece of crap of his career. In the unmistakable style of Ingmar Berman, Allen gives us a dark, angular, muted, insight in to the lives of a family wrought by the psychological damage caused by divorce, estrangement, career, love, non-love, halitosis, whatever. The film, intentionally, has no comic relief, no music, and is drenched in shadowy pathos. This film style can be best defined as expressionist in nature, using an improvisational method of dialogue to illicit a \"more pronounced depth of meaning and truth\". But Woody Allen is no Ingmar Bergman. The film is painfully slow and dull. But beyond that, I simply had no connection with or sympathy for any of the characters. Instead I felt only contempt for this parade of shuffling, whining, nicotine stained, martyrs in a perpetual quest for identity. Amid a backdrop of cosmopolitan affluence and baked Brie intelligentsia the story looms like a fart in the room. Everyone speaks in affected platitudes and elevated language between cigarettes. Everyone is \"lost\" and \"struggling\", desperate to find direction or understanding or whatever and it just goes on and on to the point where you just want to slap all of them. It's never about resolution, it's only about interminable introspective babble. It is nothing more than a psychological drama taken to an extreme beyond the audience's ability to connect. Woody Allen chose to make characters so immersed in themselves we feel left out. And for that reason I found this movie painfully self indulgent and spiritually draining. I see what he was going for but his insistence on promoting his message through Prozac prose and distorted film techniques jettisons it past the point of relevance. I highly recommend this one if you're feeling a little too happy and need something to remind you of death. Otherwise, let's just pretend this film never happened.\n",
      "\"It appears that many critics find the idea of a Woody Allen drama unpalatable.\" And for good reason: they are unbearably wooden and pretentious imitations of Bergman. And let's not kid ourselves: critics were mostly supportive of Allen's Bergman pretensions, Allen's whining accusations to the contrary notwithstanding. What I don't get is this: why was Allen generally applauded for his originality in imitating Bergman, but the contemporaneous Brian DePalma was excoriated for \"ripping off\" Hitchcock in his suspense/horror films? In Robin Wood's view, it's a strange form of cultural snobbery. I would have to agree with that.\n",
      "The second attempt by a New York intellectual in less than 10 years to make a \"Swedish\" film - the first being Susan Sontag's \"Brother Carl\" (which was made in Sweden, with Swedish actors, no less!) The results? Oscar Wilde said it best, in reference to Dickens' \"The Old Curiosity Shop\": \"One would have to have a heart of stone not to laugh out loud at the death of Little Nell.\" Pretty much the same thing here. \"Interiors\" is chock full of solemnly intoned howlers. (\"I'm afraid of my anger.\" Looking into the middle distance: \"I don't like who I'm becoming.\") The directorial quotations (to use a polite term) from Bergman are close to parody. The incredibly self-involved family keep reminding us of how brilliant and talented they are, to the point of strangulation. (\"I read a poem of yours the other day. It was in - I don't know - The New Yorker.\" \"Oh. That was an old poem. I reworked it.\") Far from not caring about these people, however, I found them quite hilarious. Much of the dialog is exactly like the funny stuff from Allen's earlier films - only he's directed his actors to play the lines straight. Having not cast himself in the movie, he has poor Mary Beth Hurt copy all of his thespian tics, intonations, and neurotic habits, turning her into an embarrassing surrogate (much like Kenneth Branagh in \"Celebrity\").<br /><br />The basic plot - dysfunctional family with quietly domineering mother - seems to be lifted more or less from Bergman's \"Winter Light,\" the basic family melodrama tricked up with a lot of existential angst. It all comes through in the shopworn visual/aural tricks: the deafening scratching of a pencil on paper, the towering surf that dwarfs the people walking on the beach. etc, etc.<br /><br />Allen's later \"serious\" films are less embarrassing, but also far less entertaining. I'll take \"Interiors.\" Woody's rarely made a funnier movie.\n",
      "I don't know who to blame, the timid writers or the clueless director. It seemed to be one of those movies where so much was paid to the stars (Angie, Charlie, Denise, Rosanna and Jon) that there wasn't enough left to really make a movie. This could have been very entertaining, but there was a veil of timidity, even cowardice, that hung over each scene. Since it got an R rating anyway why was the ubiquitous bubble bath scene shot with a 70-year-old woman and not Angie Harmon? Why does Sheen sleepwalk through potentially hot relationships WITH TWO OF THE MOST BEAUTIFUL AND SEXY ACTRESSES in the world? If they were only looking for laughs why not cast Whoopi Goldberg and Judy Tenuta instead? This was so predictable I was surprised to find that the director wasn't a five year old. What a waste, not just for the viewers but for the actors as well.\n",
      "This film is mediocre at best. Angie Harmon is as funny as a bag of hammers. Her bitchy demeanor from \"Law and Order\" carries over in a failed attempt at comedy. Charlie Sheen is the only one to come out unscathed in this horrible anti-comedy. The only positive thing to come out of this mess is Charlie and Denise's marriage. Hopefully that effort produces better results.\n",
      "The film is bad. There is no other way to say it. The story is weak and outdated, especially for this country. I don't think most people know what a \"walker\" is or will really care. I felt as if I was watching a movie from the 70's. The subject was just not believable for the year 2007, even being set in DC. I think this rang true for everyone else who watched it too as the applause were low and quick at the end. Most didn't stay for the Q&A either.<br /><br />I don't think Schrader really thought the film out ahead of time. Many of the scenes seemed to be cut short as if they were never finished or he just didn't know how to finish them. He jumped from one scene to the next and you had to try and figure out or guess what was going on. I really didn't get Woody's (Carter) private life or boyfriend either. What were all the \"artistic\" male bondage and torture pictures (from Iraq prisons) about? What was he thinking? I think it was his very poor attempt at trying to create this dark private subculture life for Woody's character (Car). It didn't work. It didn't even seem to make sense really.<br /><br />The only good thing about this film was Woody Harrelson. He played his character (Car) flawlessly. You really did get a great sense of what a \"walker\" may have been like (say twenty years ago). He was great and most likely will never get recognized for it. <br /><br />As for Lauren, Lily and Kristin... Boring.<br /><br />Don't see it! It is painful! Unless you are a true Harrelson fan.\n"
     ]
    }
   ],
   "source": [
    "for t in trn_texts[:10]:\n",
    "  print(t)"
   ]
  },
  {
   "cell_type": "markdown",
   "metadata": {
    "id": "Wx1IJI6zV-cu"
   },
   "source": [
    "We still suffer some weird words: i've --> ive\n",
    "\n",
    "But we will keep to that level for now"
   ]
  },
  {
   "cell_type": "markdown",
   "metadata": {
    "id": "FhjLUHcpjFfJ"
   },
   "source": [
    "## Keras \n",
    "\n",
    "There are many other NLP tools than NLTK. Keras is a DL framework, that also have some NLP tools, specially for tokenization."
   ]
  },
  {
   "cell_type": "markdown",
   "metadata": {
    "id": "np8RTxgptEZV"
   },
   "source": [
    "But it suffers the same issues as split() on white spaces:"
   ]
  },
  {
   "cell_type": "code",
   "execution_count": 72,
   "metadata": {
    "colab": {
     "base_uri": "https://localhost:8080/"
    },
    "id": "XyaLBY5DtJn9",
    "outputId": "4acb72bf-1fc2-467a-e1b8-0d0898b27c5c"
   },
   "outputs": [
    {
     "name": "stdout",
     "output_type": "stream",
     "text": [
      "['human', 'like', 'robots', 'are', 'dump', 'but', 'cute']\n"
     ]
    }
   ],
   "source": [
    "from tensorflow.keras.preprocessing.text import text_to_word_sequence\n",
    "# define the document\n",
    "text = 'human-like robots are dump, but cute' # 'The quick brown fox jumped over the lazy dog.'\n",
    "# tokenize the document\n",
    "result = text_to_word_sequence(text)\n",
    "print(result)\n"
   ]
  },
  {
   "cell_type": "markdown",
   "metadata": {
    "id": "129fAj1MAU0m"
   },
   "source": [
    "# Text preparation\n",
    "\n",
    "The preparation phase includes transforming __text__ into __binary/integer/digital format__\n",
    "\n",
    "For that we need a vocabulary vector:"
   ]
  },
  {
   "cell_type": "markdown",
   "metadata": {
    "id": "0KnI_o4qjVge"
   },
   "source": [
    "# Vocab and inverse vocab\n",
    "\n",
    "Vocabulary is a mapping (dict) from words to indices (integers). It represents ALL the words in a language. But it's hard to get ALL words, so we count only what we have in a dataset/corpus. \n",
    "\n",
    "Since we don't account for all words, we might encounter Out-Of-Vocab words which we dont know a mapping for. So we usually reserve a special token index for UNKnown words."
   ]
  },
  {
   "cell_type": "markdown",
   "metadata": {
    "id": "uoK9c2PWjbd4"
   },
   "source": [
    "# Manual "
   ]
  },
  {
   "cell_type": "code",
   "execution_count": 73,
   "metadata": {
    "id": "YYDlHLrV2mXc"
   },
   "outputs": [
    {
     "data": {
      "text/plain": [
       "['\\x08\\x08\\x08\\x08A',\n",
       " '\\x10own',\n",
       " '!',\n",
       " '!!',\n",
       " '!!!',\n",
       " '!!!!',\n",
       " '!!!!!',\n",
       " '!!!!!!',\n",
       " '!!!!!!!',\n",
       " '!!!!!!!!',\n",
       " '!!!!!!!!!',\n",
       " '!!!!!!!!!!',\n",
       " '!!!!!!!!!!!',\n",
       " '!!!!!!!!!!!!!',\n",
       " '!!!!!!!!!!!!!!',\n",
       " '!!!!!!!!!!!!!!!!!!!!!!',\n",
       " '!!!!!!!!!!!!!!!!!!!!!!!!!!',\n",
       " '!!!!!!!!!!!!!!!!!!!!!!!!!!!!!!!',\n",
       " '!!!!!!!<br',\n",
       " '!!!!!<br',\n",
       " '!!!!\"',\n",
       " '!!!!<br',\n",
       " '!!!)',\n",
       " '!!!.<br',\n",
       " '!!!7!!!',\n",
       " '!!!<br',\n",
       " '!!!Scott',\n",
       " '!!\"',\n",
       " '!!\",',\n",
       " '!!).',\n",
       " '!!)<br',\n",
       " '!!*<br',\n",
       " '!!,',\n",
       " '!!-',\n",
       " '!!.',\n",
       " '!!....<br',\n",
       " '!!<br',\n",
       " '!!?',\n",
       " '!!??',\n",
       " '!\"',\n",
       " '!\",',\n",
       " '!\".',\n",
       " '!)',\n",
       " '!),',\n",
       " '!).',\n",
       " '!).<br',\n",
       " '!,',\n",
       " '!.',\n",
       " '!....Both',\n",
       " '!.<br',\n",
       " '!<br',\n",
       " '!?',\n",
       " '!?!?!?!?!?',\n",
       " '!The',\n",
       " '\"',\n",
       " '\"\"Beat',\n",
       " '\"\"Housesitter\",',\n",
       " '\"\"Leave',\n",
       " '\"\"Shin',\n",
       " '\"$\"',\n",
       " '\"&#269;ETVORKA\"',\n",
       " '\"&$*@$',\n",
       " '\"\\'70s\"',\n",
       " '\"\\'Bright',\n",
       " '\"\\'S',\n",
       " '\"\\'Son',\n",
       " '\"\\'cause',\n",
       " '\"\\'menaikkan\\'',\n",
       " '\"\\'spoiling\\'',\n",
       " '\"(\"Viva!!',\n",
       " '\"(It',\n",
       " '\"(star)\",',\n",
       " '\"(the',\n",
       " '\")',\n",
       " '\").',\n",
       " '\"*\"',\n",
       " '\"*random',\n",
       " '\",',\n",
       " '\"-Well,',\n",
       " '\"-genre,',\n",
       " '\".',\n",
       " '\"...',\n",
       " '\"......Daddy?\"',\n",
       " '\".....another',\n",
       " '\"...I',\n",
       " '\"...Thing\"',\n",
       " '\"...and',\n",
       " '\"...anymore.\"<br',\n",
       " '\"...bring',\n",
       " '\"...dude....What?\"',\n",
       " '\"...feels',\n",
       " '\"...harder',\n",
       " '\"...is',\n",
       " '\"...it\\'s',\n",
       " '\"...just',\n",
       " '\"...naaaa',\n",
       " '\"...of',\n",
       " '\"...pure',\n",
       " '\"...shimmeringly',\n",
       " '\"...show',\n",
       " '\"...stupid!',\n",
       " '\"...sweeet.\",',\n",
       " '\"...the',\n",
       " '\"...this',\n",
       " '\"...underrated...\"',\n",
       " '\"...we',\n",
       " '\"...with',\n",
       " '\"...yep',\n",
       " '\"...yes',\n",
       " '\"...you',\n",
       " '\"..Care',\n",
       " '\"..Well',\n",
       " '\"..any',\n",
       " '\"..do',\n",
       " '\"..raccoons',\n",
       " '\".<br',\n",
       " '\"0',\n",
       " '\"0\"',\n",
       " '\"0\".',\n",
       " '\"0\"/10,',\n",
       " '\"007\"',\n",
       " '\"1',\n",
       " '\"1\"',\n",
       " '\"1\",',\n",
       " '\"1\".',\n",
       " '\"1(awful)\"--not',\n",
       " '\"1.1\"',\n",
       " '\"10',\n",
       " '\"10\"',\n",
       " '\"10\"\\'s',\n",
       " '\"10\"),',\n",
       " '\"10\".',\n",
       " '\"10\".<br',\n",
       " '\"10\";',\n",
       " '\"10\"s',\n",
       " '\"10%',\n",
       " '\"10,\"',\n",
       " '\"10-4',\n",
       " '\"10.\"',\n",
       " '\"10/10\"',\n",
       " '\"100',\n",
       " '\"100%',\n",
       " '\"1000',\n",
       " '\"101',\n",
       " '\"102',\n",
       " '\"103',\n",
       " '\"107',\n",
       " '\"10th',\n",
       " '\"11',\n",
       " '\"11001001,\"',\n",
       " '\"12',\n",
       " '\"12:00\"',\n",
       " '\"13',\n",
       " '\"14',\n",
       " '\"14th',\n",
       " '\"15',\n",
       " '\"16',\n",
       " '\"16th',\n",
       " '\"1900\".',\n",
       " '\"1903',\n",
       " '\"1921\")',\n",
       " '\"1930s\"',\n",
       " '\"1940s',\n",
       " '\"1942',\n",
       " '\"1970\\'s\"',\n",
       " '\"1984!\"',\n",
       " '\"1984\"',\n",
       " '\"1984\",',\n",
       " '\"1985,\"',\n",
       " '\"1999\"',\n",
       " '\"1999\".',\n",
       " '\"1st',\n",
       " '\"1st\"',\n",
       " '\"2',\n",
       " '\"2\"',\n",
       " '\"2,\"',\n",
       " '\"2.4',\n",
       " '\"20',\n",
       " '\"20,000',\n",
       " '\"2001',\n",
       " '\"2001\"',\n",
       " '\"2001\",',\n",
       " '\"2001\"s.<br',\n",
       " '\"2001,',\n",
       " '\"2001:',\n",
       " '\"20th',\n",
       " '\"21',\n",
       " '\"22',\n",
       " '\"24\"',\n",
       " '\"24\",',\n",
       " '\"24\".',\n",
       " '\"27',\n",
       " '\"28',\n",
       " '\"3',\n",
       " '\"3\"',\n",
       " '\"3\".',\n",
       " '\"3,\"',\n",
       " '\"30',\n",
       " '\"300\".',\n",
       " '\"31',\n",
       " '\"36th',\n",
       " '\"3d',\n",
       " '\"3rd',\n",
       " '\"3rd-\")',\n",
       " '\"4',\n",
       " '\"4\"',\n",
       " '\"4,\"',\n",
       " '\"40',\n",
       " '\"40%',\n",
       " '\"400',\n",
       " '\"405\"',\n",
       " '\"42nd',\n",
       " '\"44',\n",
       " '\"48',\n",
       " '\"4am',\n",
       " '\"5',\n",
       " '\"5\"',\n",
       " '\"50',\n",
       " '\"50%',\n",
       " '\"52',\n",
       " '\"54\"',\n",
       " '\"55',\n",
       " '\"6',\n",
       " '\"68-er\"',\n",
       " '\"7',\n",
       " '\"7\"',\n",
       " '\"7\"!',\n",
       " '\"70%',\n",
       " '\"7eventy',\n",
       " '\"7½th\"',\n",
       " '\"8',\n",
       " '\"8\"',\n",
       " '\"8\".<br',\n",
       " '\"8\"s,',\n",
       " '\"80\\'s',\n",
       " '\"80\\'s\"',\n",
       " '\"80s',\n",
       " '\"80s\"',\n",
       " '\"80s.\"',\n",
       " '\"89',\n",
       " '\"9',\n",
       " '\"9\"',\n",
       " '\"9\",',\n",
       " '\"9\".',\n",
       " '\"9,\"',\n",
       " '\"9-11,\"',\n",
       " '\"9/11\"',\n",
       " '\"9/11,\"',\n",
       " '\"90210\"',\n",
       " '\"90210\",',\n",
       " '\"9th',\n",
       " '\"<br',\n",
       " '\"A',\n",
       " '\"A\"',\n",
       " '\"A\".',\n",
       " '\"A\".<br',\n",
       " '\"A,\"',\n",
       " '\"A-Rated',\n",
       " '\"A-Team\"',\n",
       " '\"A-for-effort\"',\n",
       " '\"A-movie\"',\n",
       " '\"A.',\n",
       " '\"A.\"',\n",
       " '\"A.P.E.\"',\n",
       " '\"AA\"',\n",
       " '\"AAAAATCH-KAH!!\"',\n",
       " '\"AAGHH!!',\n",
       " '\"AARRRGH!!!\"',\n",
       " '\"ACTING\"',\n",
       " '\"ACTRESS',\n",
       " '\"AIDS\"',\n",
       " '\"AIP\"),',\n",
       " '\"AL\"',\n",
       " '\"ALIEN\"',\n",
       " '\"ALIEN\".',\n",
       " '\"ALL',\n",
       " '\"AMAZON',\n",
       " '\"AND',\n",
       " '\"ASTONISHING\"',\n",
       " '\"AUTOBOTS',\n",
       " '\"Aaja',\n",
       " '\"Aargh!',\n",
       " '\"Aargh!\")',\n",
       " '\"Abbott',\n",
       " '\"Abe',\n",
       " '\"About',\n",
       " '\"Abraham',\n",
       " '\"Abre',\n",
       " '\"Absolute',\n",
       " '\"Absolutely',\n",
       " '\"Academy',\n",
       " '\"Academy\"',\n",
       " '\"Academy,\"',\n",
       " '\"Accident\"',\n",
       " '\"Accordian',\n",
       " '\"According',\n",
       " '\"Ace',\n",
       " '\"Ace\"',\n",
       " '\"Aces',\n",
       " '\"Achilles,\"',\n",
       " '\"Acid',\n",
       " '\"Acme',\n",
       " '\"Acquiring',\n",
       " '\"Act',\n",
       " '\"Action',\n",
       " '\"Action!\".',\n",
       " '\"Action\".',\n",
       " '\"Activism,\"',\n",
       " '\"Actor\\'s',\n",
       " '\"Actors\"',\n",
       " '\"Actress\",',\n",
       " '\"Adam',\n",
       " '\"Adam\\'s',\n",
       " '\"Adam,',\n",
       " '\"Adaptation\";',\n",
       " '\"Addicted',\n",
       " '\"Addictive\"',\n",
       " '\"Additional',\n",
       " '\"Adelaide\".',\n",
       " '\"Adelaide\"...',\n",
       " '\"Adelaide\\'s',\n",
       " '\"Adele',\n",
       " '\"Adios',\n",
       " '\"Adolf\\'s',\n",
       " '\"Adopted',\n",
       " '\"Adrenaline:',\n",
       " '\"Adrian!\"',\n",
       " '\"Adult\"',\n",
       " '\"Adultry\"',\n",
       " '\"Adventures',\n",
       " '\"Advice',\n",
       " '\"Aeon',\n",
       " '\"Aerobicide\"',\n",
       " '\"Aeroplane',\n",
       " '\"Aesop,\"',\n",
       " '\"Affliction\",',\n",
       " '\"Africa',\n",
       " '\"African',\n",
       " '\"African\"',\n",
       " '\"Africanism\",',\n",
       " '\"After',\n",
       " '\"Afterschool',\n",
       " '\"Again,\"',\n",
       " '\"Against',\n",
       " '\"Agent',\n",
       " '\"Agnes',\n",
       " '\"Agnes,\"',\n",
       " '\"Agonia\"',\n",
       " '\"Ah',\n",
       " '\"Ah,',\n",
       " '\"Ah-ha!',\n",
       " '\"Ah-s\"',\n",
       " '\"Ah.',\n",
       " '\"Ah...then',\n",
       " '\"Aha!',\n",
       " '\"Aha!\"',\n",
       " '\"Ahh\"',\n",
       " '\"Ahh-OK...finally',\n",
       " '\"Ahh..\"',\n",
       " '\"Ahh...over',\n",
       " '\"Ahhhh\"',\n",
       " '\"Ain\\'t',\n",
       " '\"Aintry\".',\n",
       " '\"Air',\n",
       " '\"Airial',\n",
       " '\"Airman\"',\n",
       " '\"Airplane!\"',\n",
       " '\"Airplane!\",',\n",
       " '\"Airplane!,\"',\n",
       " '\"Airplane\"',\n",
       " '\"Airplane\",',\n",
       " '\"Airport',\n",
       " '\"Airport\"',\n",
       " '\"Al',\n",
       " '\"Al\"',\n",
       " '\"Aladdin\"',\n",
       " '\"Aladdin\",',\n",
       " '\"Alan',\n",
       " '\"Alantis',\n",
       " '\"Alas,',\n",
       " '\"Alex',\n",
       " '\"Alex\"',\n",
       " '\"Alexander',\n",
       " '\"Alexander.\"',\n",
       " '\"Alfie\"?',\n",
       " '\"Alfred',\n",
       " '\"Algie,',\n",
       " '\"Alias',\n",
       " '\"Alias\"',\n",
       " '\"Alias\".',\n",
       " '\"Alice',\n",
       " '\"Alice\"',\n",
       " '\"Alice\").',\n",
       " '\"Alice,',\n",
       " '\"Alice:',\n",
       " '\"Alicia..my',\n",
       " '\"Alien',\n",
       " '\"Alien\"',\n",
       " '\"Alien\",',\n",
       " '\"Aliens',\n",
       " '\"Aliens\"',\n",
       " '\"Aliens\").<br',\n",
       " '\"Aliens\",',\n",
       " '\"Aliens\"-',\n",
       " '\"Aliens\".',\n",
       " '\"Aliens\".<br',\n",
       " '\"Alive',\n",
       " '\"Alive\"',\n",
       " '\"Alive\".',\n",
       " '\"All',\n",
       " '\"All\"',\n",
       " '\"Alladin\".',\n",
       " '\"Allan',\n",
       " '\"Alliance\":',\n",
       " '\"Allied',\n",
       " '\"Alligator\"',\n",
       " '\"Alloimono',\n",
       " '\"Ally',\n",
       " '\"Almighty',\n",
       " '\"Almost',\n",
       " '\"Aloha',\n",
       " '\"Alone',\n",
       " '\"Along',\n",
       " '\"Alright',\n",
       " '\"Alright!',\n",
       " '\"Alright,',\n",
       " '\"Also',\n",
       " '\"Altaira',\n",
       " '\"Alterated',\n",
       " '\"Alternate',\n",
       " '\"Altman-esque\"',\n",
       " '\"Alucarda\"',\n",
       " '\"Always',\n",
       " '\"Am',\n",
       " '\"Amadeus\"',\n",
       " '\"Amazing',\n",
       " '\"Amazon',\n",
       " '\"Ambushed\"',\n",
       " '\"Amelie\"\\'s',\n",
       " '\"Amelie\",',\n",
       " '\"Amelie,\"',\n",
       " '\"Amelie.\"',\n",
       " '\"America',\n",
       " '\"America\"',\n",
       " '\"America\\'s',\n",
       " '\"American',\n",
       " '\"American\"',\n",
       " '\"American\".',\n",
       " '\"Americana\"',\n",
       " '\"Americanized\"',\n",
       " '\"Ameriquest',\n",
       " '\"Amic/Amat\",',\n",
       " '\"Amigo\",',\n",
       " '\"Amistad\"',\n",
       " '\"Amitabh',\n",
       " '\"Amityville',\n",
       " '\"Amores',\n",
       " '\"Amos',\n",
       " '\"Amélie',\n",
       " '\"An',\n",
       " '\"Anaconda\"',\n",
       " '\"Anaconda\".',\n",
       " '\"Anaconda.\"',\n",
       " '\"Analyze',\n",
       " '\"Anamorph\"',\n",
       " '\"Anamorph\".',\n",
       " '\"Anatomie\"',\n",
       " '\"Anatomie\".',\n",
       " '\"Anatomy',\n",
       " '\"Anchorman\"',\n",
       " '\"Anchorman\",',\n",
       " '\"Anchorman:',\n",
       " '\"Anchorman;',\n",
       " '\"Anchors',\n",
       " '\"And',\n",
       " '\"Andre',\n",
       " '\"Andrew\"',\n",
       " '\"Andromeda\"',\n",
       " '\"Andromeda\".<br',\n",
       " '\"Andy',\n",
       " '\"Andy\"',\n",
       " '\"Angel',\n",
       " '\"Angel\",',\n",
       " '\"Angel\\'s',\n",
       " '\"Angel.\"',\n",
       " '\"Angelique\"',\n",
       " '\"Angels',\n",
       " '\"Angels\"',\n",
       " '\"Angels\".<br',\n",
       " '\"Angrezon',\n",
       " '\"Angry',\n",
       " '\"Animal',\n",
       " '\"Anjos',\n",
       " '\"Ankhen\",',\n",
       " '\"Ann',\n",
       " '\"Anna',\n",
       " '\"Anna\"',\n",
       " '\"Anna\",',\n",
       " '\"Anne',\n",
       " '\"Annie',\n",
       " '\"Anniko\"',\n",
       " '\"Anniyan\".',\n",
       " '\"Antes',\n",
       " '\"Anthony',\n",
       " '\"Anthony,',\n",
       " '\"Anthropophagous\"',\n",
       " '\"Anti-War\"',\n",
       " '\"Antigone,\"',\n",
       " '\"Antonia\"),',\n",
       " '\"Antonia\\'s',\n",
       " '\"Antwone',\n",
       " '\"Antz\"',\n",
       " '\"Antz\",',\n",
       " '\"Any',\n",
       " '\"Anything',\n",
       " '\"Anyway...\"',\n",
       " '\"Anyway...\",',\n",
       " '\"Ao',\n",
       " '\"Aparadektoi,',\n",
       " '\"Apart',\n",
       " '\"Apartment',\n",
       " '\"Apathetic\"',\n",
       " '\"Apocalypse',\n",
       " '\"Apollo',\n",
       " '\"Apprentice',\n",
       " '\"Apprentice\"',\n",
       " '\"April',\n",
       " '\"Aqua',\n",
       " '\"Aquarius\"',\n",
       " '\"Arabian',\n",
       " '\"Arabic\"',\n",
       " '\"Aragami\"',\n",
       " '\"Aragami\",',\n",
       " '\"Arahan\"',\n",
       " '\"Archdiocese\"',\n",
       " '\"Ardala',\n",
       " '\"Ardh',\n",
       " '\"Are',\n",
       " '\"Aren\\'t',\n",
       " '\"Arirang\"',\n",
       " '\"Arkansas',\n",
       " '\"Arli$$\"',\n",
       " '\"Armageddon\"',\n",
       " '\"Armagedon\"',\n",
       " '\"Armor.\"',\n",
       " '\"Arms',\n",
       " '\"Army',\n",
       " '\"Arnold\",',\n",
       " '\"Arnold\\'s\"',\n",
       " '\"Around',\n",
       " '\"Arrest',\n",
       " '\"Arrested',\n",
       " '\"Arrowsmith\")',\n",
       " '\"Art',\n",
       " '\"Art\"',\n",
       " '\"Art\"...',\n",
       " '\"Art\".<br',\n",
       " '\"Artemisia',\n",
       " '\"Artemisia\"',\n",
       " '\"Arthur',\n",
       " '\"Arthur\"',\n",
       " '\"Arthur\",',\n",
       " '\"Arthur\".',\n",
       " '\"Arthur\\'s',\n",
       " '\"Arthur.\"',\n",
       " '\"Arty\"',\n",
       " '\"Aruman\".<br',\n",
       " '\"Aryans\"',\n",
       " '\"Arzenta\"',\n",
       " '\"As',\n",
       " '\"Ashenden\"',\n",
       " '\"Asian',\n",
       " '\"Asiatic',\n",
       " '\"Ask',\n",
       " '\"Asking',\n",
       " '\"Assault',\n",
       " '\"Assets?',\n",
       " '\"Asumi\")',\n",
       " '\"Asylum',\n",
       " '\"At',\n",
       " '\"Atlantic\"',\n",
       " '\"Atlantis',\n",
       " '\"Atlantis\"',\n",
       " '\"Atlantis\",',\n",
       " '\"Atlantis\".',\n",
       " '\"Atlantis:',\n",
       " '\"Atoll',\n",
       " '\"Atomic',\n",
       " '\"Ator',\n",
       " '\"Attack',\n",
       " '\"Attlee\\'s',\n",
       " '\"Audition\"',\n",
       " '\"Audition,\"',\n",
       " '\"Audrey',\n",
       " '\"Aunt',\n",
       " '\"Auntie',\n",
       " '\"Austin',\n",
       " '\"Austinese\",',\n",
       " '\"Australia\"?',\n",
       " '\"Australian',\n",
       " '\"Australian\"',\n",
       " '\"Authorized',\n",
       " '\"Authorized\"',\n",
       " '\"Autie\"',\n",
       " '\"Auto',\n",
       " '\"Autofocus\"',\n",
       " '\"Autofocus.\"',\n",
       " '\"Autumn',\n",
       " '\"Aux',\n",
       " '\"Avalon\"',\n",
       " '\"Avenging',\n",
       " '\"Aventurera\".',\n",
       " '\"Average',\n",
       " '\"Avjo',\n",
       " '\"Aw',\n",
       " '\"Aw,',\n",
       " '\"Awakenings\"',\n",
       " '\"Awards\"',\n",
       " '\"Away',\n",
       " '\"Awesome.',\n",
       " '\"Awwww\"',\n",
       " '\"Axel',\n",
       " '\"Aye\"s',\n",
       " '\"Aztec',\n",
       " '\"Azumi',\n",
       " '\"Azumi\"',\n",
       " '\"Azumi\",',\n",
       " '\"B',\n",
       " '\"B\"',\n",
       " '\"B\",',\n",
       " '\"B\\'s\"',\n",
       " '\"B**ch!\"',\n",
       " '\"B,\"',\n",
       " '\"B-Level.\"',\n",
       " '\"B-movie\"',\n",
       " '\"B.S.1\",',\n",
       " '\"BAD\"',\n",
       " '\"BASEketball,\"',\n",
       " '\"BATTLE',\n",
       " '\"BBC',\n",
       " '\"BD\"',\n",
       " '\"BEL',\n",
       " '\"BELIEVE\"',\n",
       " '\"BENDY',\n",
       " '\"BETTER',\n",
       " '\"BEYOND',\n",
       " '\"BIG',\n",
       " '\"BILB\"',\n",
       " '\"BILD\"',\n",
       " '\"BLAIR',\n",
       " '\"BOO-let\"',\n",
       " '\"BORING\"!',\n",
       " '\"BTK\"',\n",
       " '\"Babe',\n",
       " '\"Babe\"',\n",
       " '\"Babe,\"',\n",
       " '\"Babel\".',\n",
       " '\"Babes',\n",
       " '\"Baby',\n",
       " '\"Babyface',\n",
       " '\"Babylon',\n",
       " '\"Bachchan-',\n",
       " '\"Bachelor',\n",
       " '\"Bachelor\\'s',\n",
       " '\"Bachlor',\n",
       " '\"Bachman',\n",
       " '\"Bachman\"',\n",
       " '\"Back',\n",
       " '\"Backbeat\",',\n",
       " '\"Bacterium\",',\n",
       " '\"Bad',\n",
       " '\"Bad\"),',\n",
       " '\"Badder\"',\n",
       " '\"Badlands\"',\n",
       " '\"Badlands\"-type',\n",
       " '\"Bahumbag\"',\n",
       " '\"Bailey',\n",
       " '\"Baise',\n",
       " '\"Bait\"',\n",
       " '\"Bait,\"',\n",
       " '\"Bake\"',\n",
       " '\"Balikbayan\"',\n",
       " '\"Balki\"',\n",
       " '\"Ball',\n",
       " '\"Balls\"',\n",
       " '\"Bambi\",',\n",
       " '\"Bamboozled,\"',\n",
       " '\"Banana',\n",
       " '\"Bananas\"',\n",
       " '\"Bancroft',\n",
       " '\"Bandes',\n",
       " '\"Bandido\"',\n",
       " '\"Bandits\"',\n",
       " '\"Bang\"',\n",
       " '\"Bangkok',\n",
       " '\"Barbarian',\n",
       " '\"Barbra',\n",
       " '\"Bare',\n",
       " '\"Baretta\\'s',\n",
       " '\"Barfly\",',\n",
       " '\"Barfuss\"',\n",
       " '\"Barnaby',\n",
       " '\"Barnyard\"',\n",
       " '\"Baron',\n",
       " '\"Barracuda\"',\n",
       " '\"Barracuda\",',\n",
       " '\"Barricade\"',\n",
       " '\"Barry',\n",
       " '\"Bartleby,',\n",
       " '\"Barton',\n",
       " '\"Based',\n",
       " '\"Based\"',\n",
       " '\"Bash',\n",
       " '\"Basic',\n",
       " '\"Basic...\"',\n",
       " '\"Bastille\",',\n",
       " '\"Bat',\n",
       " '\"Bat-history\",',\n",
       " '\"Batfan,\"',\n",
       " '\"Batman',\n",
       " '\"Batman!\"',\n",
       " '\"Batman\"',\n",
       " '\"Batman\",',\n",
       " '\"Batman,\"',\n",
       " '\"Batman:',\n",
       " '\"Batmans\"',\n",
       " '\"Batouch;\"',\n",
       " '\"Batpeople\".',\n",
       " '\"Battle',\n",
       " '\"Battlefield',\n",
       " '\"Battlestar',\n",
       " '\"Battlestar:',\n",
       " '\"Bay',\n",
       " '\"Baywatch.\"',\n",
       " '\"Be',\n",
       " '\"Beaches\"',\n",
       " '\"Beachhead\",',\n",
       " '\"Bean\"?)',\n",
       " '\"Bean,\"',\n",
       " '\"Beans,',\n",
       " '\"Beast',\n",
       " '\"Beastmaster\"',\n",
       " '\"Beat',\n",
       " '\"Beau',\n",
       " '\"Beautiful',\n",
       " '\"Beauty',\n",
       " '\"Beauty\"',\n",
       " '\"Beaver',\n",
       " '\"Beavis',\n",
       " '\"Because',\n",
       " '\"Becker\").',\n",
       " '\"Becky',\n",
       " '\"Becoming',\n",
       " '\"Bedknobs',\n",
       " '\"Beekeepers!\"',\n",
       " '\"Beer\"',\n",
       " '\"Beetlejuice\"',\n",
       " '\"Beetlejuice\")',\n",
       " '\"Before',\n",
       " '\"Beggar\\'s',\n",
       " '\"Beginners\"',\n",
       " '\"Behind',\n",
       " '\"Being',\n",
       " '\"Beirut\"...\"What',\n",
       " '\"Bela',\n",
       " '\"Bell',\n",
       " '\"Bell,',\n",
       " '\"Bell,Book',\n",
       " '\"Belle\\'s',\n",
       " '\"Belles',\n",
       " '\"Beloved\"',\n",
       " '\"Belphegor\"',\n",
       " '\"Ben',\n",
       " '\"Ben\"',\n",
       " '\"Ben\",',\n",
       " '\"Ben-Hur\"',\n",
       " '\"Bend',\n",
       " '\"Beneath',\n",
       " '\"Bennifer\"-Couple,',\n",
       " '\"Benson\"',\n",
       " '\"Bent\"',\n",
       " '\"Bent\".',\n",
       " '\"Beowulf',\n",
       " '\"Beowulf\"',\n",
       " '\"Beowulf\",',\n",
       " '\"Beowulf,\"',\n",
       " '\"Beretta\\'s',\n",
       " '\"Bernard',\n",
       " '\"Bernie\"',\n",
       " '\"Berserkers\"',\n",
       " '\"Best',\n",
       " '\"Beta',\n",
       " '\"Bette',\n",
       " '\"Better',\n",
       " '\"Better\"',\n",
       " '\"Bettie',\n",
       " '\"Between',\n",
       " '\"Bevan\",',\n",
       " '\"Beverley',\n",
       " '\"Beverly',\n",
       " '\"Beware',\n",
       " '\"Bewitched\"',\n",
       " '\"Bewitched\").<br',\n",
       " '\"Bewitched\".',\n",
       " '\"Bewitched,\"',\n",
       " '\"Bewitched.\"',\n",
       " '\"Beyond',\n",
       " '\"Bianlian',\n",
       " '\"Biarkan',\n",
       " '\"Bibbidi-Bobbidi-Boo\"',\n",
       " '\"Bibbidi-Bobbidi-Boo\")',\n",
       " '\"Bibbidi-Bobbidi-Boo\",',\n",
       " '\"Bibbidi-Bobbidi-Boo,\"',\n",
       " '\"Bibbidy-Bobbidy-Boo\"',\n",
       " '\"Bibiddi',\n",
       " '\"Bicycle',\n",
       " '\"Bid',\n",
       " '\"Big',\n",
       " '\"Big\"',\n",
       " '\"Big,\"',\n",
       " '\"Bigger\\'s\"',\n",
       " '\"Bijita',\n",
       " '\"Biker',\n",
       " '\"Bikini\"',\n",
       " '\"Biko\"',\n",
       " '\"Bilge\"',\n",
       " '\"Bilgey\"',\n",
       " '\"Bill',\n",
       " '\"Bill\"',\n",
       " '\"Bill\".',\n",
       " '\"Billy',\n",
       " '\"Billy\"',\n",
       " '\"Biograph',\n",
       " '\"Biosphere',\n",
       " '\"Biospheres\")',\n",
       " '\"Bippity-',\n",
       " '\"Bird\"',\n",
       " '\"Birds\"',\n",
       " '\"Birth',\n",
       " '\"Birthday',\n",
       " '\"Bitch',\n",
       " '\"Bitching',\n",
       " '\"Bitter',\n",
       " '\"Bizniss\"',\n",
       " '\"Black',\n",
       " '\"Black\"',\n",
       " '\"Blackberry',\n",
       " '\"Blackboard',\n",
       " '\"Blackbriar\"',\n",
       " '\"Blackmail\"',\n",
       " '\"Blacksploitation\"',\n",
       " '\"Blade',\n",
       " '\"Blade.\"',\n",
       " '\"Blainsworth\"',\n",
       " '\"Blair',\n",
       " '\"Blame',\n",
       " '\"Blankman\"',\n",
       " '\"Blazing',\n",
       " '\"Bleak\"',\n",
       " '\"Bleed\"',\n",
       " '\"Bleed\",',\n",
       " '\"Bleed\".',\n",
       " '\"Bleep-Blop-Bleep-Bop\"',\n",
       " '\"Blind',\n",
       " '\"Blind?',\n",
       " '\"Blithe',\n",
       " '\"Blitz\"',\n",
       " '\"Blitzkrieg',\n",
       " '\"Blob\"',\n",
       " '\"Blob\"!).',\n",
       " '\"Blockbuster',\n",
       " '\"Blockbuster\"',\n",
       " '\"Blockbuster\",',\n",
       " '\"Blonde',\n",
       " '\"Blondie\"',\n",
       " '\"Blood',\n",
       " '\"Blood\"',\n",
       " '\"BloodRayne,\"',\n",
       " '\"Bloodrayne',\n",
       " '\"Bloodstorm:',\n",
       " '\"Bloodsucker\"',\n",
       " '\"Bloodsuckers\"',\n",
       " '\"Bloody',\n",
       " '\"Bloss\"',\n",
       " '\"Blouse',\n",
       " '\"Blow',\n",
       " '\"Blow\"',\n",
       " '\"Blow\"),',\n",
       " '\"Blow-Up\"',\n",
       " '\"Blow-Up\",',\n",
       " '\"Blow;\"',\n",
       " '\"Blowup\"',\n",
       " '\"Blue',\n",
       " '\"Blue\"',\n",
       " '\"Blue\",',\n",
       " '\"Bluebeard\"',\n",
       " '\"Boatswain\\'s',\n",
       " '\"Bob',\n",
       " '\"Bob\"',\n",
       " '\"Bobby\";',\n",
       " '\"Bodas',\n",
       " '\"Body',\n",
       " '\"Bodybag\".',\n",
       " '\"Bodyline\",',\n",
       " '\"Boeing',\n",
       " '\"Bogdanovich',\n",
       " '\"Bogeyman\"',\n",
       " '\"Boggy',\n",
       " '\"Bogus',\n",
       " '\"Bohemian',\n",
       " '\"Bohlen\"-Fan',\n",
       " '\"Bojangles\"',\n",
       " '\"Bolero\",',\n",
       " '\"Bolivarian',\n",
       " '\"Bollocks!\"',\n",
       " '\"Bollywood',\n",
       " '\"Bollywood\"',\n",
       " '\"Bollywood\".',\n",
       " '\"Bomb\"',\n",
       " '\"Bombardier,\"',\n",
       " '\"Bomberang\"',\n",
       " '\"Bombshell,\"',\n",
       " '\"Bonanza',\n",
       " '\"Bonanza\"',\n",
       " '\"Bonanza\"!!',\n",
       " '\"Bonanza\",',\n",
       " '\"Bonanza\".',\n",
       " '\"Bonanza.\"<br',\n",
       " '\"Bond',\n",
       " '\"Bond\"',\n",
       " '\"Bonjour',\n",
       " '\"Bonnie',\n",
       " '\"Bonnie\\'s',\n",
       " '\"Boo\"',\n",
       " '\"Boogeman,\"',\n",
       " '\"Boogey',\n",
       " '\"Boogeyman',\n",
       " '\"Boogeyman\"',\n",
       " '\"Boogie',\n",
       " '\"Booie.\"',\n",
       " '\"Book',\n",
       " '\"Books',\n",
       " '\"Boom',\n",
       " '\"Boom!\"',\n",
       " '\"Boom!\",',\n",
       " '\"Boom\"',\n",
       " '\"Boom\",',\n",
       " '\"Boomerang\"',\n",
       " '\"Boomerang,\"',\n",
       " '\"Boomtown\",',\n",
       " '\"Booooy!\"',\n",
       " '\"Booty',\n",
       " '\"Borat\"',\n",
       " '\"Border',\n",
       " '\"Boricuas\"',\n",
       " '\"Boring\"',\n",
       " '\"Born',\n",
       " '\"Born\"',\n",
       " '\"Bosom',\n",
       " '\"Boss\"',\n",
       " '\"Boss\",',\n",
       " '\"Bostid!\"',\n",
       " '\"Boston',\n",
       " '\"Bottle',\n",
       " '\"Bottom',\n",
       " '\"Bound',\n",
       " '\"Bouquet',\n",
       " '\"Bourne',\n",
       " '\"Bourne\"',\n",
       " '\"Bowery',\n",
       " '\"Box!\"',\n",
       " '\"Boy',\n",
       " '\"Boy\"',\n",
       " '\"Boy,',\n",
       " '\"Boys',\n",
       " '\"Boyz',\n",
       " '\"Brad',\n",
       " '\"Bradford\"',\n",
       " '\"Brady',\n",
       " '\"Brady\".',\n",
       " '\"Brain',\n",
       " '\"Braindead\".',\n",
       " '\"Brass',\n",
       " '\"Brassed',\n",
       " '\"Brave',\n",
       " '\"Braveheart\"',\n",
       " '\"Braveheart\",',\n",
       " '\"Braveheart\"--there\\'s',\n",
       " '\"Braveheart\".',\n",
       " '\"Braveheart\".<br',\n",
       " '\"Braveheart\"<br',\n",
       " '\"Braveheart\"?',\n",
       " '\"Braveheart,\"',\n",
       " '\"Braveheart.\"',\n",
       " '\"Brazil\")',\n",
       " '\"Brazil\",',\n",
       " '\"Brazil\".',\n",
       " '\"Brazil.\"',\n",
       " '\"Bread',\n",
       " '\"Bread\"',\n",
       " ...]"
      ]
     },
     "execution_count": 73,
     "metadata": {},
     "output_type": "execute_result"
    }
   ],
   "source": [
    "texts = trn_texts + tst_texts\n",
    "words = [word for text in texts for word in text.split()]\n",
    "v = sorted(list(set(words)))\n",
    "v"
   ]
  },
  {
   "cell_type": "code",
   "execution_count": 74,
   "metadata": {
    "id": "XHyn2MB924Ki"
   },
   "outputs": [],
   "source": [
    "str2idx = {w:i for i,w in enumerate(v)}\n",
    "idx2str = {i:w for i,w in enumerate(v)}# or int2str = dict([(value, key) for (key, value) in str2int.items()])"
   ]
  },
  {
   "cell_type": "markdown",
   "metadata": {
    "id": "AapNh-xu33B8"
   },
   "source": [
    "If we want word_counts and ordered dict str2idx (same in keras Tokenizer)"
   ]
  },
  {
   "cell_type": "code",
   "execution_count": 75,
   "metadata": {
    "colab": {
     "base_uri": "https://localhost:8080/",
     "height": 1000
    },
    "id": "FALkThER2lIS",
    "outputId": "fa096d3b-f75c-47ad-8cec-9a9fe9b6c469"
   },
   "outputs": [
    {
     "name": "stdout",
     "output_type": "stream",
     "text": [
      "[('the', 287032), ('a', 155096), ('and', 152664)]\n"
     ]
    },
    {
     "data": {
      "text/plain": [
       "{'the': 287032,\n",
       " 'a': 155096,\n",
       " 'and': 152664,\n",
       " 'of': 142972,\n",
       " 'to': 132568,\n",
       " 'is': 103229,\n",
       " 'in': 85593,\n",
       " 'movie': 80866,\n",
       " 'film': 74108,\n",
       " 'I': 65973,\n",
       " 'that': 64560,\n",
       " 'this': 57199,\n",
       " 'it': 54439,\n",
       " '/><br': 50935,\n",
       " 'one': 47592,\n",
       " 'was': 46698,\n",
       " 'as': 42728,\n",
       " 'with': 41721,\n",
       " 'for': 41070,\n",
       " 'like': 39559,\n",
       " 'but': 33790,\n",
       " 'The': 33762,\n",
       " 'on': 30767,\n",
       " 'see': 30756,\n",
       " 'make': 29106,\n",
       " 'are': 28499,\n",
       " 'his': 27687,\n",
       " 'have': 27133,\n",
       " 'get': 26279,\n",
       " 'not': 26266,\n",
       " 'be': 25699,\n",
       " 'good': 25699,\n",
       " 'you': 25123,\n",
       " 'he': 24500,\n",
       " 'would': 23818,\n",
       " 'even': 22907,\n",
       " 'time': 22895,\n",
       " 'really': 22135,\n",
       " 'by': 21426,\n",
       " 'at': 21295,\n",
       " 'an': 20632,\n",
       " 'story': 20372,\n",
       " 'who': 19503,\n",
       " 'from': 19239,\n",
       " 'character': 19206,\n",
       " 'watch': 19098,\n",
       " 'think': 18840,\n",
       " 'all': 18048,\n",
       " 'much': 17948,\n",
       " 'they': 17840,\n",
       " 'go': 17670,\n",
       " 'has': 16472,\n",
       " 'so': 16353,\n",
       " 'just': 16326,\n",
       " 'about': 16286,\n",
       " 'people': 16247,\n",
       " 'or': 16225,\n",
       " 'great': 16224,\n",
       " 'also': 16184,\n",
       " 'her': 15830,\n",
       " 'first': 15663,\n",
       " 'bad': 15445,\n",
       " 'show': 15409,\n",
       " 'well': 15202,\n",
       " 'could': 14907,\n",
       " 'know': 14778,\n",
       " 'scene': 14696,\n",
       " 'out': 14497,\n",
       " 'some': 14207,\n",
       " 'say': 13922,\n",
       " 'way': 13911,\n",
       " 'love': 13549,\n",
       " 'look': 13165,\n",
       " 'very': 13082,\n",
       " 'more': 12977,\n",
       " 'many': 12798,\n",
       " 'end': 12740,\n",
       " 'never': 12496,\n",
       " 'two': 12280,\n",
       " 'This': 12279,\n",
       " 'there': 12080,\n",
       " 'find': 11873,\n",
       " 'take': 11764,\n",
       " 'little': 11742,\n",
       " 'what': 11685,\n",
       " 'thing': 11677,\n",
       " 'give': 11653,\n",
       " 'when': 11488,\n",
       " 'plot': 11292,\n",
       " 'only': 11106,\n",
       " 'best': 11098,\n",
       " 'their': 11008,\n",
       " 'It': 10952,\n",
       " 'if': 10899,\n",
       " 'life': 10877,\n",
       " 'had': 10876,\n",
       " 'ever': 10807,\n",
       " 'come': 10799,\n",
       " 'up': 10792,\n",
       " \"it's\": 10727,\n",
       " 'which': 10658,\n",
       " 'can': 10612,\n",
       " 'were': 10460,\n",
       " 'do': 10426,\n",
       " 'play': 10197,\n",
       " 'my': 10166,\n",
       " 'still': 10080,\n",
       " 'no': 10070,\n",
       " 'better': 10039,\n",
       " 'want': 10027,\n",
       " 'she': 9933,\n",
       " 'than': 9772,\n",
       " 'work': 9485,\n",
       " '-': 9355,\n",
       " 'act': 9287,\n",
       " 'something': 9222,\n",
       " 'been': 9050,\n",
       " 'seem': 9038,\n",
       " 'into': 8950,\n",
       " 'man': 8906,\n",
       " 'will': 8903,\n",
       " 'back': 8575,\n",
       " 'dont': 8502,\n",
       " 'lot': 8477,\n",
       " 'real': 8371,\n",
       " 'because': 8357,\n",
       " 'part': 8092,\n",
       " 'actor': 8049,\n",
       " 'actually': 8037,\n",
       " 'other': 7917,\n",
       " 'most': 7859,\n",
       " 'we': 7808,\n",
       " 'try': 7708,\n",
       " 'feel': 7644,\n",
       " 'me': 7543,\n",
       " 'another': 7475,\n",
       " 'every': 7429,\n",
       " 'nothing': 7404,\n",
       " 'how': 7403,\n",
       " 'year': 7377,\n",
       " 'its': 7323,\n",
       " '/>The': 7243,\n",
       " 'old': 7238,\n",
       " 'any': 7232,\n",
       " 'director': 7224,\n",
       " 'quite': 7090,\n",
       " \"don't\": 7007,\n",
       " 'pretty': 6964,\n",
       " 'made': 6962,\n",
       " 'guy': 6956,\n",
       " 'cast': 6941,\n",
       " 'though': 6879,\n",
       " 'funny': 6800,\n",
       " 'new': 6550,\n",
       " 'around': 6505,\n",
       " 'performance': 6441,\n",
       " 'young': 6407,\n",
       " 'him': 6347,\n",
       " 'may': 6322,\n",
       " 'being': 6202,\n",
       " 'role': 6195,\n",
       " 'horror': 6187,\n",
       " 'woman': 6156,\n",
       " 'use': 6134,\n",
       " 'saw': 6121,\n",
       " 'fact': 6117,\n",
       " 'enough': 6114,\n",
       " 'without': 6091,\n",
       " 'big': 6004,\n",
       " 'must': 5996,\n",
       " 'always': 5992,\n",
       " 'point': 5984,\n",
       " 'then': 5975,\n",
       " 'almost': 5973,\n",
       " 'whole': 5917,\n",
       " 'But': 5897,\n",
       " '<br': 5828,\n",
       " 'too': 5816,\n",
       " 'long': 5769,\n",
       " 'after': 5755,\n",
       " 'world': 5744,\n",
       " 'where': 5738,\n",
       " 'least': 5720,\n",
       " 'might': 5667,\n",
       " 'set': 5660,\n",
       " 'right': 5618,\n",
       " 'tell': 5599,\n",
       " 'And': 5590,\n",
       " 'original': 5583,\n",
       " 'action': 5582,\n",
       " 'girl': 5547,\n",
       " 'it.': 5532,\n",
       " 'them': 5432,\n",
       " 'last': 5429,\n",
       " 'comedy': 5426,\n",
       " 'far': 5425,\n",
       " 'your': 5402,\n",
       " 'music': 5393,\n",
       " 'kind': 5387,\n",
       " 'interest': 5385,\n",
       " 'start': 5367,\n",
       " 'probably': 5351,\n",
       " 'put': 5320,\n",
       " 'seen': 5304,\n",
       " 'does': 5303,\n",
       " 'movie.': 5282,\n",
       " 'script': 5256,\n",
       " \"It's\": 5219,\n",
       " 'did': 5214,\n",
       " 'anything': 5202,\n",
       " 'since': 5193,\n",
       " 'characters': 5180,\n",
       " 'movies': 5128,\n",
       " 'series': 5117,\n",
       " 'become': 5114,\n",
       " 'rather': 5063,\n",
       " 'believe': 5014,\n",
       " 'family': 5010,\n",
       " 'day': 4997,\n",
       " 'need': 4894,\n",
       " 'over': 4886,\n",
       " 'A': 4857,\n",
       " 'worst': 4855,\n",
       " 'turn': 4833,\n",
       " 'keep': 4809,\n",
       " 'star': 4804,\n",
       " 'In': 4788,\n",
       " 'should': 4761,\n",
       " 'films': 4740,\n",
       " 'fan': 4724,\n",
       " 'im': 4685,\n",
       " 'such': 4669,\n",
       " 'enjoy': 4666,\n",
       " 'anyone': 4655,\n",
       " 'away': 4649,\n",
       " 'acting': 4648,\n",
       " 'kill': 4636,\n",
       " 'these': 4600,\n",
       " 'reason': 4592,\n",
       " 'yet': 4572,\n",
       " 'place': 4553,\n",
       " 'sure': 4544,\n",
       " 'off': 4538,\n",
       " 'main': 4524,\n",
       " 'i': 4508,\n",
       " 'mean': 4500,\n",
       " 'didnt': 4500,\n",
       " 'film.': 4467,\n",
       " 'He': 4466,\n",
       " 'hard': 4458,\n",
       " 'worth': 4458,\n",
       " 'fun': 4452,\n",
       " 'leave': 4435,\n",
       " 'write': 4412,\n",
       " 'line': 4402,\n",
       " \"doesn't\": 4374,\n",
       " 'especially': 4374,\n",
       " 'through': 4362,\n",
       " 'doesnt': 4340,\n",
       " 'different': 4311,\n",
       " 'shoot': 4297,\n",
       " 'those': 4283,\n",
       " 'help': 4274,\n",
       " 'friend': 4263,\n",
       " 'read': 4252,\n",
       " 'If': 4240,\n",
       " 'idea': 4230,\n",
       " 'someone': 4226,\n",
       " 'let': 4213,\n",
       " 'happen': 4210,\n",
       " 'minute': 4156,\n",
       " 'three': 4153,\n",
       " 'everything': 4121,\n",
       " 'makes': 4114,\n",
       " \"didn't\": 4100,\n",
       " 'u': 4099,\n",
       " 'book': 4098,\n",
       " 'lead': 4084,\n",
       " 'There': 4040,\n",
       " 'film,': 4033,\n",
       " 'audience': 4026,\n",
       " 'screen': 4026,\n",
       " 'laugh': 4015,\n",
       " \"I'm\": 3971,\n",
       " 'live': 3963,\n",
       " 'cant': 3955,\n",
       " 'movie,': 3942,\n",
       " 'job': 3931,\n",
       " 'name': 3931,\n",
       " 'sense': 3926,\n",
       " 'watching': 3915,\n",
       " 'few': 3892,\n",
       " 'however': 3892,\n",
       " 'thats': 3872,\n",
       " 'recommend': 3861,\n",
       " 'special': 3854,\n",
       " 'true': 3850,\n",
       " 'scenes': 3837,\n",
       " 'kid': 3789,\n",
       " 'going': 3778,\n",
       " 'version': 3758,\n",
       " 'money': 3722,\n",
       " 'although': 3717,\n",
       " 'completely': 3708,\n",
       " 'same': 3707,\n",
       " 'simply': 3696,\n",
       " 'understand': 3676,\n",
       " 'everyone': 3658,\n",
       " 'beautiful': 3656,\n",
       " '/>I': 3655,\n",
       " 'call': 3650,\n",
       " 'maybe': 3645,\n",
       " 'course': 3644,\n",
       " 'run': 3636,\n",
       " 'begin': 3630,\n",
       " 'second': 3625,\n",
       " 'together': 3594,\n",
       " 'while': 3550,\n",
       " 'excellent': 3535,\n",
       " 'bite': 3497,\n",
       " 'waste': 3484,\n",
       " '&': 3481,\n",
       " 'expect': 3468,\n",
       " 'nice': 3467,\n",
       " 'high': 3462,\n",
       " 'seems': 3460,\n",
       " 'episode': 3446,\n",
       " 'sound': 3432,\n",
       " 'couple': 3425,\n",
       " 'got': 3424,\n",
       " 'later': 3416,\n",
       " 'why': 3415,\n",
       " 'short': 3412,\n",
       " 'war': 3410,\n",
       " 'black': 3408,\n",
       " 'moment': 3395,\n",
       " 'instead': 3383,\n",
       " \"can't\": 3375,\n",
       " 'poor': 3368,\n",
       " 'wife': 3359,\n",
       " 'remember': 3354,\n",
       " 'problem': 3351,\n",
       " 'rest': 3348,\n",
       " 'truly': 3347,\n",
       " 'effect': 3342,\n",
       " 'half': 3316,\n",
       " 'along': 3314,\n",
       " 'us': 3304,\n",
       " 'mind': 3302,\n",
       " 'ive': 3300,\n",
       " 'actors': 3257,\n",
       " 'piece': 3248,\n",
       " 'years': 3248,\n",
       " 'between': 3226,\n",
       " 'classic': 3224,\n",
       " 'else': 3198,\n",
       " 'face': 3191,\n",
       " 'child': 3190,\n",
       " 'production': 3183,\n",
       " 'death': 3182,\n",
       " 'before': 3170,\n",
       " 'night': 3167,\n",
       " 'isnt': 3153,\n",
       " 'bring': 3141,\n",
       " 'human': 3103,\n",
       " 'gets': 3102,\n",
       " 'own': 3101,\n",
       " 'boy': 3099,\n",
       " 'next': 3084,\n",
       " 'men': 3075,\n",
       " 'full': 3055,\n",
       " 'home': 3041,\n",
       " 'camera': 3039,\n",
       " 'thought': 3035,\n",
       " 'head': 3028,\n",
       " \"I've\": 3025,\n",
       " 'father': 2997,\n",
       " 'things': 2991,\n",
       " 'it,': 2984,\n",
       " 'sort': 2979,\n",
       " 'care': 2970,\n",
       " 'here': 2959,\n",
       " \"isn't\": 2957,\n",
       " 'move': 2953,\n",
       " 'early': 2911,\n",
       " 'small': 2901,\n",
       " 'hope': 2899,\n",
       " 'stupid': 2899,\n",
       " 'fight': 2897,\n",
       " 'video': 2896,\n",
       " 'definitely': 2888,\n",
       " 'either': 2887,\n",
       " 'down': 2887,\n",
       " 'absolutely': 2877,\n",
       " 'school': 2875,\n",
       " 'tv': 2871,\n",
       " 'house': 2870,\n",
       " 'often': 2867,\n",
       " 'top': 2864,\n",
       " 'person': 2863,\n",
       " 'attempt': 2862,\n",
       " 'hour': 2860,\n",
       " 'entire': 2838,\n",
       " 'lack': 2836,\n",
       " 'certainly': 2826,\n",
       " 'wonderful': 2821,\n",
       " 'viewer': 2815,\n",
       " 'both': 2810,\n",
       " 'felt': 2809,\n",
       " 'title': 2805,\n",
       " 'view': 2799,\n",
       " 'sex': 2796,\n",
       " 'budget': 2777,\n",
       " 'They': 2750,\n",
       " 'bit': 2748,\n",
       " 'hear': 2741,\n",
       " 'several': 2740,\n",
       " 'change': 2729,\n",
       " 'talk': 2722,\n",
       " 'fall': 2718,\n",
       " 'wrong': 2711,\n",
       " 'picture': 2710,\n",
       " 'perfect': 2704,\n",
       " 'follow': 2690,\n",
       " 'totally': 2667,\n",
       " 'terrible': 2666,\n",
       " 'guess': 2652,\n",
       " 'dialogue': 2650,\n",
       " 'others': 2637,\n",
       " 'dvd': 2629,\n",
       " 'am': 2605,\n",
       " 'bore': 2602,\n",
       " 'dead': 2597,\n",
       " 'game': 2583,\n",
       " 'open': 2579,\n",
       " 'perhaps': 2578,\n",
       " 'save': 2571,\n",
       " 'finally': 2571,\n",
       " 'As': 2569,\n",
       " 'able': 2564,\n",
       " 'awful': 2563,\n",
       " 'style': 2550,\n",
       " 'mother': 2530,\n",
       " 'case': 2530,\n",
       " 'found': 2517,\n",
       " 'american': 2511,\n",
       " 'wonder': 2498,\n",
       " 'final': 2494,\n",
       " 'word': 2480,\n",
       " 'miss': 2472,\n",
       " 'already': 2469,\n",
       " 'low': 2454,\n",
       " 'add': 2452,\n",
       " 'appear': 2448,\n",
       " 'favorite': 2446,\n",
       " 'song': 2442,\n",
       " 'quality': 2429,\n",
       " \"that's\": 2428,\n",
       " 'comes': 2416,\n",
       " 'surprise': 2411,\n",
       " 'feature': 2387,\n",
       " 'making': 2378,\n",
       " 'meet': 2370,\n",
       " 'direct': 2370,\n",
       " 'lose': 2370,\n",
       " 'trying': 2368,\n",
       " 'release': 2356,\n",
       " '\"The': 2355,\n",
       " 'hand': 2355,\n",
       " 'each': 2354,\n",
       " 'now': 2353,\n",
       " 'done': 2329,\n",
       " 'interesting': 2328,\n",
       " 'What': 2323,\n",
       " 'You': 2315,\n",
       " 'worse': 2311,\n",
       " 'eye': 2305,\n",
       " 'car': 2299,\n",
       " 'matter': 2294,\n",
       " 'stop': 2294,\n",
       " 'murder': 2293,\n",
       " 'side': 2284,\n",
       " 'She': 2281,\n",
       " 'our': 2279,\n",
       " 'experience': 2273,\n",
       " 'include': 2261,\n",
       " 'fine': 2260,\n",
       " 'looks': 2258,\n",
       " 'direction': 2246,\n",
       " 'review': 2244,\n",
       " 'example': 2243,\n",
       " 'group': 2241,\n",
       " 'drama': 2240,\n",
       " 'throughout': 2239,\n",
       " 'goes': 2236,\n",
       " 'flick': 2227,\n",
       " 'mention': 2226,\n",
       " 'played': 2224,\n",
       " \"he's\": 2218,\n",
       " 'close': 2213,\n",
       " 'humor': 2212,\n",
       " '/>This': 2211,\n",
       " 'sit': 2209,\n",
       " 'cinema': 2206,\n",
       " 'wasnt': 2198,\n",
       " 'type': 2192,\n",
       " 'behind': 2191,\n",
       " 'despite': 2184,\n",
       " \"wasn't\": 2181,\n",
       " 'sequence': 2181,\n",
       " 'killer': 2175,\n",
       " 'actress': 2170,\n",
       " 'create': 2166,\n",
       " 'dark': 2164,\n",
       " 'having': 2160,\n",
       " 'decide': 2159,\n",
       " 'evil': 2146,\n",
       " 'plays': 2130,\n",
       " 'white': 2128,\n",
       " 'cut': 2124,\n",
       " 'hit': 2124,\n",
       " 'art': 2123,\n",
       " 'takes': 2118,\n",
       " 'son': 2113,\n",
       " 'relationship': 2109,\n",
       " 'When': 2105,\n",
       " 'wish': 2101,\n",
       " 'suppose': 2101,\n",
       " 'watched': 2100,\n",
       " 'number': 2093,\n",
       " 'light': 2088,\n",
       " 'obviously': 2086,\n",
       " 'decent': 2079,\n",
       " 'buy': 2077,\n",
       " 'extremely': 2076,\n",
       " 'voice': 2076,\n",
       " 'deal': 2075,\n",
       " 'complete': 2070,\n",
       " 'late': 2063,\n",
       " 'comment': 2060,\n",
       " 'minutes': 2059,\n",
       " 'horrible': 2055,\n",
       " 'past': 2052,\n",
       " 'looking': 2049,\n",
       " 'highly': 2040,\n",
       " 'learn': 2038,\n",
       " 'town': 2031,\n",
       " 'overall': 2028,\n",
       " 'stuff': 2025,\n",
       " 'die': 2009,\n",
       " 'stand': 2008,\n",
       " 'TV': 2006,\n",
       " 'john': 2006,\n",
       " 'history': 2005,\n",
       " 'brilliant': 2001,\n",
       " 'brother': 1996,\n",
       " 'entertain': 1994,\n",
       " 'heart': 1992,\n",
       " 'shows': 1983,\n",
       " 'soon': 1974,\n",
       " 'score': 1972,\n",
       " 'spend': 1971,\n",
       " 'le': 1971,\n",
       " 'sometimes': 1962,\n",
       " 'involve': 1953,\n",
       " 'order': 1948,\n",
       " 'joke': 1947,\n",
       " 'times': 1943,\n",
       " 'particularly': 1938,\n",
       " 'age': 1935,\n",
       " 'ask': 1912,\n",
       " 'time.': 1910,\n",
       " 'during': 1908,\n",
       " 'consider': 1907,\n",
       " 'writer': 1906,\n",
       " 'chance': 1905,\n",
       " 'except': 1904,\n",
       " 'youre': 1897,\n",
       " 'forget': 1894,\n",
       " 'across': 1892,\n",
       " 'exactly': 1885,\n",
       " 'daughter': 1880,\n",
       " 'left': 1879,\n",
       " 'obvious': 1874,\n",
       " 'John': 1866,\n",
       " 'hero': 1862,\n",
       " 'strong': 1857,\n",
       " 'stay': 1855,\n",
       " 'body': 1846,\n",
       " 'whose': 1846,\n",
       " \"there's\": 1845,\n",
       " 'rent': 1843,\n",
       " 'genre': 1839,\n",
       " 'serious': 1829,\n",
       " 'force': 1827,\n",
       " 'hold': 1827,\n",
       " 'female': 1824,\n",
       " 'talent': 1824,\n",
       " 'police': 1815,\n",
       " 'huge': 1814,\n",
       " 'wait': 1811,\n",
       " 'American': 1809,\n",
       " 'usually': 1795,\n",
       " 'local': 1794,\n",
       " 'seeing': 1788,\n",
       " 'realize': 1783,\n",
       " 'major': 1780,\n",
       " 'somewhat': 1778,\n",
       " 'break': 1766,\n",
       " 'theme': 1764,\n",
       " \"you're\": 1756,\n",
       " 'hollywood': 1754,\n",
       " 'pay': 1748,\n",
       " 'simple': 1739,\n",
       " 'used': 1735,\n",
       " 'power': 1734,\n",
       " 'level': 1726,\n",
       " 'Not': 1721,\n",
       " 'dance': 1720,\n",
       " 'slow': 1719,\n",
       " 'again': 1713,\n",
       " 'speak': 1713,\n",
       " 'beyond': 1710,\n",
       " 'hell': 1710,\n",
       " 'One': 1707,\n",
       " 'For': 1700,\n",
       " 'documentary': 1698,\n",
       " 'due': 1692,\n",
       " 'important': 1692,\n",
       " 'base': 1691,\n",
       " 'mostly': 1688,\n",
       " 'question': 1688,\n",
       " 'single': 1685,\n",
       " 'musical': 1684,\n",
       " 'figure': 1677,\n",
       " 'city': 1675,\n",
       " 'today': 1673,\n",
       " '--': 1672,\n",
       " 'hilarious': 1672,\n",
       " 'walk': 1668,\n",
       " 'cool': 1661,\n",
       " 'reality': 1652,\n",
       " 'until': 1651,\n",
       " 'given': 1647,\n",
       " 'twist': 1647,\n",
       " 'situation': 1647,\n",
       " 'career': 1647,\n",
       " 'throw': 1644,\n",
       " 'clearly': 1641,\n",
       " 'mr': 1641,\n",
       " 'So': 1640,\n",
       " 'present': 1637,\n",
       " 'oh': 1636,\n",
       " 'upon': 1631,\n",
       " 'credit': 1629,\n",
       " 'sad': 1628,\n",
       " 'husband': 1627,\n",
       " 'violence': 1626,\n",
       " 'monster': 1623,\n",
       " 'less': 1621,\n",
       " 'country': 1619,\n",
       " 'novel': 1617,\n",
       " 'unfortunately': 1607,\n",
       " 'usual': 1606,\n",
       " 'four': 1602,\n",
       " 'came': 1601,\n",
       " 'effort': 1598,\n",
       " 'blood': 1598,\n",
       " 'fail': 1597,\n",
       " 'none': 1597,\n",
       " 'DVD': 1596,\n",
       " 'please': 1595,\n",
       " 'comic': 1589,\n",
       " 'We': 1582,\n",
       " 'ending': 1579,\n",
       " 'strange': 1575,\n",
       " 'modern': 1575,\n",
       " 'cinematography': 1572,\n",
       " 'possible': 1569,\n",
       " 'rat': 1568,\n",
       " 'hate': 1565,\n",
       " 'once': 1562,\n",
       " 'cheap': 1559,\n",
       " 'That': 1558,\n",
       " 'gives': 1557,\n",
       " 'subject': 1557,\n",
       " 'silly': 1552,\n",
       " 'yes': 1551,\n",
       " 'getting': 1550,\n",
       " 'easily': 1547,\n",
       " 'attention': 1546,\n",
       " 'team': 1545,\n",
       " 'basically': 1544,\n",
       " 'said': 1543,\n",
       " 'manage': 1543,\n",
       " 'catch': 1543,\n",
       " 'couldnt': 1543,\n",
       " 'similar': 1542,\n",
       " 'dialog': 1540,\n",
       " 'crap': 1539,\n",
       " 'certain': 1539,\n",
       " 'room': 1539,\n",
       " 'alone': 1532,\n",
       " 'shot': 1531,\n",
       " 'return': 1528,\n",
       " 'whether': 1528,\n",
       " 'My': 1523,\n",
       " 'himself': 1521,\n",
       " 'happy': 1519,\n",
       " 'support': 1513,\n",
       " 'gore': 1511,\n",
       " 'bunch': 1509,\n",
       " 'All': 1509,\n",
       " '(and': 1508,\n",
       " 'ridiculous': 1501,\n",
       " 'within': 1494,\n",
       " 'romantic': 1493,\n",
       " 'supposed': 1491,\n",
       " 'theater': 1491,\n",
       " 'message': 1489,\n",
       " 'touch': 1489,\n",
       " 'near': 1487,\n",
       " 'apparently': 1486,\n",
       " 'clear': 1486,\n",
       " 'playing': 1486,\n",
       " 'television': 1480,\n",
       " 'sister': 1476,\n",
       " 'portray': 1475,\n",
       " 'result': 1475,\n",
       " 'sequel': 1471,\n",
       " 'among': 1471,\n",
       " 'deserve': 1471,\n",
       " 'all,': 1470,\n",
       " 'typical': 1469,\n",
       " 'actual': 1467,\n",
       " 'disappoint': 1466,\n",
       " 'ten': 1464,\n",
       " 'doubt': 1460,\n",
       " 'effects': 1459,\n",
       " 'check': 1458,\n",
       " 'opinion': 1453,\n",
       " 'nearly': 1450,\n",
       " 'pick': 1449,\n",
       " 'form': 1449,\n",
       " 'However,': 1449,\n",
       " 'middle': 1447,\n",
       " 'greatest': 1439,\n",
       " 'liked': 1437,\n",
       " \"couldn't\": 1435,\n",
       " 'wont': 1435,\n",
       " 'cop': 1435,\n",
       " 'seriously': 1433,\n",
       " 'five': 1428,\n",
       " 'ago': 1428,\n",
       " 'amaze': 1425,\n",
       " 'tale': 1423,\n",
       " 'build': 1418,\n",
       " 'soundtrack': 1415,\n",
       " 'went': 1414,\n",
       " 'doing': 1412,\n",
       " 'against': 1408,\n",
       " 'god': 1404,\n",
       " 'cause': 1403,\n",
       " 'easy': 1402,\n",
       " 'imagine': 1402,\n",
       " 'dog': 1393,\n",
       " 'THE': 1390,\n",
       " 'scary': 1390,\n",
       " 'enjoyable': 1389,\n",
       " 'explain': 1385,\n",
       " 'Even': 1383,\n",
       " 'famous': 1379,\n",
       " 'pace': 1378,\n",
       " '2': 1378,\n",
       " 'Hollywood': 1377,\n",
       " 'state': 1370,\n",
       " 'drive': 1364,\n",
       " 'time,': 1363,\n",
       " 'is,': 1363,\n",
       " 'becomes': 1360,\n",
       " 'youll': 1355,\n",
       " 'event': 1352,\n",
       " '10': 1351,\n",
       " 'focus': 1349,\n",
       " 'seemed': 1346,\n",
       " 'cover': 1345,\n",
       " 'At': 1338,\n",
       " 'future': 1337,\n",
       " 'thriller': 1336,\n",
       " 'copy': 1336,\n",
       " '\\x96': 1336,\n",
       " 'After': 1335,\n",
       " 'provide': 1335,\n",
       " 'His': 1333,\n",
       " 'element': 1332,\n",
       " 'crime': 1330,\n",
       " 'space': 1328,\n",
       " 'value': 1321,\n",
       " 'straight': 1320,\n",
       " 'stick': 1320,\n",
       " 'avoid': 1319,\n",
       " 'class': 1315,\n",
       " '.': 1314,\n",
       " 'predictable': 1311,\n",
       " 'deliver': 1308,\n",
       " 'id': 1308,\n",
       " 'agree': 1307,\n",
       " 'storyline': 1304,\n",
       " 'fit': 1303,\n",
       " 'battle': 1302,\n",
       " 'difficult': 1301,\n",
       " 'escape': 1295,\n",
       " 'note': 1295,\n",
       " 'offer': 1295,\n",
       " 'shes': 1295,\n",
       " 'emotional': 1292,\n",
       " 'robert': 1291,\n",
       " 'drug': 1285,\n",
       " 'kids': 1282,\n",
       " 'wanted': 1281,\n",
       " 'train': 1281,\n",
       " 'dull': 1276,\n",
       " 'somehow': 1272,\n",
       " 'etc': 1271,\n",
       " 'allow': 1269,\n",
       " 'premise': 1268,\n",
       " 'dream': 1266,\n",
       " 'pull': 1266,\n",
       " 'poorly': 1264,\n",
       " 'grow': 1261,\n",
       " 'eventually': 1260,\n",
       " 'previous': 1259,\n",
       " 'lady': 1259,\n",
       " 'performances': 1258,\n",
       " 'that,': 1258,\n",
       " 'sexual': 1258,\n",
       " 'loved': 1254,\n",
       " 'them.': 1251,\n",
       " 'realistic': 1249,\n",
       " 'possibly': 1249,\n",
       " 'entertainment': 1246,\n",
       " 'tries': 1245,\n",
       " 'compare': 1241,\n",
       " 'fantastic': 1238,\n",
       " 'To': 1237,\n",
       " 'sorry': 1235,\n",
       " 'particular': 1235,\n",
       " 'male': 1230,\n",
       " 'women': 1229,\n",
       " 'michael': 1227,\n",
       " 'personal': 1226,\n",
       " 'image': 1224,\n",
       " 'crew': 1222,\n",
       " 'wants': 1220,\n",
       " 'towards': 1220,\n",
       " 'theyre': 1219,\n",
       " 'deep': 1218,\n",
       " 'ill': 1218,\n",
       " 'shock': 1216,\n",
       " 'box': 1212,\n",
       " \"I'd\": 1211,\n",
       " 'win': 1211,\n",
       " 'period': 1209,\n",
       " 'season': 1208,\n",
       " 'average': 1208,\n",
       " 'called': 1203,\n",
       " 'material': 1203,\n",
       " 'suspense': 1202,\n",
       " 'incredibly': 1202,\n",
       " 'weak': 1202,\n",
       " 'various': 1202,\n",
       " 'gave': 1200,\n",
       " 'animation': 1200,\n",
       " 'western': 1198,\n",
       " 'doctor': 1198,\n",
       " 'air': 1195,\n",
       " 'general': 1193,\n",
       " 'steal': 1192,\n",
       " 'footage': 1191,\n",
       " 'anyway': 1189,\n",
       " 'believable': 1186,\n",
       " 'enjoyed': 1184,\n",
       " 'atmosphere': 1180,\n",
       " 'third': 1179,\n",
       " 'total': 1179,\n",
       " 'admit': 1178,\n",
       " 'appreciate': 1178,\n",
       " 'based': 1177,\n",
       " 'gay': 1171,\n",
       " 'friends': 1169,\n",
       " 'mystery': 1169,\n",
       " 'rock': 1168,\n",
       " 'fairly': 1167,\n",
       " 'member': 1167,\n",
       " 'fast': 1164,\n",
       " 'story,': 1164,\n",
       " 'aspect': 1163,\n",
       " 'starts': 1161,\n",
       " 'New': 1158,\n",
       " 'one.': 1158,\n",
       " '(the': 1158,\n",
       " 'gun': 1156,\n",
       " 'memorable': 1152,\n",
       " 'annoy': 1152,\n",
       " 'front': 1150,\n",
       " 'turns': 1149,\n",
       " 'under': 1148,\n",
       " 'inside': 1147,\n",
       " 'remake': 1147,\n",
       " 'forward': 1144,\n",
       " 'producer': 1144,\n",
       " 'this.': 1143,\n",
       " \"won't\": 1142,\n",
       " 'villain': 1140,\n",
       " 'perfectly': 1140,\n",
       " 'water': 1138,\n",
       " 'background': 1138,\n",
       " 'While': 1137,\n",
       " 'plenty': 1136,\n",
       " 'sing': 1135,\n",
       " 'detail': 1133,\n",
       " 'fire': 1132,\n",
       " 'plan': 1128,\n",
       " 'older': 1126,\n",
       " 'amount': 1123,\n",
       " 'quickly': 1123,\n",
       " 'edit': 1121,\n",
       " 'adult': 1120,\n",
       " 'him.': 1119,\n",
       " 'filmmaker': 1118,\n",
       " 'me.': 1117,\n",
       " 'cheesy': 1117,\n",
       " 'badly': 1116,\n",
       " 'shame': 1116,\n",
       " 'discover': 1116,\n",
       " 'written': 1115,\n",
       " 'moments': 1115,\n",
       " 'unless': 1115,\n",
       " 'unique': 1115,\n",
       " 'zombie': 1114,\n",
       " 'street': 1113,\n",
       " 'trouble': 1111,\n",
       " 'cartoon': 1110,\n",
       " 'lost': 1109,\n",
       " 'carry': 1109,\n",
       " 'political': 1108,\n",
       " 'lame': 1108,\n",
       " 'stage': 1108,\n",
       " 'plain': 1106,\n",
       " 'remain': 1105,\n",
       " 'truth': 1104,\n",
       " 'nature': 1103,\n",
       " 'capture': 1101,\n",
       " 'beauty': 1097,\n",
       " 'Michael': 1097,\n",
       " 'lines': 1095,\n",
       " 'convince': 1095,\n",
       " 'whatever': 1093,\n",
       " 'romance': 1092,\n",
       " 'powerful': 1089,\n",
       " 'dramatic': 1088,\n",
       " 'match': 1087,\n",
       " 'took': 1086,\n",
       " 'superb': 1086,\n",
       " 'alien': 1085,\n",
       " 'free': 1085,\n",
       " 'chase': 1085,\n",
       " 'weird': 1084,\n",
       " 'ok': 1081,\n",
       " 'this,': 1078,\n",
       " 'screenplay': 1077,\n",
       " 'cannot': 1075,\n",
       " \"she's\": 1075,\n",
       " 'produce': 1074,\n",
       " 'bother': 1073,\n",
       " 'notice': 1071,\n",
       " 'rich': 1070,\n",
       " 'earth': 1070,\n",
       " 'Of': 1070,\n",
       " 'list': 1068,\n",
       " 'standard': 1067,\n",
       " 'No': 1066,\n",
       " 'hardly': 1065,\n",
       " 'outside': 1064,\n",
       " \"you'll\": 1062,\n",
       " 'story.': 1061,\n",
       " 'charm': 1061,\n",
       " 'stars': 1059,\n",
       " 'earlier': 1058,\n",
       " 'hot': 1058,\n",
       " 'well.': 1057,\n",
       " 'good.': 1056,\n",
       " 'party': 1056,\n",
       " 'choice': 1056,\n",
       " 'emotion': 1055,\n",
       " 'large': 1054,\n",
       " 'society': 1054,\n",
       " 'jam': 1053,\n",
       " 'mess': 1052,\n",
       " 'wouldnt': 1050,\n",
       " ...}"
      ]
     },
     "execution_count": 75,
     "metadata": {},
     "output_type": "execute_result"
    }
   ],
   "source": [
    "from collections import Counter\n",
    "word_counts = Counter(words)\n",
    "print(word_counts.most_common(3))\n",
    "v_s = sorted(word_counts.items(), key=lambda x: x[1],  reverse=True)\n",
    "str2idx = {key:val for key,val in v_s}\n",
    "idx2str = {val:key for key,val in v_s}\n",
    "str2idx"
   ]
  },
  {
   "cell_type": "markdown",
   "metadata": {
    "id": "NQr8et5yjIk3"
   },
   "source": [
    "## Binarization/vecotrization\n",
    "\n",
    "We can use any given vocab dict to binarize text and come back. This maps exactly to keras texts_to_sequences"
   ]
  },
  {
   "cell_type": "code",
   "execution_count": 76,
   "metadata": {
    "colab": {
     "base_uri": "https://localhost:8080/",
     "height": 33
    },
    "id": "Us9oFLuy4riA",
    "outputId": "f0530c23-8d25-4c61-c8b5-1b7e88fe3e98"
   },
   "outputs": [
    {
     "data": {
      "text/plain": [
       "[1110, 80866]"
      ]
     },
     "execution_count": 76,
     "metadata": {},
     "output_type": "execute_result"
    }
   ],
   "source": [
    "s = 'cartoon movie'\n",
    "l = [str2idx[w] for w in s.split()]\n",
    "l"
   ]
  },
  {
   "cell_type": "markdown",
   "metadata": {
    "id": "OO6ewSj75_A-"
   },
   "source": [
    "For a full corpus (list of docs) like texts_to_sequences:"
   ]
  },
  {
   "cell_type": "code",
   "execution_count": 77,
   "metadata": {
    "colab": {
     "base_uri": "https://localhost:8080/",
     "height": 33
    },
    "id": "-XLzG0Xu6DxE",
    "outputId": "4a34aef4-388b-470e-866d-431a08141152"
   },
   "outputs": [
    {
     "data": {
      "text/plain": [
       "[[1110, 80866, 15409], [83, 5744]]"
      ]
     },
     "execution_count": 77,
     "metadata": {},
     "output_type": "execute_result"
    }
   ],
   "source": [
    "docs = ['cartoon movie show', 'hello world']\n",
    "l = [[str2idx[w] for w in s.split()] for s in docs]\n",
    "l"
   ]
  },
  {
   "cell_type": "markdown",
   "metadata": {
    "id": "HIhPiwHW6oYR"
   },
   "source": [
    "To reverse back, we use the reverse mapping:"
   ]
  },
  {
   "cell_type": "code",
   "execution_count": 78,
   "metadata": {
    "colab": {
     "base_uri": "https://localhost:8080/",
     "height": 33
    },
    "id": "5IvQV-JI6sCf",
    "outputId": "adff90c6-21f4-4a7a-b44c-c667e4f07785"
   },
   "outputs": [
    {
     "data": {
      "text/plain": [
       "['cartoon movie show', 'moses world']"
      ]
     },
     "execution_count": 78,
     "metadata": {},
     "output_type": "execute_result"
    }
   ],
   "source": [
    "\n",
    "s = [' '.join([idx2str[i] for i in d]) for d in l]\n",
    "s"
   ]
  },
  {
   "cell_type": "markdown",
   "metadata": {
    "id": "nE26imn7uRcS"
   },
   "source": [
    "## Keras Tokenizer\n",
    "\n",
    "The keras tokenizer can be used to convert a sequence of words into integers. \n",
    "\n",
    "It builds an internal vocab, called `word_index`.\n",
    "\n"
   ]
  },
  {
   "cell_type": "markdown",
   "metadata": {
    "id": "9Vqz-oMGuphj"
   },
   "source": [
    "To use a tokenizer, you must first `fit` it to the texts. It learns some stats about the text this way.\n",
    "\n",
    "__It's advised to fit the tokenizer on all the data (train+test) to avoid OOV__\n",
    "\n",
    "This is not \"cheating\" and not leading to overfitting, as we don't use the test labels, but only the raw text features (unsupervised)"
   ]
  },
  {
   "cell_type": "code",
   "execution_count": 79,
   "metadata": {
    "colab": {
     "base_uri": "https://localhost:8080/",
     "height": 204
    },
    "id": "phuue1FpvGR3",
    "outputId": "9a1f2c3b-6213-4b89-9783-84ee8aab43f0",
    "scrolled": true
   },
   "outputs": [
    {
     "data": {
      "text/plain": [
       "[\"Story of a man who has unnatural feelings for a pig. Starts out with a opening scene that is a terrific example of absurd comedy. A formal orchestra audience is turned into an insane, violent mob by the crazy chantings of it's singers. Unfortunately it stays absurd the WHOLE time with no general narrative eventually making it just too off putting. Even those from the era should be turned off. The cryptic dialogue would make Shakespeare seem easy to a third grader. On a technical level it's better than you might think with some good cinematography by future great Vilmos Zsigmond. Future stars Sally Kirkland and Frederic Forrest can be seen briefly.\",\n",
       " \"Airport '77 starts as a brand new luxury 747 plane is loaded up with valuable paintings & such belonging to rich businessman Philip Stevens (James Stewart) who is flying them & a bunch of VIP's to his estate in preparation of it being opened to the public as a museum, also on board is Stevens daughter Julie (Kathleen Quinlan) & her son. The luxury jetliner takes off as planned but mid-air the plane is hi-jacked by the co-pilot Chambers (Robert Foxworth) & his two accomplice's Banker (Monte Markham) & Wilson (Michael Pataki) who knock the passengers & crew out with sleeping gas, they plan to steal the valuable cargo & land on a disused plane strip on an isolated island but while making his descent Chambers almost hits an oil rig in the Ocean & loses control of the plane sending it crashing into the sea where it sinks to the bottom right bang in the middle of the Bermuda Triangle. With air in short supply, water leaking in & having flown over 200 miles off course the problems mount for the survivor's as they await help with time fast running out...<br /><br />Also known under the slightly different tile Airport 1977 this second sequel to the smash-hit disaster thriller Airport (1970) was directed by Jerry Jameson & while once again like it's predecessors I can't say Airport '77 is any sort of forgotten classic it is entertaining although not necessarily for the right reasons. Out of the three Airport films I have seen so far I actually liked this one the best, just. It has my favourite plot of the three with a nice mid-air hi-jacking & then the crashing (didn't he see the oil rig?) & sinking of the 747 (maybe the makers were trying to cross the original Airport with another popular disaster flick of the period The Poseidon Adventure (1972)) & submerged is where it stays until the end with a stark dilemma facing those trapped inside, either suffocate when the air runs out or drown as the 747 floods or if any of the doors are opened & it's a decent idea that could have made for a great little disaster flick but bad unsympathetic character's, dull dialogue, lethargic set-pieces & a real lack of danger or suspense or tension means this is a missed opportunity. While the rather sluggish plot keeps one entertained for 108 odd minutes not that much happens after the plane sinks & there's not as much urgency as I thought there should have been. Even when the Navy become involved things don't pick up that much with a few shots of huge ships & helicopters flying about but there's just something lacking here. George Kennedy as the jinxed airline worker Joe Patroni is back but only gets a couple of scenes & barely even says anything preferring to just look worried in the background.<br /><br />The home video & theatrical version of Airport '77 run 108 minutes while the US TV versions add an extra hour of footage including a new opening credits sequence, many more scenes with George Kennedy as Patroni, flashbacks to flesh out character's, longer rescue scenes & the discovery or another couple of dead bodies including the navigator. While I would like to see this extra footage I am not sure I could sit through a near three hour cut of Airport '77. As expected the film has dated badly with horrible fashions & interior design choices, I will say no more other than the toy plane model effects aren't great either. Along with the other two Airport sequels this takes pride of place in the Razzie Award's Hall of Shame although I can think of lots of worse films than this so I reckon that's a little harsh. The action scenes are a little dull unfortunately, the pace is slow & not much excitement or tension is generated which is a shame as I reckon this could have been a pretty good film if made properly.<br /><br />The production values are alright if nothing spectacular. The acting isn't great, two time Oscar winner Jack Lemmon has said since it was a mistake to star in this, one time Oscar winner James Stewart looks old & frail, also one time Oscar winner Lee Grant looks drunk while Sir Christopher Lee is given little to do & there are plenty of other familiar faces to look out for too.<br /><br />Airport '77 is the most disaster orientated of the three Airport films so far & I liked the ideas behind it even if they were a bit silly, the production & bland direction doesn't help though & a film about a sunken plane just shouldn't be this boring or lethargic. Followed by The Concorde ... Airport '79 (1979).\",\n",
       " \"This film lacked something I couldn't put my finger on at first: charisma on the part of the leading actress. This inevitably translated to lack of chemistry when she shared the screen with her leading man. Even the romantic scenes came across as being merely the actors at play. It could very well have been the director who miscalculated what he needed from the actors. I just don't know.<br /><br />But could it have been the screenplay? Just exactly who was the chef in love with? He seemed more enamored of his culinary skills and restaurant, and ultimately of himself and his youthful exploits, than of anybody or anything else. He never convinced me he was in love with the princess.<br /><br />I was disappointed in this movie. But, don't forget it was nominated for an Oscar, so judge for yourself.\",\n",
       " 'Sorry everyone,,, I know this is supposed to be an \"art\" film,, but wow, they should have handed out guns at the screening so people could blow their brains out and not watch. Although the scene design and photographic direction was excellent, this story is too painful to watch. The absence of a sound track was brutal. The loooonnnnng shots were too long. How long can you watch two people just sitting there and talking? Especially when the dialogue is two people complaining. I really had a hard time just getting through this film. The performances were excellent, but how much of that dark, sombre, uninspired, stuff can you take? The only thing i liked was Maureen Stapleton and her red dress and dancing scene. Otherwise this was a ripoff of Bergman. And i\\'m no fan f his either. I think anyone who says they enjoyed 1 1/2 hours of this is,, well, lying.',\n",
       " 'When I was little my parents took me along to the theater to see Interiors. It was one of many movies I watched with my parents, but this was the only one we walked out of. Since then I had never seen Interiors until just recently, and I could have lived out the rest of my life without it. What a pretentious, ponderous, and painfully boring piece of 70\\'s wine and cheese tripe. Woody Allen is one of my favorite directors but Interiors is by far the worst piece of crap of his career. In the unmistakable style of Ingmar Berman, Allen gives us a dark, angular, muted, insight in to the lives of a family wrought by the psychological damage caused by divorce, estrangement, career, love, non-love, halitosis, whatever. The film, intentionally, has no comic relief, no music, and is drenched in shadowy pathos. This film style can be best defined as expressionist in nature, using an improvisational method of dialogue to illicit a \"more pronounced depth of meaning and truth\". But Woody Allen is no Ingmar Bergman. The film is painfully slow and dull. But beyond that, I simply had no connection with or sympathy for any of the characters. Instead I felt only contempt for this parade of shuffling, whining, nicotine stained, martyrs in a perpetual quest for identity. Amid a backdrop of cosmopolitan affluence and baked Brie intelligentsia the story looms like a fart in the room. Everyone speaks in affected platitudes and elevated language between cigarettes. Everyone is \"lost\" and \"struggling\", desperate to find direction or understanding or whatever and it just goes on and on to the point where you just want to slap all of them. It\\'s never about resolution, it\\'s only about interminable introspective babble. It is nothing more than a psychological drama taken to an extreme beyond the audience\\'s ability to connect. Woody Allen chose to make characters so immersed in themselves we feel left out. And for that reason I found this movie painfully self indulgent and spiritually draining. I see what he was going for but his insistence on promoting his message through Prozac prose and distorted film techniques jettisons it past the point of relevance. I highly recommend this one if you\\'re feeling a little too happy and need something to remind you of death. Otherwise, let\\'s just pretend this film never happened.',\n",
       " '\"It appears that many critics find the idea of a Woody Allen drama unpalatable.\" And for good reason: they are unbearably wooden and pretentious imitations of Bergman. And let\\'s not kid ourselves: critics were mostly supportive of Allen\\'s Bergman pretensions, Allen\\'s whining accusations to the contrary notwithstanding. What I don\\'t get is this: why was Allen generally applauded for his originality in imitating Bergman, but the contemporaneous Brian DePalma was excoriated for \"ripping off\" Hitchcock in his suspense/horror films? In Robin Wood\\'s view, it\\'s a strange form of cultural snobbery. I would have to agree with that.',\n",
       " 'The second attempt by a New York intellectual in less than 10 years to make a \"Swedish\" film - the first being Susan Sontag\\'s \"Brother Carl\" (which was made in Sweden, with Swedish actors, no less!) The results? Oscar Wilde said it best, in reference to Dickens\\' \"The Old Curiosity Shop\": \"One would have to have a heart of stone not to laugh out loud at the death of Little Nell.\" Pretty much the same thing here. \"Interiors\" is chock full of solemnly intoned howlers. (\"I\\'m afraid of my anger.\" Looking into the middle distance: \"I don\\'t like who I\\'m becoming.\") The directorial quotations (to use a polite term) from Bergman are close to parody. The incredibly self-involved family keep reminding us of how brilliant and talented they are, to the point of strangulation. (\"I read a poem of yours the other day. It was in - I don\\'t know - The New Yorker.\" \"Oh. That was an old poem. I reworked it.\") Far from not caring about these people, however, I found them quite hilarious. Much of the dialog is exactly like the funny stuff from Allen\\'s earlier films - only he\\'s directed his actors to play the lines straight. Having not cast himself in the movie, he has poor Mary Beth Hurt copy all of his thespian tics, intonations, and neurotic habits, turning her into an embarrassing surrogate (much like Kenneth Branagh in \"Celebrity\").<br /><br />The basic plot - dysfunctional family with quietly domineering mother - seems to be lifted more or less from Bergman\\'s \"Winter Light,\" the basic family melodrama tricked up with a lot of existential angst. It all comes through in the shopworn visual/aural tricks: the deafening scratching of a pencil on paper, the towering surf that dwarfs the people walking on the beach. etc, etc.<br /><br />Allen\\'s later \"serious\" films are less embarrassing, but also far less entertaining. I\\'ll take \"Interiors.\" Woody\\'s rarely made a funnier movie.',\n",
       " \"I don't know who to blame, the timid writers or the clueless director. It seemed to be one of those movies where so much was paid to the stars (Angie, Charlie, Denise, Rosanna and Jon) that there wasn't enough left to really make a movie. This could have been very entertaining, but there was a veil of timidity, even cowardice, that hung over each scene. Since it got an R rating anyway why was the ubiquitous bubble bath scene shot with a 70-year-old woman and not Angie Harmon? Why does Sheen sleepwalk through potentially hot relationships WITH TWO OF THE MOST BEAUTIFUL AND SEXY ACTRESSES in the world? If they were only looking for laughs why not cast Whoopi Goldberg and Judy Tenuta instead? This was so predictable I was surprised to find that the director wasn't a five year old. What a waste, not just for the viewers but for the actors as well.\",\n",
       " 'This film is mediocre at best. Angie Harmon is as funny as a bag of hammers. Her bitchy demeanor from \"Law and Order\" carries over in a failed attempt at comedy. Charlie Sheen is the only one to come out unscathed in this horrible anti-comedy. The only positive thing to come out of this mess is Charlie and Denise\\'s marriage. Hopefully that effort produces better results.',\n",
       " 'The film is bad. There is no other way to say it. The story is weak and outdated, especially for this country. I don\\'t think most people know what a \"walker\" is or will really care. I felt as if I was watching a movie from the 70\\'s. The subject was just not believable for the year 2007, even being set in DC. I think this rang true for everyone else who watched it too as the applause were low and quick at the end. Most didn\\'t stay for the Q&A either.<br /><br />I don\\'t think Schrader really thought the film out ahead of time. Many of the scenes seemed to be cut short as if they were never finished or he just didn\\'t know how to finish them. He jumped from one scene to the next and you had to try and figure out or guess what was going on. I really didn\\'t get Woody\\'s (Carter) private life or boyfriend either. What were all the \"artistic\" male bondage and torture pictures (from Iraq prisons) about? What was he thinking? I think it was his very poor attempt at trying to create this dark private subculture life for Woody\\'s character (Car). It didn\\'t work. It didn\\'t even seem to make sense really.<br /><br />The only good thing about this film was Woody Harrelson. He played his character (Car) flawlessly. You really did get a great sense of what a \"walker\" may have been like (say twenty years ago). He was great and most likely will never get recognized for it. <br /><br />As for Lauren, Lily and Kristin... Boring.<br /><br />Don\\'t see it! It is painful! Unless you are a true Harrelson fan.']"
      ]
     },
     "execution_count": 79,
     "metadata": {},
     "output_type": "execute_result"
    }
   ],
   "source": [
    "from tensorflow.keras.preprocessing.text import Tokenizer\n",
    "\n",
    "texts = trn_texts + tst_texts # This must be list of strings: \n",
    "texts[:10]"
   ]
  },
  {
   "cell_type": "code",
   "execution_count": 80,
   "metadata": {
    "id": "b3osszHXvZCY"
   },
   "outputs": [],
   "source": [
    "tok = Tokenizer()\n",
    "tok.fit_on_texts(texts)"
   ]
  },
  {
   "cell_type": "markdown",
   "metadata": {
    "id": "HM16EzTLuofm"
   },
   "source": []
  },
  {
   "cell_type": "code",
   "execution_count": 81,
   "metadata": {
    "colab": {
     "base_uri": "https://localhost:8080/",
     "height": 1000
    },
    "id": "MxH64l94v-CO",
    "outputId": "19f77288-ffb1-4c25-fa83-9e02e40bf7de",
    "scrolled": true
   },
   "outputs": [
    {
     "data": {
      "text/plain": [
       "{'the': 1,\n",
       " 'and': 2,\n",
       " 'a': 3,\n",
       " 'of': 4,\n",
       " 'to': 5,\n",
       " 'is': 6,\n",
       " 'br': 7,\n",
       " 'in': 8,\n",
       " 'movie': 9,\n",
       " 'film': 10,\n",
       " 'it': 11,\n",
       " 'i': 12,\n",
       " 'this': 13,\n",
       " 'that': 14,\n",
       " 'one': 15,\n",
       " 'was': 16,\n",
       " 'as': 17,\n",
       " 'for': 18,\n",
       " 'with': 19,\n",
       " 'but': 20,\n",
       " 'like': 21,\n",
       " 'on': 22,\n",
       " 'see': 23,\n",
       " 'not': 24,\n",
       " 'you': 25,\n",
       " 'he': 26,\n",
       " 'make': 27,\n",
       " 'are': 28,\n",
       " 'his': 29,\n",
       " 'good': 30,\n",
       " 'time': 31,\n",
       " 'have': 32,\n",
       " 'be': 33,\n",
       " 'get': 34,\n",
       " 'even': 35,\n",
       " 'would': 36,\n",
       " 'all': 37,\n",
       " 'story': 38,\n",
       " 'at': 39,\n",
       " 'really': 40,\n",
       " 'by': 41,\n",
       " 'an': 42,\n",
       " 'who': 43,\n",
       " 'they': 44,\n",
       " 'watch': 45,\n",
       " 'character': 46,\n",
       " 'so': 47,\n",
       " 'from': 48,\n",
       " 'well': 49,\n",
       " 'think': 50,\n",
       " 'much': 51,\n",
       " 'there': 52,\n",
       " 'go': 53,\n",
       " 'her': 54,\n",
       " 'bad': 55,\n",
       " 'great': 56,\n",
       " 'people': 57,\n",
       " 'or': 58,\n",
       " 'also': 59,\n",
       " 'just': 60,\n",
       " 'first': 61,\n",
       " 'about': 62,\n",
       " 'out': 63,\n",
       " \"it's\": 64,\n",
       " 'show': 65,\n",
       " 'has': 66,\n",
       " 'if': 67,\n",
       " 'way': 68,\n",
       " 'scene': 69,\n",
       " 'some': 70,\n",
       " 'know': 71,\n",
       " 'what': 72,\n",
       " 'could': 73,\n",
       " 'love': 74,\n",
       " 'say': 75,\n",
       " 'end': 76,\n",
       " 'more': 77,\n",
       " 'when': 78,\n",
       " 'very': 79,\n",
       " 'life': 80,\n",
       " 'look': 81,\n",
       " 'up': 82,\n",
       " 'many': 83,\n",
       " 'two': 84,\n",
       " 'plot': 85,\n",
       " 'never': 86,\n",
       " 'thing': 87,\n",
       " 'no': 88,\n",
       " 'she': 89,\n",
       " 'best': 90,\n",
       " 'my': 91,\n",
       " 'little': 92,\n",
       " 'do': 93,\n",
       " 'take': 94,\n",
       " 'which': 95,\n",
       " 'find': 96,\n",
       " 'only': 97,\n",
       " 'ever': 98,\n",
       " 'give': 99,\n",
       " 'their': 100,\n",
       " 'better': 101,\n",
       " 'had': 102,\n",
       " 'come': 103,\n",
       " 'can': 104,\n",
       " 'man': 105,\n",
       " 'work': 106,\n",
       " 'still': 107,\n",
       " 'were': 108,\n",
       " 'me': 109,\n",
       " 'play': 110,\n",
       " 'want': 111,\n",
       " 'something': 112,\n",
       " 'than': 113,\n",
       " 'we': 114,\n",
       " 'act': 115,\n",
       " 'back': 116,\n",
       " 'will': 117,\n",
       " 'been': 118,\n",
       " 'real': 119,\n",
       " 'into': 120,\n",
       " 'other': 121,\n",
       " 'seem': 122,\n",
       " 'because': 123,\n",
       " 'part': 124,\n",
       " 'lot': 125,\n",
       " 'how': 126,\n",
       " 'him': 127,\n",
       " 'actor': 128,\n",
       " 'most': 129,\n",
       " 'director': 130,\n",
       " 'though': 131,\n",
       " 'funny': 132,\n",
       " 'another': 133,\n",
       " 'dont': 134,\n",
       " 'actually': 135,\n",
       " \"don't\": 136,\n",
       " 'made': 137,\n",
       " 'nothing': 138,\n",
       " 'old': 139,\n",
       " 'year': 140,\n",
       " 'its': 141,\n",
       " 'then': 142,\n",
       " 'new': 143,\n",
       " 'them': 144,\n",
       " 'try': 145,\n",
       " 'every': 146,\n",
       " 'feel': 147,\n",
       " 'cast': 148,\n",
       " 'too': 149,\n",
       " 'guy': 150,\n",
       " 'any': 151,\n",
       " 'movies': 152,\n",
       " 'after': 153,\n",
       " 'world': 154,\n",
       " 'quite': 155,\n",
       " 'pretty': 156,\n",
       " 'performance': 157,\n",
       " 'role': 158,\n",
       " 'around': 159,\n",
       " 'fact': 160,\n",
       " 'horror': 161,\n",
       " 'characters': 162,\n",
       " 'young': 163,\n",
       " 'point': 164,\n",
       " 'however': 165,\n",
       " 'films': 166,\n",
       " 'enough': 167,\n",
       " 'woman': 168,\n",
       " 'big': 169,\n",
       " 'comedy': 170,\n",
       " 'long': 171,\n",
       " 'seen': 172,\n",
       " 'right': 173,\n",
       " 'being': 174,\n",
       " 'action': 175,\n",
       " 'may': 176,\n",
       " 'acting': 177,\n",
       " 'girl': 178,\n",
       " 'without': 179,\n",
       " 'music': 180,\n",
       " 'series': 181,\n",
       " 'day': 182,\n",
       " 'saw': 183,\n",
       " 'over': 184,\n",
       " 'original': 185,\n",
       " 'where': 186,\n",
       " 'must': 187,\n",
       " 'always': 188,\n",
       " 'did': 189,\n",
       " 'use': 190,\n",
       " 'almost': 191,\n",
       " 'script': 192,\n",
       " 'set': 193,\n",
       " 'whole': 194,\n",
       " 'least': 195,\n",
       " 'off': 196,\n",
       " 'family': 197,\n",
       " 'does': 198,\n",
       " 'far': 199,\n",
       " 'last': 200,\n",
       " 'star': 201,\n",
       " 'tell': 202,\n",
       " 'might': 203,\n",
       " 'here': 204,\n",
       " 'anything': 205,\n",
       " 'since': 206,\n",
       " 'interest': 207,\n",
       " 'your': 208,\n",
       " 'kind': 209,\n",
       " 'start': 210,\n",
       " 'probably': 211,\n",
       " 'tv': 212,\n",
       " 'put': 213,\n",
       " 'away': 214,\n",
       " 'these': 215,\n",
       " 'yet': 216,\n",
       " 'fun': 217,\n",
       " 'while': 218,\n",
       " 'worst': 219,\n",
       " 'why': 220,\n",
       " 'place': 221,\n",
       " 'believe': 222,\n",
       " 'rather': 223,\n",
       " 'sure': 224,\n",
       " 'anyone': 225,\n",
       " 'scenes': 226,\n",
       " 'fan': 227,\n",
       " 'become': 228,\n",
       " 'reason': 229,\n",
       " 'such': 230,\n",
       " 'screen': 231,\n",
       " 'book': 232,\n",
       " 'line': 233,\n",
       " 'mean': 234,\n",
       " 'turn': 235,\n",
       " 'hard': 236,\n",
       " 'need': 237,\n",
       " 'enjoy': 238,\n",
       " 'through': 239,\n",
       " 'should': 240,\n",
       " 'although': 241,\n",
       " 'especially': 242,\n",
       " 'dvd': 243,\n",
       " 'course': 244,\n",
       " 'keep': 245,\n",
       " 'kill': 246,\n",
       " 'everything': 247,\n",
       " 'im': 248,\n",
       " \"i'm\": 249,\n",
       " 'those': 250,\n",
       " 'american': 251,\n",
       " 'audience': 252,\n",
       " 'friend': 253,\n",
       " 'maybe': 254,\n",
       " 'worth': 255,\n",
       " 'different': 256,\n",
       " 'leave': 257,\n",
       " 'idea': 258,\n",
       " 'watching': 259,\n",
       " 'main': 260,\n",
       " 'now': 261,\n",
       " 'job': 262,\n",
       " 'sense': 263,\n",
       " 'happen': 264,\n",
       " 'war': 265,\n",
       " 'three': 266,\n",
       " \"doesn't\": 267,\n",
       " 'someone': 268,\n",
       " 'help': 269,\n",
       " 'years': 270,\n",
       " 'didnt': 271,\n",
       " 'read': 272,\n",
       " 'let': 273,\n",
       " 'write': 274,\n",
       " 'laugh': 275,\n",
       " 'money': 276,\n",
       " 'u': 277,\n",
       " 'true': 278,\n",
       " 'actors': 279,\n",
       " 'together': 280,\n",
       " 'minute': 281,\n",
       " 'shoot': 282,\n",
       " 'name': 283,\n",
       " 'doesnt': 284,\n",
       " '10': 285,\n",
       " 'before': 286,\n",
       " \"didn't\": 287,\n",
       " 'us': 288,\n",
       " 'live': 289,\n",
       " 'instead': 290,\n",
       " 'lead': 291,\n",
       " 'night': 292,\n",
       " 'later': 293,\n",
       " 'everyone': 294,\n",
       " 'version': 295,\n",
       " 'special': 296,\n",
       " 'makes': 297,\n",
       " 'beautiful': 298,\n",
       " 'kid': 299,\n",
       " 'john': 300,\n",
       " 'black': 301,\n",
       " 'going': 302,\n",
       " 'high': 303,\n",
       " 'excellent': 304,\n",
       " 'few': 305,\n",
       " 'mind': 306,\n",
       " 'second': 307,\n",
       " 'same': 308,\n",
       " 'death': 309,\n",
       " 'house': 310,\n",
       " 'again': 311,\n",
       " 'wife': 312,\n",
       " 'episode': 313,\n",
       " 'cant': 314,\n",
       " 'short': 315,\n",
       " 'run': 316,\n",
       " 'thats': 317,\n",
       " 'recommend': 318,\n",
       " 'half': 319,\n",
       " 'simply': 320,\n",
       " 'understand': 321,\n",
       " 'else': 322,\n",
       " 'nice': 323,\n",
       " 'completely': 324,\n",
       " 'poor': 325,\n",
       " 'classic': 326,\n",
       " 'down': 327,\n",
       " 'call': 328,\n",
       " 'face': 329,\n",
       " 'along': 330,\n",
       " 'moment': 331,\n",
       " 'begin': 332,\n",
       " 'home': 333,\n",
       " 'production': 334,\n",
       " 'sound': 335,\n",
       " 'father': 336,\n",
       " 'men': 337,\n",
       " 'child': 338,\n",
       " 'boy': 339,\n",
       " 'things': 340,\n",
       " 'expect': 341,\n",
       " 'problem': 342,\n",
       " 'remember': 343,\n",
       " 'either': 344,\n",
       " 'seems': 345,\n",
       " 'couple': 346,\n",
       " 'waste': 347,\n",
       " 'wrong': 348,\n",
       " 'got': 349,\n",
       " 'effect': 350,\n",
       " 'dead': 351,\n",
       " 'budget': 352,\n",
       " 'bite': 353,\n",
       " 'own': 354,\n",
       " 'camera': 355,\n",
       " \"can't\": 356,\n",
       " 'hollywood': 357,\n",
       " 'top': 358,\n",
       " 'rest': 359,\n",
       " 'head': 360,\n",
       " 'stupid': 361,\n",
       " 'next': 362,\n",
       " 'school': 363,\n",
       " 'piece': 364,\n",
       " 'truly': 365,\n",
       " 'video': 366,\n",
       " 'thought': 367,\n",
       " 'full': 368,\n",
       " \"that's\": 369,\n",
       " 'both': 370,\n",
       " 'human': 371,\n",
       " 'between': 372,\n",
       " 'awful': 373,\n",
       " \"i've\": 374,\n",
       " 'sex': 375,\n",
       " 'ive': 376,\n",
       " 'terrible': 377,\n",
       " 'picture': 378,\n",
       " 'perhaps': 379,\n",
       " 'title': 380,\n",
       " 'times': 381,\n",
       " 'person': 382,\n",
       " 'others': 383,\n",
       " 'care': 384,\n",
       " 'gets': 385,\n",
       " 'wonderful': 386,\n",
       " 'hour': 387,\n",
       " 'bring': 388,\n",
       " \"isn't\": 389,\n",
       " 'dialogue': 390,\n",
       " 'isnt': 391,\n",
       " 'hope': 392,\n",
       " 'perfect': 393,\n",
       " 'style': 394,\n",
       " 'low': 395,\n",
       " 'interesting': 396,\n",
       " 'case': 397,\n",
       " 'view': 398,\n",
       " 'small': 399,\n",
       " 'often': 400,\n",
       " 'sort': 401,\n",
       " 'definitely': 402,\n",
       " 'done': 403,\n",
       " 'fight': 404,\n",
       " \"there's\": 405,\n",
       " 'early': 406,\n",
       " 'mr': 407,\n",
       " 'viewer': 408,\n",
       " 'move': 409,\n",
       " 'mother': 410,\n",
       " 'bit': 411,\n",
       " 'game': 412,\n",
       " 'finally': 413,\n",
       " 'absolutely': 414,\n",
       " 'hand': 415,\n",
       " 'certainly': 416,\n",
       " 'making': 417,\n",
       " 'minutes': 418,\n",
       " 'attempt': 419,\n",
       " 'follow': 420,\n",
       " 'change': 421,\n",
       " 'yes': 422,\n",
       " 'worse': 423,\n",
       " 'talk': 424,\n",
       " 'guess': 425,\n",
       " 'cinema': 426,\n",
       " 'miss': 427,\n",
       " \"he's\": 428,\n",
       " 'lack': 429,\n",
       " 'overall': 430,\n",
       " 'felt': 431,\n",
       " 'drama': 432,\n",
       " 'entire': 433,\n",
       " '2': 434,\n",
       " 'several': 435,\n",
       " 'flick': 436,\n",
       " 'example': 437,\n",
       " 'oh': 438,\n",
       " 'hear': 439,\n",
       " 'fall': 440,\n",
       " 'word': 441,\n",
       " 'am': 442,\n",
       " 'song': 443,\n",
       " 'direction': 444,\n",
       " 'quality': 445,\n",
       " 'totally': 446,\n",
       " 'open': 447,\n",
       " 'white': 448,\n",
       " 'save': 449,\n",
       " 'killer': 450,\n",
       " 'dark': 451,\n",
       " 'side': 452,\n",
       " 'eye': 453,\n",
       " 'humor': 454,\n",
       " 'release': 455,\n",
       " 'surprise': 456,\n",
       " 'murder': 457,\n",
       " 'despite': 458,\n",
       " 'evil': 459,\n",
       " 'final': 460,\n",
       " 'experience': 461,\n",
       " 'throughout': 462,\n",
       " 'already': 463,\n",
       " 'add': 464,\n",
       " 'bore': 465,\n",
       " 'art': 466,\n",
       " 'wonder': 467,\n",
       " 'matter': 468,\n",
       " 'car': 469,\n",
       " 'close': 470,\n",
       " 'son': 471,\n",
       " 'unfortunately': 472,\n",
       " 'found': 473,\n",
       " 'able': 474,\n",
       " 'feature': 475,\n",
       " 'played': 476,\n",
       " 'actress': 477,\n",
       " 'each': 478,\n",
       " 'favorite': 479,\n",
       " 'history': 480,\n",
       " 'heart': 481,\n",
       " 'having': 482,\n",
       " 'stop': 483,\n",
       " 'fine': 484,\n",
       " 'michael': 485,\n",
       " 'horrible': 486,\n",
       " 'our': 487,\n",
       " 'review': 488,\n",
       " 'appear': 489,\n",
       " 'comes': 490,\n",
       " 'looking': 491,\n",
       " 'meet': 492,\n",
       " 'trying': 493,\n",
       " 'stuff': 494,\n",
       " 'direct': 495,\n",
       " 'town': 496,\n",
       " 'die': 497,\n",
       " 'genre': 498,\n",
       " 'goes': 499,\n",
       " 'writer': 500,\n",
       " 'age': 501,\n",
       " 'lose': 502,\n",
       " 'type': 503,\n",
       " 'past': 504,\n",
       " 'light': 505,\n",
       " 'cut': 506,\n",
       " 'voice': 507,\n",
       " 'looks': 508,\n",
       " 'hit': 509,\n",
       " 'sequence': 510,\n",
       " 'brother': 511,\n",
       " 'brilliant': 512,\n",
       " 'behind': 513,\n",
       " 'group': 514,\n",
       " 'city': 515,\n",
       " 'etc': 516,\n",
       " 'ending': 517,\n",
       " 'once': 518,\n",
       " 'obviously': 519,\n",
       " 'soon': 520,\n",
       " 'late': 521,\n",
       " \"wasn't\": 522,\n",
       " 'sometimes': 523,\n",
       " 'shows': 524,\n",
       " 'god': 525,\n",
       " 'score': 526,\n",
       " 'mention': 527,\n",
       " 'include': 528,\n",
       " 'daughter': 529,\n",
       " 'hero': 530,\n",
       " 'relationship': 531,\n",
       " 'today': 532,\n",
       " 'sit': 533,\n",
       " 'decent': 534,\n",
       " 'highly': 535,\n",
       " 'watched': 536,\n",
       " 'robert': 537,\n",
       " 'joke': 538,\n",
       " 'plays': 539,\n",
       " 'number': 540,\n",
       " 'wish': 541,\n",
       " 'anyway': 542,\n",
       " 'chance': 543,\n",
       " 'please': 544,\n",
       " 'wasnt': 545,\n",
       " '1': 546,\n",
       " 'deal': 547,\n",
       " 'said': 548,\n",
       " 'effects': 549,\n",
       " 'create': 550,\n",
       " 'comment': 551,\n",
       " 'takes': 552,\n",
       " 'except': 553,\n",
       " 'buy': 554,\n",
       " 'decide': 555,\n",
       " 'stand': 556,\n",
       " 'blood': 557,\n",
       " 'complete': 558,\n",
       " 'suppose': 559,\n",
       " 'himself': 560,\n",
       " 'talent': 561,\n",
       " 'hell': 562,\n",
       " 'during': 563,\n",
       " 'extremely': 564,\n",
       " 'power': 565,\n",
       " 'slow': 566,\n",
       " 'left': 567,\n",
       " 'body': 568,\n",
       " 'police': 569,\n",
       " 'order': 570,\n",
       " 'seeing': 571,\n",
       " 'level': 572,\n",
       " 'strong': 573,\n",
       " 'violence': 574,\n",
       " 'learn': 575,\n",
       " 'hilarious': 576,\n",
       " 'forget': 577,\n",
       " 'le': 578,\n",
       " 'ok': 579,\n",
       " 'particularly': 580,\n",
       " 'career': 581,\n",
       " 'shot': 582,\n",
       " 'ask': 583,\n",
       " 'cool': 584,\n",
       " 'crap': 585,\n",
       " 'obvious': 586,\n",
       " 'simple': 587,\n",
       " 'wait': 588,\n",
       " 'entertain': 589,\n",
       " 'serious': 590,\n",
       " 'reality': 591,\n",
       " 'force': 592,\n",
       " 'david': 593,\n",
       " 'ago': 594,\n",
       " 'rent': 595,\n",
       " 'less': 596,\n",
       " 'documentary': 597,\n",
       " 'spend': 598,\n",
       " 'seriously': 599,\n",
       " 'stay': 600,\n",
       " 'across': 601,\n",
       " 'country': 602,\n",
       " 'theme': 603,\n",
       " 'opinion': 604,\n",
       " 'consider': 605,\n",
       " 'exactly': 606,\n",
       " 'english': 607,\n",
       " 'gore': 608,\n",
       " 'possible': 609,\n",
       " 'none': 610,\n",
       " 'alone': 611,\n",
       " 'involve': 612,\n",
       " 'novel': 613,\n",
       " 'dance': 614,\n",
       " 'usually': 615,\n",
       " 'sad': 616,\n",
       " 'break': 617,\n",
       " 'husband': 618,\n",
       " \"you're\": 619,\n",
       " 'female': 620,\n",
       " 'b': 621,\n",
       " 'cinematography': 622,\n",
       " 'huge': 623,\n",
       " 'whose': 624,\n",
       " 'youre': 625,\n",
       " 'question': 626,\n",
       " 'room': 627,\n",
       " '3': 628,\n",
       " 'major': 629,\n",
       " 'used': 630,\n",
       " 'ridiculous': 631,\n",
       " 'situation': 632,\n",
       " 'musical': 633,\n",
       " 'hold': 634,\n",
       " 'monster': 635,\n",
       " 'important': 636,\n",
       " 'given': 637,\n",
       " 'usual': 638,\n",
       " 'twist': 639,\n",
       " 'beyond': 640,\n",
       " 'mostly': 641,\n",
       " 'somewhat': 642,\n",
       " 'silly': 643,\n",
       " 'pay': 644,\n",
       " 'effort': 645,\n",
       " 'speak': 646,\n",
       " 'performances': 647,\n",
       " 'four': 648,\n",
       " 'local': 649,\n",
       " 'happy': 650,\n",
       " 'scary': 651,\n",
       " 'boring': 652,\n",
       " 'figure': 653,\n",
       " 'apparently': 654,\n",
       " 'sequel': 655,\n",
       " 'team': 656,\n",
       " 'attention': 657,\n",
       " 'realize': 658,\n",
       " 'strange': 659,\n",
       " 'kids': 660,\n",
       " 'theater': 661,\n",
       " 'present': 662,\n",
       " 'basically': 663,\n",
       " 'sister': 664,\n",
       " 'jack': 665,\n",
       " 'dialog': 666,\n",
       " 'upon': 667,\n",
       " 'due': 668,\n",
       " 'walk': 669,\n",
       " 'television': 670,\n",
       " 'until': 671,\n",
       " 'thriller': 672,\n",
       " 'friends': 673,\n",
       " 'credit': 674,\n",
       " 'cheap': 675,\n",
       " 'single': 676,\n",
       " 'clearly': 677,\n",
       " 'return': 678,\n",
       " 'base': 679,\n",
       " 'modern': 680,\n",
       " 'comic': 681,\n",
       " 'women': 682,\n",
       " 'middle': 683,\n",
       " 'check': 684,\n",
       " 'dog': 685,\n",
       " 'message': 686,\n",
       " 'throw': 687,\n",
       " 'hate': 688,\n",
       " 'subject': 689,\n",
       " 'british': 690,\n",
       " 'earth': 691,\n",
       " 'lady': 692,\n",
       " 'stars': 693,\n",
       " 'ten': 694,\n",
       " 'class': 695,\n",
       " 'french': 696,\n",
       " 'avoid': 697,\n",
       " 'predictable': 698,\n",
       " 'space': 699,\n",
       " 'came': 700,\n",
       " 'whether': 701,\n",
       " 'soundtrack': 702,\n",
       " 'five': 703,\n",
       " 'rock': 704,\n",
       " 'tale': 705,\n",
       " 'note': 706,\n",
       " 'moments': 707,\n",
       " 'entertainment': 708,\n",
       " 'future': 709,\n",
       " 'george': 710,\n",
       " 'fail': 711,\n",
       " 'easily': 712,\n",
       " 'king': 713,\n",
       " 'form': 714,\n",
       " 'enjoyable': 715,\n",
       " 'cop': 716,\n",
       " 'clear': 717,\n",
       " 'playing': 718,\n",
       " 'similar': 719,\n",
       " 'getting': 720,\n",
       " 'romantic': 721,\n",
       " 'touch': 722,\n",
       " 'result': 723,\n",
       " 'rat': 724,\n",
       " 'written': 725,\n",
       " 'within': 726,\n",
       " 'doing': 727,\n",
       " 'self': 728,\n",
       " 'doubt': 729,\n",
       " 'imagine': 730,\n",
       " 'bunch': 731,\n",
       " 'near': 732,\n",
       " 'catch': 733,\n",
       " 'dull': 734,\n",
       " 'storyline': 735,\n",
       " 'certain': 736,\n",
       " 'crime': 737,\n",
       " 'gives': 738,\n",
       " 'sorry': 739,\n",
       " 'pace': 740,\n",
       " 'support': 741,\n",
       " 'straight': 742,\n",
       " 'mystery': 743,\n",
       " 'season': 744,\n",
       " 'itself': 745,\n",
       " 'among': 746,\n",
       " 'easy': 747,\n",
       " 'state': 748,\n",
       " 'lines': 749,\n",
       " 'dream': 750,\n",
       " 'manage': 751,\n",
       " 'fast': 752,\n",
       " 'couldnt': 753,\n",
       " 'peter': 754,\n",
       " 'lost': 755,\n",
       " 'suspense': 756,\n",
       " 'pick': 757,\n",
       " 'typical': 758,\n",
       " 'value': 759,\n",
       " 'oscar': 760,\n",
       " 'western': 761,\n",
       " 'cause': 762,\n",
       " 'liked': 763,\n",
       " 'supposed': 764,\n",
       " 'disappoint': 765,\n",
       " 'drive': 766,\n",
       " 'street': 767,\n",
       " 'nearly': 768,\n",
       " 'fantastic': 769,\n",
       " 'greatest': 770,\n",
       " 'dr': 771,\n",
       " 'realistic': 772,\n",
       " 'period': 773,\n",
       " 'deserve': 774,\n",
       " 'general': 775,\n",
       " 'event': 776,\n",
       " 'portray': 777,\n",
       " \"couldn't\": 778,\n",
       " 'material': 779,\n",
       " 'actual': 780,\n",
       " 'okay': 781,\n",
       " 'richard': 782,\n",
       " 'famous': 783,\n",
       " 'against': 784,\n",
       " 'air': 785,\n",
       " 'cover': 786,\n",
       " 'went': 787,\n",
       " 'doctor': 788,\n",
       " 'build': 789,\n",
       " 'animation': 790,\n",
       " 'believable': 791,\n",
       " 'somehow': 792,\n",
       " 'escape': 793,\n",
       " 'copy': 794,\n",
       " 'entertaining': 795,\n",
       " 'paul': 796,\n",
       " 'wont': 797,\n",
       " \"she's\": 798,\n",
       " 'fire': 799,\n",
       " 'mark': 800,\n",
       " 'premise': 801,\n",
       " 'explain': 802,\n",
       " 'red': 803,\n",
       " 'called': 804,\n",
       " 'loved': 805,\n",
       " 'based': 806,\n",
       " 'amaze': 807,\n",
       " 'battle': 808,\n",
       " 'tom': 809,\n",
       " 'focus': 810,\n",
       " 'weak': 811,\n",
       " 'box': 812,\n",
       " 'fans': 813,\n",
       " 'element': 814,\n",
       " 'train': 815,\n",
       " 'zombie': 816,\n",
       " 'atmosphere': 817,\n",
       " 'eventually': 818,\n",
       " 'stick': 819,\n",
       " 'beginning': 820,\n",
       " 'offer': 821,\n",
       " 'truth': 822,\n",
       " 'york': 823,\n",
       " 'particular': 824,\n",
       " 'indeed': 825,\n",
       " 'gun': 826,\n",
       " 'lives': 827,\n",
       " '5': 828,\n",
       " 'romance': 829,\n",
       " 'average': 830,\n",
       " 'deep': 831,\n",
       " 'becomes': 832,\n",
       " 'ill': 833,\n",
       " 'lame': 834,\n",
       " 'agree': 835,\n",
       " 'shame': 836,\n",
       " 'whatever': 837,\n",
       " 'villain': 838,\n",
       " 'under': 839,\n",
       " 'drug': 840,\n",
       " 'seemed': 841,\n",
       " 'spoiler': 842,\n",
       " '4': 843,\n",
       " 'crew': 844,\n",
       " 'water': 845,\n",
       " 'poorly': 846,\n",
       " 'bill': 847,\n",
       " 'deliver': 848,\n",
       " 'difficult': 849,\n",
       " 'youll': 850,\n",
       " 'fit': 851,\n",
       " 'mess': 852,\n",
       " 'wanted': 853,\n",
       " 'third': 854,\n",
       " 'masterpiece': 855,\n",
       " 'america': 856,\n",
       " 'society': 857,\n",
       " 'id': 858,\n",
       " \"i'd\": 859,\n",
       " 'provide': 860,\n",
       " 'imdb': 861,\n",
       " 'male': 862,\n",
       " 'possibly': 863,\n",
       " 'shock': 864,\n",
       " '\\x96': 865,\n",
       " 'emotional': 866,\n",
       " 'footage': 867,\n",
       " 'gay': 868,\n",
       " 'children': 869,\n",
       " 'unless': 870,\n",
       " 'producer': 871,\n",
       " 'memorable': 872,\n",
       " 'free': 873,\n",
       " 'background': 874,\n",
       " 'sexual': 875,\n",
       " 'amazing': 876,\n",
       " 'hot': 877,\n",
       " 'otherwise': 878,\n",
       " 'beauty': 879,\n",
       " 'screenplay': 880,\n",
       " 'stage': 881,\n",
       " 'german': 882,\n",
       " 'win': 883,\n",
       " 'image': 884,\n",
       " 'writing': 885,\n",
       " 'superb': 886,\n",
       " 'shes': 887,\n",
       " 'island': 888,\n",
       " 'match': 889,\n",
       " 'cartoon': 890,\n",
       " \"you'll\": 891,\n",
       " 'nature': 892,\n",
       " 'compare': 893,\n",
       " 'baby': 894,\n",
       " 'list': 895,\n",
       " 'allow': 896,\n",
       " 'de': 897,\n",
       " 'cheesy': 898,\n",
       " 'remake': 899,\n",
       " 'party': 900,\n",
       " 'plus': 901,\n",
       " 'guys': 902,\n",
       " 'wants': 903,\n",
       " 'perfectly': 904,\n",
       " 'admit': 905,\n",
       " 'previous': 906,\n",
       " 'works': 907,\n",
       " 'pull': 908,\n",
       " 'grow': 909,\n",
       " 'inside': 910,\n",
       " 'forward': 911,\n",
       " 'personal': 912,\n",
       " 'tries': 913,\n",
       " 'thank': 914,\n",
       " 'total': 915,\n",
       " 'quickly': 916,\n",
       " 'plan': 917,\n",
       " 'weird': 918,\n",
       " 'japanese': 919,\n",
       " 'badly': 920,\n",
       " 'lee': 921,\n",
       " 'towards': 922,\n",
       " 'detail': 923,\n",
       " 'trouble': 924,\n",
       " 'days': 925,\n",
       " 'secret': 926,\n",
       " 'turns': 927,\n",
       " 'incredibly': 928,\n",
       " \"they're\": 929,\n",
       " 'earlier': 930,\n",
       " 'crazy': 931,\n",
       " 'enjoyed': 932,\n",
       " 'development': 933,\n",
       " 'girlfriend': 934,\n",
       " 'unique': 935,\n",
       " 'alien': 936,\n",
       " 'business': 937,\n",
       " 'aspect': 938,\n",
       " 'adult': 939,\n",
       " 'older': 940,\n",
       " 'front': 941,\n",
       " 'powerful': 942,\n",
       " 'chase': 943,\n",
       " 'starts': 944,\n",
       " 'theyre': 945,\n",
       " 'gave': 946,\n",
       " 'various': 947,\n",
       " 'sing': 948,\n",
       " 'plenty': 949,\n",
       " 'member': 950,\n",
       " 'appreciate': 951,\n",
       " 'date': 952,\n",
       " 'filmmaker': 953,\n",
       " 'steal': 954,\n",
       " 'charm': 955,\n",
       " 'eyes': 956,\n",
       " 'directed': 957,\n",
       " 'choice': 958,\n",
       " 'rich': 959,\n",
       " 'attack': 960,\n",
       " 'dramatic': 961,\n",
       " \"won't\": 962,\n",
       " 'creepy': 963,\n",
       " 'dumb': 964,\n",
       " 'emotion': 965,\n",
       " 'rate': 966,\n",
       " 'fairly': 967,\n",
       " 'parts': 968,\n",
       " 'success': 969,\n",
       " 'joe': 970,\n",
       " 'apart': 971,\n",
       " 'themselves': 972,\n",
       " 'fantasy': 973,\n",
       " 'thinking': 974,\n",
       " 'standard': 975,\n",
       " 'outside': 976,\n",
       " 'stories': 977,\n",
       " 'la': 978,\n",
       " 'girls': 979,\n",
       " 'political': 980,\n",
       " 'bother': 981,\n",
       " 'soldier': 982,\n",
       " 'studio': 983,\n",
       " 'fear': 984,\n",
       " 'notice': 985,\n",
       " 'vampire': 986,\n",
       " 'student': 987,\n",
       " 'annoy': 988,\n",
       " 'disney': 989,\n",
       " 'william': 990,\n",
       " 'plain': 991,\n",
       " 'myself': 992,\n",
       " 'company': 993,\n",
       " 'edit': 994,\n",
       " 'era': 995,\n",
       " 'feeling': 996,\n",
       " 'accent': 997,\n",
       " 'control': 998,\n",
       " 'recently': 999,\n",
       " 'italian': 1000,\n",
       " ...}"
      ]
     },
     "execution_count": 81,
     "metadata": {},
     "output_type": "execute_result"
    }
   ],
   "source": [
    "tok.word_index"
   ]
  },
  {
   "cell_type": "markdown",
   "metadata": {
    "id": "sAtyNwS6wPN2"
   },
   "source": [
    "We could fit the tokenizer with an OOV token, which will be added to word_index and given "
   ]
  },
  {
   "cell_type": "code",
   "execution_count": 82,
   "metadata": {
    "id": "76nEaRc0wSW3"
   },
   "outputs": [],
   "source": [
    "tok = Tokenizer(oov_token='UNK')\n",
    "tok.fit_on_texts(texts)"
   ]
  },
  {
   "cell_type": "code",
   "execution_count": 83,
   "metadata": {
    "colab": {
     "base_uri": "https://localhost:8080/",
     "height": 33
    },
    "id": "pT0BPxoVwkCr",
    "outputId": "d931f88c-06fe-4cf6-e937-07169da8b097"
   },
   "outputs": [
    {
     "data": {
      "text/plain": [
       "1"
      ]
     },
     "execution_count": 83,
     "metadata": {},
     "output_type": "execute_result"
    }
   ],
   "source": [
    "tok.word_index['UNK']"
   ]
  },
  {
   "cell_type": "markdown",
   "metadata": {
    "id": "ajbkC8fhuBjs"
   },
   "source": [
    "# Important notes on Keras Tokenizer:\n",
    "\n",
    "- As you can see, the UNK token is added with index = 1. Index 0 is never given.\n",
    "\n",
    "This info is important when dealing later with Embedding layer in Keras, where padding with 0's might cause OOV if not considered, so we init that layer with vocab_size + 1 (to account for the missing 0). That layer also has option to mask_zero if needed for LSTM.\n",
    "\n",
    "Another solution would be to -1 from all binarized values. But this would make padded words same as UNK.\n",
    "\n",
    "In other words, it's a choice to have two different values for:\n",
    "\n",
    "A- UNK-->1\n",
    "B- PAD-->0\n",
    "\n",
    "In this case, the vocab_sz should increase by 1 (for pad), in case the model needs padding like LSTM.\n",
    "\n",
    "Or keep them both as 0. In this case, the vocab_sz remains the same as given from the tokenizer.\n",
    "\n",
    "- If you fit a tokenizer wil small vocab using num_words, then take care that the word_index will still hold the full vocab.Then if you vectorize the text, either use tokenizer.texts_to_sequences, which will take care of the passed num_words,or if you develop ur own str2idx dict, then take care of the vocab not to use word_index as is, but limit it with the num_words, __keeping in mind that word_index is ordered by freqeuency__. A better approach is to build your own vocab\n"
   ]
  },
  {
   "cell_type": "code",
   "execution_count": 84,
   "metadata": {
    "id": "yXta_wRqxYWx"
   },
   "outputs": [],
   "source": [
    "tok = Tokenizer(num_words=100, oov_token='UNK')\n",
    "tok.fit_on_texts(texts)"
   ]
  },
  {
   "cell_type": "code",
   "execution_count": 85,
   "metadata": {
    "colab": {
     "base_uri": "https://localhost:8080/",
     "height": 33
    },
    "id": "cRVQjT74zTGg",
    "outputId": "9c210840-1b38-4569-becf-f31bd785adc9"
   },
   "outputs": [
    {
     "data": {
      "text/plain": [
       "145819"
      ]
     },
     "execution_count": 85,
     "metadata": {},
     "output_type": "execute_result"
    }
   ],
   "source": [
    "len(tok.word_index)"
   ]
  },
  {
   "cell_type": "markdown",
   "metadata": {
    "id": "h_bPrDm9xk1l"
   },
   "source": [
    "Keras tokenizer can be used to vectorize or binarize words into integer indices (more on that later). It takes list of words"
   ]
  },
  {
   "cell_type": "code",
   "execution_count": 86,
   "metadata": {
    "colab": {
     "base_uri": "https://localhost:8080/",
     "height": 33
    },
    "id": "AoyM7vsQy44_",
    "outputId": "ee30dc70-5a3d-4f3b-b949-7c7bab7e4c19"
   },
   "outputs": [
    {
     "data": {
      "text/plain": [
       "[[1], [1], [1], [1], [1], [], [1], [1], [1], [1], [1]]"
      ]
     },
     "execution_count": 86,
     "metadata": {},
     "output_type": "execute_result"
    }
   ],
   "source": [
    "s = 'Hello World'\n",
    "tok.texts_to_sequences(s)"
   ]
  },
  {
   "cell_type": "markdown",
   "metadata": {
    "id": "4AXYySZcy7Ao"
   },
   "source": [
    "What happened above is that texts_to_sequences considered s as a list of chars, ALL OOV so unknowns"
   ]
  },
  {
   "cell_type": "code",
   "execution_count": 87,
   "metadata": {
    "colab": {
     "base_uri": "https://localhost:8080/",
     "height": 33
    },
    "id": "McRODBQPxy98",
    "outputId": "7e4c13cf-19b1-48d4-91a1-629671f7ef03"
   },
   "outputs": [
    {
     "data": {
      "text/plain": [
       "[[1], [1]]"
      ]
     },
     "execution_count": 87,
     "metadata": {},
     "output_type": "execute_result"
    }
   ],
   "source": [
    "s = 'Hello World'\n",
    "tok.texts_to_sequences(s.split())"
   ]
  },
  {
   "cell_type": "markdown",
   "metadata": {
    "id": "jHBuhR3tzE60"
   },
   "source": [
    "Hello is not in the training set"
   ]
  },
  {
   "cell_type": "markdown",
   "metadata": {
    "id": "wPFQVbgtzdgt"
   },
   "source": [
    "Let's try to vectorize a sentence with word beyond the first 100 most frequent words:"
   ]
  },
  {
   "cell_type": "code",
   "execution_count": 88,
   "metadata": {
    "colab": {
     "base_uri": "https://localhost:8080/",
     "height": 33
    },
    "id": "CLbfbaqrzY6o",
    "outputId": "f00ac76e-7946-461d-9ed2-e5b78f15fe39"
   },
   "outputs": [
    {
     "data": {
      "text/plain": [
       "[[1], [10]]"
      ]
     },
     "execution_count": 88,
     "metadata": {},
     "output_type": "execute_result"
    }
   ],
   "source": [
    "s = 'cartoon movie'\n",
    "tok.texts_to_sequences(s.split())"
   ]
  },
  {
   "cell_type": "markdown",
   "metadata": {
    "id": "o4njsnKazzAk"
   },
   "source": [
    "Although movie is in the word_index, but it's considered unknown with texts_to_sequences. So we have to take care of that when dealing the vocab.\n",
    "\n",
    "\n",
    "Let's fit on all data and repeat"
   ]
  },
  {
   "cell_type": "code",
   "execution_count": 89,
   "metadata": {
    "colab": {
     "base_uri": "https://localhost:8080/",
     "height": 33
    },
    "id": "buW4wHlW0B76",
    "outputId": "e718cf42-2d4f-4469-c5b2-2ae6f562e41b"
   },
   "outputs": [
    {
     "data": {
      "text/plain": [
       "[[891], [10]]"
      ]
     },
     "execution_count": 89,
     "metadata": {},
     "output_type": "execute_result"
    }
   ],
   "source": [
    "tok = Tokenizer(oov_token='UNK')\n",
    "tok.fit_on_texts(texts)\n",
    "s = 'cartoon movie'\n",
    "l = tok.texts_to_sequences(s.split())\n",
    "l"
   ]
  },
  {
   "cell_type": "markdown",
   "metadata": {
    "id": "zrnRyqvG0HbL"
   },
   "source": [
    "Now the word cartoon is known"
   ]
  },
  {
   "cell_type": "markdown",
   "metadata": {
    "id": "cSadgFVd5Ail"
   },
   "source": [
    "But the shape is not as expected!"
   ]
  },
  {
   "cell_type": "code",
   "execution_count": 90,
   "metadata": {
    "colab": {
     "base_uri": "https://localhost:8080/",
     "height": 33
    },
    "id": "bDkPGvff5IxS",
    "outputId": "0c2f34db-9d94-44c7-b9a5-1be9cafd8e2f"
   },
   "outputs": [
    {
     "data": {
      "text/plain": [
       "(2, 1)"
      ]
     },
     "execution_count": 90,
     "metadata": {},
     "output_type": "execute_result"
    }
   ],
   "source": [
    "np.array(l).shape"
   ]
  },
  {
   "cell_type": "markdown",
   "metadata": {
    "id": "1TlRLrc_5Ust"
   },
   "source": [
    "We would expect (1,2), for 1 sentence and 2 words.\n",
    "\n",
    "texts_to_sequences takes a list (char, words, sequences). So in the above case, it considers the 2 words as separate sentences.\n",
    "\n",
    "To fix this:\n"
   ]
  },
  {
   "cell_type": "code",
   "execution_count": 91,
   "metadata": {
    "colab": {
     "base_uri": "https://localhost:8080/",
     "height": 33
    },
    "id": "YwkgNx_45mRk",
    "outputId": "19fd6787-48ba-4747-da8b-c593e89e3f13"
   },
   "outputs": [
    {
     "data": {
      "text/plain": [
       "[[891, 10]]"
      ]
     },
     "execution_count": 91,
     "metadata": {},
     "output_type": "execute_result"
    }
   ],
   "source": [
    "l = tok.texts_to_sequences([s.split()])\n",
    "l"
   ]
  },
  {
   "cell_type": "code",
   "execution_count": 92,
   "metadata": {
    "colab": {
     "base_uri": "https://localhost:8080/",
     "height": 33
    },
    "id": "bys1_eoE5qxj",
    "outputId": "21679c19-4627-4ce7-a943-bdf23e0eb62e"
   },
   "outputs": [
    {
     "data": {
      "text/plain": [
       "(1, 2)"
      ]
     },
     "execution_count": 92,
     "metadata": {},
     "output_type": "execute_result"
    }
   ],
   "source": [
    "np.array(l).shape"
   ]
  },
  {
   "cell_type": "markdown",
   "metadata": {
    "id": "9gCg-qBA6j0w"
   },
   "source": [
    "To get back to text = decode:"
   ]
  },
  {
   "cell_type": "code",
   "execution_count": 93,
   "metadata": {
    "colab": {
     "base_uri": "https://localhost:8080/",
     "height": 33
    },
    "id": "wh_De2SW6a5v",
    "outputId": "14a2f40e-3a8c-400e-d674-cce4df1b17ee"
   },
   "outputs": [
    {
     "data": {
      "text/plain": [
       "['cartoon movie']"
      ]
     },
     "execution_count": 93,
     "metadata": {},
     "output_type": "execute_result"
    }
   ],
   "source": [
    "tok.sequences_to_texts(l)"
   ]
  },
  {
   "cell_type": "markdown",
   "metadata": {
    "id": "H-lkVEOe0Q0q"
   },
   "source": [
    "Tokenizer can also be used for few more things:\n",
    "\n",
    "- word counts: A dictionary of words and their counts.\n",
    "\n",
    "- word docs: An integer count of the total number of documents that were used to fit the Tokenizer.\n",
    "\n",
    "- word index: A dictionary of words and their uniquely assigned integers.\n",
    "\n",
    "- document count: A dictionary of words and how many documents each appeared in."
   ]
  },
  {
   "cell_type": "code",
   "execution_count": 94,
   "metadata": {
    "colab": {
     "base_uri": "https://localhost:8080/",
     "height": 84
    },
    "id": "TV0Fj20R2Pbf",
    "outputId": "aeee6792-8294-4799-ce60-6b9032ae2662"
   },
   "outputs": [
    {
     "name": "stdout",
     "output_type": "stream",
     "text": [
      "OrderedDict([('well', 1), ('done', 1), ('good', 1), ('work', 2), ('great', 1), ('effort', 1), ('nice', 1), ('excellent', 1)])\n",
      "5\n",
      "{'work': 1, 'well': 2, 'done': 3, 'good': 4, 'great': 5, 'effort': 6, 'nice': 7, 'excellent': 8}\n",
      "defaultdict(<class 'int'>, {'done': 1, 'well': 1, 'work': 2, 'good': 1, 'effort': 1, 'great': 1, 'nice': 1, 'excellent': 1})\n"
     ]
    }
   ],
   "source": [
    "from tensorflow.keras.preprocessing.text import Tokenizer\n",
    "# define 5 documents\n",
    "docs = ['Well done!',\n",
    "'Good work',\n",
    "'Great effort',\n",
    "'nice work',\n",
    "'Excellent!']\n",
    "# create the tokenizer\n",
    "t = Tokenizer()\n",
    "# fit the tokenizer on the documents\n",
    "t.fit_on_texts(docs)\n",
    "# summarize what was learned\n",
    "print(t.word_counts)\n",
    "print(t.document_count)\n",
    "print(t.word_index)\n",
    "print(t.word_docs)\n"
   ]
  },
  {
   "cell_type": "markdown",
   "metadata": {
    "id": "lFF6WjdmETVs"
   },
   "source": [
    "# Padding\n",
    "\n",
    "The vectors we obtain are generally not of equal lengths:"
   ]
  },
  {
   "cell_type": "code",
   "execution_count": 95,
   "metadata": {
    "colab": {
     "base_uri": "https://localhost:8080/",
     "height": 33
    },
    "id": "FUTf-ezkEZqt",
    "outputId": "a8cf25a0-f292-4a31-9819-54b5c06deb9b"
   },
   "outputs": [
    {
     "data": {
      "text/plain": [
       "[[891, 10, 66], [4828, 155]]"
      ]
     },
     "execution_count": 95,
     "metadata": {},
     "output_type": "execute_result"
    }
   ],
   "source": [
    "docs = ['cartoon movie show', 'hello world']\n",
    "docs = [s.split() for s in docs]\n",
    "l = tok.texts_to_sequences(docs)\n",
    "l"
   ]
  },
  {
   "cell_type": "markdown",
   "metadata": {
    "id": "hCkvOMygEz33"
   },
   "source": [
    "For most supervised learning models, we need the design matrix X to have fixed number of columns and number of rows as the data size. RNNs are exceptions, but in most frameworks, it's also required to have fixed length vectors.\n",
    "\n",
    "For that, we might need to pad the sequences to max len. For RNNs, the padded parts can be ignored later.\n",
    "\n"
   ]
  },
  {
   "cell_type": "code",
   "execution_count": 96,
   "metadata": {
    "colab": {
     "base_uri": "https://localhost:8080/",
     "height": 33
    },
    "id": "cEcfU65kEtS5",
    "outputId": "0fee8f06-09d3-4dc2-bcc1-9dce21f6bb57"
   },
   "outputs": [
    {
     "data": {
      "text/plain": [
       "(2, 13704)"
      ]
     },
     "execution_count": 96,
     "metadata": {},
     "output_type": "execute_result"
    }
   ],
   "source": [
    "from tensorflow.keras.preprocessing.sequence import pad_sequences\n",
    "maxlen = max([len(t) for t in texts])\n",
    "\n",
    "l = np.array(pad_sequences(l,\n",
    "                          maxlen=maxlen,\n",
    "                          padding='post',\n",
    "                          truncating='post'))\n",
    "l.shape"
   ]
  },
  {
   "cell_type": "code",
   "execution_count": 97,
   "metadata": {
    "colab": {
     "base_uri": "https://localhost:8080/",
     "height": 50
    },
    "id": "arW2YItTFn2Q",
    "outputId": "987157b8-6b9f-4f74-e495-4eaab11bec4c"
   },
   "outputs": [
    {
     "data": {
      "text/plain": [
       "array([[ 891,   10,   66, ...,    0,    0,    0],\n",
       "       [4828,  155,    0, ...,    0,    0,    0]])"
      ]
     },
     "execution_count": 97,
     "metadata": {},
     "output_type": "execute_result"
    }
   ],
   "source": [
    "l"
   ]
  },
  {
   "cell_type": "markdown",
   "metadata": {
    "id": "aQjEXZQ2FpSR"
   },
   "source": [
    "Notes:\n",
    "\n",
    "- Padding can be performed on texts before or after binarization. However, it's better to be done after binarization since we pad 0's which won't be understood by the vocab during binarization\n",
    "\n",
    "- The padded vector is very sparse! This is due to exceptionally long sentences --> outliers. So it's better to remove them, or even limit the max sentence length."
   ]
  },
  {
   "cell_type": "markdown",
   "metadata": {
    "id": "oGx90NJTDkmK"
   },
   "source": [
    "# Text features\n",
    "\n",
    "So far, we have tranformed the text into binary/digital form that can be understood by ML models.\n",
    "\n",
    "However, we can further apply or extract different features from the vectorized form.\n",
    "\n",
    "In other words, we can represent the sequence of word indices we obtained in different forms.\n",
    "\n"
   ]
  },
  {
   "cell_type": "markdown",
   "metadata": {
    "id": "W0kOrBk51HYb"
   },
   "source": [
    "# BoW with keras Tokenizer\n",
    "\n",
    "We can use keras tokenizer to build a simple BoW.\n",
    "\n",
    "The rows = number of sentences/documents\n",
    "\n",
    "The #columns = number of words in the vocab\n",
    "\n",
    "Each entry can encode different modes:\n",
    "\n",
    "- binary: Whether or not each word is present in the document. This is the default.\n",
    "\n",
    "- count: The count of each word in the document.\n",
    "\n",
    "- tfidf: The Text Frequency-Inverse DocumentFrequency (TF-IDF) scoring for each word in the document (more on that later).\n",
    "\n",
    "- freq: The frequency of each word as a ratio of words within each document."
   ]
  },
  {
   "cell_type": "code",
   "execution_count": 98,
   "metadata": {
    "colab": {
     "base_uri": "https://localhost:8080/",
     "height": 33
    },
    "id": "KQxiGrnB0ixV",
    "outputId": "0b1276d2-b10f-4665-db4e-f33fa4204f83"
   },
   "outputs": [
    {
     "data": {
      "text/plain": [
       "(10, 145820)"
      ]
     },
     "execution_count": 98,
     "metadata": {},
     "output_type": "execute_result"
    }
   ],
   "source": [
    "tok = Tokenizer(oov_token='UNK')\n",
    "tok.fit_on_texts(texts)\n",
    "bow = tok.texts_to_matrix(texts[:10], mode='count')\n",
    "#text to BOW matrix \n",
    "bow.shape"
   ]
  },
  {
   "cell_type": "code",
   "execution_count": 99,
   "metadata": {
    "colab": {
     "base_uri": "https://localhost:8080/",
     "height": 33
    },
    "id": "p5zf28EU0rYR",
    "outputId": "787de95f-ef0c-4b72-d6aa-962cafbcfe29"
   },
   "outputs": [
    {
     "data": {
      "text/plain": [
       "(10, 100)"
      ]
     },
     "execution_count": 99,
     "metadata": {},
     "output_type": "execute_result"
    }
   ],
   "source": [
    "tok = Tokenizer(num_words=100, oov_token='UNK')\n",
    "tok.fit_on_texts(texts)\n",
    "bow = tok.texts_to_matrix(texts[:10], mode='count')\n",
    "bow.shape"
   ]
  },
  {
   "cell_type": "code",
   "execution_count": 105,
   "metadata": {
    "colab": {
     "base_uri": "https://localhost:8080/",
     "height": 1000
    },
    "id": "AdEae6hl1hdA",
    "outputId": "5931190a-48d6-4937-95f9-0a24d4ecd90e"
   },
   "outputs": [],
   "source": [
    "# bow"
   ]
  },
  {
   "cell_type": "markdown",
   "metadata": {
    "id": "4POwl3CKjqat"
   },
   "source": [
    "# BoW with sklearn\n",
    "\n",
    "The BoW model above can be also produced using sklearn"
   ]
  },
  {
   "cell_type": "markdown",
   "metadata": {
    "id": "TlEpHovL7nlf"
   },
   "source": [
    "# CountVectorizer\n",
    "\n",
    "The CountVectorizer provides a simple way to both tokenize a collection of text documents and build a vocabulary of known words"
   ]
  },
  {
   "cell_type": "code",
   "execution_count": 106,
   "metadata": {
    "colab": {
     "base_uri": "https://localhost:8080/",
     "height": 33
    },
    "id": "Ykk2i3X_KuUv",
    "outputId": "7410110c-d6d3-4e66-b131-983e13053c64"
   },
   "outputs": [
    {
     "data": {
      "text/plain": [
       "(10, 131815)"
      ]
     },
     "execution_count": 106,
     "metadata": {},
     "output_type": "execute_result"
    }
   ],
   "source": [
    "from sklearn.feature_extraction.text import CountVectorizer\n",
    "\n",
    "vectorizer = CountVectorizer()\n",
    "vectorizer.fit(texts)\n",
    "bow = vectorizer.transform(texts[:10])\n",
    "bow.shape"
   ]
  },
  {
   "cell_type": "code",
   "execution_count": 107,
   "metadata": {
    "colab": {
     "base_uri": "https://localhost:8080/",
     "height": 1000
    },
    "id": "pwTuSII1Liav",
    "outputId": "47066aff-6a7e-4e05-89fa-9db202af1958"
   },
   "outputs": [
    {
     "data": {
      "text/plain": [
       "{'story': 111107,\n",
       " 'of': 81879,\n",
       " 'man': 70264,\n",
       " 'who': 128093,\n",
       " 'has': 51521,\n",
       " 'unnatural': 122720,\n",
       " 'feelings': 40876,\n",
       " 'for': 43317,\n",
       " 'pig': 87884,\n",
       " 'starts': 110235,\n",
       " 'out': 83685,\n",
       " 'with': 128891,\n",
       " 'opening': 82946,\n",
       " 'scene': 101050,\n",
       " 'that': 116062,\n",
       " 'is': 59303,\n",
       " 'terrific': 115777,\n",
       " 'example': 38533,\n",
       " 'absurd': 1513,\n",
       " 'comedy': 23097,\n",
       " 'formal': 43548,\n",
       " 'orchestra': 83187,\n",
       " 'audience': 8072,\n",
       " 'turned': 120492,\n",
       " 'into': 58825,\n",
       " 'an': 4947,\n",
       " 'insane': 58118,\n",
       " 'violent': 125240,\n",
       " 'mob': 75086,\n",
       " 'by': 16944,\n",
       " 'the': 116134,\n",
       " 'crazy': 26117,\n",
       " 'chantings': 19684,\n",
       " 'it': 59519,\n",
       " 'singers': 105890,\n",
       " 'unfortunately': 122302,\n",
       " 'stays': 110357,\n",
       " 'whole': 128110,\n",
       " 'time': 117466,\n",
       " 'no': 79902,\n",
       " 'general': 46233,\n",
       " 'narrative': 78320,\n",
       " 'eventually': 38221,\n",
       " 'making': 69984,\n",
       " 'just': 61611,\n",
       " 'too': 118291,\n",
       " 'off': 81893,\n",
       " 'putting': 92758,\n",
       " 'even': 38193,\n",
       " 'those': 116870,\n",
       " 'from': 44590,\n",
       " 'era': 37497,\n",
       " 'should': 104976,\n",
       " 'be': 10496,\n",
       " 'cryptic': 26868,\n",
       " 'dialogue': 30640,\n",
       " 'would': 129686,\n",
       " 'make': 69944,\n",
       " 'shakespeare': 103945,\n",
       " 'seem': 102468,\n",
       " 'easy': 35056,\n",
       " 'to': 117914,\n",
       " 'third': 116681,\n",
       " 'grader': 48543,\n",
       " 'on': 82507,\n",
       " 'technical': 115162,\n",
       " 'level': 66469,\n",
       " 'better': 11855,\n",
       " 'than': 116024,\n",
       " 'you': 130873,\n",
       " 'might': 73884,\n",
       " 'think': 116634,\n",
       " 'some': 107979,\n",
       " 'good': 47958,\n",
       " 'cinematography': 21365,\n",
       " 'future': 45148,\n",
       " 'great': 48883,\n",
       " 'vilmos': 125146,\n",
       " 'zsigmond': 131714,\n",
       " 'stars': 110183,\n",
       " 'sally': 99955,\n",
       " 'kirkland': 63290,\n",
       " 'and': 5076,\n",
       " 'frederic': 44180,\n",
       " 'forrest': 43622,\n",
       " 'can': 17587,\n",
       " 'seen': 102481,\n",
       " 'briefly': 15348,\n",
       " 'airport': 3417,\n",
       " '77': 890,\n",
       " 'as': 7277,\n",
       " 'brand': 14947,\n",
       " 'new': 79249,\n",
       " 'luxury': 69071,\n",
       " '747': 880,\n",
       " 'plane': 88407,\n",
       " 'loaded': 67647,\n",
       " 'up': 123305,\n",
       " 'valuable': 123987,\n",
       " 'paintings': 84843,\n",
       " 'such': 112315,\n",
       " 'belonging': 11311,\n",
       " 'rich': 97360,\n",
       " 'businessman': 16716,\n",
       " 'philip': 87423,\n",
       " 'stevens': 110663,\n",
       " 'james': 60073,\n",
       " 'stewart': 110684,\n",
       " 'flying': 43006,\n",
       " 'them': 116225,\n",
       " 'bunch': 16417,\n",
       " 'vip': 125256,\n",
       " 'his': 53618,\n",
       " 'estate': 37860,\n",
       " 'in': 57017,\n",
       " 'preparation': 90683,\n",
       " 'being': 11102,\n",
       " 'opened': 82934,\n",
       " 'public': 92267,\n",
       " 'museum': 77567,\n",
       " 'also': 4338,\n",
       " 'board': 13514,\n",
       " 'daughter': 28186,\n",
       " 'julie': 61480,\n",
       " 'kathleen': 62218,\n",
       " 'quinlan': 93277,\n",
       " 'her': 52657,\n",
       " 'son': 108101,\n",
       " 'jetliner': 60669,\n",
       " 'takes': 114372,\n",
       " 'planned': 88440,\n",
       " 'but': 16771,\n",
       " 'mid': 73741,\n",
       " 'air': 3365,\n",
       " 'hi': 53058,\n",
       " 'jacked': 59898,\n",
       " 'co': 22359,\n",
       " 'pilot': 87966,\n",
       " 'chambers': 19556,\n",
       " 'robert': 98018,\n",
       " 'foxworth': 43869,\n",
       " 'two': 120809,\n",
       " 'accomplice': 1687,\n",
       " 'banker': 9677,\n",
       " 'monte': 75715,\n",
       " 'markham': 71016,\n",
       " 'wilson': 128529,\n",
       " 'michael': 73637,\n",
       " 'pataki': 85820,\n",
       " 'knock': 63625,\n",
       " 'passengers': 85720,\n",
       " 'crew': 26313,\n",
       " 'sleeping': 106690,\n",
       " 'gas': 45849,\n",
       " 'they': 116501,\n",
       " 'plan': 88400,\n",
       " 'steal': 110386,\n",
       " 'cargo': 18138,\n",
       " 'land': 64914,\n",
       " 'disused': 32226,\n",
       " 'strip': 111576,\n",
       " 'isolated': 59434,\n",
       " 'island': 59399,\n",
       " 'while': 127884,\n",
       " 'descent': 29987,\n",
       " 'almost': 4232,\n",
       " 'hits': 53754,\n",
       " 'oil': 82201,\n",
       " 'rig': 97542,\n",
       " 'ocean': 81717,\n",
       " 'loses': 68282,\n",
       " 'control': 24687,\n",
       " 'sending': 103066,\n",
       " 'crashing': 26051,\n",
       " 'sea': 102090,\n",
       " 'where': 127839,\n",
       " 'sinks': 105964,\n",
       " 'bottom': 14519,\n",
       " 'right': 97562,\n",
       " 'bang': 9643,\n",
       " 'middle': 73753,\n",
       " 'bermuda': 11629,\n",
       " 'triangle': 119649,\n",
       " 'short': 104861,\n",
       " 'supply': 113061,\n",
       " 'water': 126650,\n",
       " 'leaking': 65746,\n",
       " 'having': 51758,\n",
       " 'flown': 42920,\n",
       " 'over': 83996,\n",
       " '200': 440,\n",
       " 'miles': 74012,\n",
       " 'course': 25636,\n",
       " 'problems': 91246,\n",
       " 'mount': 76429,\n",
       " 'survivor': 113312,\n",
       " 'await': 8530,\n",
       " 'help': 52500,\n",
       " 'fast': 40451,\n",
       " 'running': 99284,\n",
       " 'br': 14804,\n",
       " 'known': 63685,\n",
       " 'under': 121798,\n",
       " 'slightly': 106765,\n",
       " 'different': 30905,\n",
       " 'tile': 117425,\n",
       " '1977': 385,\n",
       " 'this': 116724,\n",
       " 'second': 102271,\n",
       " 'sequel': 103267,\n",
       " 'smash': 107081,\n",
       " 'hit': 53683,\n",
       " 'disaster': 31524,\n",
       " 'thriller': 117042,\n",
       " '1970': 376,\n",
       " 'was': 126463,\n",
       " 'directed': 31273,\n",
       " 'jerry': 60617,\n",
       " 'jameson': 60078,\n",
       " 'once': 82523,\n",
       " 'again': 2967,\n",
       " 'like': 66934,\n",
       " 'predecessors': 90447,\n",
       " 'say': 100748,\n",
       " 'any': 6023,\n",
       " 'sort': 108359,\n",
       " 'forgotten': 43525,\n",
       " 'classic': 21705,\n",
       " 'entertaining': 37147,\n",
       " 'although': 4410,\n",
       " 'not': 80701,\n",
       " 'necessarily': 78778,\n",
       " 'reasons': 94709,\n",
       " 'three': 116965,\n",
       " 'films': 41752,\n",
       " 'have': 51727,\n",
       " 'so': 107557,\n",
       " 'far': 40241,\n",
       " 'actually': 2210,\n",
       " 'liked': 66943,\n",
       " 'one': 82577,\n",
       " 'best': 11749,\n",
       " 'my': 77809,\n",
       " 'favourite': 40671,\n",
       " 'plot': 88756,\n",
       " 'nice': 79420,\n",
       " 'jacking': 59914,\n",
       " 'then': 116300,\n",
       " 'didn': 30830,\n",
       " 'he': 51900,\n",
       " 'see': 102418,\n",
       " 'sinking': 105963,\n",
       " 'maybe': 71830,\n",
       " 'makers': 69964,\n",
       " 'were': 127490,\n",
       " 'trying': 120174,\n",
       " 'cross': 26629,\n",
       " 'original': 83322,\n",
       " 'another': 5607,\n",
       " 'popular': 89591,\n",
       " 'flick': 42675,\n",
       " 'period': 86823,\n",
       " 'poseidon': 89796,\n",
       " 'adventure': 2614,\n",
       " '1972': 380,\n",
       " 'submerged': 112099,\n",
       " 'until': 123182,\n",
       " 'end': 36645,\n",
       " 'stark': 110139,\n",
       " 'dilemma': 31031,\n",
       " 'facing': 39696,\n",
       " 'trapped': 119328,\n",
       " 'inside': 58165,\n",
       " 'either': 35737,\n",
       " 'suffocate': 112428,\n",
       " 'when': 127827,\n",
       " 'runs': 99296,\n",
       " 'or': 83136,\n",
       " 'drown': 33971,\n",
       " 'floods': 42829,\n",
       " 'if': 56246,\n",
       " 'doors': 33027,\n",
       " 'are': 6685,\n",
       " 'decent': 28721,\n",
       " 'idea': 56106,\n",
       " 'could': 25468,\n",
       " 'made': 69495,\n",
       " 'little': 67477,\n",
       " 'bad': 9062,\n",
       " 'unsympathetic': 123143,\n",
       " 'character': 19750,\n",
       " 'dull': 34325,\n",
       " 'lethargic': 66408,\n",
       " 'set': 103519,\n",
       " 'pieces': 87830,\n",
       " 'real': 94535,\n",
       " 'lack': 64571,\n",
       " 'danger': 27850,\n",
       " 'suspense': 113364,\n",
       " 'tension': 115628,\n",
       " 'means': 72426,\n",
       " 'missed': 74814,\n",
       " 'opportunity': 83064,\n",
       " 'rather': 94208,\n",
       " 'sluggish': 106960,\n",
       " 'keeps': 62425,\n",
       " 'entertained': 37136,\n",
       " '108': 71,\n",
       " 'odd': 81788,\n",
       " 'minutes': 74488,\n",
       " 'much': 77021,\n",
       " 'happens': 51138,\n",
       " 'after': 2910,\n",
       " 'there': 116402,\n",
       " 'urgency': 123537,\n",
       " 'thought': 116896,\n",
       " 'been': 10877,\n",
       " 'navy': 78585,\n",
       " 'become': 10778,\n",
       " 'involved': 59053,\n",
       " 'things': 116604,\n",
       " 'don': 32848,\n",
       " 'pick': 87724,\n",
       " 'few': 41280,\n",
       " 'shots': 104958,\n",
       " 'huge': 55330,\n",
       " 'ships': 104621,\n",
       " 'helicopters': 52411,\n",
       " 'about': 1392,\n",
       " 'something': 108025,\n",
       " 'lacking': 64580,\n",
       " 'here': 52698,\n",
       " 'george': 46456,\n",
       " 'kennedy': 62537,\n",
       " 'jinxed': 60834,\n",
       " 'airline': 3403,\n",
       " 'worker': 129455,\n",
       " 'joe': 60963,\n",
       " 'patroni': 85944,\n",
       " 'back': 8921,\n",
       " 'only': 82767,\n",
       " 'gets': 46629,\n",
       " 'couple': 25608,\n",
       " 'scenes': 101094,\n",
       " 'barely': 9867,\n",
       " 'says': 100788,\n",
       " 'anything': 6060,\n",
       " 'preferring': 90545,\n",
       " 'look': 68075,\n",
       " 'worried': 129599,\n",
       " 'background': 8957,\n",
       " 'home': 54176,\n",
       " 'video': 124884,\n",
       " 'theatrical': 116172,\n",
       " 'version': 124637,\n",
       " 'run': 99253,\n",
       " 'us': 123587,\n",
       " 'tv': 120593,\n",
       " 'versions': 124648,\n",
       " 'add': 2289,\n",
       " 'extra': 39353,\n",
       " 'hour': 54977,\n",
       " 'footage': 43256,\n",
       " 'including': 57191,\n",
       " 'credits': 26222,\n",
       " 'sequence': 103295,\n",
       " 'many': 70704,\n",
       " 'more': 75957,\n",
       " 'flashbacks': 42460,\n",
       " 'flesh': 42632,\n",
       " 'longer': 67984,\n",
       " 'rescue': 96520,\n",
       " 'discovery': 31660,\n",
       " 'dead': 28408,\n",
       " 'bodies': 13631,\n",
       " 'navigator': 78581,\n",
       " 'am': 4496,\n",
       " 'sure': 113145,\n",
       " 'sit': 106088,\n",
       " 'through': 117108,\n",
       " 'near': 78678,\n",
       " 'cut': 27283,\n",
       " 'expected': 39007,\n",
       " 'film': 41565,\n",
       " 'dated': 28158,\n",
       " 'badly': 9137,\n",
       " 'horrible': 54647,\n",
       " 'fashions': 40441,\n",
       " 'interior': 58603,\n",
       " 'design': 30067,\n",
       " 'choices': 20834,\n",
       " 'will': 128448,\n",
       " 'other': 83566,\n",
       " 'toy': 118873,\n",
       " 'model': 75162,\n",
       " 'effects': 35460,\n",
       " 'aren': 6703,\n",
       " 'along': 4270,\n",
       " 'sequels': 103283,\n",
       " 'pride': 91014,\n",
       " 'place': 88314,\n",
       " 'razzie': 94423,\n",
       " 'award': 8548,\n",
       " 'hall': 50654,\n",
       " 'shame': 104019,\n",
       " 'lots': 68320,\n",
       " 'worse': 129610,\n",
       " 'reckon': 94921,\n",
       " 'harsh': 51460,\n",
       " 'action': 1997,\n",
       " 'pace': 84640,\n",
       " 'slow': 106909,\n",
       " 'excitement': 38652,\n",
       " 'generated': 46258,\n",
       " 'which': 127869,\n",
       " 'pretty': 90918,\n",
       " 'properly': 91688,\n",
       " 'production': 91370,\n",
       " 'values': 123996,\n",
       " 'alright': 4325,\n",
       " 'nothing': 80765,\n",
       " 'spectacular': 108924,\n",
       " 'acting': 1939,\n",
       " 'isn': 59427,\n",
       " 'oscar': 83456,\n",
       " 'winner': 128679,\n",
       " 'jack': 59883,\n",
       " 'lemmon': 66133,\n",
       " 'said': 99790,\n",
       " 'since': 105842,\n",
       " 'mistake': 74882,\n",
       " 'star': 110078,\n",
       " 'looks': 68105,\n",
       " 'old': 82329,\n",
       " 'frail': 43920,\n",
       " 'lee': 65893,\n",
       " 'grant': 48694,\n",
       " 'drunk': 34065,\n",
       " 'sir': 106016,\n",
       " 'christopher': 21053,\n",
       " 'given': 47206,\n",
       " 'do': 32417,\n",
       " 'plenty': 88711,\n",
       " 'familiar': 39996,\n",
       " 'faces': 39661,\n",
       " 'most': 76242,\n",
       " 'orientated': 83314,\n",
       " 'ideas': 56131,\n",
       " 'behind': 11070,\n",
       " 'bit': 12571,\n",
       " 'silly': 105653,\n",
       " 'bland': 12886,\n",
       " 'direction': 31290,\n",
       " 'doesn': 32593,\n",
       " 'though': 116875,\n",
       " 'sunken': 112705,\n",
       " 'shouldn': 104987,\n",
       " 'boring': 14342,\n",
       " 'followed': 43165,\n",
       " 'concorde': 23863,\n",
       " '79': 894,\n",
       " '1979': 387,\n",
       " 'lacked': 64575,\n",
       " 'couldn': 25473,\n",
       " 'put': 92730,\n",
       " 'finger': 41977,\n",
       " 'at': 7741,\n",
       " 'first': 42154,\n",
       " 'charisma': 19921,\n",
       " 'part': 85537,\n",
       " 'leading': 65718,\n",
       " 'actress': 2170,\n",
       " 'inevitably': 57624,\n",
       " 'translated': 119231,\n",
       " 'chemistry': 20322,\n",
       " 'she': 104252,\n",
       " 'shared': 104114,\n",
       " 'screen': 101831,\n",
       " 'romantic': 98477,\n",
       " 'came': 17433,\n",
       " 'across': 1917,\n",
       " 'merely': 73192,\n",
       " 'actors': 2118,\n",
       " 'play': 88528,\n",
       " 'very': 124681,\n",
       " 'well': 127192,\n",
       " 'director': 31310,\n",
       " 'miscalculated': 74598,\n",
       " 'what': 127706,\n",
       " 'needed': 78836,\n",
       " 'know': 63653,\n",
       " 'screenplay': 101852,\n",
       " 'exactly': 38501,\n",
       " 'chef': 20297,\n",
       " 'love': 68427,\n",
       " 'seemed': 102471,\n",
       " 'enamored': 36559,\n",
       " 'culinary': 26994,\n",
       " 'skills': 106343,\n",
       " 'restaurant': 96743,\n",
       " 'ultimately': 121265,\n",
       " 'himself': 53458,\n",
       " 'youthful': 130974,\n",
       " 'exploits': 39157,\n",
       " 'anybody': 6026,\n",
       " 'else': 36128,\n",
       " 'never': 79217,\n",
       " 'convinced': 24781,\n",
       " 'me': 72360,\n",
       " 'princess': 91082,\n",
       " 'disappointed': 31479,\n",
       " 'movie': 76526,\n",
       " 'forget': 43493,\n",
       " 'nominated': 80076,\n",
       " 'judge': 61396,\n",
       " 'yourself': 130952,\n",
       " 'sorry': 108353,\n",
       " 'everyone': 38354,\n",
       " 'supposed': 113081,\n",
       " 'art': 7113,\n",
       " 'wow': 129720,\n",
       " 'handed': 50900,\n",
       " 'guns': 49904,\n",
       " 'screening': 101846,\n",
       " 'people': 86567,\n",
       " 'blow': 13334,\n",
       " 'their': 116203,\n",
       " 'brains': 14904,\n",
       " 'watch': 126573,\n",
       " 'photographic': 87595,\n",
       " 'excellent': 38586,\n",
       " 'painful': 84807,\n",
       " 'absence': 1463,\n",
       " 'sound': 108475,\n",
       " 'track': 118940,\n",
       " 'brutal': 15907,\n",
       " 'loooonnnnng': 68143,\n",
       " 'long': 67964,\n",
       " 'how': 55086,\n",
       " 'sitting': 106121,\n",
       " 'talking': 114467,\n",
       " 'especially': 37781,\n",
       " 'complaining': 23542,\n",
       " 'really': 94610,\n",
       " 'had': 50288,\n",
       " 'hard': 51207,\n",
       " 'getting': 46637,\n",
       " 'performances': 86765,\n",
       " 'dark': 28005,\n",
       " 'sombre': 107975,\n",
       " 'uninspired': 122484,\n",
       " 'stuff': 111791,\n",
       " 'take': 114343,\n",
       " 'thing': 116579,\n",
       " 'maureen': 71755,\n",
       " 'stapleton': 110076,\n",
       " 'red': 95113,\n",
       " 'dress': 33792,\n",
       " 'dancing': 27807,\n",
       " 'otherwise': 83599,\n",
       " 'ripoff': 97741,\n",
       " 'bergman': 11581,\n",
       " 'fan': 40065,\n",
       " 'anyone': 6051,\n",
       " 'enjoyed': 36956,\n",
       " 'hours': 54993,\n",
       " 'lying': 69106,\n",
       " 'parents': 85379,\n",
       " 'took': 118320,\n",
       " 'theater': 116144,\n",
       " 'interiors': 58604,\n",
       " 'movies': 76692,\n",
       " 'watched': 126588,\n",
       " 'we': 126877,\n",
       " 'walked': 126077,\n",
       " 'recently': 94867,\n",
       " 'lived': 67515,\n",
       " 'rest': 96731,\n",
       " 'life': 66734,\n",
       " 'without': 128931,\n",
       " 'pretentious': 90902,\n",
       " 'ponderous': 89389,\n",
       " 'painfully': 84810,\n",
       " 'piece': 87825,\n",
       " '70': 860,\n",
       " 'wine': 128619,\n",
       " 'cheese': 20247,\n",
       " 'tripe': 119797,\n",
       " 'woody': 129311,\n",
       " 'allen': 3986,\n",
       " 'favorite': 40651,\n",
       " 'directors': 31343,\n",
       " 'worst': 129642,\n",
       " 'crap': 25975,\n",
       " 'career': 18067,\n",
       " 'unmistakable': 122693,\n",
       " 'style': 111936,\n",
       " 'ingmar': 57859,\n",
       " 'berman': 11626,\n",
       " 'gives': 47214,\n",
       " 'angular': 5354,\n",
       " 'muted': 77737,\n",
       " 'insight': 58179,\n",
       " 'lives': 67536,\n",
       " 'family': 40016,\n",
       " 'wrought': 129977,\n",
       " 'psychological': 92186,\n",
       " 'damage': 27695,\n",
       " 'caused': 18941,\n",
       " 'divorce': 32322,\n",
       " 'estrangement': 37906,\n",
       " 'non': 80095,\n",
       " 'halitosis': 50653,\n",
       " 'whatever': 127718,\n",
       " 'intentionally': 58485,\n",
       " 'comic': 23190,\n",
       " 'relief': 95866,\n",
       " 'music': 77581,\n",
       " 'drenched': 33784,\n",
       " 'shadowy': 103885,\n",
       " 'pathos': 85876,\n",
       " 'defined': 29084,\n",
       " 'expressionist': 39227,\n",
       " 'nature': 78491,\n",
       " 'using': 123652,\n",
       " 'improvisational': 56978,\n",
       " 'method': 73481,\n",
       " 'illicit': 56418,\n",
       " 'pronounced': 91640,\n",
       " 'depth': 29859,\n",
       " 'meaning': 72405,\n",
       " 'truth': 120151,\n",
       " 'beyond': 11984,\n",
       " 'simply': 105800,\n",
       " 'connection': 24166,\n",
       " 'sympathy': 113945,\n",
       " 'characters': 19824,\n",
       " 'instead': 58284,\n",
       " 'felt': 41003,\n",
       " 'contempt': 24522,\n",
       " 'parade': 85232,\n",
       " 'shuffling': 105246,\n",
       " 'whining': 127919,\n",
       " 'nicotine': 79535,\n",
       " 'stained': 109902,\n",
       " 'martyrs': 71221,\n",
       " 'perpetual': 86917,\n",
       " 'quest': 93158,\n",
       " 'identity': 56157,\n",
       " 'amid': 4771,\n",
       " 'backdrop': 8940,\n",
       " 'cosmopolitan': 25351,\n",
       " 'affluence': 2811,\n",
       " 'baked': 9317,\n",
       " 'brie': 15340,\n",
       " 'intelligentsia': 58444,\n",
       " 'looms': 68126,\n",
       " 'fart': 40391,\n",
       " 'room': 98580,\n",
       " 'speaks': 108843,\n",
       " 'affected': 2765,\n",
       " 'platitudes': 88507,\n",
       " 'elevated': 35949,\n",
       " 'language': 65011,\n",
       " 'between': 11917,\n",
       " 'cigarettes': 21254,\n",
       " 'lost': 68293,\n",
       " 'struggling': 111694,\n",
       " 'desperate': 30136,\n",
       " 'find': 41933,\n",
       " 'understanding': 121967,\n",
       " 'goes': 47728,\n",
       " 'point': 89049,\n",
       " 'want': 126246,\n",
       " 'slap': 106531,\n",
       " 'all': 3924,\n",
       " 'resolution': 96636,\n",
       " 'interminable': 58635,\n",
       " 'introspective': 58893,\n",
       " 'babble': 8808,\n",
       " 'drama': 33550,\n",
       " 'taken': 114354,\n",
       " 'extreme': 39415,\n",
       " 'ability': 1307,\n",
       " 'connect': 24159,\n",
       " 'chose': 20948,\n",
       " 'immersed': 56649,\n",
       " 'themselves': 116270,\n",
       " 'feel': 40863,\n",
       " 'left': 65939,\n",
       " 'reason': 94689,\n",
       " 'found': 43771,\n",
       " 'self': 102649,\n",
       " 'indulgent': 57550,\n",
       " 'spiritually': 109220,\n",
       " 'draining': 33541,\n",
       " 'going': 47765,\n",
       " 'insistence': 58206,\n",
       " 'promoting': 91615,\n",
       " 'message': 73333,\n",
       " 'prozac': 91973,\n",
       " 'prose': 91763,\n",
       " 'distorted': 32171,\n",
       " 'techniques': 115182,\n",
       " 'jettisons': 60685,\n",
       " 'past': 85762,\n",
       " 'relevance': 95849,\n",
       " 'highly': 53228,\n",
       " 'recommend': 94978,\n",
       " 're': 94447,\n",
       " 'feeling': 40872,\n",
       " 'happy': 51162,\n",
       " 'need': 78835,\n",
       " 'remind': 96014,\n",
       " 'death': 28515,\n",
       " 'let': 66399,\n",
       " 'pretend': 90884,\n",
       " 'happened': 51121,\n",
       " 'appears': 6313,\n",
       " 'critics': 26511,\n",
       " 'unpalatable': 122771,\n",
       " 'unbearably': 121527,\n",
       " 'wooden': 129264,\n",
       " 'imitations': 56610,\n",
       " 'kid': 62843,\n",
       " 'ourselves': 83676,\n",
       " 'mostly': 76260,\n",
       " 'supportive': 113073,\n",
       " 'pretensions': 90895,\n",
       " 'accusations': 1750,\n",
       " 'contrary': 24649,\n",
       " 'notwithstanding': 80891,\n",
       " 'get': 46613,\n",
       " 'why': 128192,\n",
       " 'generally': 46250,\n",
       " 'applauded': 6347,\n",
       " 'originality': 83330,\n",
       " 'imitating': 56608,\n",
       " 'contemporaneous': 24510,\n",
       " 'brian': 15285,\n",
       " 'depalma': 29731,\n",
       " 'excoriated': 38700,\n",
       " 'ripping': 97754,\n",
       " 'hitchcock': 53689,\n",
       " 'horror': 54681,\n",
       " 'robin': 98046,\n",
       " 'wood': 129250,\n",
       " 'view': 124988,\n",
       " 'strange': 111322,\n",
       " 'form': 43546,\n",
       " 'cultural': 27043,\n",
       " 'snobbery': 107436,\n",
       " 'agree': 3179,\n",
       " 'attempt': 7934,\n",
       " 'york': 130835,\n",
       " 'intellectual': 58418,\n",
       " 'less': 66334,\n",
       " '10': 39,\n",
       " 'years': 130548,\n",
       " 'swedish': 113627,\n",
       " 'susan': 113318,\n",
       " 'sontag': 108198,\n",
       " 'brother': 15733,\n",
       " 'carl': 18179,\n",
       " 'sweden': 113624,\n",
       " 'results': 96802,\n",
       " 'wilde': 128383,\n",
       " 'reference': 95348,\n",
       " 'dickens': 30760,\n",
       " 'curiosity': 27144,\n",
       " 'shop': 104829,\n",
       " 'heart': 52058,\n",
       " 'stone': 110967,\n",
       " 'laugh': 65400,\n",
       " 'loud': 68339,\n",
       " 'nell': 78981,\n",
       " 'same': 100047,\n",
       " 'chock': 20815,\n",
       " 'full': 44817,\n",
       " 'solemnly': 107885,\n",
       " 'intoned': 58836,\n",
       " 'howlers': 55131,\n",
       " 'afraid': 2869,\n",
       " 'anger': 5292,\n",
       " 'looking': 68093,\n",
       " 'distance': 32133,\n",
       " 'becoming': 10785,\n",
       " 'directorial': 31330,\n",
       " 'quotations': 93360,\n",
       " 'use': 123614,\n",
       " 'polite': 89226,\n",
       " 'term': 115708,\n",
       " 'close': 22144,\n",
       " 'parody': 85487,\n",
       " 'incredibly': 57308,\n",
       " 'keep': 62417,\n",
       " 'reminding': 96019,\n",
       " 'brilliant': 15420,\n",
       " 'talented': 114417,\n",
       " 'strangulation': 111348,\n",
       " 'read': 94482,\n",
       " 'poem': 89008,\n",
       " 'yours': 130951,\n",
       " 'day': 28293,\n",
       " 'yorker': 130838,\n",
       " 'oh': 82129,\n",
       " 'reworked': 97195,\n",
       " 'caring': 18166,\n",
       " 'these': 116468,\n",
       " 'however': 55106,\n",
       " 'quite': 93322,\n",
       " 'hilarious': 53339,\n",
       " 'dialog': 30631,\n",
       " 'funny': 44987,\n",
       " 'earlier': 34916,\n",
       " 'lines': 67173,\n",
       " 'straight': 111261,\n",
       " 'cast': 18615,\n",
       " 'poor': 89488,\n",
       " 'mary': 71254,\n",
       " 'beth': 11818,\n",
       " 'hurt': 55663,\n",
       " 'copy': 25010,\n",
       " 'thespian': 116479,\n",
       " 'tics': 117331,\n",
       " 'intonations': 58834,\n",
       " 'neurotic': 79195,\n",
       " 'habits': 50233,\n",
       " 'turning': 120499,\n",
       " 'embarrassing': 36251,\n",
       " 'surrogate': 113273,\n",
       " 'kenneth': 62545,\n",
       " 'branagh': 14936,\n",
       " 'celebrity': 19138,\n",
       " 'basic': 10147,\n",
       " 'dysfunctional': 34824,\n",
       " 'quietly': 93249,\n",
       " 'domineering': 32822,\n",
       " 'mother': 76289,\n",
       " 'seems': 102477,\n",
       " 'lifted': 66849,\n",
       " 'winter': 128721,\n",
       " 'light': 66859,\n",
       " 'melodrama': 72870,\n",
       " 'tricked': 119697,\n",
       " 'lot': 68305,\n",
       " 'existential': 38891,\n",
       " 'angst': 5342,\n",
       " 'comes': 23170,\n",
       " 'shopworn': 104853,\n",
       " 'visual': 125389,\n",
       " 'aural': 8179,\n",
       " 'tricks': 119708,\n",
       " 'deafening': 28462,\n",
       " 'scratching': 101793,\n",
       " 'pencil': 86438,\n",
       " 'paper': 85171,\n",
       " 'towering': 118817,\n",
       " 'surf': 113168,\n",
       " 'dwarfs': 34742,\n",
       " 'walking': 126091,\n",
       " 'beach': 10499,\n",
       " 'etc': 37923,\n",
       " 'later': 65297,\n",
       " 'serious': 103421,\n",
       " 'll': 67607,\n",
       " 'rarely': 94130,\n",
       " 'funnier': 44977,\n",
       " 'blame': 12873,\n",
       " 'timid': 117641,\n",
       " 'writers': 129892,\n",
       " 'clueless': 22274,\n",
       " 'paid': 84798,\n",
       " 'angie': 5298,\n",
       " 'charlie': 19954,\n",
       " 'denise': 29634,\n",
       " 'rosanna': 98669,\n",
       " 'jon': 61130,\n",
       " 'wasn': 126516,\n",
       " 'enough': 37019,\n",
       " 'veil': 124376,\n",
       " 'timidity': 117643,\n",
       " 'cowardice': 25758,\n",
       " 'hung': 55565,\n",
       " 'each': 34870,\n",
       " 'got': 48346,\n",
       " 'rating': 94217,\n",
       " 'anyway': 6079,\n",
       " 'ubiquitous': 121073,\n",
       " 'bubble': 15998,\n",
       " 'bath': 10268,\n",
       " 'shot': 104933,\n",
       " 'year': 130521,\n",
       " 'woman': 129119,\n",
       " 'harmon': 51370,\n",
       " 'does': 32584,\n",
       " 'sheen': 104288,\n",
       " 'sleepwalk': 106698,\n",
       " 'potentially': 90052,\n",
       " 'hot': 54889,\n",
       " 'relationships': 95786,\n",
       " 'beautiful': 10676,\n",
       " 'sexy': 103782,\n",
       " 'actresses': 2175,\n",
       " 'world': 129513,\n",
       " 'laughs': 65449,\n",
       " 'whoopi': 128144,\n",
       " 'goldberg': 47796,\n",
       " 'judy': 61426,\n",
       " 'tenuta': 115665,\n",
       " 'predictable': 90465,\n",
       " 'surprised': 113242,\n",
       " 'five': 42288,\n",
       " 'waste': 126541,\n",
       " 'viewers': 125002,\n",
       " 'mediocre': 72585,\n",
       " 'bag': 9214,\n",
       " 'hammers': 50830,\n",
       " 'bitchy': 12589,\n",
       " 'demeanor': 29451,\n",
       " 'law': 65566,\n",
       " 'order': 83208,\n",
       " 'carries': 18368,\n",
       " 'failed': 39796,\n",
       " 'come': 23067,\n",
       " 'unscathed': 123002,\n",
       " 'anti': 5721,\n",
       " 'positive': 89819,\n",
       " 'mess': 73331,\n",
       " 'marriage': 71103,\n",
       " 'hopefully': 54526,\n",
       " 'effort': 35516,\n",
       " 'produces': 91365,\n",
       " 'way': 126775,\n",
       " 'weak': 126878,\n",
       " 'outdated': 83725,\n",
       " 'country': 25576,\n",
       " 'walker': 126084,\n",
       " 'care': 18056,\n",
       " 'watching': 126605,\n",
       " 'subject': 112048,\n",
       " 'believable': 11199,\n",
       " '2007': 453,\n",
       " 'dc': 28387,\n",
       " 'rang': 93983,\n",
       " 'true': 120068,\n",
       " 'applause': 6350,\n",
       " 'low': 68552,\n",
       " 'quick': 93202,\n",
       " 'stay': 110346,\n",
       " 'schrader': 101454,\n",
       " 'ahead': 3237,\n",
       " 'finished': 42005,\n",
       " 'finish': 42002,\n",
       " 'jumped': 61511,\n",
       " 'next': 79365,\n",
       " 'try': 120168,\n",
       " 'figure': 41508,\n",
       " 'guess': 49629,\n",
       " 'carter': 18416,\n",
       " 'private': 91158,\n",
       " 'boyfriend': 14734,\n",
       " 'artistic': 7206,\n",
       " 'male': 70064,\n",
       " 'bondage': 13942,\n",
       " 'torture': 118588,\n",
       " 'pictures': 87789,\n",
       " 'iraq': 59141,\n",
       " 'prisons': 91141,\n",
       " 'thinking': 116648,\n",
       " 'create': 26150,\n",
       " 'subculture': 112019,\n",
       " 'car': 17961,\n",
       " 'work': 129437,\n",
       " 'sense': 103112,\n",
       " 'harrelson': 51414,\n",
       " 'played': 88543,\n",
       " 'flawlessly': 42574,\n",
       " 'did': 30805,\n",
       " 'may': 71821,\n",
       " 'twenty': 120719,\n",
       " 'ago': 3137,\n",
       " 'likely': 66958,\n",
       " 'recognized': 94949,\n",
       " 'lauren': 65510,\n",
       " 'lily': 67027,\n",
       " 'kristin': 64148,\n",
       " 'unless': 122612,\n",
       " 'giant': 46804,\n",
       " 'pant': 85119,\n",
       " 'load': 67646,\n",
       " 'paul': 85992,\n",
       " 'utterly': 123747,\n",
       " 'own': 84529,\n",
       " 'directing': 31281,\n",
       " 'comatose': 23031,\n",
       " 'sleepwalking': 106701,\n",
       " 'during': 34581,\n",
       " 'process': 91287,\n",
       " 'whom': 128128,\n",
       " ...}"
      ]
     },
     "execution_count": 107,
     "metadata": {},
     "output_type": "execute_result"
    }
   ],
   "source": [
    "vectorizer.vocabulary_"
   ]
  },
  {
   "cell_type": "code",
   "execution_count": 103,
   "metadata": {
    "colab": {
     "base_uri": "https://localhost:8080/",
     "height": 50
    },
    "id": "NNYIgfrBLFB5",
    "outputId": "9bc33ba5-ab9b-498c-f93e-222304dbec36"
   },
   "outputs": [
    {
     "data": {
      "text/plain": [
       "<10x131815 sparse matrix of type '<class 'numpy.int64'>'\n",
       "\twith 1506 stored elements in Compressed Sparse Row format>"
      ]
     },
     "execution_count": 103,
     "metadata": {},
     "output_type": "execute_result"
    }
   ],
   "source": [
    "bow"
   ]
  },
  {
   "cell_type": "code",
   "execution_count": 104,
   "metadata": {
    "colab": {
     "base_uri": "https://localhost:8080/",
     "height": 150
    },
    "id": "LQRNloAyL4Et",
    "outputId": "f20dc6f4-8470-497f-88b3-ca6cfd2584c3"
   },
   "outputs": [
    {
     "name": "stdout",
     "output_type": "stream",
     "text": [
      "(10, 131815)\n",
      "[[0 0 0 ... 0 0 0]\n",
      " [0 0 0 ... 0 0 0]\n",
      " [0 0 0 ... 0 0 0]\n",
      " ...\n",
      " [0 0 0 ... 0 0 0]\n",
      " [0 0 0 ... 0 0 0]\n",
      " [0 0 0 ... 0 0 0]]\n"
     ]
    }
   ],
   "source": [
    "bow = bow.toarray()\n",
    "print(bow.shape)\n",
    "print(bow)"
   ]
  },
  {
   "cell_type": "markdown",
   "metadata": {
    "id": "5vLATQ7zLDIG"
   },
   "source": [
    "Notes:\n",
    "\n",
    "- We don't have control on the vocab size unlike keras\n",
    "\n",
    "- The matrix is (CSR) (Compressed Sparse Row), which is more compact representation for matrices with many zeros. The BoW is very sparse, it's a good way to represent it.\n",
    "You can easily recover the array when needed using `toarray()`\n",
    "\n",
    "- Vocab is all lower case, and punctuation is ignored. All those are configurable from sklearn"
   ]
  },
  {
   "cell_type": "markdown",
   "metadata": {
    "id": "_vsRYeZ47pwa"
   },
   "source": [
    "# TFIDF"
   ]
  },
  {
   "cell_type": "markdown",
   "metadata": {
    "id": "NuHvg4cYMJ-A"
   },
   "source": [
    "The word counts suffer some issues: most frequent words are usually not important (like stop words), while they take high focus/count.\n",
    "\n",
    "TFIDF (Term Frequency - Inverse Document) is a way to adjust those counts:\n",
    "\n",
    "- TF: #mentions within a document\n",
    "- IDF: #mentions across all docs (same as the counts before)\n",
    "\n",
    "So it gives higher importance to rare words across all docs (IDF++, TFIDF--), while it emphasyses on words appearing mostly in THIS doc (TF++, TFIDF--).\n",
    "\n",
    "If a word appearing only in the current doc/sentence, it has TFIDF=1.\n",
    "If a word appears in all docs/sents but not the current one, it has TFIDF=0.\n",
    "If a word (stop word for example) appearing a lot in the current doc/sent and also in ALL others, it will have high TF (count) and much higher IDF (discount), so low TFIDF overall."
   ]
  },
  {
   "cell_type": "code",
   "execution_count": 110,
   "metadata": {
    "colab": {
     "base_uri": "https://localhost:8080/",
     "height": 33
    },
    "id": "vyhPb6b5NzbA",
    "outputId": "ca5864bc-21e6-4e42-e50e-cd22774c4a96"
   },
   "outputs": [
    {
     "data": {
      "text/plain": [
       "(10, 131815)"
      ]
     },
     "execution_count": 110,
     "metadata": {},
     "output_type": "execute_result"
    }
   ],
   "source": [
    "from sklearn.feature_extraction.text import TfidfVectorizer\n",
    "\n",
    "vectorizer = TfidfVectorizer()\n",
    "vectorizer.fit(texts)\n",
    "bow = vectorizer.transform(texts[:10])\n",
    "bow.shape"
   ]
  },
  {
   "cell_type": "code",
   "execution_count": 111,
   "metadata": {
    "colab": {
     "base_uri": "https://localhost:8080/",
     "height": 134
    },
    "id": "rH_t9CMON4UP",
    "outputId": "a72dec5d-e501-45da-f0d0-1ea2679e3699"
   },
   "outputs": [
    {
     "data": {
      "text/plain": [
       "array([[0., 0., 0., ..., 0., 0., 0.],\n",
       "       [0., 0., 0., ..., 0., 0., 0.],\n",
       "       [0., 0., 0., ..., 0., 0., 0.],\n",
       "       ...,\n",
       "       [0., 0., 0., ..., 0., 0., 0.],\n",
       "       [0., 0., 0., ..., 0., 0., 0.],\n",
       "       [0., 0., 0., ..., 0., 0., 0.]])"
      ]
     },
     "execution_count": 111,
     "metadata": {},
     "output_type": "execute_result"
    }
   ],
   "source": [
    "bow.toarray()"
   ]
  },
  {
   "cell_type": "code",
   "execution_count": 113,
   "metadata": {
    "colab": {
     "base_uri": "https://localhost:8080/",
     "height": 117
    },
    "id": "WhFYRm-_N_Dj",
    "outputId": "64a5f599-c64e-43fc-cc47-0aacf79838e0"
   },
   "outputs": [
    {
     "name": "stdout",
     "output_type": "stream",
     "text": [
      "vectorizer.vocabulary_\n",
      "{'the': 7, 'quick': 6, 'brown': 0, 'fox': 2, 'jumped': 3, 'over': 5, 'lazy': 4, 'dog': 1}\n",
      "vectorizer.idf_\n",
      "[1.69314718 1.28768207 1.28768207 1.69314718 1.69314718 1.69314718\n",
      " 1.69314718 1.        ]\n",
      "(1, 8)\n",
      "[[0.36388646 0.27674503 0.27674503 0.36388646 0.36388646 0.36388646\n",
      "  0.36388646 0.42983441]]\n"
     ]
    }
   ],
   "source": [
    "text = [\"The quick brown fox jumped over the lazy dog.\",\n",
    "\"The dog.\",\n",
    "\"The fox\"]\n",
    "\n",
    "vectorizer = TfidfVectorizer()\n",
    "vectorizer.fit(text)\n",
    "# summarize\n",
    "print(\"vectorizer.vocabulary_\")\n",
    "print(vectorizer.vocabulary_)\n",
    "print(\"vectorizer.idf_\")\n",
    "print(vectorizer.idf_)\n",
    "# encode document\n",
    "vector = vectorizer.transform([text[0]])\n",
    "# summarize encoded vector\n",
    "print(vector.shape)\n",
    "print(vector.toarray())\n",
    "\n"
   ]
  },
  {
   "cell_type": "markdown",
   "metadata": {
    "id": "ysaJv9WHOSPq"
   },
   "source": [
    "\n",
    "Notes:\n",
    "\n",
    "- A vocabulary of 8 words is learned from the documents and each word is assigned a unique integer index in the output vector. \n",
    "\n",
    "- The inverse document frequencies are calculated for each\n",
    "word in the vocabulary, assigning the lowest score of 1.0 to the most frequently observed word: the at index 7. \n",
    "\n",
    "- Finally, the first document is encoded as an 8-element sparse array and we can\n",
    "review the final scorings of each word with di\u000b",
    "erent values for the, fox, and dog from the otherwords in the vocabulary.\n",
    "\n",
    "Notice how the words the, do, fox have the lowest scores, since they are mentioned in all the 3 docs. "
   ]
  },
  {
   "cell_type": "markdown",
   "metadata": {
    "id": "l1JrMZhVKO4y"
   },
   "source": [
    "# Putting gll together"
   ]
  },
  {
   "cell_type": "code",
   "execution_count": 114,
   "metadata": {
    "id": "Mutw62D0ftpZ"
   },
   "outputs": [],
   "source": [
    "trn_texts,trn_labels = get_texts(PATH/'train')\n",
    "tst_texts,tst_labels = get_texts(PATH/'test')"
   ]
  },
  {
   "cell_type": "code",
   "execution_count": 115,
   "metadata": {
    "id": "INIuKrjOf1nc"
   },
   "outputs": [],
   "source": [
    "trn_texts = normalize_corpus(trn_texts)\n",
    "tst_texts = normalize_corpus(tst_texts)"
   ]
  },
  {
   "cell_type": "markdown",
   "metadata": {
    "id": "bTZq2ivRXbgC"
   },
   "source": [
    "## BoW\n",
    "\n",
    "### Binary features\n",
    "\n",
    "\n",
    "We will use the tokenizer of keras"
   ]
  },
  {
   "cell_type": "code",
   "execution_count": 116,
   "metadata": {
    "id": "ypSXTn1oW102"
   },
   "outputs": [],
   "source": [
    "# Fit the tokenizer\n",
    "\n",
    "# Either pre-define vocab size\n",
    "# Or get the max possible vocab from text\n",
    "vocab_sz = 10000 # None means all\n",
    "tok = Tokenizer(num_words=vocab_sz, oov_token='UNK')\n",
    "#tok = Tokenizer(oov_token='UNK')\n",
    "tok.fit_on_texts(trn_texts + tst_texts)\n",
    "#vocab_sz = len(tok.word_index) # If all possible vocab, else, it's the predefine vocab_sz. Remember we cannot always use the len(tok.word_index), since it's always the max.\n",
    "\n",
    "# Extract binary BoW features\n",
    "x_train = tok.texts_to_matrix(trn_texts, mode='binary')\n",
    "x_test = tok.texts_to_matrix(tst_texts, mode='binary')\n"
   ]
  },
  {
   "cell_type": "code",
   "execution_count": 117,
   "metadata": {
    "colab": {
     "base_uri": "https://localhost:8080/",
     "height": 84
    },
    "id": "fDrS1gCPZa2O",
    "outputId": "0fb02105-55c5-4020-a76c-c8cd989e9e98"
   },
   "outputs": [
    {
     "name": "stdout",
     "output_type": "stream",
     "text": [
      "(25000, 10000)\n",
      "(25000,)\n",
      "(25000, 10000)\n",
      "(25000,)\n"
     ]
    }
   ],
   "source": [
    "y_train = np.asarray(trn_labels).astype('float32')\n",
    "y_test = np.asarray(tst_labels).astype('float32')\n",
    "\n",
    "print(x_train.shape)\n",
    "print(y_train.shape)\n",
    "print(x_test.shape)\n",
    "print(y_test.shape)"
   ]
  },
  {
   "cell_type": "markdown",
   "metadata": {
    "id": "foXU56LHb7K9"
   },
   "source": [
    "Now we are ready to model as before:"
   ]
  },
  {
   "cell_type": "markdown",
   "metadata": {
    "id": "Bqk_-01Ub9QF"
   },
   "source": [
    "# Model"
   ]
  },
  {
   "cell_type": "code",
   "execution_count": 118,
   "metadata": {
    "colab": {
     "base_uri": "https://localhost:8080/",
     "height": 251
    },
    "id": "HRD1l8jucBYM",
    "outputId": "6af7e34a-a9fa-46c0-c5ac-2b045b4cfcb7"
   },
   "outputs": [
    {
     "name": "stdout",
     "output_type": "stream",
     "text": [
      "Model: \"sequential_1\"\n",
      "_________________________________________________________________\n",
      "Layer (type)                 Output Shape              Param #   \n",
      "=================================================================\n",
      "dense_3 (Dense)              (None, 16)                160016    \n",
      "_________________________________________________________________\n",
      "dense_4 (Dense)              (None, 16)                272       \n",
      "_________________________________________________________________\n",
      "dense_5 (Dense)              (None, 1)                 17        \n",
      "=================================================================\n",
      "Total params: 160,305\n",
      "Trainable params: 160,305\n",
      "Non-trainable params: 0\n",
      "_________________________________________________________________\n"
     ]
    }
   ],
   "source": [
    "from tensorflow.keras import models\n",
    "from tensorflow.keras import layers\n",
    "\n",
    "model = models.Sequential()\n",
    "model.add(layers.Dense(16, activation='relu', input_shape=(10000,)))\n",
    "model.add(layers.Dense(16, activation='relu'))\n",
    "model.add(layers.Dense(1, activation='sigmoid'))\n",
    "model.summary()"
   ]
  },
  {
   "cell_type": "code",
   "execution_count": 119,
   "metadata": {
    "id": "TJhVN95_cT-z"
   },
   "outputs": [
    {
     "name": "stderr",
     "output_type": "stream",
     "text": [
      "C:\\ProgramData\\Anaconda3\\lib\\site-packages\\keras\\optimizer_v2\\optimizer_v2.py:355: UserWarning: The `lr` argument is deprecated, use `learning_rate` instead.\n",
      "  warnings.warn(\n"
     ]
    }
   ],
   "source": [
    "from tensorflow.keras import losses\n",
    "from tensorflow.keras import metrics\n",
    "from tensorflow.keras import optimizers\n",
    "\n",
    "model.compile(optimizer=optimizers.RMSprop(lr=0.001),\n",
    "              loss=losses.binary_crossentropy,\n",
    "              metrics=[metrics.binary_accuracy])"
   ]
  },
  {
   "cell_type": "markdown",
   "metadata": {
    "id": "NXFNcK3CcekO"
   },
   "source": [
    "We can further split the train data into val and test:"
   ]
  },
  {
   "cell_type": "code",
   "execution_count": 120,
   "metadata": {
    "id": "VXg9HmLYciqs"
   },
   "outputs": [],
   "source": [
    "x_val = x_train[:10000]\n",
    "partial_x_train = x_train[10000:]\n",
    "\n",
    "y_val = y_train[:10000]\n",
    "partial_y_train = y_train[10000:]"
   ]
  },
  {
   "cell_type": "code",
   "execution_count": 121,
   "metadata": {
    "colab": {
     "base_uri": "https://localhost:8080/",
     "height": 702
    },
    "id": "nrxuyDeycX8Z",
    "outputId": "a53631b1-a009-4c7a-db7d-7eb9530182bc"
   },
   "outputs": [
    {
     "ename": "TypeError",
     "evalue": "fit() got an unexpected keyword argument 'Verbose'",
     "output_type": "error",
     "traceback": [
      "\u001b[1;31m---------------------------------------------------------------------------\u001b[0m",
      "\u001b[1;31mTypeError\u001b[0m                                 Traceback (most recent call last)",
      "\u001b[1;32m~\\AppData\\Local\\Temp/ipykernel_27080/3292765353.py\u001b[0m in \u001b[0;36m<module>\u001b[1;34m\u001b[0m\n\u001b[1;32m----> 1\u001b[1;33m history = model.fit(partial_x_train,\n\u001b[0m\u001b[0;32m      2\u001b[0m                     \u001b[0mpartial_y_train\u001b[0m\u001b[1;33m,\u001b[0m\u001b[1;33m\u001b[0m\u001b[1;33m\u001b[0m\u001b[0m\n\u001b[0;32m      3\u001b[0m                     \u001b[0mepochs\u001b[0m\u001b[1;33m=\u001b[0m\u001b[1;36m20\u001b[0m\u001b[1;33m,\u001b[0m\u001b[1;33m\u001b[0m\u001b[1;33m\u001b[0m\u001b[0m\n\u001b[0;32m      4\u001b[0m                     \u001b[0mbatch_size\u001b[0m\u001b[1;33m=\u001b[0m\u001b[1;36m512\u001b[0m\u001b[1;33m,\u001b[0m\u001b[1;33m\u001b[0m\u001b[1;33m\u001b[0m\u001b[0m\n\u001b[0;32m      5\u001b[0m                     \u001b[0mvalidation_data\u001b[0m\u001b[1;33m=\u001b[0m\u001b[1;33m(\u001b[0m\u001b[0mx_val\u001b[0m\u001b[1;33m,\u001b[0m \u001b[0my_val\u001b[0m\u001b[1;33m)\u001b[0m\u001b[1;33m\u001b[0m\u001b[1;33m\u001b[0m\u001b[0m\n",
      "\u001b[1;31mTypeError\u001b[0m: fit() got an unexpected keyword argument 'Verbose'"
     ]
    }
   ],
   "source": [
    "history = model.fit(partial_x_train,\n",
    "                    partial_y_train,\n",
    "                    epochs=20,\n",
    "                    batch_size=512,\n",
    "                    validation_data=(x_val, y_val)\n",
    "                    ,Verbose=1\n",
    "                   )"
   ]
  },
  {
   "cell_type": "code",
   "execution_count": null,
   "metadata": {
    "colab": {
     "base_uri": "https://localhost:8080/",
     "height": 295
    },
    "id": "KLD7gNzxcwrv",
    "outputId": "76ab48a1-ae18-4101-99b1-497c183f99d8"
   },
   "outputs": [],
   "source": [
    "history_dict = history.history\n",
    "history_dict.keys()\n",
    "\n",
    "\n",
    "acc = history.history['binary_accuracy']\n",
    "val_acc = history.history['val_binary_accuracy']\n",
    "loss = history.history['loss']\n",
    "val_loss = history.history['val_loss']\n",
    "\n",
    "epochs = range(1, len(acc) + 1)\n",
    "\n",
    "# \"bo\" is for \"blue dot\"\n",
    "plt.plot(epochs, loss, 'bo', label='Training loss')\n",
    "# b is for \"solid blue line\"\n",
    "plt.plot(epochs, val_loss, 'b', label='Validation loss')\n",
    "plt.title('Training and validation loss')\n",
    "plt.xlabel('Epochs')\n",
    "plt.ylabel('Loss')\n",
    "plt.legend()\n",
    "\n",
    "plt.show()"
   ]
  },
  {
   "cell_type": "code",
   "execution_count": null,
   "metadata": {
    "colab": {
     "base_uri": "https://localhost:8080/",
     "height": 295
    },
    "id": "kYDAH7Pac1QJ",
    "outputId": "f30f2568-1287-4270-dab7-8aecf3478a1a"
   },
   "outputs": [],
   "source": [
    "plt.clf()   # clear figure\n",
    "acc_values = history_dict['binary_accuracy']\n",
    "val_acc_values = history_dict['val_binary_accuracy']\n",
    "\n",
    "plt.plot(epochs, acc, 'bo', label='Training acc')\n",
    "plt.plot(epochs, val_acc, 'b', label='Validation acc')\n",
    "plt.title('Training and validation accuracy')\n",
    "plt.xlabel('Epochs')\n",
    "plt.ylabel('Loss')\n",
    "plt.legend()\n",
    "\n",
    "plt.show()"
   ]
  },
  {
   "cell_type": "markdown",
   "metadata": {
    "id": "LweU_KuKuwEy"
   },
   "source": [
    "# Let's compare to the Keras dataset:\n",
    "\n",
    "NOtice that, we could directly use the function `sequences_to_matrix` to obtain the BoW from binarized corpus:"
   ]
  },
  {
   "cell_type": "code",
   "execution_count": null,
   "metadata": {
    "colab": {
     "base_uri": "https://localhost:8080/",
     "height": 719
    },
    "id": "Enby9EAAu1ja",
    "outputId": "4fbc909b-8666-494c-f3a1-eee230c118ec"
   },
   "outputs": [
    {
     "name": "stdout",
     "output_type": "stream",
     "text": [
      "Train on 15000 samples, validate on 10000 samples\n",
      "Epoch 1/20\n",
      "15000/15000 [==============================] - 2s 117us/step - loss: 0.5179 - binary_accuracy: 0.7887 - val_loss: 0.4234 - val_binary_accuracy: 0.8413\n",
      "Epoch 2/20\n",
      "15000/15000 [==============================] - 2s 109us/step - loss: 0.3184 - binary_accuracy: 0.8999 - val_loss: 0.3154 - val_binary_accuracy: 0.8828\n",
      "Epoch 3/20\n",
      "15000/15000 [==============================] - 2s 109us/step - loss: 0.2321 - binary_accuracy: 0.9276 - val_loss: 0.3069 - val_binary_accuracy: 0.8754\n",
      "Epoch 4/20\n",
      "15000/15000 [==============================] - 2s 108us/step - loss: 0.1823 - binary_accuracy: 0.9429 - val_loss: 0.2741 - val_binary_accuracy: 0.8920\n",
      "Epoch 5/20\n",
      "15000/15000 [==============================] - 2s 110us/step - loss: 0.1504 - binary_accuracy: 0.9514 - val_loss: 0.2792 - val_binary_accuracy: 0.8892\n",
      "Epoch 6/20\n",
      "15000/15000 [==============================] - 2s 108us/step - loss: 0.1227 - binary_accuracy: 0.9621 - val_loss: 0.3050 - val_binary_accuracy: 0.8831\n",
      "Epoch 7/20\n",
      "15000/15000 [==============================] - 2s 109us/step - loss: 0.1034 - binary_accuracy: 0.9693 - val_loss: 0.3041 - val_binary_accuracy: 0.8833\n",
      "Epoch 8/20\n",
      "15000/15000 [==============================] - 2s 108us/step - loss: 0.0902 - binary_accuracy: 0.9729 - val_loss: 0.3204 - val_binary_accuracy: 0.8847\n",
      "Epoch 9/20\n",
      "15000/15000 [==============================] - 2s 107us/step - loss: 0.0719 - binary_accuracy: 0.9816 - val_loss: 0.3404 - val_binary_accuracy: 0.8832\n",
      "Epoch 10/20\n",
      "15000/15000 [==============================] - 2s 109us/step - loss: 0.0613 - binary_accuracy: 0.9838 - val_loss: 0.3806 - val_binary_accuracy: 0.8795\n",
      "Epoch 11/20\n",
      "15000/15000 [==============================] - 2s 108us/step - loss: 0.0498 - binary_accuracy: 0.9888 - val_loss: 0.3936 - val_binary_accuracy: 0.8777\n",
      "Epoch 12/20\n",
      "15000/15000 [==============================] - 2s 109us/step - loss: 0.0414 - binary_accuracy: 0.9905 - val_loss: 0.4236 - val_binary_accuracy: 0.8772\n",
      "Epoch 13/20\n",
      "15000/15000 [==============================] - 2s 109us/step - loss: 0.0360 - binary_accuracy: 0.9922 - val_loss: 0.4501 - val_binary_accuracy: 0.8733\n",
      "Epoch 14/20\n",
      "15000/15000 [==============================] - 2s 109us/step - loss: 0.0271 - binary_accuracy: 0.9951 - val_loss: 0.5674 - val_binary_accuracy: 0.8611\n",
      "Epoch 15/20\n",
      "15000/15000 [==============================] - 2s 109us/step - loss: 0.0217 - binary_accuracy: 0.9963 - val_loss: 0.5164 - val_binary_accuracy: 0.8672\n",
      "Epoch 16/20\n",
      "15000/15000 [==============================] - 2s 109us/step - loss: 0.0183 - binary_accuracy: 0.9973 - val_loss: 0.5543 - val_binary_accuracy: 0.8696\n",
      "Epoch 17/20\n",
      "15000/15000 [==============================] - 2s 109us/step - loss: 0.0144 - binary_accuracy: 0.9981 - val_loss: 0.6055 - val_binary_accuracy: 0.8686\n",
      "Epoch 18/20\n",
      "15000/15000 [==============================] - 2s 109us/step - loss: 0.0100 - binary_accuracy: 0.9993 - val_loss: 0.6290 - val_binary_accuracy: 0.8607\n",
      "Epoch 19/20\n",
      "15000/15000 [==============================] - 2s 108us/step - loss: 0.0086 - binary_accuracy: 0.9994 - val_loss: 0.6448 - val_binary_accuracy: 0.8650\n",
      "Epoch 20/20\n",
      "15000/15000 [==============================] - 2s 108us/step - loss: 0.0090 - binary_accuracy: 0.9983 - val_loss: 0.6805 - val_binary_accuracy: 0.8673\n"
     ]
    },
    {
     "data": {
      "text/plain": [
       "dict_keys(['val_loss', 'val_binary_accuracy', 'loss', 'binary_accuracy'])"
      ]
     },
     "execution_count": 96,
     "metadata": {
      "tags": []
     },
     "output_type": "execute_result"
    }
   ],
   "source": [
    "from tensorflow.keras.datasets import imdb\n",
    "\n",
    "(train_data, train_labels), (test_data, test_labels) = imdb.load_data(num_words=10000)\n",
    "\n",
    "vocab_sz = 10000\n",
    "tok = Tokenizer(num_words=vocab_sz, oov_token='UNK')\n",
    "tok.fit_on_texts(trn_texts + tst_texts)\n",
    "#vocab_sz = len(tok.word_index)\n",
    "\n",
    "# Extract binary BoW features\n",
    "x_train = tok.sequences_to_matrix(train_data, mode='binary')\n",
    "x_test = tok.sequences_to_matrix(test_data, mode='binary')\n",
    "y_train = np.asarray(train_labels).astype('float32')\n",
    "y_test = np.asarray(test_labels).astype('float32')\n",
    "\n",
    "x_val = x_train[:10000]\n",
    "partial_x_train = x_train[10000:]\n",
    "\n",
    "y_val = y_train[:10000]\n",
    "partial_y_train = y_train[10000:]\n",
    "\n",
    "model = models.Sequential()\n",
    "model.add(layers.Dense(16, activation='relu', input_shape=(10000,)))\n",
    "model.add(layers.Dense(16, activation='relu'))\n",
    "model.add(layers.Dense(1, activation='sigmoid'))\n",
    "\n",
    "model.compile(optimizer=optimizers.RMSprop(lr=0.001),\n",
    "              loss=losses.binary_crossentropy,\n",
    "              metrics=[metrics.binary_accuracy])\n",
    "\t\t\t  \n",
    "history = model.fit(partial_x_train,\n",
    "                    partial_y_train,\n",
    "                    epochs=20,\n",
    "                    batch_size=512,\n",
    "                    validation_data=(x_val, y_val))\n",
    "\n",
    "history_dict = history.history\n",
    "history_dict.keys()\n",
    "\n",
    "\n"
   ]
  },
  {
   "cell_type": "code",
   "execution_count": null,
   "metadata": {
    "colab": {
     "base_uri": "https://localhost:8080/",
     "height": 295
    },
    "id": "Dkw6_nxnvApZ",
    "outputId": "f4a17c93-5bc7-4b7e-8908-1ac0b6c2f3da"
   },
   "outputs": [
    {
     "data": {
      "image/png": "[encoded data removed]",
      "text/plain": [
       "<Figure size 432x288 with 1 Axes>"
      ]
     },
     "metadata": {
      "needs_background": "light",
      "tags": []
     },
     "output_type": "display_data"
    }
   ],
   "source": [
    "\n",
    "acc = history.history['binary_accuracy']\n",
    "val_acc = history.history['val_binary_accuracy']\n",
    "loss = history.history['loss']\n",
    "val_loss = history.history['val_loss']\n",
    "\n",
    "epochs = range(1, len(acc) + 1)\n",
    "\n",
    "# \"bo\" is for \"blue dot\"\n",
    "plt.plot(epochs, loss, 'bo', label='Training loss')\n",
    "# b is for \"solid blue line\"\n",
    "plt.plot(epochs, val_loss, 'b', label='Validation loss')\n",
    "plt.title('Training and validation loss')\n",
    "plt.xlabel('Epochs')\n",
    "plt.ylabel('Loss')\n",
    "plt.legend()\n",
    "\n",
    "plt.show()\n"
   ]
  },
  {
   "cell_type": "code",
   "execution_count": null,
   "metadata": {
    "colab": {
     "base_uri": "https://localhost:8080/",
     "height": 295
    },
    "id": "E_y4-5MbvA1j",
    "outputId": "ff15032c-7dfd-474d-9bd0-040383c741bb"
   },
   "outputs": [
    {
     "data": {
      "image/png": "[encoded data removed]",
      "text/plain": [
       "<Figure size 432x288 with 1 Axes>"
      ]
     },
     "metadata": {
      "needs_background": "light",
      "tags": []
     },
     "output_type": "display_data"
    }
   ],
   "source": [
    "plt.clf()   # clear figure\n",
    "acc_values = history_dict['binary_accuracy']\n",
    "val_acc_values = history_dict['val_binary_accuracy']\n",
    "\n",
    "plt.plot(epochs, acc, 'bo', label='Training acc')\n",
    "plt.plot(epochs, val_acc, 'b', label='Validation acc')\n",
    "plt.title('Training and validation accuracy')\n",
    "plt.xlabel('Epochs')\n",
    "plt.ylabel('Loss')\n",
    "plt.legend()\n",
    "\n",
    "plt.show()"
   ]
  },
  {
   "cell_type": "markdown",
   "metadata": {
    "id": "jotNAH_DwAsJ"
   },
   "source": [
    "# So what happened?\n",
    "\n",
    "As you can see, the val loss curves with Keras data has much higher (~87%) accuracy than the one we used.\n",
    "\n",
    "__The reason is that we assumed the data is shuffled!__\n",
    "\n",
    "If you revise the get_texts function we implemented, it takes all the class data in sequence. \n",
    "\n",
    "Our train/val split did not contain any shuffling.\n",
    "\n",
    "To fix this, we could manually shuffle:\n",
    "\n",
    "```\n",
    "VALIDATION_SPLIT = 0.4 # corresponds to 10,000 samples out of 25,000\n",
    "\n",
    "indices = np.arange(x_train.shape[0])\n",
    "np.random.shuffle(indices)\n",
    "x_train = x_train[indices]\n",
    "y_train = y_train[indices]\n",
    "nb_validation_samples = int(VALIDATION_SPLIT * x_train.shape[0])\n",
    "\n",
    "partial_x_train = train_data[:-nb_validation_samples]\n",
    "partial_y_train = train_targets[:-nb_validation_samples]\n",
    "x_val = train_data[-nb_validation_samples:]\n",
    "y_val = train_targets[-nb_validation_samples:]\n",
    "\n",
    "print('Number of positive and negative reviews in traing and validation set')\n",
    "print(y_train.sum(axis=0))\n",
    "print(y_val.sum(axis=0))\n",
    "```"
   ]
  },
  {
   "cell_type": "markdown",
   "metadata": {
    "id": "TzuqKff0w3Z5"
   },
   "source": [
    "Or we could use sklearn `train_test_split` function:"
   ]
  },
  {
   "cell_type": "code",
   "execution_count": null,
   "metadata": {
    "id": "4K3lDyV5Z7fZ"
   },
   "outputs": [],
   "source": [
    "trn_texts,trn_labels = get_texts(PATH/'train')\n",
    "tst_texts,tst_labels = get_texts(PATH/'test')\n",
    "\n",
    "trn_texts = normalize_corpus(trn_texts)\n",
    "tst_texts = normalize_corpus(tst_texts)\n",
    "\n",
    "vocab_sz = 10000\n",
    "tok = Tokenizer(num_words=vocab_sz, oov_token='UNK')\n",
    "tok.fit_on_texts(trn_texts + tst_texts)\n",
    "#vocab_sz = len(tok.word_index)\n",
    "# Extract binary BoW features\n",
    "x_train = tok.sequences_to_matrix(train_data, mode='binary')\n",
    "x_test = tok.sequences_to_matrix(test_data, mode='binary')\n",
    "y_train = np.asarray(train_labels).astype('float32')\n",
    "y_test = np.asarray(test_labels).astype('float32')\n",
    "\n",
    "x_train, x_val, y_train, y_val = train_test_split(x_train, y_train, test_size=0.4, random_state=42)"
   ]
  },
  {
   "cell_type": "code",
   "execution_count": null,
   "metadata": {
    "colab": {
     "base_uri": "https://localhost:8080/",
     "height": 719
    },
    "id": "ijcjFCXMt-SR",
    "outputId": "11d157a0-16a7-4483-a72d-95f9af644c67"
   },
   "outputs": [
    {
     "name": "stdout",
     "output_type": "stream",
     "text": [
      "Train on 15000 samples, validate on 10000 samples\n",
      "Epoch 1/20\n",
      "15000/15000 [==============================] - 2s 146us/step - loss: 0.4886 - binary_accuracy: 0.8187 - val_loss: 0.3660 - val_binary_accuracy: 0.8732\n",
      "Epoch 2/20\n",
      "15000/15000 [==============================] - 2s 126us/step - loss: 0.2840 - binary_accuracy: 0.9051 - val_loss: 0.3200 - val_binary_accuracy: 0.8719\n",
      "Epoch 3/20\n",
      "15000/15000 [==============================] - 2s 127us/step - loss: 0.2132 - binary_accuracy: 0.9261 - val_loss: 0.2939 - val_binary_accuracy: 0.8842\n",
      "Epoch 4/20\n",
      "15000/15000 [==============================] - 2s 125us/step - loss: 0.1680 - binary_accuracy: 0.9433 - val_loss: 0.3135 - val_binary_accuracy: 0.8760\n",
      "Epoch 5/20\n",
      "15000/15000 [==============================] - 2s 124us/step - loss: 0.1402 - binary_accuracy: 0.9537 - val_loss: 0.3332 - val_binary_accuracy: 0.8766\n",
      "Epoch 6/20\n",
      "15000/15000 [==============================] - 2s 122us/step - loss: 0.1143 - binary_accuracy: 0.9639 - val_loss: 0.3323 - val_binary_accuracy: 0.8794\n",
      "Epoch 7/20\n",
      "15000/15000 [==============================] - 2s 123us/step - loss: 0.0927 - binary_accuracy: 0.9717 - val_loss: 0.3565 - val_binary_accuracy: 0.8773\n",
      "Epoch 8/20\n",
      "15000/15000 [==============================] - 2s 125us/step - loss: 0.0769 - binary_accuracy: 0.9779 - val_loss: 0.3943 - val_binary_accuracy: 0.8734\n",
      "Epoch 9/20\n",
      "15000/15000 [==============================] - 2s 125us/step - loss: 0.0610 - binary_accuracy: 0.9841 - val_loss: 0.4207 - val_binary_accuracy: 0.8731\n",
      "Epoch 10/20\n",
      "15000/15000 [==============================] - 2s 126us/step - loss: 0.0492 - binary_accuracy: 0.9887 - val_loss: 0.4787 - val_binary_accuracy: 0.8656\n",
      "Epoch 11/20\n",
      "15000/15000 [==============================] - 2s 126us/step - loss: 0.0407 - binary_accuracy: 0.9908 - val_loss: 0.5180 - val_binary_accuracy: 0.8626\n",
      "Epoch 12/20\n",
      "15000/15000 [==============================] - 2s 125us/step - loss: 0.0309 - binary_accuracy: 0.9939 - val_loss: 0.5441 - val_binary_accuracy: 0.8675\n",
      "Epoch 13/20\n",
      "15000/15000 [==============================] - 2s 126us/step - loss: 0.0251 - binary_accuracy: 0.9951 - val_loss: 0.5929 - val_binary_accuracy: 0.8662\n",
      "Epoch 14/20\n",
      "15000/15000 [==============================] - 2s 124us/step - loss: 0.0197 - binary_accuracy: 0.9968 - val_loss: 0.6309 - val_binary_accuracy: 0.8650\n",
      "Epoch 15/20\n",
      "15000/15000 [==============================] - 2s 126us/step - loss: 0.0148 - binary_accuracy: 0.9979 - val_loss: 0.6815 - val_binary_accuracy: 0.8642\n",
      "Epoch 16/20\n",
      "15000/15000 [==============================] - 2s 127us/step - loss: 0.0130 - binary_accuracy: 0.9980 - val_loss: 0.7313 - val_binary_accuracy: 0.8618\n",
      "Epoch 17/20\n",
      "15000/15000 [==============================] - 2s 126us/step - loss: 0.0084 - binary_accuracy: 0.9985 - val_loss: 0.7793 - val_binary_accuracy: 0.8605\n",
      "Epoch 18/20\n",
      "15000/15000 [==============================] - 2s 126us/step - loss: 0.0066 - binary_accuracy: 0.9992 - val_loss: 0.9119 - val_binary_accuracy: 0.8496\n",
      "Epoch 19/20\n",
      "15000/15000 [==============================] - 2s 125us/step - loss: 0.0051 - binary_accuracy: 0.9992 - val_loss: 0.8987 - val_binary_accuracy: 0.8570\n",
      "Epoch 20/20\n",
      "15000/15000 [==============================] - 2s 124us/step - loss: 0.0051 - binary_accuracy: 0.9990 - val_loss: 0.9570 - val_binary_accuracy: 0.8538\n"
     ]
    },
    {
     "data": {
      "text/plain": [
       "dict_keys(['val_loss', 'val_binary_accuracy', 'loss', 'binary_accuracy'])"
      ]
     },
     "execution_count": 100,
     "metadata": {
      "tags": []
     },
     "output_type": "execute_result"
    }
   ],
   "source": [
    "\n",
    "\n",
    "model = models.Sequential()\n",
    "model.add(layers.Dense(16, activation='relu', input_shape=(10000,)))\n",
    "model.add(layers.Dense(16, activation='relu'))\n",
    "model.add(layers.Dense(1, activation='sigmoid'))\n",
    "\n",
    "model.compile(optimizer=optimizers.RMSprop(lr=0.001),\n",
    "              loss=losses.binary_crossentropy,\n",
    "              metrics=[metrics.binary_accuracy])\n",
    "\t\t\t  \n",
    "history = model.fit(x_train,\n",
    "                    y_train,\n",
    "                    epochs=20,\n",
    "                    batch_size=512,\n",
    "                    validation_data=(x_val, y_val))\n",
    "history_dict = history.history\n",
    "history_dict.keys()"
   ]
  },
  {
   "cell_type": "code",
   "execution_count": null,
   "metadata": {
    "colab": {
     "base_uri": "https://localhost:8080/",
     "height": 295
    },
    "id": "9hDnTL_2vGrX",
    "outputId": "a270c3b0-bf75-49c0-b42f-0a679b6ac256"
   },
   "outputs": [
    {
     "data": {
      "image/png": "[encoded data removed]",
      "text/plain": [
       "<Figure size 432x288 with 1 Axes>"
      ]
     },
     "metadata": {
      "needs_background": "light",
      "tags": []
     },
     "output_type": "display_data"
    }
   ],
   "source": [
    "\n",
    "acc = history.history['binary_accuracy']\n",
    "val_acc = history.history['val_binary_accuracy']\n",
    "loss = history.history['loss']\n",
    "val_loss = history.history['val_loss']\n",
    "\n",
    "epochs = range(1, len(acc) + 1)\n",
    "\n",
    "# \"bo\" is for \"blue dot\"\n",
    "plt.plot(epochs, loss, 'bo', label='Training loss')\n",
    "# b is for \"solid blue line\"\n",
    "plt.plot(epochs, val_loss, 'b', label='Validation loss')\n",
    "plt.title('Training and validation loss')\n",
    "plt.xlabel('Epochs')\n",
    "plt.ylabel('Loss')\n",
    "plt.legend()\n",
    "\n",
    "plt.show()"
   ]
  },
  {
   "cell_type": "code",
   "execution_count": null,
   "metadata": {
    "colab": {
     "base_uri": "https://localhost:8080/",
     "height": 295
    },
    "id": "U7dZJJKgvG2G",
    "outputId": "fdc5529f-20ee-4073-c14a-3dec34b1e3fb"
   },
   "outputs": [
    {
     "data": {
      "image/png": "[encoded data removed]",
      "text/plain": [
       "<Figure size 432x288 with 1 Axes>"
      ]
     },
     "metadata": {
      "needs_background": "light",
      "tags": []
     },
     "output_type": "display_data"
    }
   ],
   "source": [
    "\n",
    "plt.clf()   # clear figure\n",
    "acc_values = history_dict['binary_accuracy']\n",
    "val_acc_values = history_dict['val_binary_accuracy']\n",
    "\n",
    "plt.plot(epochs, acc, 'bo', label='Training acc')\n",
    "plt.plot(epochs, val_acc, 'b', label='Validation acc')\n",
    "plt.title('Training and validation accuracy')\n",
    "plt.xlabel('Epochs')\n",
    "plt.ylabel('Loss')\n",
    "plt.legend()\n",
    "\n",
    "plt.show()"
   ]
  },
  {
   "cell_type": "markdown",
   "metadata": {
    "id": "09Sx4f83INfs"
   },
   "source": [
    "### Count/Freq features"
   ]
  },
  {
   "cell_type": "markdown",
   "metadata": {
    "id": "PUs-eMUwI6Q1"
   },
   "source": [
    "## Count"
   ]
  },
  {
   "cell_type": "code",
   "execution_count": null,
   "metadata": {
    "id": "0Wr8pZCtJApM"
   },
   "outputs": [],
   "source": [
    "'''\n",
    "trn_texts,trn_labels = get_texts(PATH/'train')\n",
    "tst_texts,tst_labels = get_texts(PATH/'test')\n",
    "\n",
    "trn_texts = normalize_corpus(trn_texts)\n",
    "tst_texts = normalize_corpus(tst_texts)\n",
    "\n",
    "vocab_sz = 10000\n",
    "tok = Tokenizer(num_words=vocab_sz, oov_token='UNK')\n",
    "tok.fit_on_texts(trn_texts + tst_texts)\n",
    "#vocab_sz = len(tok.word_index)\n",
    "'''\n",
    "# Extract binary BoW features\n",
    "x_train = tok.texts_to_matrix(trn_texts, mode='count')\n",
    "x_test = tok.texts_to_matrix(tst_texts, mode='count')\n",
    "y_train = np.asarray(trn_labels).astype('float32')\n",
    "y_test = np.asarray(tst_labels).astype('float32')\n",
    "\n",
    "x_train, x_val, y_train, y_val = train_test_split(x_train, y_train, test_size=0.4, random_state=42)\n"
   ]
  },
  {
   "cell_type": "code",
   "execution_count": null,
   "metadata": {
    "colab": {
     "base_uri": "https://localhost:8080/",
     "height": 134
    },
    "id": "P7GMwSfDJN8D",
    "outputId": "ee79310a-0b44-439d-b50d-7293a966cc77"
   },
   "outputs": [
    {
     "data": {
      "text/plain": [
       "array([[ 0., 13.,  0., ...,  0.,  0.,  0.],\n",
       "       [ 0.,  3.,  2., ...,  0.,  0.,  0.],\n",
       "       [ 0.,  2.,  0., ...,  0.,  0.,  0.],\n",
       "       ...,\n",
       "       [ 0., 13.,  5., ...,  0.,  0.,  0.],\n",
       "       [ 0.,  6.,  1., ...,  0.,  0.,  0.],\n",
       "       [ 0., 19.,  0., ...,  0.,  0.,  0.]])"
      ]
     },
     "execution_count": 27,
     "metadata": {
      "tags": []
     },
     "output_type": "execute_result"
    }
   ],
   "source": [
    "x_train"
   ]
  },
  {
   "cell_type": "code",
   "execution_count": null,
   "metadata": {
    "colab": {
     "base_uri": "https://localhost:8080/",
     "height": 719
    },
    "id": "cZ_DxI9nJFi_",
    "outputId": "2c7d4ae2-9e27-4852-df9a-a32e50da64f2"
   },
   "outputs": [
    {
     "name": "stdout",
     "output_type": "stream",
     "text": [
      "Train on 15000 samples, validate on 10000 samples\n",
      "Epoch 1/20\n",
      "15000/15000 [==============================] - 2s 130us/step - loss: 0.4968 - binary_accuracy: 0.8015 - val_loss: 0.3833 - val_binary_accuracy: 0.8666\n",
      "Epoch 2/20\n",
      "15000/15000 [==============================] - 1s 99us/step - loss: 0.2965 - binary_accuracy: 0.9026 - val_loss: 0.3106 - val_binary_accuracy: 0.8842\n",
      "Epoch 3/20\n",
      "15000/15000 [==============================] - 1s 99us/step - loss: 0.2196 - binary_accuracy: 0.9265 - val_loss: 0.3016 - val_binary_accuracy: 0.8871\n",
      "Epoch 4/20\n",
      "15000/15000 [==============================] - 1s 98us/step - loss: 0.1767 - binary_accuracy: 0.9405 - val_loss: 0.3086 - val_binary_accuracy: 0.8845\n",
      "Epoch 5/20\n",
      "15000/15000 [==============================] - 1s 100us/step - loss: 0.1448 - binary_accuracy: 0.9533 - val_loss: 0.3411 - val_binary_accuracy: 0.8767\n",
      "Epoch 6/20\n",
      "15000/15000 [==============================] - 1s 99us/step - loss: 0.1218 - binary_accuracy: 0.9609 - val_loss: 0.3525 - val_binary_accuracy: 0.8794\n",
      "Epoch 7/20\n",
      "15000/15000 [==============================] - 1s 98us/step - loss: 0.0998 - binary_accuracy: 0.9685 - val_loss: 0.3771 - val_binary_accuracy: 0.8754\n",
      "Epoch 8/20\n",
      "15000/15000 [==============================] - 1s 98us/step - loss: 0.0847 - binary_accuracy: 0.9743 - val_loss: 0.4048 - val_binary_accuracy: 0.8740\n",
      "Epoch 9/20\n",
      "15000/15000 [==============================] - 1s 99us/step - loss: 0.0697 - binary_accuracy: 0.9797 - val_loss: 0.4374 - val_binary_accuracy: 0.8689\n",
      "Epoch 10/20\n",
      "15000/15000 [==============================] - 1s 98us/step - loss: 0.0586 - binary_accuracy: 0.9847 - val_loss: 0.4777 - val_binary_accuracy: 0.8672\n",
      "Epoch 11/20\n",
      "15000/15000 [==============================] - 1s 99us/step - loss: 0.0485 - binary_accuracy: 0.9867 - val_loss: 0.5146 - val_binary_accuracy: 0.8627\n",
      "Epoch 12/20\n",
      "15000/15000 [==============================] - 2s 100us/step - loss: 0.0381 - binary_accuracy: 0.9909 - val_loss: 0.5754 - val_binary_accuracy: 0.8611\n",
      "Epoch 13/20\n",
      "15000/15000 [==============================] - 1s 98us/step - loss: 0.0322 - binary_accuracy: 0.9921 - val_loss: 0.6044 - val_binary_accuracy: 0.8607\n",
      "Epoch 14/20\n",
      "15000/15000 [==============================] - 1s 100us/step - loss: 0.0270 - binary_accuracy: 0.9945 - val_loss: 0.6475 - val_binary_accuracy: 0.8593\n",
      "Epoch 15/20\n",
      "15000/15000 [==============================] - 1s 99us/step - loss: 0.0218 - binary_accuracy: 0.9963 - val_loss: 0.6915 - val_binary_accuracy: 0.8575\n",
      "Epoch 16/20\n",
      "15000/15000 [==============================] - 1s 100us/step - loss: 0.0164 - binary_accuracy: 0.9975 - val_loss: 0.7417 - val_binary_accuracy: 0.8574\n",
      "Epoch 17/20\n",
      "15000/15000 [==============================] - 1s 98us/step - loss: 0.0147 - binary_accuracy: 0.9971 - val_loss: 0.8756 - val_binary_accuracy: 0.8490\n",
      "Epoch 18/20\n",
      "15000/15000 [==============================] - 1s 99us/step - loss: 0.0116 - binary_accuracy: 0.9979 - val_loss: 0.8869 - val_binary_accuracy: 0.8482\n",
      "Epoch 19/20\n",
      "15000/15000 [==============================] - 1s 100us/step - loss: 0.0086 - binary_accuracy: 0.9989 - val_loss: 0.9267 - val_binary_accuracy: 0.8483\n",
      "Epoch 20/20\n",
      "15000/15000 [==============================] - 1s 99us/step - loss: 0.0069 - binary_accuracy: 0.9989 - val_loss: 0.9664 - val_binary_accuracy: 0.8538\n"
     ]
    },
    {
     "data": {
      "text/plain": [
       "dict_keys(['val_loss', 'val_binary_accuracy', 'loss', 'binary_accuracy'])"
      ]
     },
     "execution_count": 28,
     "metadata": {
      "tags": []
     },
     "output_type": "execute_result"
    }
   ],
   "source": [
    "\n",
    "x_train, x_val, y_train, y_val = train_test_split(x_train, y_train, test_size=0.4, random_state=42)\n",
    "\n",
    "model = models.Sequential()\n",
    "model.add(layers.Dense(16, activation='relu', input_shape=(10000,)))\n",
    "model.add(layers.Dense(16, activation='relu'))\n",
    "model.add(layers.Dense(1, activation='sigmoid'))\n",
    "\n",
    "model.compile(optimizer=optimizers.RMSprop(lr=0.001),\n",
    "              loss=losses.binary_crossentropy,\n",
    "              metrics=[metrics.binary_accuracy])\n",
    "\t\t\t  \n",
    "history = model.fit(x_train,\n",
    "                    y_train,\n",
    "                    epochs=20,\n",
    "                    batch_size=512,\n",
    "                    validation_data=(x_val, y_val))\n",
    "history_dict = history.history\n",
    "history_dict.keys()"
   ]
  },
  {
   "cell_type": "code",
   "execution_count": null,
   "metadata": {
    "colab": {
     "base_uri": "https://localhost:8080/",
     "height": 295
    },
    "id": "jHsc1C-GJXzH",
    "outputId": "023e67b7-02b7-4b73-bd7f-1f9a3689d97c"
   },
   "outputs": [
    {
     "data": {
      "image/png": "[encoded data removed]",
      "text/plain": [
       "<Figure size 432x288 with 1 Axes>"
      ]
     },
     "metadata": {
      "needs_background": "light",
      "tags": []
     },
     "output_type": "display_data"
    }
   ],
   "source": [
    "\n",
    "acc = history.history['binary_accuracy']\n",
    "val_acc = history.history['val_binary_accuracy']\n",
    "loss = history.history['loss']\n",
    "val_loss = history.history['val_loss']\n",
    "\n",
    "epochs = range(1, len(acc) + 1)\n",
    "\n",
    "# \"bo\" is for \"blue dot\"\n",
    "plt.plot(epochs, loss, 'bo', label='Training loss')\n",
    "# b is for \"solid blue line\"\n",
    "plt.plot(epochs, val_loss, 'b', label='Validation loss')\n",
    "plt.title('Training and validation loss')\n",
    "plt.xlabel('Epochs')\n",
    "plt.ylabel('Loss')\n",
    "plt.legend()\n",
    "\n",
    "plt.show()"
   ]
  },
  {
   "cell_type": "code",
   "execution_count": null,
   "metadata": {
    "colab": {
     "base_uri": "https://localhost:8080/",
     "height": 295
    },
    "id": "PVx73BhUJYcS",
    "outputId": "f1840a5d-1d9d-45e8-9922-9f1029b1ab23"
   },
   "outputs": [
    {
     "data": {
      "image/png": "[encoded data removed]",
      "text/plain": [
       "<Figure size 432x288 with 1 Axes>"
      ]
     },
     "metadata": {
      "needs_background": "light",
      "tags": []
     },
     "output_type": "display_data"
    }
   ],
   "source": [
    "plt.clf()   # clear figure\n",
    "acc_values = history_dict['binary_accuracy']\n",
    "val_acc_values = history_dict['val_binary_accuracy']\n",
    "\n",
    "plt.plot(epochs, acc, 'bo', label='Training acc')\n",
    "plt.plot(epochs, val_acc, 'b', label='Validation acc')\n",
    "plt.title('Training and validation accuracy')\n",
    "plt.xlabel('Epochs')\n",
    "plt.ylabel('Loss')\n",
    "plt.legend()\n",
    "\n",
    "plt.show()"
   ]
  },
  {
   "cell_type": "markdown",
   "metadata": {
    "id": "IA4YrDZbI9HI"
   },
   "source": [
    "As you can see above, the counts are not normalized values, which is not good for the NN (neurons activations prefer normalized values, however, for Dense and Relu it makes no big difference).\n",
    "\n",
    "However, making just unnormalized counts is the same as binary BoW, since high frequency words will dominate the vector, specially that it's very sparse, causing quick overfitting. In other words, important low freq words are discarded. This can be treated with TF-IDF, or at least by normalizing, so the network might undersand that low frequencies have special importance.\n",
    "\n",
    "In all cases, let's try to normalize into freq and see the differene:"
   ]
  },
  {
   "cell_type": "markdown",
   "metadata": {
    "id": "K1vYACbaI7v7"
   },
   "source": [
    "## Freq"
   ]
  },
  {
   "cell_type": "code",
   "execution_count": null,
   "metadata": {
    "id": "gDZ53eLWJSuX"
   },
   "outputs": [],
   "source": [
    "'''\n",
    "trn_texts,trn_labels = get_texts(PATH/'train')\n",
    "tst_texts,tst_labels = get_texts(PATH/'test')\n",
    "\n",
    "trn_texts = normalize_corpus(trn_texts)\n",
    "tst_texts = normalize_corpus(tst_texts)\n",
    "\n",
    "vocab_sz = 10000\n",
    "tok = Tokenizer(num_words=vocab_sz, oov_token='UNK')\n",
    "tok.fit_on_texts(trn_texts + tst_texts)\n",
    "#vocab_sz = len(tok.word_index)\n",
    "'''\n",
    "# Extract binary BoW features\n",
    "x_train = tok.texts_to_matrix(trn_texts, mode='freq')\n",
    "x_test = tok.texts_to_matrix(tst_texts, mode='freq')\n",
    "y_train = np.asarray(trn_labels).astype('float32')\n",
    "y_test = np.asarray(tst_labels).astype('float32')\n",
    "\n",
    "x_train, x_val, y_train, y_val = train_test_split(x_train, y_train, test_size=0.4, random_state=42)"
   ]
  },
  {
   "cell_type": "code",
   "execution_count": null,
   "metadata": {
    "colab": {
     "base_uri": "https://localhost:8080/",
     "height": 234
    },
    "id": "MoBF-8cKJTLo",
    "outputId": "da799f35-4049-4d6a-f203-1d14131492d9"
   },
   "outputs": [
    {
     "data": {
      "text/plain": [
       "array([[0.        , 0.09090909, 0.        , ..., 0.        , 0.        ,\n",
       "        0.        ],\n",
       "       [0.        , 0.09895833, 0.015625  , ..., 0.        , 0.        ,\n",
       "        0.        ],\n",
       "       [0.        , 0.08176101, 0.        , ..., 0.        , 0.        ,\n",
       "        0.        ],\n",
       "       ...,\n",
       "       [0.        , 0.08737864, 0.00485437, ..., 0.        , 0.        ,\n",
       "        0.        ],\n",
       "       [0.        , 0.01666667, 0.03333333, ..., 0.        , 0.        ,\n",
       "        0.        ],\n",
       "       [0.        , 0.06024096, 0.03313253, ..., 0.        , 0.        ,\n",
       "        0.        ]])"
      ]
     },
     "execution_count": 25,
     "metadata": {
      "tags": []
     },
     "output_type": "execute_result"
    }
   ],
   "source": [
    "x_train"
   ]
  },
  {
   "cell_type": "code",
   "execution_count": null,
   "metadata": {
    "colab": {
     "base_uri": "https://localhost:8080/",
     "height": 719
    },
    "id": "DY3EF3oJIW0R",
    "outputId": "e4344036-9e05-47ef-b5e8-10428f741067"
   },
   "outputs": [
    {
     "name": "stdout",
     "output_type": "stream",
     "text": [
      "Train on 15000 samples, validate on 10000 samples\n",
      "Epoch 1/20\n",
      "15000/15000 [==============================] - 2s 100us/step - loss: 0.6899 - binary_accuracy: 0.5448 - val_loss: 0.6858 - val_binary_accuracy: 0.7926\n",
      "Epoch 2/20\n",
      "15000/15000 [==============================] - 1s 92us/step - loss: 0.6795 - binary_accuracy: 0.7297 - val_loss: 0.6736 - val_binary_accuracy: 0.6127\n",
      "Epoch 3/20\n",
      "15000/15000 [==============================] - 1s 93us/step - loss: 0.6630 - binary_accuracy: 0.7353 - val_loss: 0.6552 - val_binary_accuracy: 0.7017\n",
      "Epoch 4/20\n",
      "15000/15000 [==============================] - 1s 92us/step - loss: 0.6401 - binary_accuracy: 0.7746 - val_loss: 0.6311 - val_binary_accuracy: 0.8238\n",
      "Epoch 5/20\n",
      "15000/15000 [==============================] - 1s 93us/step - loss: 0.6116 - binary_accuracy: 0.8211 - val_loss: 0.6031 - val_binary_accuracy: 0.7718\n",
      "Epoch 6/20\n",
      "15000/15000 [==============================] - 1s 92us/step - loss: 0.5784 - binary_accuracy: 0.8299 - val_loss: 0.5700 - val_binary_accuracy: 0.8266\n",
      "Epoch 7/20\n",
      "15000/15000 [==============================] - 1s 94us/step - loss: 0.5422 - binary_accuracy: 0.8491 - val_loss: 0.5361 - val_binary_accuracy: 0.8316\n",
      "Epoch 8/20\n",
      "15000/15000 [==============================] - 1s 93us/step - loss: 0.5045 - binary_accuracy: 0.8583 - val_loss: 0.5011 - val_binary_accuracy: 0.8460\n",
      "Epoch 9/20\n",
      "15000/15000 [==============================] - 1s 96us/step - loss: 0.4665 - binary_accuracy: 0.8686 - val_loss: 0.4677 - val_binary_accuracy: 0.8579\n",
      "Epoch 10/20\n",
      "15000/15000 [==============================] - 1s 95us/step - loss: 0.4300 - binary_accuracy: 0.8759 - val_loss: 0.4359 - val_binary_accuracy: 0.8580\n",
      "Epoch 11/20\n",
      "15000/15000 [==============================] - 1s 91us/step - loss: 0.3958 - binary_accuracy: 0.8827 - val_loss: 0.4070 - val_binary_accuracy: 0.8671\n",
      "Epoch 12/20\n",
      "15000/15000 [==============================] - 1s 93us/step - loss: 0.3645 - binary_accuracy: 0.8894 - val_loss: 0.3820 - val_binary_accuracy: 0.8685\n",
      "Epoch 13/20\n",
      "15000/15000 [==============================] - 1s 93us/step - loss: 0.3367 - binary_accuracy: 0.8944 - val_loss: 0.3602 - val_binary_accuracy: 0.8731\n",
      "Epoch 14/20\n",
      "15000/15000 [==============================] - 1s 93us/step - loss: 0.3123 - binary_accuracy: 0.8988 - val_loss: 0.3422 - val_binary_accuracy: 0.8744\n",
      "Epoch 15/20\n",
      "15000/15000 [==============================] - 1s 93us/step - loss: 0.2912 - binary_accuracy: 0.9041 - val_loss: 0.3274 - val_binary_accuracy: 0.8774\n",
      "Epoch 16/20\n",
      "15000/15000 [==============================] - 1s 91us/step - loss: 0.2729 - binary_accuracy: 0.9088 - val_loss: 0.3157 - val_binary_accuracy: 0.8793\n",
      "Epoch 17/20\n",
      "15000/15000 [==============================] - 1s 92us/step - loss: 0.2564 - binary_accuracy: 0.9129 - val_loss: 0.3053 - val_binary_accuracy: 0.8799\n",
      "Epoch 18/20\n",
      "15000/15000 [==============================] - 1s 92us/step - loss: 0.2421 - binary_accuracy: 0.9165 - val_loss: 0.2978 - val_binary_accuracy: 0.8812\n",
      "Epoch 19/20\n",
      "15000/15000 [==============================] - 1s 91us/step - loss: 0.2297 - binary_accuracy: 0.9202 - val_loss: 0.2943 - val_binary_accuracy: 0.8797\n",
      "Epoch 20/20\n",
      "15000/15000 [==============================] - 1s 91us/step - loss: 0.2188 - binary_accuracy: 0.9228 - val_loss: 0.2880 - val_binary_accuracy: 0.8822\n"
     ]
    },
    {
     "data": {
      "text/plain": [
       "dict_keys(['val_loss', 'val_binary_accuracy', 'loss', 'binary_accuracy'])"
      ]
     },
     "execution_count": 22,
     "metadata": {
      "tags": []
     },
     "output_type": "execute_result"
    }
   ],
   "source": [
    "\n",
    "\n",
    "x_train, x_val, y_train, y_val = train_test_split(x_train, y_train, test_size=0.4, random_state=42)\n",
    "\n",
    "model = models.Sequential()\n",
    "model.add(layers.Dense(16, activation='relu', input_shape=(10000,)))\n",
    "model.add(layers.Dense(16, activation='relu'))\n",
    "model.add(layers.Dense(1, activation='sigmoid'))\n",
    "\n",
    "model.compile(optimizer=optimizers.RMSprop(lr=0.001),\n",
    "              loss=losses.binary_crossentropy,\n",
    "              metrics=[metrics.binary_accuracy])\n",
    "\t\t\t  \n",
    "history = model.fit(x_train,\n",
    "                    y_train,\n",
    "                    epochs=20,\n",
    "                    batch_size=512,\n",
    "                    validation_data=(x_val, y_val))\n",
    "history_dict = history.history\n",
    "history_dict.keys()"
   ]
  },
  {
   "cell_type": "code",
   "execution_count": null,
   "metadata": {
    "colab": {
     "base_uri": "https://localhost:8080/",
     "height": 295
    },
    "id": "8ULZMZbZIZLp",
    "outputId": "d3592989-d94a-4086-c9dd-52ebc5c11007"
   },
   "outputs": [
    {
     "data": {
      "image/png": "[encoded data removed]",
      "text/plain": [
       "<Figure size 432x288 with 1 Axes>"
      ]
     },
     "metadata": {
      "needs_background": "light",
      "tags": []
     },
     "output_type": "display_data"
    }
   ],
   "source": [
    "\n",
    "acc = history.history['binary_accuracy']\n",
    "val_acc = history.history['val_binary_accuracy']\n",
    "loss = history.history['loss']\n",
    "val_loss = history.history['val_loss']\n",
    "\n",
    "epochs = range(1, len(acc) + 1)\n",
    "\n",
    "# \"bo\" is for \"blue dot\"\n",
    "plt.plot(epochs, loss, 'bo', label='Training loss')\n",
    "# b is for \"solid blue line\"\n",
    "plt.plot(epochs, val_loss, 'b', label='Validation loss')\n",
    "plt.title('Training and validation loss')\n",
    "plt.xlabel('Epochs')\n",
    "plt.ylabel('Loss')\n",
    "plt.legend()\n",
    "\n",
    "plt.show()"
   ]
  },
  {
   "cell_type": "code",
   "execution_count": null,
   "metadata": {
    "colab": {
     "base_uri": "https://localhost:8080/",
     "height": 295
    },
    "id": "Zd7wjsvvIZtd",
    "outputId": "eb703b72-a3e1-4715-d7d4-eac9cec0addb"
   },
   "outputs": [
    {
     "data": {
      "image/png": "[encoded data removed]",
      "text/plain": [
       "<Figure size 432x288 with 1 Axes>"
      ]
     },
     "metadata": {
      "needs_background": "light",
      "tags": []
     },
     "output_type": "display_data"
    }
   ],
   "source": [
    "\n",
    "plt.clf()   # clear figure\n",
    "acc_values = history_dict['binary_accuracy']\n",
    "val_acc_values = history_dict['val_binary_accuracy']\n",
    "\n",
    "plt.plot(epochs, acc, 'bo', label='Training acc')\n",
    "plt.plot(epochs, val_acc, 'b', label='Validation acc')\n",
    "plt.title('Training and validation accuracy')\n",
    "plt.xlabel('Epochs')\n",
    "plt.ylabel('Loss')\n",
    "plt.legend()\n",
    "\n",
    "plt.show()"
   ]
  },
  {
   "cell_type": "markdown",
   "metadata": {
    "id": "t09AeCNDIoNt"
   },
   "source": [
    "As you can see, normalizing the counts correctly has a good effect to delay the overfitting. Even at the max epoch, we got higher acc (88%)"
   ]
  },
  {
   "cell_type": "markdown",
   "metadata": {
    "id": "4OtESOiiIQVS"
   },
   "source": [
    "### TF-IDF features"
   ]
  },
  {
   "cell_type": "code",
   "execution_count": null,
   "metadata": {
    "id": "rmbxpYAHJo50"
   },
   "outputs": [],
   "source": [
    "'''\n",
    "trn_texts,trn_labels = get_texts(PATH/'train')\n",
    "tst_texts,tst_labels = get_texts(PATH/'test')\n",
    "\n",
    "trn_texts = normalize_corpus(trn_texts)\n",
    "tst_texts = normalize_corpus(tst_texts)\n",
    "\n",
    "vocab_sz = 10000\n",
    "tok = Tokenizer(num_words=vocab_sz, oov_token='UNK')\n",
    "tok.fit_on_texts(trn_texts + tst_texts)\n",
    "#vocab_sz = len(tok.word_index)\n",
    "'''\n",
    "# Extract binary BoW features\n",
    "x_train = tok.texts_to_matrix(trn_texts, mode='tfidf')\n",
    "x_test = tok.texts_to_matrix(tst_texts, mode='tfidf')\n",
    "y_train = np.asarray(trn_labels).astype('float32')\n",
    "y_test = np.asarray(tst_labels).astype('float32')\n",
    "\n",
    "\n",
    "x_train, x_val, y_train, y_val = train_test_split(x_train, y_train, test_size=0.4, random_state=42)"
   ]
  },
  {
   "cell_type": "code",
   "execution_count": null,
   "metadata": {
    "colab": {
     "base_uri": "https://localhost:8080/",
     "height": 234
    },
    "id": "_jmgynn4Jo52",
    "outputId": "5add3f25-54a5-48d7-8e72-0c896e3ceac1"
   },
   "outputs": [
    {
     "data": {
      "text/plain": [
       "array([[ 0.        , 31.87415358,  0.        , ...,  0.        ,\n",
       "         0.        ,  0.        ],\n",
       "       [ 0.        , 42.6780341 ,  1.97049033, ...,  0.        ,\n",
       "         0.        ,  0.        ],\n",
       "       [ 0.        , 38.57203294,  0.        , ...,  0.        ,\n",
       "         0.        ,  0.        ],\n",
       "       ...,\n",
       "       [ 0.        , 42.09303767,  0.9389492 , ...,  0.        ,\n",
       "         0.        ,  0.        ],\n",
       "       [ 0.        , 10.81979828,  1.58977919, ...,  0.        ,\n",
       "         0.        ,  0.        ],\n",
       "       [ 0.        , 43.2330172 ,  3.19045105, ...,  0.        ,\n",
       "         0.        ,  0.        ]])"
      ]
     },
     "execution_count": 8,
     "metadata": {
      "tags": []
     },
     "output_type": "execute_result"
    }
   ],
   "source": [
    "x_train"
   ]
  },
  {
   "cell_type": "code",
   "execution_count": null,
   "metadata": {
    "colab": {
     "base_uri": "https://localhost:8080/",
     "height": 719
    },
    "id": "Kg-6qOC-Jo55",
    "outputId": "14546611-5f8a-4d62-b6e2-06343ed71c03"
   },
   "outputs": [
    {
     "name": "stdout",
     "output_type": "stream",
     "text": [
      "Train on 15000 samples, validate on 10000 samples\n",
      "Epoch 1/20\n",
      "15000/15000 [==============================] - 3s 206us/step - loss: 0.4476 - binary_accuracy: 0.8013 - val_loss: 0.3374 - val_binary_accuracy: 0.8718\n",
      "Epoch 2/20\n",
      "15000/15000 [==============================] - 1s 93us/step - loss: 0.2161 - binary_accuracy: 0.9251 - val_loss: 0.3103 - val_binary_accuracy: 0.8812\n",
      "Epoch 3/20\n",
      "15000/15000 [==============================] - 1s 93us/step - loss: 0.1382 - binary_accuracy: 0.9559 - val_loss: 0.3452 - val_binary_accuracy: 0.8733\n",
      "Epoch 4/20\n",
      "15000/15000 [==============================] - 1s 93us/step - loss: 0.0894 - binary_accuracy: 0.9742 - val_loss: 0.3915 - val_binary_accuracy: 0.8684\n",
      "Epoch 5/20\n",
      "15000/15000 [==============================] - 1s 92us/step - loss: 0.0610 - binary_accuracy: 0.9843 - val_loss: 0.4332 - val_binary_accuracy: 0.8682\n",
      "Epoch 6/20\n",
      "15000/15000 [==============================] - 1s 92us/step - loss: 0.0392 - binary_accuracy: 0.9912 - val_loss: 0.5061 - val_binary_accuracy: 0.8656\n",
      "Epoch 7/20\n",
      "15000/15000 [==============================] - 1s 93us/step - loss: 0.0269 - binary_accuracy: 0.9944 - val_loss: 0.5741 - val_binary_accuracy: 0.8617\n",
      "Epoch 8/20\n",
      "15000/15000 [==============================] - 1s 94us/step - loss: 0.0169 - binary_accuracy: 0.9971 - val_loss: 0.6873 - val_binary_accuracy: 0.8516\n",
      "Epoch 9/20\n",
      "15000/15000 [==============================] - 1s 94us/step - loss: 0.0114 - binary_accuracy: 0.9984 - val_loss: 0.7312 - val_binary_accuracy: 0.8585\n",
      "Epoch 10/20\n",
      "15000/15000 [==============================] - 1s 94us/step - loss: 0.0078 - binary_accuracy: 0.9985 - val_loss: 0.8164 - val_binary_accuracy: 0.8590\n",
      "Epoch 11/20\n",
      "15000/15000 [==============================] - 1s 94us/step - loss: 0.0042 - binary_accuracy: 0.9992 - val_loss: 0.9309 - val_binary_accuracy: 0.8501\n",
      "Epoch 12/20\n",
      "15000/15000 [==============================] - 1s 93us/step - loss: 0.0023 - binary_accuracy: 0.9996 - val_loss: 1.0660 - val_binary_accuracy: 0.8520\n",
      "Epoch 13/20\n",
      "15000/15000 [==============================] - 1s 92us/step - loss: 0.0017 - binary_accuracy: 0.9997 - val_loss: 1.1816 - val_binary_accuracy: 0.8513\n",
      "Epoch 14/20\n",
      "15000/15000 [==============================] - 1s 92us/step - loss: 8.2880e-04 - binary_accuracy: 0.9999 - val_loss: 1.2544 - val_binary_accuracy: 0.8519\n",
      "Epoch 15/20\n",
      "15000/15000 [==============================] - 1s 92us/step - loss: 7.2092e-04 - binary_accuracy: 0.9999 - val_loss: 1.3832 - val_binary_accuracy: 0.8476\n",
      "Epoch 16/20\n",
      "15000/15000 [==============================] - 1s 92us/step - loss: 3.1164e-04 - binary_accuracy: 0.9999 - val_loss: 1.4541 - val_binary_accuracy: 0.8499\n",
      "Epoch 17/20\n",
      "15000/15000 [==============================] - 1s 93us/step - loss: 2.0194e-04 - binary_accuracy: 0.9999 - val_loss: 1.5767 - val_binary_accuracy: 0.8488\n",
      "Epoch 18/20\n",
      "15000/15000 [==============================] - 1s 92us/step - loss: 1.6114e-04 - binary_accuracy: 0.9999 - val_loss: 1.8291 - val_binary_accuracy: 0.8421\n",
      "Epoch 19/20\n",
      "15000/15000 [==============================] - 1s 93us/step - loss: 7.7089e-04 - binary_accuracy: 0.9997 - val_loss: 1.7455 - val_binary_accuracy: 0.8484\n",
      "Epoch 20/20\n",
      "15000/15000 [==============================] - 1s 93us/step - loss: 8.6018e-05 - binary_accuracy: 0.9999 - val_loss: 1.7927 - val_binary_accuracy: 0.8474\n"
     ]
    },
    {
     "data": {
      "text/plain": [
       "dict_keys(['val_loss', 'val_binary_accuracy', 'loss', 'binary_accuracy'])"
      ]
     },
     "execution_count": 9,
     "metadata": {
      "tags": []
     },
     "output_type": "execute_result"
    }
   ],
   "source": [
    "\n",
    "#x_train, x_val, y_train, y_val = train_test_split(x_train, y_train, test_size=0.4, random_state=42)\n",
    "\n",
    "model = models.Sequential()\n",
    "model.add(layers.Dense(16, activation='relu', input_shape=(10000,)))\n",
    "model.add(layers.Dense(16, activation='relu'))\n",
    "model.add(layers.Dense(1, activation='sigmoid'))\n",
    "\n",
    "model.compile(optimizer=optimizers.RMSprop(lr=0.001),\n",
    "              loss=losses.binary_crossentropy,\n",
    "              metrics=[metrics.binary_accuracy])\n",
    "\t\t\t  \n",
    "history = model.fit(x_train,\n",
    "                    y_train,\n",
    "                    epochs=20,\n",
    "                    batch_size=512,\n",
    "                    validation_data=(x_val, y_val))\n",
    "history_dict = history.history\n",
    "history_dict.keys()"
   ]
  },
  {
   "cell_type": "code",
   "execution_count": null,
   "metadata": {
    "colab": {
     "base_uri": "https://localhost:8080/",
     "height": 295
    },
    "id": "kAKIYgykJo58",
    "outputId": "fbaaf571-bb62-41e0-983c-437fbca40ccb"
   },
   "outputs": [
    {
     "data": {
      "image/png": "[encoded data removed]",
      "text/plain": [
       "<Figure size 432x288 with 1 Axes>"
      ]
     },
     "metadata": {
      "needs_background": "light",
      "tags": []
     },
     "output_type": "display_data"
    }
   ],
   "source": [
    "\n",
    "acc = history.history['binary_accuracy']\n",
    "val_acc = history.history['val_binary_accuracy']\n",
    "loss = history.history['loss']\n",
    "val_loss = history.history['val_loss']\n",
    "\n",
    "epochs = range(1, len(acc) + 1)\n",
    "\n",
    "# \"bo\" is for \"blue dot\"\n",
    "plt.plot(epochs, loss, 'bo', label='Training loss')\n",
    "# b is for \"solid blue line\"\n",
    "plt.plot(epochs, val_loss, 'b', label='Validation loss')\n",
    "plt.title('Training and validation loss')\n",
    "plt.xlabel('Epochs')\n",
    "plt.ylabel('Loss')\n",
    "plt.legend()\n",
    "\n",
    "plt.show()"
   ]
  },
  {
   "cell_type": "code",
   "execution_count": null,
   "metadata": {
    "colab": {
     "base_uri": "https://localhost:8080/",
     "height": 295
    },
    "id": "4rjONJcaJo5-",
    "outputId": "abfffef5-1b3e-4155-888d-d2faa028c0dc"
   },
   "outputs": [
    {
     "data": {
      "image/png": "[encoded data removed]",
      "text/plain": [
       "<Figure size 432x288 with 1 Axes>"
      ]
     },
     "metadata": {
      "needs_background": "light",
      "tags": []
     },
     "output_type": "display_data"
    }
   ],
   "source": [
    "plt.clf()   # clear figure\n",
    "acc_values = history_dict['binary_accuracy']\n",
    "val_acc_values = history_dict['val_binary_accuracy']\n",
    "\n",
    "plt.plot(epochs, acc, 'bo', label='Training acc')\n",
    "plt.plot(epochs, val_acc, 'b', label='Validation acc')\n",
    "plt.title('Training and validation accuracy')\n",
    "plt.xlabel('Epochs')\n",
    "plt.ylabel('Loss')\n",
    "plt.legend()\n",
    "\n",
    "plt.show()"
   ]
  },
  {
   "cell_type": "markdown",
   "metadata": {
    "id": "Eu5XZiU6J5xO"
   },
   "source": [
    "__TF-IDF not normalized?__\n",
    "\n",
    "In the above setting, TFIDF in keras texts_to_matrix produce non normalized values. This is because the IDF ~= 1/DF, but log(1+DF) (for math convenience the log is calculated): http://www.tfidf.com/\n",
    "\n",
    "https://github.com/keras-team/keras/issues/2974\n",
    "\n",
    "For this bug, it's better to use sklearn TfidfVectorizer"
   ]
  },
  {
   "cell_type": "markdown",
   "metadata": {
    "id": "6BS2cW7eKHzu"
   },
   "source": [
    "__Using sklearn TfidfVectorizer__\n"
   ]
  },
  {
   "cell_type": "code",
   "execution_count": null,
   "metadata": {
    "id": "kFnXxODkKOsR"
   },
   "outputs": [],
   "source": [
    "from sklearn.feature_extraction.text import TfidfVectorizer\n",
    "\n",
    "vectorizer = TfidfVectorizer()\n",
    "# tokenize and build vocab\n",
    "vectorizer.fit(trn_texts+tst_texts)\n",
    "\n",
    "\n",
    "x_train = vectorizer.transform(trn_texts)\n",
    "x_test =vectorizer.transform(tst_texts)\n",
    "y_train = np.asarray(trn_labels).astype('float32')\n",
    "y_test = np.asarray(tst_labels).astype('float32')\n"
   ]
  },
  {
   "cell_type": "code",
   "execution_count": null,
   "metadata": {
    "colab": {
     "base_uri": "https://localhost:8080/",
     "height": 33
    },
    "id": "rpAXpZPAKT4m",
    "outputId": "462d9fc4-d9ed-43f6-9c4d-e8e540ada9a3"
   },
   "outputs": [
    {
     "data": {
      "text/plain": [
       "(25000, 140805)"
      ]
     },
     "execution_count": 13,
     "metadata": {
      "tags": []
     },
     "output_type": "execute_result"
    }
   ],
   "source": [
    "x_train.shape"
   ]
  },
  {
   "cell_type": "code",
   "execution_count": null,
   "metadata": {
    "colab": {
     "base_uri": "https://localhost:8080/",
     "height": 50
    },
    "id": "SwsniDsMKZvO",
    "outputId": "1bf98a4a-9e5b-452d-d1a3-d8d57a1ceb5a"
   },
   "outputs": [
    {
     "name": "stdout",
     "output_type": "stream",
     "text": [
      "0.2574521557691431\n",
      "0.0\n"
     ]
    }
   ],
   "source": [
    "print(x_train[0].toarray().max())\n",
    "print(x_train[0].toarray().min())"
   ]
  },
  {
   "cell_type": "markdown",
   "metadata": {
    "id": "DjHCkhB0KZAb"
   },
   "source": [
    "Now we get normalized values, but on ALL vocab.\n",
    "\n",
    "If we try toarray we will get out of mem!\n",
    "\n",
    "__How to limit the vocab?__"
   ]
  },
  {
   "cell_type": "code",
   "execution_count": null,
   "metadata": {
    "id": "TEWAvQ4QKUh9"
   },
   "outputs": [],
   "source": [
    "from sklearn.feature_extraction.text import TfidfVectorizer\n",
    "vocab_sz = 10000\n",
    "vectorizer = TfidfVectorizer(max_features=vocab_sz)\n",
    "# tokenize and build vocab\n",
    "vectorizer.fit(trn_texts+tst_texts)\n",
    "\n",
    "\n",
    "x_train = vectorizer.transform(trn_texts)\n",
    "x_test =vectorizer.transform(tst_texts)\n",
    "y_train = np.asarray(trn_labels).astype('float32')\n",
    "y_test = np.asarray(tst_labels).astype('float32')"
   ]
  },
  {
   "cell_type": "code",
   "execution_count": null,
   "metadata": {
    "colab": {
     "base_uri": "https://localhost:8080/",
     "height": 719
    },
    "id": "MMa9Io9DKrIP",
    "outputId": "143ad56d-9d8a-443e-98c5-60b4d8e77fb5"
   },
   "outputs": [
    {
     "name": "stdout",
     "output_type": "stream",
     "text": [
      "Train on 15000 samples, validate on 10000 samples\n",
      "Epoch 1/20\n",
      "15000/15000 [==============================] - 2s 108us/step - loss: 0.6545 - binary_accuracy: 0.8026 - val_loss: 0.6089 - val_binary_accuracy: 0.8663\n",
      "Epoch 2/20\n",
      "15000/15000 [==============================] - 2s 102us/step - loss: 0.5550 - binary_accuracy: 0.8837 - val_loss: 0.5177 - val_binary_accuracy: 0.8674\n",
      "Epoch 3/20\n",
      "15000/15000 [==============================] - 2s 102us/step - loss: 0.4522 - binary_accuracy: 0.8982 - val_loss: 0.4317 - val_binary_accuracy: 0.8772\n",
      "Epoch 4/20\n",
      "15000/15000 [==============================] - 2s 101us/step - loss: 0.3613 - binary_accuracy: 0.9096 - val_loss: 0.3643 - val_binary_accuracy: 0.8807\n",
      "Epoch 5/20\n",
      "15000/15000 [==============================] - 2s 101us/step - loss: 0.2905 - binary_accuracy: 0.9211 - val_loss: 0.3191 - val_binary_accuracy: 0.8840\n",
      "Epoch 6/20\n",
      "15000/15000 [==============================] - 2s 101us/step - loss: 0.2387 - binary_accuracy: 0.9297 - val_loss: 0.2916 - val_binary_accuracy: 0.8859\n",
      "Epoch 7/20\n",
      "15000/15000 [==============================] - 2s 101us/step - loss: 0.2002 - binary_accuracy: 0.9399 - val_loss: 0.2777 - val_binary_accuracy: 0.8872\n",
      "Epoch 8/20\n",
      "15000/15000 [==============================] - 2s 101us/step - loss: 0.1713 - binary_accuracy: 0.9469 - val_loss: 0.2715 - val_binary_accuracy: 0.8870\n",
      "Epoch 9/20\n",
      "15000/15000 [==============================] - 2s 100us/step - loss: 0.1491 - binary_accuracy: 0.9545 - val_loss: 0.2720 - val_binary_accuracy: 0.8867\n",
      "Epoch 10/20\n",
      "15000/15000 [==============================] - 2s 100us/step - loss: 0.1305 - binary_accuracy: 0.9593 - val_loss: 0.2775 - val_binary_accuracy: 0.8859\n",
      "Epoch 11/20\n",
      "15000/15000 [==============================] - 1s 99us/step - loss: 0.1145 - binary_accuracy: 0.9656 - val_loss: 0.2857 - val_binary_accuracy: 0.8840\n",
      "Epoch 12/20\n",
      "15000/15000 [==============================] - 1s 100us/step - loss: 0.1008 - binary_accuracy: 0.9707 - val_loss: 0.2967 - val_binary_accuracy: 0.8830\n",
      "Epoch 13/20\n",
      "15000/15000 [==============================] - 2s 101us/step - loss: 0.0885 - binary_accuracy: 0.9745 - val_loss: 0.3116 - val_binary_accuracy: 0.8800\n",
      "Epoch 14/20\n",
      "15000/15000 [==============================] - 1s 100us/step - loss: 0.0779 - binary_accuracy: 0.9781 - val_loss: 0.3279 - val_binary_accuracy: 0.8767\n",
      "Epoch 15/20\n",
      "15000/15000 [==============================] - 2s 101us/step - loss: 0.0677 - binary_accuracy: 0.9813 - val_loss: 0.3420 - val_binary_accuracy: 0.8764\n",
      "Epoch 16/20\n",
      "15000/15000 [==============================] - 2s 101us/step - loss: 0.0587 - binary_accuracy: 0.9842 - val_loss: 0.3665 - val_binary_accuracy: 0.8715\n",
      "Epoch 17/20\n",
      "15000/15000 [==============================] - 2s 101us/step - loss: 0.0512 - binary_accuracy: 0.9879 - val_loss: 0.3818 - val_binary_accuracy: 0.8698\n",
      "Epoch 18/20\n",
      "15000/15000 [==============================] - 1s 100us/step - loss: 0.0437 - binary_accuracy: 0.9907 - val_loss: 0.4061 - val_binary_accuracy: 0.8684\n",
      "Epoch 19/20\n",
      "15000/15000 [==============================] - 1s 100us/step - loss: 0.0374 - binary_accuracy: 0.9929 - val_loss: 0.4309 - val_binary_accuracy: 0.8651\n",
      "Epoch 20/20\n",
      "15000/15000 [==============================] - 2s 101us/step - loss: 0.0314 - binary_accuracy: 0.9942 - val_loss: 0.4534 - val_binary_accuracy: 0.8631\n"
     ]
    },
    {
     "data": {
      "text/plain": [
       "dict_keys(['val_loss', 'val_binary_accuracy', 'loss', 'binary_accuracy'])"
      ]
     },
     "execution_count": 16,
     "metadata": {
      "tags": []
     },
     "output_type": "execute_result"
    }
   ],
   "source": [
    "\n",
    "x_train, x_val, y_train, y_val = train_test_split(x_train, y_train, test_size=0.4, random_state=42)\n",
    "\n",
    "model = models.Sequential()\n",
    "model.add(layers.Dense(16, activation='relu', input_shape=(10000,)))\n",
    "model.add(layers.Dense(16, activation='relu'))\n",
    "model.add(layers.Dense(1, activation='sigmoid'))\n",
    "\n",
    "model.compile(optimizer=optimizers.RMSprop(lr=0.001),\n",
    "              loss=losses.binary_crossentropy,\n",
    "              metrics=[metrics.binary_accuracy])\n",
    "\t\t\t  \n",
    "history = model.fit(x_train,\n",
    "                    y_train,\n",
    "                    epochs=20,\n",
    "                    batch_size=512,\n",
    "                    validation_data=(x_val, y_val))\n",
    "history_dict = history.history\n",
    "history_dict.keys()"
   ]
  },
  {
   "cell_type": "code",
   "execution_count": null,
   "metadata": {
    "colab": {
     "base_uri": "https://localhost:8080/",
     "height": 295
    },
    "id": "aJHqJ1y9KrIU",
    "outputId": "eabc2189-6a61-4206-c9ae-22ef51a0f4ef"
   },
   "outputs": [
    {
     "data": {
      "image/png": "[encoded data removed]",
      "text/plain": [
       "<Figure size 432x288 with 1 Axes>"
      ]
     },
     "metadata": {
      "needs_background": "light",
      "tags": []
     },
     "output_type": "display_data"
    }
   ],
   "source": [
    "\n",
    "acc = history.history['binary_accuracy']\n",
    "val_acc = history.history['val_binary_accuracy']\n",
    "loss = history.history['loss']\n",
    "val_loss = history.history['val_loss']\n",
    "\n",
    "epochs = range(1, len(acc) + 1)\n",
    "\n",
    "# \"bo\" is for \"blue dot\"\n",
    "plt.plot(epochs, loss, 'bo', label='Training loss')\n",
    "# b is for \"solid blue line\"\n",
    "plt.plot(epochs, val_loss, 'b', label='Validation loss')\n",
    "plt.title('Training and validation loss')\n",
    "plt.xlabel('Epochs')\n",
    "plt.ylabel('Loss')\n",
    "plt.legend()\n",
    "\n",
    "plt.show()"
   ]
  },
  {
   "cell_type": "code",
   "execution_count": null,
   "metadata": {
    "colab": {
     "base_uri": "https://localhost:8080/",
     "height": 295
    },
    "id": "6E8sEeS2KrIX",
    "outputId": "29a9594f-e8e1-4ea6-aae0-0e5836e630dc"
   },
   "outputs": [
    {
     "data": {
      "image/png": "[encoded data removed]",
      "text/plain": [
       "<Figure size 432x288 with 1 Axes>"
      ]
     },
     "metadata": {
      "needs_background": "light",
      "tags": []
     },
     "output_type": "display_data"
    }
   ],
   "source": [
    "plt.clf()   # clear figure\n",
    "acc_values = history_dict['binary_accuracy']\n",
    "val_acc_values = history_dict['val_binary_accuracy']\n",
    "\n",
    "plt.plot(epochs, acc, 'bo', label='Training acc')\n",
    "plt.plot(epochs, val_acc, 'b', label='Validation acc')\n",
    "plt.title('Training and validation accuracy')\n",
    "plt.xlabel('Epochs')\n",
    "plt.ylabel('Loss')\n",
    "plt.legend()\n",
    "\n",
    "plt.show()"
   ]
  },
  {
   "cell_type": "markdown",
   "metadata": {
    "id": "0W9RdS8yyDD6"
   },
   "source": [
    "## Let's see the effect without text cleaning steps:"
   ]
  },
  {
   "cell_type": "code",
   "execution_count": null,
   "metadata": {
    "colab": {
     "base_uri": "https://localhost:8080/",
     "height": 719
    },
    "id": "5D1J-BUnxEW2",
    "outputId": "6a45f2e3-be88-498a-c5c9-ef6c582d48fe"
   },
   "outputs": [
    {
     "name": "stdout",
     "output_type": "stream",
     "text": [
      "Train on 15000 samples, validate on 10000 samples\n",
      "Epoch 1/20\n",
      "15000/15000 [==============================] - 1s 92us/step - loss: 0.5280 - binary_accuracy: 0.7893 - val_loss: 0.4041 - val_binary_accuracy: 0.8765\n",
      "Epoch 2/20\n",
      "15000/15000 [==============================] - 1s 85us/step - loss: 0.3243 - binary_accuracy: 0.9004 - val_loss: 0.3151 - val_binary_accuracy: 0.8885\n",
      "Epoch 3/20\n",
      "15000/15000 [==============================] - 1s 84us/step - loss: 0.2369 - binary_accuracy: 0.9259 - val_loss: 0.2837 - val_binary_accuracy: 0.8905\n",
      "Epoch 4/20\n",
      "15000/15000 [==============================] - 1s 87us/step - loss: 0.1896 - binary_accuracy: 0.9382 - val_loss: 0.2795 - val_binary_accuracy: 0.8890\n",
      "Epoch 5/20\n",
      "15000/15000 [==============================] - 1s 86us/step - loss: 0.1541 - binary_accuracy: 0.9527 - val_loss: 0.2834 - val_binary_accuracy: 0.8882\n",
      "Epoch 6/20\n",
      "15000/15000 [==============================] - 1s 86us/step - loss: 0.1273 - binary_accuracy: 0.9613 - val_loss: 0.3054 - val_binary_accuracy: 0.8863\n",
      "Epoch 7/20\n",
      "15000/15000 [==============================] - 1s 86us/step - loss: 0.1083 - binary_accuracy: 0.9677 - val_loss: 0.3117 - val_binary_accuracy: 0.8846\n",
      "Epoch 8/20\n",
      "15000/15000 [==============================] - 1s 86us/step - loss: 0.0883 - binary_accuracy: 0.9755 - val_loss: 0.3281 - val_binary_accuracy: 0.8819\n",
      "Epoch 9/20\n",
      "15000/15000 [==============================] - 1s 85us/step - loss: 0.0766 - binary_accuracy: 0.9791 - val_loss: 0.3548 - val_binary_accuracy: 0.8782\n",
      "Epoch 10/20\n",
      "15000/15000 [==============================] - 1s 86us/step - loss: 0.0607 - binary_accuracy: 0.9856 - val_loss: 0.4129 - val_binary_accuracy: 0.8738\n",
      "Epoch 11/20\n",
      "15000/15000 [==============================] - 1s 86us/step - loss: 0.0522 - binary_accuracy: 0.9876 - val_loss: 0.3997 - val_binary_accuracy: 0.8750\n",
      "Epoch 12/20\n",
      "15000/15000 [==============================] - 1s 86us/step - loss: 0.0435 - binary_accuracy: 0.9902 - val_loss: 0.4257 - val_binary_accuracy: 0.8751\n",
      "Epoch 13/20\n",
      "15000/15000 [==============================] - 1s 84us/step - loss: 0.0344 - binary_accuracy: 0.9931 - val_loss: 0.4546 - val_binary_accuracy: 0.8732\n",
      "Epoch 14/20\n",
      "15000/15000 [==============================] - 1s 84us/step - loss: 0.0274 - binary_accuracy: 0.9948 - val_loss: 0.5019 - val_binary_accuracy: 0.8644\n",
      "Epoch 15/20\n",
      "15000/15000 [==============================] - 1s 84us/step - loss: 0.0228 - binary_accuracy: 0.9960 - val_loss: 0.5225 - val_binary_accuracy: 0.8679\n",
      "Epoch 16/20\n",
      "15000/15000 [==============================] - 1s 84us/step - loss: 0.0161 - binary_accuracy: 0.9977 - val_loss: 0.5641 - val_binary_accuracy: 0.8672\n",
      "Epoch 17/20\n",
      "15000/15000 [==============================] - 1s 84us/step - loss: 0.0122 - binary_accuracy: 0.9985 - val_loss: 0.6019 - val_binary_accuracy: 0.8629\n",
      "Epoch 18/20\n",
      "15000/15000 [==============================] - 1s 84us/step - loss: 0.0089 - binary_accuracy: 0.9991 - val_loss: 0.6337 - val_binary_accuracy: 0.8626\n",
      "Epoch 19/20\n",
      "15000/15000 [==============================] - 1s 87us/step - loss: 0.0082 - binary_accuracy: 0.9991 - val_loss: 0.6852 - val_binary_accuracy: 0.8628\n",
      "Epoch 20/20\n",
      "15000/15000 [==============================] - 1s 84us/step - loss: 0.0042 - binary_accuracy: 0.9997 - val_loss: 0.7176 - val_binary_accuracy: 0.8599\n"
     ]
    },
    {
     "data": {
      "text/plain": [
       "dict_keys(['val_loss', 'val_binary_accuracy', 'loss', 'binary_accuracy'])"
      ]
     },
     "execution_count": 25,
     "metadata": {
      "tags": []
     },
     "output_type": "execute_result"
    }
   ],
   "source": [
    "\n",
    "trn_texts,trn_labels = get_texts(PATH/'train')\n",
    "tst_texts,tst_labels = get_texts(PATH/'test')\n",
    "\n",
    "#trn_texts = normalize_corpus(trn_texts)\n",
    "#tst_texts = normalize_corpus(tst_texts)\n",
    "\n",
    "vocab_sz = 10000\n",
    "tok = Tokenizer(num_words=vocab_sz, oov_token='UNK')\n",
    "tok.fit_on_texts(trn_texts + tst_texts)\n",
    "#vocab_sz = len(tok.word_index)\n",
    "\n",
    "# Extract binary BoW features\n",
    "x_train = tok.texts_to_matrix(trn_texts, mode='binary')\n",
    "x_test = tok.texts_to_matrix(tst_texts, mode='binary')\n",
    "y_train = np.asarray(trn_labels).astype('float32')\n",
    "y_test = np.asarray(tst_labels).astype('float32')\n",
    "\n",
    "from sklearn.model_selection import train_test_split\n",
    "\n",
    "x_train, x_val, y_train, y_val = train_test_split(x_train, y_train, test_size=0.4, random_state=42)\n",
    "\n",
    "model = models.Sequential()\n",
    "model.add(layers.Dense(16, activation='relu', input_shape=(10000,)))\n",
    "model.add(layers.Dense(16, activation='relu'))\n",
    "model.add(layers.Dense(1, activation='sigmoid'))\n",
    "\n",
    "model.compile(optimizer=optimizers.RMSprop(lr=0.001),\n",
    "              loss=losses.binary_crossentropy,\n",
    "              metrics=[metrics.binary_accuracy])\n",
    "\t\t\t  \n",
    "history = model.fit(x_train,\n",
    "                    y_train,\n",
    "                    epochs=20,\n",
    "                    batch_size=512,\n",
    "                    validation_data=(x_val, y_val))\n",
    "history_dict = history.history\n",
    "history_dict.keys()"
   ]
  },
  {
   "cell_type": "code",
   "execution_count": null,
   "metadata": {
    "colab": {
     "base_uri": "https://localhost:8080/",
     "height": 295
    },
    "id": "kosmNJRjxG8M",
    "outputId": "c93e409b-8582-4668-c7af-65d5efd6deaf"
   },
   "outputs": [
    {
     "data": {
      "image/png": "[encoded data removed]",
      "text/plain": [
       "<Figure size 432x288 with 1 Axes>"
      ]
     },
     "metadata": {
      "needs_background": "light",
      "tags": []
     },
     "output_type": "display_data"
    }
   ],
   "source": [
    "\n",
    "acc = history.history['binary_accuracy']\n",
    "val_acc = history.history['val_binary_accuracy']\n",
    "loss = history.history['loss']\n",
    "val_loss = history.history['val_loss']\n",
    "\n",
    "epochs = range(1, len(acc) + 1)\n",
    "\n",
    "# \"bo\" is for \"blue dot\"\n",
    "plt.plot(epochs, loss, 'bo', label='Training loss')\n",
    "# b is for \"solid blue line\"\n",
    "plt.plot(epochs, val_loss, 'b', label='Validation loss')\n",
    "plt.title('Training and validation loss')\n",
    "plt.xlabel('Epochs')\n",
    "plt.ylabel('Loss')\n",
    "plt.legend()\n",
    "\n",
    "plt.show()"
   ]
  },
  {
   "cell_type": "code",
   "execution_count": null,
   "metadata": {
    "colab": {
     "base_uri": "https://localhost:8080/",
     "height": 295
    },
    "id": "wtHEj47gxIYU",
    "outputId": "c28fc8dd-ccca-4b12-8b14-921b3375edd4"
   },
   "outputs": [
    {
     "data": {
      "image/png": "[encoded data removed]",
      "text/plain": [
       "<Figure size 432x288 with 1 Axes>"
      ]
     },
     "metadata": {
      "needs_background": "light",
      "tags": []
     },
     "output_type": "display_data"
    }
   ],
   "source": [
    "\n",
    "plt.clf()   # clear figure\n",
    "acc_values = history_dict['binary_accuracy']\n",
    "val_acc_values = history_dict['val_binary_accuracy']\n",
    "\n",
    "plt.plot(epochs, acc, 'bo', label='Training acc')\n",
    "plt.plot(epochs, val_acc, 'b', label='Validation acc')\n",
    "plt.title('Training and validation accuracy')\n",
    "plt.xlabel('Epochs')\n",
    "plt.ylabel('Loss')\n",
    "plt.legend()\n",
    "\n",
    "plt.show()"
   ]
  },
  {
   "cell_type": "markdown",
   "metadata": {
    "id": "9jCxnJutyH8o"
   },
   "source": [
    "As you can see, the effect is minimal, but the val curve a bit smoother in case of text clean-up\n",
    "\n",
    "# Why?\n",
    "\n",
    "We already limit the vocab to the most frequent 10K words, and we use BoW features, so cleanining up the text has minimal effect, since the words context is neglected (high frequent words are likely to always be scored no matter different morphologies might be missed sometimes).\n",
    "\n",
    "For sequence models for example with word embeddings (as we will see), the context of the word will have strong effect, so the clean up step will have more importance."
   ]
  },
  {
   "cell_type": "markdown",
   "metadata": {
    "id": "3UTmbTtC2RXr"
   },
   "source": [
    "# Bag-of-word Vectors:\n",
    "\n",
    "Th above model suffers two issues:\n",
    "\n",
    "1- Sequence info is lost. We will treat that later with sequence models\n",
    "\n",
    "2- __Sparsity__: the input scalars represent words indices. Those are sparse, and do not include any info about the word (is it a verb, is it a noun, is it a sarcastic word,....etc). Also, this input is very sparse, where in a sentence, we only have few words of the vocab.\n",
    "\n",
    "Thus, we use `Embedding` layer, that will encode _latent_ factors of the word features. In the current setup, we will _learn_ what those latent features are during training. \n",
    "\n",
    "## Embedding\n",
    "\n",
    "The input scalars represent words indices. Those are sparse, and do not include any info about the word (is it a verb, is it a noun, is it a sarcastic word,....etc). Also, this input is very sparse, where in a sentence, we only have few words of the vocab.\n",
    "\n",
    "Thus, we use `Embedding` layer, that will encode _latent_ factors of the word features. In the current setup, we will _learn_ what those latent features are during training. \n"
   ]
  },
  {
   "cell_type": "markdown",
   "metadata": {
    "id": "RTbuz88ACjvu"
   },
   "source": [
    "# Word Embedding\n",
    "A word embedding is a class of approaches for representing words and documents using a\n",
    "dense vector representation. It is an improvement over more the traditional bag-of-word model\n",
    "encoding schemes where large sparse vectors were used to represent each word or to score each\n",
    "word within a vector to represent an entire vocabulary. These representations were sparse\n",
    "because the vocabularies were vast and a given word or document would be represented by a\n",
    "large vector comprised mostly of zero values.\n",
    "Instead, in an embedding, words are represented by dense vectors where a vector represents\n",
    "the projection of the word into a continuous vector space. The position of a word within the\n",
    "vector space is learned from text and is based on the words that surround the word when it is\n",
    "used. The position of a word in the learned vector space is referred to as its embedding. Two\n",
    "popular examples of methods of learning word embeddings from text include:\n",
    "\n",
    "- Word2Vec.\n",
    "- GloVe.\n",
    "In addition to these carefully designed methods, a word embedding can be learned as part\n",
    "of a deep learning model. This can be a slower approach, but tailors the model to a speci\f",
    "c\n",
    "training dataset."
   ]
  },
  {
   "cell_type": "markdown",
   "metadata": {
    "id": "SO3MC_C7CrPD"
   },
   "source": [
    "# Keras Embedding Layer\n",
    "Keras offers an Embedding layer that can be used for neural networks on text data. \n",
    "\n",
    "You can think of it as:\n",
    "- LUT\n",
    "- Weight Matrix: n_vocab x emb_sz\n",
    "\n",
    "It requires that the input data be integer encoded, so that each word is represented by a unique integer.\n",
    "\n",
    "This data preparation step can be performed using the Tokenizer API also provided with Keras.\n",
    "\n",
    "\n",
    "The Embedding layer is initialized with random weights and will learn an embedding for all of the words in the training dataset. \n",
    "\n",
    "It is a layer that can be used in a variety of ways, such as:\n",
    "\n",
    "- _From scratch embeddings_ It can be used alone to learn a word embedding that can be saved and used in another model later.\n",
    "\n",
    "- _Learnable embeddings_ It can be used as part of a deep learning model where the embedding is learned along with the model itself.\n",
    "\n",
    "- _Pre-trained embeddings_ It can be used to load a pre-trained word embedding model, a type of transfer learning. This can be mixed with learnable embeddings, where those weights are later updated or frozen as part of the larger model.\n"
   ]
  },
  {
   "cell_type": "markdown",
   "metadata": {
    "id": "o-QV5y-DDVoT"
   },
   "source": [
    "The Embedding layer is defined as the first hidden layer of a network. It must specify 3 arguments:\n",
    "- input dim: This is the size of the vocabulary in the text data. For example, if your data is integer encoded to values between 0-10, then the size of the vocabulary would be 11 words.\n",
    "\n",
    "- output dim: This is the size of the vector space in which words will be embedded. It defines the size of the output vectors from this layer for each word. For example, it could be 32 or 100 or even larger. Test different values for your problem.\n",
    "\n",
    "-  input length: This is the length of input sequences, as you would de\f",
    "ne for any input layer of a Keras model. For example, if all of your input documents are comprised of 1000 words, this would be 1000."
   ]
  },
  {
   "cell_type": "code",
   "execution_count": null,
   "metadata": {
    "id": "LfM3VFpqBTKq"
   },
   "outputs": [],
   "source": [
    "from tensorflow.keras.layers import Embedding\n",
    "e = Embedding(200, 32, input_length=50)"
   ]
  },
  {
   "cell_type": "markdown",
   "metadata": {
    "id": "qYE6hJ3-DpwL"
   },
   "source": [
    "The Embedding layer has weights that are learned. If you save your model to file, this will include weights for the Embedding layer. \n",
    "\n",
    "The output of the Embedding layer is a 2D vector with one embedding for each word in the input sequence of words (input document). \n",
    "\n",
    "If you wish to connect a Dense layer directly to an Embedding layer, you must first flatten the 2D output matrix to a 1D vector using the Flatten layer. \n",
    "\n",
    "Now, let's see how we can use an Embedding layer in practice."
   ]
  },
  {
   "cell_type": "markdown",
   "metadata": {
    "id": "ikQJu7gsD0LZ"
   },
   "source": [
    "# Example\n",
    "\n",
    "we will look at how we can learn a word embedding while setting a neural\n",
    "network on a text classifiation problem. We will define a small problem where we have 10 text documents, each with a comment about a piece of work a student submitted. \n",
    "\n",
    "Each text document is classified as positive 1 or negative 0. This is a simple sentiment analysis problem.\n",
    "First, we will de\f",
    "ne the documents and their class labels."
   ]
  },
  {
   "cell_type": "markdown",
   "metadata": {
    "id": "pHcFbWASEcsx"
   },
   "source": [
    "Keras provides the one hot() function that creates a\n",
    "hash of each word as an efficient integer encoding. We will estimate the vocabulary size of 50,\n",
    "which is much larger than needed to reduce the probability of collisions from the hash function."
   ]
  },
  {
   "cell_type": "code",
   "execution_count": null,
   "metadata": {
    "colab": {
     "base_uri": "https://localhost:8080/",
     "height": 522
    },
    "id": "-YoNAZkoECpY",
    "outputId": "15fae35b-a3da-4d66-b208-70adde741e63"
   },
   "outputs": [
    {
     "name": "stdout",
     "output_type": "stream",
     "text": [
      "[[6, 2], [3, 1], [7, 4], [8, 1], [9], [10], [5, 4], [11, 3], [5, 1], [12, 13, 2, 14]]\n",
      "[[6, 2], [3, 1], [7, 4], [8, 1], [9], [10], [5, 4], [11, 3], [5, 1], [12, 13, 2, 14]]\n",
      "[[ 6  2  0  0]\n",
      " [ 3  1  0  0]\n",
      " [ 7  4  0  0]\n",
      " [ 8  1  0  0]\n",
      " [ 9  0  0  0]\n",
      " [10  0  0  0]\n",
      " [ 5  4  0  0]\n",
      " [11  3  0  0]\n",
      " [ 5  1  0  0]\n",
      " [12 13  2 14]]\n",
      "Model: \"sequential_5\"\n",
      "_________________________________________________________________\n",
      "Layer (type)                 Output Shape              Param #   \n",
      "=================================================================\n",
      "embedding_3 (Embedding)      (None, 4, 8)              120       \n",
      "_________________________________________________________________\n",
      "flatten_2 (Flatten)          (None, 32)                0         \n",
      "_________________________________________________________________\n",
      "dense_13 (Dense)             (None, 1)                 33        \n",
      "=================================================================\n",
      "Total params: 153\n",
      "Trainable params: 153\n",
      "Non-trainable params: 0\n",
      "_________________________________________________________________\n"
     ]
    },
    {
     "name": "stderr",
     "output_type": "stream",
     "text": [
      "/usr/local/lib/python3.6/dist-packages/tensorflow/python/framework/indexed_slices.py:434: UserWarning: Converting sparse IndexedSlices to a dense Tensor of unknown shape. This may consume a large amount of memory.\n",
      "  \"Converting sparse IndexedSlices to a dense Tensor of unknown shape. \"\n"
     ]
    },
    {
     "name": "stdout",
     "output_type": "stream",
     "text": [
      "Accuracy: 89.999998\n"
     ]
    }
   ],
   "source": [
    "from tensorflow.keras.preprocessing.text import one_hot\n",
    "from tensorflow.keras.preprocessing.sequence import pad_sequences\n",
    "from tensorflow.keras.preprocessing.text import Tokenizer\n",
    "from tensorflow.keras.models import Sequential\n",
    "from tensorflow.keras.layers import Dense\n",
    "from tensorflow.keras.layers import Flatten\n",
    "from tensorflow.keras.layers.embeddings import Embedding\n",
    "# define documents\n",
    "docs = ['Well done!',\n",
    "'Good work','Great effort',\n",
    "'nice work',\n",
    "'Excellent!',\n",
    "'Weak',\n",
    "'Poor effort!',\n",
    "'not good',\n",
    "'poor work',\n",
    "'Could have done better.']\n",
    "# define class labels\n",
    "labels = [1,1,1,1,1,0,0,0,0,0]\n",
    "# integer encode the documents\n",
    "#vocab_size = 50\n",
    "\n",
    "#encoded_docs = [one_hot(d, vocab_size) for d in docs]\n",
    "t = Tokenizer()\n",
    "t.fit_on_texts(docs)\n",
    "vocab_size = len(t.word_index) + 1\n",
    "# integer encode the documents\n",
    "encoded_docs = t.texts_to_sequences(docs)\n",
    "print(encoded_docs)\n",
    "\n",
    "print(encoded_docs)\n",
    "# pad documents to a max length of 4 words\n",
    "max_length = 4\n",
    "padded_docs = pad_sequences(encoded_docs, maxlen=max_length, padding='post')\n",
    "print(padded_docs)\n",
    "# define the model\n",
    "model = Sequential()\n",
    "model.add(Embedding(vocab_size, 8, input_length=max_length))\n",
    "model.add(Flatten())\n",
    "model.add(Dense(1, activation='sigmoid'))\n",
    "# compile the model\n",
    "model.compile(optimizer='adam', loss='binary_crossentropy', metrics=['acc'])\n",
    "# summarize the model\n",
    "model.summary()\n",
    "# fit the model\n",
    "model.fit(padded_docs, labels, epochs=50, verbose=0)\n",
    "# evaluate the model\n",
    "loss, accuracy = model.evaluate(padded_docs, labels, verbose=0)\n",
    "print('Accuracy: %f' % (accuracy*100))"
   ]
  },
  {
   "cell_type": "code",
   "execution_count": null,
   "metadata": {
    "colab": {
     "base_uri": "https://localhost:8080/",
     "height": 564
    },
    "id": "o8ggjxju-0UI",
    "outputId": "a28990df-511d-4528-9d35-ecf9fc2ef4f0"
   },
   "outputs": [
    {
     "data": {
      "image/png": "[encoded data removed]",
      "text/plain": [
       "<IPython.core.display.Image object>"
      ]
     },
     "execution_count": 30,
     "metadata": {
      "tags": []
     },
     "output_type": "execute_result"
    }
   ],
   "source": [
    "emb_sz = 50\n",
    "n_latent_factors = min(n_categories//2, emb_sz)\n",
    "model = models.Sequential()\n",
    "model.add(layers.Embedding(vocab_sz+1, n_latent_factors, input_length=vocab_sz))\n",
    "model.add(layers.Flatten())\n",
    "model.add(layers.Dense(emb_sz, activation='relu'))\n",
    "model.add(layers.Dense(16, activation='relu'))\n",
    "model.add(layers.Dense(1, activation='sigmoid'))\n",
    "plot_model(model)\n"
   ]
  },
  {
   "cell_type": "code",
   "execution_count": null,
   "metadata": {
    "colab": {
     "base_uri": "https://localhost:8080/",
     "height": 773
    },
    "id": "A6IAqxQG-y5h",
    "outputId": "ba194e34-17bf-4b0a-b49a-e19ad4e59b56"
   },
   "outputs": [
    {
     "name": "stderr",
     "output_type": "stream",
     "text": [
      "/usr/local/lib/python3.6/dist-packages/tensorflow/python/framework/indexed_slices.py:434: UserWarning: Converting sparse IndexedSlices to a dense Tensor of unknown shape. This may consume a large amount of memory.\n",
      "  \"Converting sparse IndexedSlices to a dense Tensor of unknown shape. \"\n"
     ]
    },
    {
     "name": "stdout",
     "output_type": "stream",
     "text": [
      "Train on 25000 samples, validate on 25000 samples\n",
      "Epoch 1/20\n",
      "25000/25000 [==============================] - 14s 577us/step - loss: 0.9382 - binary_accuracy: 0.5034 - val_loss: 0.6932 - val_binary_accuracy: 0.5000\n",
      "Epoch 2/20\n",
      "25000/25000 [==============================] - 14s 568us/step - loss: 0.6978 - binary_accuracy: 0.5014 - val_loss: 0.6932 - val_binary_accuracy: 0.5000\n",
      "Epoch 3/20\n",
      "25000/25000 [==============================] - 14s 568us/step - loss: 0.6932 - binary_accuracy: 0.5000 - val_loss: 0.6931 - val_binary_accuracy: 0.5000\n",
      "Epoch 4/20\n",
      "25000/25000 [==============================] - 14s 568us/step - loss: 0.6932 - binary_accuracy: 0.4990 - val_loss: 0.6931 - val_binary_accuracy: 0.5000\n",
      "Epoch 5/20\n",
      "25000/25000 [==============================] - 14s 566us/step - loss: 0.6932 - binary_accuracy: 0.4943 - val_loss: 0.6931 - val_binary_accuracy: 0.5000\n",
      "Epoch 6/20\n",
      "25000/25000 [==============================] - 14s 569us/step - loss: 0.6932 - binary_accuracy: 0.5000 - val_loss: 0.6931 - val_binary_accuracy: 0.5000\n",
      "Epoch 7/20\n",
      "25000/25000 [==============================] - 14s 568us/step - loss: 0.6932 - binary_accuracy: 0.4968 - val_loss: 0.6931 - val_binary_accuracy: 0.5000\n",
      "Epoch 8/20\n",
      "25000/25000 [==============================] - 14s 567us/step - loss: 0.6932 - binary_accuracy: 0.4985 - val_loss: 0.6931 - val_binary_accuracy: 0.5000\n",
      "Epoch 9/20\n",
      "25000/25000 [==============================] - 14s 566us/step - loss: 0.6932 - binary_accuracy: 0.4967 - val_loss: 0.6931 - val_binary_accuracy: 0.5000\n",
      "Epoch 10/20\n",
      "25000/25000 [==============================] - 14s 570us/step - loss: 0.6932 - binary_accuracy: 0.5005 - val_loss: 0.6931 - val_binary_accuracy: 0.5000\n",
      "Epoch 11/20\n",
      "25000/25000 [==============================] - 14s 567us/step - loss: 0.6932 - binary_accuracy: 0.4997 - val_loss: 0.6931 - val_binary_accuracy: 0.5000\n",
      "Epoch 12/20\n",
      "25000/25000 [==============================] - 14s 566us/step - loss: 0.6932 - binary_accuracy: 0.4991 - val_loss: 0.6931 - val_binary_accuracy: 0.5000\n",
      "Epoch 13/20\n",
      "25000/25000 [==============================] - 14s 566us/step - loss: 0.6932 - binary_accuracy: 0.4950 - val_loss: 0.6931 - val_binary_accuracy: 0.5000\n",
      "Epoch 14/20\n",
      "25000/25000 [==============================] - 14s 565us/step - loss: 0.6932 - binary_accuracy: 0.4975 - val_loss: 0.6931 - val_binary_accuracy: 0.5000\n",
      "Epoch 15/20\n",
      "25000/25000 [==============================] - 14s 566us/step - loss: 0.6932 - binary_accuracy: 0.4978 - val_loss: 0.6931 - val_binary_accuracy: 0.5000\n",
      "Epoch 16/20\n",
      "25000/25000 [==============================] - 14s 568us/step - loss: 0.6932 - binary_accuracy: 0.5002 - val_loss: 0.6931 - val_binary_accuracy: 0.5000\n",
      "Epoch 17/20\n",
      "25000/25000 [==============================] - 14s 567us/step - loss: 0.6932 - binary_accuracy: 0.4983 - val_loss: 0.6931 - val_binary_accuracy: 0.5000\n",
      "Epoch 18/20\n",
      "25000/25000 [==============================] - 14s 567us/step - loss: 0.6932 - binary_accuracy: 0.4986 - val_loss: 0.6931 - val_binary_accuracy: 0.5000\n",
      "Epoch 19/20\n",
      "25000/25000 [==============================] - 14s 569us/step - loss: 0.6932 - binary_accuracy: 0.4975 - val_loss: 0.6931 - val_binary_accuracy: 0.5000\n",
      "Epoch 20/20\n",
      "25000/25000 [==============================] - 14s 567us/step - loss: 0.6932 - binary_accuracy: 0.4979 - val_loss: 0.6931 - val_binary_accuracy: 0.5000\n"
     ]
    },
    {
     "data": {
      "text/plain": [
       "dict_keys(['val_loss', 'val_binary_accuracy', 'loss', 'binary_accuracy'])"
      ]
     },
     "execution_count": 31,
     "metadata": {
      "tags": []
     },
     "output_type": "execute_result"
    }
   ],
   "source": [
    "\n",
    "vocab_sz = 10000\n",
    "(train_data, train_labels), (test_data, test_labels) = imdb.load_data(num_words=vocab_sz)\n",
    "\n",
    "tok = Tokenizer(num_words=vocab_sz, oov_token='UNK')\n",
    "tok.fit_on_texts(trn_texts + tst_texts)\n",
    "#vocab_sz = len(tok.word_index)\n",
    "\n",
    "# Extract binary BoW features\n",
    "x_train = tok.sequences_to_matrix(train_data, mode='binary')\n",
    "x_val = tok.sequences_to_matrix(test_data, mode='binary')\n",
    "y_train = np.asarray(train_labels).astype('float32')\n",
    "y_val = np.asarray(test_labels).astype('float32')\n",
    "\n",
    "model.compile(optimizer=optimizers.RMSprop(lr=0.001),\n",
    "              loss=losses.binary_crossentropy,\n",
    "              metrics=[metrics.binary_accuracy])\n",
    "\t\t\t  \n",
    "history = model.fit(x_train,\n",
    "                    y_train,\n",
    "                    epochs=20,\n",
    "                    batch_size=512,\n",
    "                    validation_data=(x_val, y_val))\n",
    "history_dict = history.history\n",
    "history_dict.keys()"
   ]
  },
  {
   "cell_type": "markdown",
   "metadata": {
    "id": "JJzhlcYmCjl5"
   },
   "source": [
    "# What happened?\n",
    "\n",
    "In the above model, we encode the word feature as:\n",
    "- 1--> word exists in the sentence\n",
    "- 0 --> word doesnt exist in the sentence\n",
    "\n",
    "So we don't have word index as feature anymore! In other words, the input to Embedding layer is invalid, since the Embedding layer can only be indexed with word index\n",
    "\n",
    "__What do we do?__\n",
    "\n",
    "We need to feed actual word indices. In other words, we need to convert back the binary features into sequence features.\n",
    "\n",
    "__`pad_sequences`__\n",
    "\n",
    "Now since we have a `Dense` layer in the model, we need to have fixed size input. We use keras `pad_sequences` to fill in to some `max_len`.\n",
    "\n",
    "# BoW vectors model:\n",
    "\n",
    "__This is still a BoW model!__\n",
    "\n",
    "Note that, although we now have inputs as words indices.\n",
    "\n",
    "But at some point in the model, we merge them as ___soup___ of word vectors in the `Flatten` layer, followed by a merger `Dense` layer. This is just a weighted sum of the words vectors.\n",
    "\n",
    "\n"
   ]
  },
  {
   "cell_type": "markdown",
   "metadata": {
    "id": "ltEndTI7ByLx"
   },
   "source": [
    "__PAD token: Embedding(vocab_sz+1, emb_sz)__\n",
    "\n",
    "Notice that we put the size of Embedding table = vocab_sz+1 X emb_sz.\n",
    "\n",
    "This is because we want to reserve extra entry in the table for the _PAD_ token. In our BoW model, we reserve that token index to be 0.\n",
    "\n",
    "___This must be considered in the tokenizer__\n",
    "\n",
    "The tokenizer must reserve a token for the PAD token. It could be 0 or any other token. In all cases, it must not be used for any other word.\n",
    "\n",
    "Keras `Embedding` is indifferent to the value of the reserved PAD token (0 or otherwise). It just needs extra value for the number of rows.\n",
    "\n",
    "Without this vocab_sz+1 rows, we will have values of words indices = 1..vocab_sz + 0, so vocab_sz+1 values, which might cause run time error since we don't have entry for the PAD token."
   ]
  },
  {
   "cell_type": "code",
   "execution_count": null,
   "metadata": {
    "id": "Qwaps0dI-u8z"
   },
   "outputs": [],
   "source": [
    "\n",
    "vocab_size = 10000\n",
    "(x_train, y_train), (x_val, y_val) = imdb.load_data(num_words=vocab_size)\n",
    "\n",
    "y_train = np.asarray(y_train).astype('float32')\n",
    "y_val = np.asarray(y_val).astype('float32')\n",
    "\n",
    "\n",
    "max_length = 100\n",
    "x_train = pad_sequences(x_train, maxlen=max_length, padding='post')\n",
    "x_val = pad_sequences(x_val, maxlen=max_length, padding='post')\n",
    "\n",
    "\n",
    "x_train, x_val, y_train, y_val = train_test_split(x_train, y_train, test_size=0.4, random_state=42)\n",
    "\n",
    "\n",
    "\n",
    "\n",
    "\n"
   ]
  },
  {
   "cell_type": "code",
   "execution_count": null,
   "metadata": {
    "colab": {
     "base_uri": "https://localhost:8080/",
     "height": 318
    },
    "id": "TiuaVafNGccR",
    "outputId": "9bfb82f0-7ef4-4283-af43-982a99074b7a"
   },
   "outputs": [
    {
     "name": "stdout",
     "output_type": "stream",
     "text": [
      "Model: \"sequential_7\"\n",
      "_________________________________________________________________\n",
      "Layer (type)                 Output Shape              Param #   \n",
      "=================================================================\n",
      "embedding_5 (Embedding)      (None, 100, 25)           250025    \n",
      "_________________________________________________________________\n",
      "flatten_4 (Flatten)          (None, 2500)              0         \n",
      "_________________________________________________________________\n",
      "dense_17 (Dense)             (None, 16)                40016     \n",
      "_________________________________________________________________\n",
      "dense_18 (Dense)             (None, 16)                272       \n",
      "_________________________________________________________________\n",
      "dense_19 (Dense)             (None, 1)                 17        \n",
      "=================================================================\n",
      "Total params: 290,330\n",
      "Trainable params: 290,330\n",
      "Non-trainable params: 0\n",
      "_________________________________________________________________\n"
     ]
    }
   ],
   "source": [
    "n_latent_factors = 25\n",
    "model = models.Sequential()\n",
    "model.add(layers.Embedding(vocab_sz+1, n_latent_factors, input_length=max_length))\n",
    "model.add(layers.Flatten())\n",
    "model.add(layers.Dense(16, activation='relu'))\n",
    "model.add(layers.Dense(16, activation='relu'))\n",
    "model.add(layers.Dense(1, activation='sigmoid'))\n",
    "model.summary()"
   ]
  },
  {
   "cell_type": "code",
   "execution_count": null,
   "metadata": {
    "colab": {
     "base_uri": "https://localhost:8080/",
     "height": 564
    },
    "id": "Q0v29Iv8GaxR",
    "outputId": "5b5b5ac9-a314-44b0-c59f-68abd9f60d31"
   },
   "outputs": [
    {
     "data": {
      "image/png": "[encoded data removed]",
      "text/plain": [
       "<IPython.core.display.Image object>"
      ]
     },
     "execution_count": 34,
     "metadata": {
      "tags": []
     },
     "output_type": "execute_result"
    }
   ],
   "source": [
    "plot_model(model)"
   ]
  },
  {
   "cell_type": "code",
   "execution_count": null,
   "metadata": {
    "colab": {
     "base_uri": "https://localhost:8080/",
     "height": 773
    },
    "id": "k3VIJqHGGuaA",
    "outputId": "816be7fb-2b32-4f60-c094-7c44ac697dac"
   },
   "outputs": [
    {
     "name": "stderr",
     "output_type": "stream",
     "text": [
      "/usr/local/lib/python3.6/dist-packages/tensorflow/python/framework/indexed_slices.py:434: UserWarning: Converting sparse IndexedSlices to a dense Tensor of unknown shape. This may consume a large amount of memory.\n",
      "  \"Converting sparse IndexedSlices to a dense Tensor of unknown shape. \"\n"
     ]
    },
    {
     "name": "stdout",
     "output_type": "stream",
     "text": [
      "Train on 15000 samples, validate on 10000 samples\n",
      "Epoch 1/20\n",
      "15000/15000 [==============================] - 0s 16us/step - loss: 0.6896 - binary_accuracy: 0.5453 - val_loss: 0.6744 - val_binary_accuracy: 0.5914\n",
      "Epoch 2/20\n",
      "15000/15000 [==============================] - 0s 8us/step - loss: 0.5726 - binary_accuracy: 0.7745 - val_loss: 0.4883 - val_binary_accuracy: 0.7980\n",
      "Epoch 3/20\n",
      "15000/15000 [==============================] - 0s 8us/step - loss: 0.3593 - binary_accuracy: 0.8736 - val_loss: 0.3918 - val_binary_accuracy: 0.8250\n",
      "Epoch 4/20\n",
      "15000/15000 [==============================] - 0s 8us/step - loss: 0.2470 - binary_accuracy: 0.9118 - val_loss: 0.3588 - val_binary_accuracy: 0.8412\n",
      "Epoch 5/20\n",
      "15000/15000 [==============================] - 0s 8us/step - loss: 0.1738 - binary_accuracy: 0.9432 - val_loss: 0.4178 - val_binary_accuracy: 0.8158\n",
      "Epoch 6/20\n",
      "15000/15000 [==============================] - 0s 8us/step - loss: 0.1141 - binary_accuracy: 0.9701 - val_loss: 0.3714 - val_binary_accuracy: 0.8416\n",
      "Epoch 7/20\n",
      "15000/15000 [==============================] - 0s 8us/step - loss: 0.0711 - binary_accuracy: 0.9847 - val_loss: 0.4017 - val_binary_accuracy: 0.8379\n",
      "Epoch 8/20\n",
      "15000/15000 [==============================] - 0s 9us/step - loss: 0.0383 - binary_accuracy: 0.9950 - val_loss: 0.4350 - val_binary_accuracy: 0.8336\n",
      "Epoch 9/20\n",
      "15000/15000 [==============================] - 0s 8us/step - loss: 0.0203 - binary_accuracy: 0.9978 - val_loss: 0.5117 - val_binary_accuracy: 0.8193\n",
      "Epoch 10/20\n",
      "15000/15000 [==============================] - 0s 8us/step - loss: 0.0077 - binary_accuracy: 0.9995 - val_loss: 0.5210 - val_binary_accuracy: 0.8309\n",
      "Epoch 11/20\n",
      "15000/15000 [==============================] - 0s 10us/step - loss: 0.0040 - binary_accuracy: 0.9999 - val_loss: 0.5704 - val_binary_accuracy: 0.8306\n",
      "Epoch 12/20\n",
      "15000/15000 [==============================] - 0s 8us/step - loss: 0.0019 - binary_accuracy: 0.9999 - val_loss: 0.6189 - val_binary_accuracy: 0.8306\n",
      "Epoch 13/20\n",
      "15000/15000 [==============================] - 0s 8us/step - loss: 5.8390e-04 - binary_accuracy: 1.0000 - val_loss: 0.6759 - val_binary_accuracy: 0.8298\n",
      "Epoch 14/20\n",
      "15000/15000 [==============================] - 0s 8us/step - loss: 5.2499e-04 - binary_accuracy: 1.0000 - val_loss: 0.7492 - val_binary_accuracy: 0.8324\n",
      "Epoch 15/20\n",
      "15000/15000 [==============================] - 0s 9us/step - loss: 8.0735e-05 - binary_accuracy: 1.0000 - val_loss: 0.7569 - val_binary_accuracy: 0.8318\n",
      "Epoch 16/20\n",
      "15000/15000 [==============================] - 0s 9us/step - loss: 4.5003e-05 - binary_accuracy: 1.0000 - val_loss: 0.8028 - val_binary_accuracy: 0.8313\n",
      "Epoch 17/20\n",
      "15000/15000 [==============================] - 0s 8us/step - loss: 1.9932e-05 - binary_accuracy: 1.0000 - val_loss: 1.2411 - val_binary_accuracy: 0.7994\n",
      "Epoch 18/20\n",
      "15000/15000 [==============================] - 0s 8us/step - loss: 5.2658e-05 - binary_accuracy: 1.0000 - val_loss: 0.8992 - val_binary_accuracy: 0.8328\n",
      "Epoch 19/20\n",
      "15000/15000 [==============================] - 0s 8us/step - loss: 4.6511e-06 - binary_accuracy: 1.0000 - val_loss: 0.9288 - val_binary_accuracy: 0.8329\n",
      "Epoch 20/20\n",
      "15000/15000 [==============================] - 0s 8us/step - loss: 2.4371e-06 - binary_accuracy: 1.0000 - val_loss: 0.9844 - val_binary_accuracy: 0.8321\n"
     ]
    },
    {
     "data": {
      "text/plain": [
       "dict_keys(['val_loss', 'val_binary_accuracy', 'loss', 'binary_accuracy'])"
      ]
     },
     "execution_count": 35,
     "metadata": {
      "tags": []
     },
     "output_type": "execute_result"
    }
   ],
   "source": [
    "model.compile(optimizer=optimizers.RMSprop(lr=0.001),\n",
    "              loss=losses.binary_crossentropy,\n",
    "              metrics=[metrics.binary_accuracy])\n",
    "\t\t\t  \n",
    "history = model.fit(x_train,\n",
    "                    y_train,\n",
    "                    epochs=20,\n",
    "                    batch_size=512,\n",
    "                    validation_data=(x_val, y_val))\n",
    "history_dict = history.history\n",
    "history_dict.keys()"
   ]
  },
  {
   "cell_type": "code",
   "execution_count": null,
   "metadata": {
    "colab": {
     "base_uri": "https://localhost:8080/",
     "height": 295
    },
    "id": "D0A3eGmOFawX",
    "outputId": "f3bcff0e-9b9b-44e1-af2b-44a76d43c638"
   },
   "outputs": [
    {
     "data": {
      "image/png": "[encoded data removed]",
      "text/plain": [
       "<Figure size 432x288 with 1 Axes>"
      ]
     },
     "metadata": {
      "needs_background": "light",
      "tags": []
     },
     "output_type": "display_data"
    }
   ],
   "source": [
    "\n",
    "acc = history.history['binary_accuracy']\n",
    "val_acc = history.history['val_binary_accuracy']\n",
    "loss = history.history['loss']\n",
    "val_loss = history.history['val_loss']\n",
    "\n",
    "epochs = range(1, len(acc) + 1)\n",
    "\n",
    "# \"bo\" is for \"blue dot\"\n",
    "plt.plot(epochs, loss, 'bo', label='Training loss')\n",
    "# b is for \"solid blue line\"\n",
    "plt.plot(epochs, val_loss, 'b', label='Validation loss')\n",
    "plt.title('Training and validation loss')\n",
    "plt.xlabel('Epochs')\n",
    "plt.ylabel('Loss')\n",
    "plt.legend()\n",
    "\n",
    "plt.show()"
   ]
  },
  {
   "cell_type": "code",
   "execution_count": null,
   "metadata": {
    "colab": {
     "base_uri": "https://localhost:8080/",
     "height": 295
    },
    "id": "VhdB5RUGFRzC",
    "outputId": "6f49502d-0aa9-4523-e120-0bd65e04e3cd"
   },
   "outputs": [
    {
     "data": {
      "image/png": "[encoded data removed]",
      "text/plain": [
       "<Figure size 432x288 with 1 Axes>"
      ]
     },
     "metadata": {
      "needs_background": "light",
      "tags": []
     },
     "output_type": "display_data"
    }
   ],
   "source": [
    "\n",
    "plt.clf()   # clear figure\n",
    "acc_values = history_dict['binary_accuracy']\n",
    "val_acc_values = history_dict['val_binary_accuracy']\n",
    "\n",
    "plt.plot(epochs, acc, 'bo', label='Training acc')\n",
    "plt.plot(epochs, val_acc, 'b', label='Validation acc')\n",
    "plt.title('Training and validation accuracy')\n",
    "plt.xlabel('Epochs')\n",
    "plt.ylabel('Loss')\n",
    "plt.legend()\n",
    "\n",
    "plt.show()"
   ]
  },
  {
   "cell_type": "markdown",
   "metadata": {
    "id": "B1onhEUXFCMk"
   },
   "source": [
    "# Pros:\n",
    "- We have dense word representation\n",
    "- We somehow encode sequence information, since the inputs are now word positions, and their values=the word index at that position\n",
    "\n",
    "# Cons:\n",
    "- We still have BoW model. Although sequence is encoded in the input, but the info is lost later in the flatten layer --> ___RNN___\n",
    "- It's hard for the `Dense` layer to capture ALL different patterns of the input, with each word appearing at different positions for different samples.\n",
    "__We need some local features, that capture the word features, __wherever__ it occurs --> ___Conv1D___\n",
    "- The model now is larger, with too many parameters to be learnt (word latent features). So it needs more data to learn words context. --> ___word2vec___\n",
    "\n",
    "__We will treat the above issues one by one in the next lectures__"
   ]
  },
  {
   "cell_type": "markdown",
   "metadata": {
    "id": "T216wAtyQiv6"
   },
   "source": [
    "# Tips for Cleaning Text for Word Embedding\n",
    "Recently, the field of natural language processing has been moving away from bag-of-word models and word encoding toward word embeddings. \n",
    "\n",
    "The benefit of word embeddings is that\n",
    "they encode each word into a dense vector that captures something about its relative meaning within the training text. \n",
    "\n",
    "This means that variations of words like case, spelling, punctuation,\n",
    "and so on will automatically be learned to be similar in the embedding space. \n",
    "\n",
    "In turn, this can mean that the amount of cleaning required from your text may be less and perhaps quite diffeerent to classical text cleaning. \n",
    "\n",
    "For example, __it may no-longer make sense to stem words or\n",
    "remove punctuation for contractions.__\n",
    "\n",
    "Tomas Mikolov is one of the developers of Word2Vec, a popular word embedding method. He suggests only very minimal text cleaning is required when learning a word embedding model. Below is his response when pressed with the question about how to best prepare text data for Word2Vec.\n",
    "\n",
    "_There is no universal answer. It all depends on what you plan to use the vectors\n",
    "for. In my experience, it is usually good to disconnect (or remove) punctuation from\n",
    "words, and sometimes also convert all characters to lowercase. One can also replace\n",
    "all numbers (possibly greater than some constant) with some single token such as .\n",
    "All these pre-processing steps aim to reduce the vocabulary size without removing\n",
    "any important content (which in some cases may not be true when you lowercase\n",
    "certain words, ie. `Bush' is di\u000b",
    "erent than `bush', while `Another' has usually the\n",
    "same sense as `another'). The smaller the vocabulary is, the lower is the memory\n",
    "complexity, and the more robustly are the parameters for the words estimated. You\n",
    "also have to pre-process the test data in the same way.\n",
    "[...]\n",
    "In short, you will understand all this much better if you will run experiments.\n",
    "| Tomas Mikolov, word2vec-toolkit: google groups thread., 2015.\n",
    "https://goo.gl/KtDGst_"
   ]
  },
  {
   "cell_type": "markdown",
   "metadata": {
    "id": "FZlGYYf4QkLa"
   },
   "source": [
    "# Pre-trained word Embeddings\n",
    "\n",
    "In the above setting, we used a _learnable_ `Embedding` layer, which updates its ___randomly___ initialized weights, from the task at hand.\n",
    "\n",
    "Another approach would be to load some pre-trained word vectors, that are trained on some other useful task in NLP, and then use those pre-trained vectors to initialize our Embedding table vectors.\n",
    "\n",
    "One of the popular pre-trained embeddings is _GloVe_"
   ]
  },
  {
   "cell_type": "markdown",
   "metadata": {
    "id": "Av3m2YfxRSNE"
   },
   "source": []
  },
  {
   "cell_type": "markdown",
   "metadata": {
    "id": "S7kyWHyPFMaf"
   },
   "source": [
    "# Loading GloVe"
   ]
  },
  {
   "cell_type": "markdown",
   "metadata": {
    "id": "MVea98AxFl9H"
   },
   "source": [
    "The Keras Embedding layer can also use a word embedding learned elsewhere. It is common in the NLP to learn, save, and make freely available word\n",
    "embeddings. For example, the researchers behind GloVe method provide a suite of pre-trained word embeddings on their website released under a public domain license."
   ]
  },
  {
   "cell_type": "markdown",
   "metadata": {
    "id": "rFnC9N7lF2lK"
   },
   "source": [
    "__Load embeddings for your vocab__\n",
    "\n",
    "We need to create a matrix of one embedding for each word in the training\n",
    "dataset. We can do that by enumerating all unique words in the Tokenizer.word index and\n",
    "locating the embedding weight vector from the loaded GloVe embedding. The result is a matrix\n",
    "of weights only for words we will see during training.\n",
    "\n",
    "```\n",
    "# create a weight matrix for words in training docs\n",
    "embedding_matrix = zeros((vocab_size, 100))\n",
    "for word, i in t.word_index.items():\n",
    "  embedding_vector = embeddings_index.get(word)\n",
    "  if embedding_vector is not None:\n",
    "    embedding_matrix[i] = embedding_vector\n",
    "```"
   ]
  },
  {
   "cell_type": "markdown",
   "metadata": {
    "id": "ifraxXz_GAmz"
   },
   "source": [
    "Now we can de\f",
    "ne our model, \f",
    "t, and evaluate it as before. The key di\u000b",
    "erence is that\n",
    "the Embedding layer can be seeded with the GloVe word embedding weights. We chose the\n",
    "100-dimensional version, therefore the Embedding layer must be de\f",
    "ned with output dim set to\n",
    "100. Finally, we do not want to update the learned word weights in this model, therefore we\n",
    "will set the trainable attribute for the model to be False.\n",
    "\n",
    "```\n",
    "e = Embedding(vocab_size, 100, weights=[embedding_matrix], input_length=4, trainable=False)\n",
    "```"
   ]
  },
  {
   "cell_type": "code",
   "execution_count": null,
   "metadata": {
    "colab": {
     "base_uri": "https://localhost:8080/",
     "height": 468
    },
    "id": "-HxwI2_UFLoQ",
    "outputId": "f82d5399-f060-43a4-b1a0-3a99d5e4bf45"
   },
   "outputs": [
    {
     "name": "stdout",
     "output_type": "stream",
     "text": [
      "--2020-06-06 11:52:34--  http://nlp.stanford.edu/data/glove.6B.zip\n",
      "Resolving nlp.stanford.edu (nlp.stanford.edu)... 171.64.67.140\n",
      "Connecting to nlp.stanford.edu (nlp.stanford.edu)|171.64.67.140|:80... connected.\n",
      "HTTP request sent, awaiting response... 302 Found\n",
      "Location: https://nlp.stanford.edu/data/glove.6B.zip [following]\n",
      "--2020-06-06 11:52:35--  https://nlp.stanford.edu/data/glove.6B.zip\n",
      "Connecting to nlp.stanford.edu (nlp.stanford.edu)|171.64.67.140|:443... connected.\n",
      "HTTP request sent, awaiting response... 301 Moved Permanently\n",
      "Location: http://downloads.cs.stanford.edu/nlp/data/glove.6B.zip [following]\n",
      "--2020-06-06 11:52:35--  http://downloads.cs.stanford.edu/nlp/data/glove.6B.zip\n",
      "Resolving downloads.cs.stanford.edu (downloads.cs.stanford.edu)... 171.64.64.22\n",
      "Connecting to downloads.cs.stanford.edu (downloads.cs.stanford.edu)|171.64.64.22|:80... connected.\n",
      "HTTP request sent, awaiting response... 200 OK\n",
      "Length: 862182613 (822M) [application/zip]\n",
      "Saving to: ‘glove.6B.zip.1’\n",
      "\n",
      "glove.6B.zip.1      100%[===================>] 822.24M  2.21MB/s    in 6m 29s  \n",
      "\n",
      "2020-06-06 11:59:04 (2.11 MB/s) - ‘glove.6B.zip.1’ saved [862182613/862182613]\n",
      "\n",
      "Archive:  glove.6B.zip\n",
      "  End-of-central-directory signature not found.  Either this file is not\n",
      "  a zipfile, or it constitutes one disk of a multi-part archive.  In the\n",
      "  latter case the central directory and zipfile comment will be found on\n",
      "  the last disk(s) of this archive.\n",
      "unzip:  cannot find zipfile directory in one of glove.6B.zip or\n",
      "        glove.6B.zip.zip, and cannot find glove.6B.zip.ZIP, period.\n"
     ]
    }
   ],
   "source": [
    "!wget http://nlp.stanford.edu/data/glove.6B.zip\n",
    "!unzip glove.6B.zip"
   ]
  },
  {
   "cell_type": "code",
   "execution_count": null,
   "metadata": {
    "colab": {
     "base_uri": "https://localhost:8080/",
     "height": 100
    },
    "id": "6Kx6w_TcgfCN",
    "outputId": "3ae579a5-af1d-4dfd-fd39-346d974b73be"
   },
   "outputs": [
    {
     "name": "stdout",
     "output_type": "stream",
     "text": [
      "Archive:  glove.6B.zip.1\n",
      "  inflating: glove.6B.50d.txt        \n",
      "  inflating: glove.6B.100d.txt       \n",
      "  inflating: glove.6B.200d.txt       \n",
      "  inflating: glove.6B.300d.txt       \n"
     ]
    }
   ],
   "source": [
    "#!unzip glove.6B.zip.1"
   ]
  },
  {
   "cell_type": "code",
   "execution_count": null,
   "metadata": {
    "colab": {
     "base_uri": "https://localhost:8080/",
     "height": 468
    },
    "id": "fI8QPEaxEtcf",
    "outputId": "fcbcd371-ed37-4eb8-83ff-6b56fc372b81"
   },
   "outputs": [
    {
     "name": "stdout",
     "output_type": "stream",
     "text": [
      "[[6, 2], [3, 1], [7, 4], [8, 1], [9], [10], [5, 4], [11, 3], [5, 1], [12, 13, 2, 14]]\n",
      "[[ 6  2  0  0]\n",
      " [ 3  1  0  0]\n",
      " [ 7  4  0  0]\n",
      " [ 8  1  0  0]\n",
      " [ 9  0  0  0]\n",
      " [10  0  0  0]\n",
      " [ 5  4  0  0]\n",
      " [11  3  0  0]\n",
      " [ 5  1  0  0]\n",
      " [12 13  2 14]]\n",
      "Loaded 400000 word vectors.\n",
      "Model: \"sequential_8\"\n",
      "_________________________________________________________________\n",
      "Layer (type)                 Output Shape              Param #   \n",
      "=================================================================\n",
      "embedding_6 (Embedding)      (None, 4, 100)            1500      \n",
      "_________________________________________________________________\n",
      "flatten_5 (Flatten)          (None, 400)               0         \n",
      "_________________________________________________________________\n",
      "dense_20 (Dense)             (None, 1)                 401       \n",
      "=================================================================\n",
      "Total params: 1,901\n",
      "Trainable params: 401\n",
      "Non-trainable params: 1,500\n",
      "_________________________________________________________________\n",
      "Accuracy: 100.000000\n"
     ]
    }
   ],
   "source": [
    "from numpy import asarray\n",
    "from numpy import zeros\n",
    "from tensorflow.keras.preprocessing.text import Tokenizer\n",
    "from tensorflow.keras.preprocessing.sequence import pad_sequences\n",
    "from tensorflow.keras.models import Sequential\n",
    "from tensorflow.keras.layers import Dense\n",
    "from tensorflow.keras.layers import Flatten\n",
    "from tensorflow.keras.layers import Embedding\n",
    "# define documents\n",
    "docs = ['Well done!',\n",
    "'Good work',\n",
    "'Great effort',\n",
    "'nice work',\n",
    "'Excellent!',\n",
    "'Weak',\n",
    "'Poor effort!',\n",
    "'not good',\n",
    "'poor work',\n",
    "'Could have done better.']\n",
    "# define class labels\n",
    "labels = [1,1,1,1,1,0,0,0,0,0]\n",
    "# prepare tokenizer\n",
    "t = Tokenizer()\n",
    "t.fit_on_texts(docs)\n",
    "vocab_size = len(t.word_index) + 1\n",
    "# integer encode the documents\n",
    "encoded_docs = t.texts_to_sequences(docs)\n",
    "print(encoded_docs)\n",
    "# pad documents to a max length of 4 words\n",
    "max_length = 4\n",
    "padded_docs = pad_sequences(encoded_docs, maxlen=max_length, padding='post')\n",
    "print(padded_docs)\n",
    "# load the whole embedding into memory\n",
    "embeddings_index = dict()\n",
    "f = open('glove.6B.100d.txt', mode='rt', encoding='utf-8')\n",
    "for line in f:\n",
    "  values = line.split()\n",
    "  word = values[0]\n",
    "  coefs = asarray(values[1:], dtype='float32')\n",
    "  embeddings_index[word] = coefs\n",
    "f.close()\n",
    "print('Loaded %s word vectors.' % len(embeddings_index))\n",
    "# create a weight matrix for words in training docs\n",
    "embedding_matrix = zeros((vocab_size, 100))\n",
    "for word, i in t.word_index.items():\n",
    "  embedding_vector = embeddings_index.get(word)\n",
    "  if embedding_vector is not None:\n",
    "    embedding_matrix[i] = embedding_vector\n",
    "# define model\n",
    "model = Sequential()\n",
    "e = Embedding(vocab_size, 100, weights=[embedding_matrix], input_length=4, trainable=False)\n",
    "model.add(e)\n",
    "model.add(Flatten())\n",
    "model.add(Dense(1, activation='sigmoid'))\n",
    "# compile the model\n",
    "model.compile(optimizer='adam', loss='binary_crossentropy', metrics=['acc'])\n",
    "# summarize the model\n",
    "model.summary()\n",
    "# fit the model\n",
    "model.fit(padded_docs, labels, epochs=50, verbose=0)\n",
    "# evaluate the model\n",
    "loss, accuracy = model.evaluate(padded_docs, labels, verbose=0)\n",
    "print('Accuracy: %f' % (accuracy*100))"
   ]
  },
  {
   "cell_type": "markdown",
   "metadata": {
    "id": "XdVQT72zRWEb"
   },
   "source": [
    "# BoW vectors with GloVe Embeddings"
   ]
  },
  {
   "cell_type": "code",
   "execution_count": null,
   "metadata": {
    "id": "mBrjQzW-Rgz3"
   },
   "outputs": [],
   "source": [
    "\n",
    "vocab_size = 10000\n",
    "(x_train, y_train), (x_val, y_val) = imdb.load_data(num_words=vocab_size)\n",
    "\n",
    "y_train = np.asarray(y_train).astype('float32')\n",
    "y_val = np.asarray(y_val).astype('float32')\n",
    "\n",
    "\n",
    "max_length = 100\n",
    "x_train = pad_sequences(x_train, maxlen=max_length, padding='post')\n",
    "x_val = pad_sequences(x_val, maxlen=max_length, padding='post')\n",
    "\n",
    "\n",
    "x_train, x_val, y_train, y_val = train_test_split(x_train, y_train, test_size=0.4, random_state=42)\n",
    "\n",
    "\n",
    "\n",
    "\n",
    "\n"
   ]
  },
  {
   "cell_type": "code",
   "execution_count": null,
   "metadata": {
    "colab": {
     "base_uri": "https://localhost:8080/",
     "height": 33
    },
    "id": "gYST3z0pRoJC",
    "outputId": "b5ac3b9f-e9c1-45a5-efd3-61aa33c63da9"
   },
   "outputs": [
    {
     "name": "stdout",
     "output_type": "stream",
     "text": [
      "Loaded 400000 word vectors.\n"
     ]
    }
   ],
   "source": [
    "# load the whole embedding into memory\n",
    "embeddings_index = dict()\n",
    "f = open('glove.6B.100d.txt', mode='rt', encoding='utf-8')\n",
    "for line in f:\n",
    "  values = line.split()\n",
    "  word = values[0]\n",
    "  coefs = asarray(values[1:], dtype='float32')\n",
    "  embeddings_index[word] = coefs\n",
    "f.close()\n",
    "print('Loaded %s word vectors.' % len(embeddings_index))\n",
    "# create a weight matrix for words in training docs\n",
    "embedding_matrix = zeros((vocab_size, 100))\n",
    "for word, i in t.word_index.items():\n",
    "  embedding_vector = embeddings_index.get(word)\n",
    "  if embedding_vector is not None:\n",
    "    embedding_matrix[i] = embedding_vector\n",
    "# define model\n",
    "model = Sequential()\n",
    "e = Embedding(vocab_size, 100, weights=[embedding_matrix], input_length=4, trainable=False)"
   ]
  },
  {
   "cell_type": "code",
   "execution_count": null,
   "metadata": {
    "colab": {
     "base_uri": "https://localhost:8080/",
     "height": 318
    },
    "id": "75B3i3BDRgz6",
    "outputId": "a7e2233d-8047-414b-d380-f374536a7000"
   },
   "outputs": [
    {
     "name": "stdout",
     "output_type": "stream",
     "text": [
      "Model: \"sequential_11\"\n",
      "_________________________________________________________________\n",
      "Layer (type)                 Output Shape              Param #   \n",
      "=================================================================\n",
      "embedding_9 (Embedding)      (None, 100, 100)          1000000   \n",
      "_________________________________________________________________\n",
      "flatten_6 (Flatten)          (None, 10000)             0         \n",
      "_________________________________________________________________\n",
      "dense_21 (Dense)             (None, 16)                160016    \n",
      "_________________________________________________________________\n",
      "dense_22 (Dense)             (None, 16)                272       \n",
      "_________________________________________________________________\n",
      "dense_23 (Dense)             (None, 1)                 17        \n",
      "=================================================================\n",
      "Total params: 1,160,305\n",
      "Trainable params: 160,305\n",
      "Non-trainable params: 1,000,000\n",
      "_________________________________________________________________\n"
     ]
    }
   ],
   "source": [
    "n_latent_factors = 100\n",
    "model = models.Sequential()\n",
    "model.add(layers.Embedding(vocab_sz, n_latent_factors, weights=[embedding_matrix], input_length=max_length, trainable=False))\n",
    "model.add(layers.Flatten())\n",
    "model.add(layers.Dense(16, activation='relu'))\n",
    "model.add(layers.Dense(16, activation='relu'))\n",
    "model.add(layers.Dense(1, activation='sigmoid'))\n",
    "model.summary()"
   ]
  },
  {
   "cell_type": "code",
   "execution_count": null,
   "metadata": {
    "colab": {
     "base_uri": "https://localhost:8080/",
     "height": 564
    },
    "id": "CH31GfueRgz9",
    "outputId": "8475155f-abfb-44a1-f6c6-6cc270bdd239"
   },
   "outputs": [
    {
     "data": {
      "image/png": "[encoded data removed]",
      "text/plain": [
       "<IPython.core.display.Image object>"
      ]
     },
     "execution_count": 49,
     "metadata": {
      "tags": []
     },
     "output_type": "execute_result"
    }
   ],
   "source": [
    "plot_model(model)"
   ]
  },
  {
   "cell_type": "code",
   "execution_count": null,
   "metadata": {
    "colab": {
     "base_uri": "https://localhost:8080/",
     "height": 719
    },
    "id": "HyrtErleRg0C",
    "outputId": "c3a6c9cd-dbce-4f5d-c9b4-a87e89e8c729"
   },
   "outputs": [
    {
     "name": "stdout",
     "output_type": "stream",
     "text": [
      "Train on 15000 samples, validate on 10000 samples\n",
      "Epoch 1/20\n",
      "15000/15000 [==============================] - 0s 15us/step - loss: 0.6969 - binary_accuracy: 0.5256 - val_loss: 0.6904 - val_binary_accuracy: 0.5336\n",
      "Epoch 2/20\n",
      "15000/15000 [==============================] - 0s 9us/step - loss: 0.6779 - binary_accuracy: 0.5715 - val_loss: 0.6906 - val_binary_accuracy: 0.5311\n",
      "Epoch 3/20\n",
      "15000/15000 [==============================] - 0s 9us/step - loss: 0.6576 - binary_accuracy: 0.6023 - val_loss: 0.6942 - val_binary_accuracy: 0.5408\n",
      "Epoch 4/20\n",
      "15000/15000 [==============================] - 0s 8us/step - loss: 0.6398 - binary_accuracy: 0.6289 - val_loss: 0.7007 - val_binary_accuracy: 0.5498\n",
      "Epoch 5/20\n",
      "15000/15000 [==============================] - 0s 8us/step - loss: 0.6216 - binary_accuracy: 0.6553 - val_loss: 0.7383 - val_binary_accuracy: 0.5326\n",
      "Epoch 6/20\n",
      "15000/15000 [==============================] - 0s 9us/step - loss: 0.5983 - binary_accuracy: 0.6745 - val_loss: 0.7223 - val_binary_accuracy: 0.5442\n",
      "Epoch 7/20\n",
      "15000/15000 [==============================] - 0s 8us/step - loss: 0.5726 - binary_accuracy: 0.7009 - val_loss: 0.7254 - val_binary_accuracy: 0.5375\n",
      "Epoch 8/20\n",
      "15000/15000 [==============================] - 0s 8us/step - loss: 0.5501 - binary_accuracy: 0.7157 - val_loss: 0.7668 - val_binary_accuracy: 0.5371\n",
      "Epoch 9/20\n",
      "15000/15000 [==============================] - 0s 8us/step - loss: 0.5186 - binary_accuracy: 0.7423 - val_loss: 0.7861 - val_binary_accuracy: 0.5383\n",
      "Epoch 10/20\n",
      "15000/15000 [==============================] - 0s 8us/step - loss: 0.5014 - binary_accuracy: 0.7521 - val_loss: 0.8328 - val_binary_accuracy: 0.5395\n",
      "Epoch 11/20\n",
      "15000/15000 [==============================] - 0s 9us/step - loss: 0.4763 - binary_accuracy: 0.7699 - val_loss: 0.8086 - val_binary_accuracy: 0.5390\n",
      "Epoch 12/20\n",
      "15000/15000 [==============================] - 0s 8us/step - loss: 0.4608 - binary_accuracy: 0.7804 - val_loss: 0.8495 - val_binary_accuracy: 0.5395\n",
      "Epoch 13/20\n",
      "15000/15000 [==============================] - 0s 8us/step - loss: 0.4360 - binary_accuracy: 0.7955 - val_loss: 0.8599 - val_binary_accuracy: 0.5447\n",
      "Epoch 14/20\n",
      "15000/15000 [==============================] - 0s 8us/step - loss: 0.4082 - binary_accuracy: 0.8172 - val_loss: 0.8684 - val_binary_accuracy: 0.5409\n",
      "Epoch 15/20\n",
      "15000/15000 [==============================] - 0s 8us/step - loss: 0.4020 - binary_accuracy: 0.8209 - val_loss: 0.9563 - val_binary_accuracy: 0.5341\n",
      "Epoch 16/20\n",
      "15000/15000 [==============================] - 0s 8us/step - loss: 0.3796 - binary_accuracy: 0.8324 - val_loss: 0.9302 - val_binary_accuracy: 0.5393\n",
      "Epoch 17/20\n",
      "15000/15000 [==============================] - 0s 8us/step - loss: 0.3689 - binary_accuracy: 0.8351 - val_loss: 0.9253 - val_binary_accuracy: 0.5438\n",
      "Epoch 18/20\n",
      "15000/15000 [==============================] - 0s 8us/step - loss: 0.3424 - binary_accuracy: 0.8561 - val_loss: 1.0253 - val_binary_accuracy: 0.5381\n",
      "Epoch 19/20\n",
      "15000/15000 [==============================] - 0s 9us/step - loss: 0.3302 - binary_accuracy: 0.8573 - val_loss: 1.1358 - val_binary_accuracy: 0.5288\n",
      "Epoch 20/20\n",
      "15000/15000 [==============================] - 0s 9us/step - loss: 0.3129 - binary_accuracy: 0.8698 - val_loss: 1.0957 - val_binary_accuracy: 0.5312\n"
     ]
    },
    {
     "data": {
      "text/plain": [
       "dict_keys(['val_loss', 'val_binary_accuracy', 'loss', 'binary_accuracy'])"
      ]
     },
     "execution_count": 50,
     "metadata": {
      "tags": []
     },
     "output_type": "execute_result"
    }
   ],
   "source": [
    "model.compile(optimizer=optimizers.RMSprop(lr=0.001),\n",
    "              loss=losses.binary_crossentropy,\n",
    "              metrics=[metrics.binary_accuracy])\n",
    "\t\t\t  \n",
    "history = model.fit(x_train,\n",
    "                    y_train,\n",
    "                    epochs=20,\n",
    "                    batch_size=512,\n",
    "                    validation_data=(x_val, y_val))\n",
    "history_dict = history.history\n",
    "history_dict.keys()"
   ]
  },
  {
   "cell_type": "code",
   "execution_count": null,
   "metadata": {
    "colab": {
     "base_uri": "https://localhost:8080/",
     "height": 295
    },
    "id": "nHgWbt_8Rg0H",
    "outputId": "533416bb-8503-4ee2-9506-00513b4174bf"
   },
   "outputs": [
    {
     "data": {
      "image/png": "[encoded data removed]",
      "text/plain": [
       "<Figure size 432x288 with 1 Axes>"
      ]
     },
     "metadata": {
      "needs_background": "light",
      "tags": []
     },
     "output_type": "display_data"
    }
   ],
   "source": [
    "\n",
    "acc = history.history['binary_accuracy']\n",
    "val_acc = history.history['val_binary_accuracy']\n",
    "loss = history.history['loss']\n",
    "val_loss = history.history['val_loss']\n",
    "\n",
    "epochs = range(1, len(acc) + 1)\n",
    "\n",
    "# \"bo\" is for \"blue dot\"\n",
    "plt.plot(epochs, loss, 'bo', label='Training loss')\n",
    "# b is for \"solid blue line\"\n",
    "plt.plot(epochs, val_loss, 'b', label='Validation loss')\n",
    "plt.title('Training and validation loss')\n",
    "plt.xlabel('Epochs')\n",
    "plt.ylabel('Loss')\n",
    "plt.legend()\n",
    "\n",
    "plt.show()"
   ]
  },
  {
   "cell_type": "code",
   "execution_count": null,
   "metadata": {
    "colab": {
     "base_uri": "https://localhost:8080/",
     "height": 295
    },
    "id": "YblCXZVIRg0J",
    "outputId": "766d51e6-2378-48f8-f99e-ead300652165"
   },
   "outputs": [
    {
     "data": {
      "image/png": "[encoded data removed]",
      "text/plain": [
       "<Figure size 432x288 with 1 Axes>"
      ]
     },
     "metadata": {
      "needs_background": "light",
      "tags": []
     },
     "output_type": "display_data"
    }
   ],
   "source": [
    "\n",
    "plt.clf()   # clear figure\n",
    "acc_values = history_dict['binary_accuracy']\n",
    "val_acc_values = history_dict['val_binary_accuracy']\n",
    "\n",
    "plt.plot(epochs, acc, 'bo', label='Training acc')\n",
    "plt.plot(epochs, val_acc, 'b', label='Validation acc')\n",
    "plt.title('Training and validation accuracy')\n",
    "plt.xlabel('Epochs')\n",
    "plt.ylabel('Loss')\n",
    "plt.legend()\n",
    "\n",
    "plt.show()"
   ]
  },
  {
   "cell_type": "markdown",
   "metadata": {
    "id": "Oj9vRhvShPkf"
   },
   "source": [
    "Make trainable"
   ]
  },
  {
   "cell_type": "code",
   "execution_count": null,
   "metadata": {
    "id": "9XE8ERt9hUHU"
   },
   "outputs": [],
   "source": []
  },
  {
   "cell_type": "code",
   "execution_count": null,
   "metadata": {
    "colab": {
     "base_uri": "https://localhost:8080/",
     "height": 318
    },
    "id": "wt4SZSEnhUi6",
    "outputId": "bc51f3ed-db99-4f0a-dd65-30aa3696ab08"
   },
   "outputs": [
    {
     "name": "stdout",
     "output_type": "stream",
     "text": [
      "Model: \"sequential_14\"\n",
      "_________________________________________________________________\n",
      "Layer (type)                 Output Shape              Param #   \n",
      "=================================================================\n",
      "embedding_12 (Embedding)     (None, 100, 100)          1000000   \n",
      "_________________________________________________________________\n",
      "flatten_8 (Flatten)          (None, 10000)             0         \n",
      "_________________________________________________________________\n",
      "dense_27 (Dense)             (None, 32)                320032    \n",
      "_________________________________________________________________\n",
      "dense_28 (Dense)             (None, 32)                1056      \n",
      "_________________________________________________________________\n",
      "dense_29 (Dense)             (None, 1)                 33        \n",
      "=================================================================\n",
      "Total params: 1,321,121\n",
      "Trainable params: 1,321,121\n",
      "Non-trainable params: 0\n",
      "_________________________________________________________________\n"
     ]
    }
   ],
   "source": [
    "n_latent_factors = 100\n",
    "model = models.Sequential()\n",
    "model.add(layers.Embedding(vocab_sz, n_latent_factors, weights=[embedding_matrix], input_length=max_length, trainable=True))\n",
    "model.add(layers.Flatten())\n",
    "model.add(layers.Dense(16, activation='relu'))\n",
    "model.add(layers.Dense(16, activation='relu'))\n",
    "model.add(layers.Dense(1, activation='sigmoid'))\n",
    "model.summary()"
   ]
  },
  {
   "cell_type": "code",
   "execution_count": null,
   "metadata": {
    "colab": {
     "base_uri": "https://localhost:8080/",
     "height": 564
    },
    "id": "OXMWYp4LhUi9",
    "outputId": "969d04fe-2eef-4668-d2b8-aaecce121baa"
   },
   "outputs": [
    {
     "data": {
      "image/png": "[encoded data removed]",
      "text/plain": [
       "<IPython.core.display.Image object>"
      ]
     },
     "execution_count": 60,
     "metadata": {
      "tags": []
     },
     "output_type": "execute_result"
    }
   ],
   "source": [
    "plot_model(model)"
   ]
  },
  {
   "cell_type": "code",
   "execution_count": null,
   "metadata": {
    "colab": {
     "base_uri": "https://localhost:8080/",
     "height": 773
    },
    "id": "5bldXSkShUi_",
    "outputId": "e4898a81-6989-44ca-9250-a4c5253fc64e"
   },
   "outputs": [
    {
     "name": "stderr",
     "output_type": "stream",
     "text": [
      "/usr/local/lib/python3.6/dist-packages/tensorflow/python/framework/indexed_slices.py:434: UserWarning: Converting sparse IndexedSlices to a dense Tensor of unknown shape. This may consume a large amount of memory.\n",
      "  \"Converting sparse IndexedSlices to a dense Tensor of unknown shape. \"\n"
     ]
    },
    {
     "name": "stdout",
     "output_type": "stream",
     "text": [
      "Train on 15000 samples, validate on 10000 samples\n",
      "Epoch 1/20\n",
      "15000/15000 [==============================] - 0s 19us/step - loss: 0.6978 - binary_accuracy: 0.5161 - val_loss: 0.6914 - val_binary_accuracy: 0.5356\n",
      "Epoch 2/20\n",
      "15000/15000 [==============================] - 0s 10us/step - loss: 0.6636 - binary_accuracy: 0.6006 - val_loss: 0.7018 - val_binary_accuracy: 0.5461\n",
      "Epoch 3/20\n",
      "15000/15000 [==============================] - 0s 10us/step - loss: 0.6072 - binary_accuracy: 0.6684 - val_loss: 0.6335 - val_binary_accuracy: 0.6380\n",
      "Epoch 4/20\n",
      "15000/15000 [==============================] - 0s 10us/step - loss: 0.5206 - binary_accuracy: 0.7477 - val_loss: 0.5886 - val_binary_accuracy: 0.6832\n",
      "Epoch 5/20\n",
      "15000/15000 [==============================] - 0s 10us/step - loss: 0.4300 - binary_accuracy: 0.8065 - val_loss: 0.5245 - val_binary_accuracy: 0.7370\n",
      "Epoch 6/20\n",
      "15000/15000 [==============================] - 0s 10us/step - loss: 0.3420 - binary_accuracy: 0.8555 - val_loss: 0.5181 - val_binary_accuracy: 0.7481\n",
      "Epoch 7/20\n",
      "15000/15000 [==============================] - 0s 10us/step - loss: 0.2718 - binary_accuracy: 0.8908 - val_loss: 0.4878 - val_binary_accuracy: 0.7754\n",
      "Epoch 8/20\n",
      "15000/15000 [==============================] - 0s 11us/step - loss: 0.2099 - binary_accuracy: 0.9197 - val_loss: 0.4801 - val_binary_accuracy: 0.7866\n",
      "Epoch 9/20\n",
      "15000/15000 [==============================] - 0s 10us/step - loss: 0.1538 - binary_accuracy: 0.9441 - val_loss: 0.5001 - val_binary_accuracy: 0.7944\n",
      "Epoch 10/20\n",
      "15000/15000 [==============================] - 0s 10us/step - loss: 0.1073 - binary_accuracy: 0.9649 - val_loss: 0.6710 - val_binary_accuracy: 0.7498\n",
      "Epoch 11/20\n",
      "15000/15000 [==============================] - 0s 10us/step - loss: 0.0859 - binary_accuracy: 0.9714 - val_loss: 0.5737 - val_binary_accuracy: 0.7873\n",
      "Epoch 12/20\n",
      "15000/15000 [==============================] - 0s 10us/step - loss: 0.0563 - binary_accuracy: 0.9833 - val_loss: 0.6005 - val_binary_accuracy: 0.8001\n",
      "Epoch 13/20\n",
      "15000/15000 [==============================] - 0s 10us/step - loss: 0.0584 - binary_accuracy: 0.9819 - val_loss: 0.6017 - val_binary_accuracy: 0.8022\n",
      "Epoch 14/20\n",
      "15000/15000 [==============================] - 0s 11us/step - loss: 0.0101 - binary_accuracy: 0.9997 - val_loss: 0.7114 - val_binary_accuracy: 0.7936\n",
      "Epoch 15/20\n",
      "15000/15000 [==============================] - 0s 10us/step - loss: 0.0434 - binary_accuracy: 0.9849 - val_loss: 0.6801 - val_binary_accuracy: 0.8029\n",
      "Epoch 16/20\n",
      "15000/15000 [==============================] - 0s 10us/step - loss: 0.0038 - binary_accuracy: 1.0000 - val_loss: 0.7635 - val_binary_accuracy: 0.8033\n",
      "Epoch 17/20\n",
      "15000/15000 [==============================] - 0s 10us/step - loss: 0.0535 - binary_accuracy: 0.9861 - val_loss: 0.7763 - val_binary_accuracy: 0.8043\n",
      "Epoch 18/20\n",
      "15000/15000 [==============================] - 0s 10us/step - loss: 0.0015 - binary_accuracy: 1.0000 - val_loss: 0.8066 - val_binary_accuracy: 0.8052\n",
      "Epoch 19/20\n",
      "15000/15000 [==============================] - 0s 10us/step - loss: 8.2076e-04 - binary_accuracy: 1.0000 - val_loss: 0.8682 - val_binary_accuracy: 0.8071\n",
      "Epoch 20/20\n",
      "15000/15000 [==============================] - 0s 10us/step - loss: 0.0425 - binary_accuracy: 0.9861 - val_loss: 0.9030 - val_binary_accuracy: 0.8025\n"
     ]
    },
    {
     "data": {
      "text/plain": [
       "dict_keys(['val_loss', 'val_binary_accuracy', 'loss', 'binary_accuracy'])"
      ]
     },
     "execution_count": 61,
     "metadata": {
      "tags": []
     },
     "output_type": "execute_result"
    }
   ],
   "source": [
    "model.compile(optimizer=optimizers.RMSprop(lr=0.001),\n",
    "              loss=losses.binary_crossentropy,\n",
    "              metrics=[metrics.binary_accuracy])\n",
    "\t\t\t  \n",
    "history = model.fit(x_train,\n",
    "                    y_train,\n",
    "                    epochs=20,\n",
    "                    batch_size=512,\n",
    "                    validation_data=(x_val, y_val))\n",
    "history_dict = history.history\n",
    "history_dict.keys()"
   ]
  },
  {
   "cell_type": "code",
   "execution_count": null,
   "metadata": {
    "colab": {
     "base_uri": "https://localhost:8080/",
     "height": 295
    },
    "id": "shE0kvN_hUjC",
    "outputId": "02caf671-eefd-4fc1-f464-ffcd8a4e1101"
   },
   "outputs": [
    {
     "data": {
      "image/png": "[encoded data removed]",
      "text/plain": [
       "<Figure size 432x288 with 1 Axes>"
      ]
     },
     "metadata": {
      "needs_background": "light",
      "tags": []
     },
     "output_type": "display_data"
    }
   ],
   "source": [
    "\n",
    "acc = history.history['binary_accuracy']\n",
    "val_acc = history.history['val_binary_accuracy']\n",
    "loss = history.history['loss']\n",
    "val_loss = history.history['val_loss']\n",
    "\n",
    "epochs = range(1, len(acc) + 1)\n",
    "\n",
    "# \"bo\" is for \"blue dot\"\n",
    "plt.plot(epochs, loss, 'bo', label='Training loss')\n",
    "# b is for \"solid blue line\"\n",
    "plt.plot(epochs, val_loss, 'b', label='Validation loss')\n",
    "plt.title('Training and validation loss')\n",
    "plt.xlabel('Epochs')\n",
    "plt.ylabel('Loss')\n",
    "plt.legend()\n",
    "\n",
    "plt.show()"
   ]
  },
  {
   "cell_type": "code",
   "execution_count": null,
   "metadata": {
    "colab": {
     "base_uri": "https://localhost:8080/",
     "height": 295
    },
    "id": "n9HXZOophUjE",
    "outputId": "6d6e91ac-3293-4203-ead6-6d4fba6730f4"
   },
   "outputs": [
    {
     "data": {
      "image/png": "[encoded data removed]",
      "text/plain": [
       "<Figure size 432x288 with 1 Axes>"
      ]
     },
     "metadata": {
      "needs_background": "light",
      "tags": []
     },
     "output_type": "display_data"
    }
   ],
   "source": [
    "\n",
    "plt.clf()   # clear figure\n",
    "acc_values = history_dict['binary_accuracy']\n",
    "val_acc_values = history_dict['val_binary_accuracy']\n",
    "\n",
    "plt.plot(epochs, acc, 'bo', label='Training acc')\n",
    "plt.plot(epochs, val_acc, 'b', label='Validation acc')\n",
    "plt.title('Training and validation accuracy')\n",
    "plt.xlabel('Epochs')\n",
    "plt.ylabel('Loss')\n",
    "plt.legend()\n",
    "\n",
    "plt.show()"
   ]
  }
 ],
 "metadata": {
  "accelerator": "GPU",
  "colab": {
   "collapsed_sections": [],
   "name": "Copy of Introduction to DL in NLP with BoW model.ipynb",
   "provenance": []
  },
  "kernelspec": {
   "display_name": "Python 3 (ipykernel)",
   "language": "python",
   "name": "python3"
  },
  "language_info": {
   "codemirror_mode": {
    "name": "ipython",
    "version": 3
   },
   "file_extension": ".py",
   "mimetype": "text/x-python",
   "name": "python",
   "nbconvert_exporter": "python",
   "pygments_lexer": "ipython3",
   "version": "3.8.3"
  }
 },
 "nbformat": 4,
 "nbformat_minor": 1
}
