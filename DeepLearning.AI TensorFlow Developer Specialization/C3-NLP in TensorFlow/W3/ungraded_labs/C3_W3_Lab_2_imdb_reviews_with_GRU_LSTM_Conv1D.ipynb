{
 "cells": [
  {
   "cell_type": "code",
   "execution_count": null,
   "metadata": {
    "id": "zX4Kg8DUTKWO"
   },
   "outputs": [],
   "source": [
    "#@title Licensed under the Apache License, Version 2.0 (the \"License\");\n",
    "# you may not use this file except in compliance with the License.\n",
    "# You may obtain a copy of the License at\n",
    "#\n",
    "# https://www.apache.org/licenses/LICENSE-2.0\n",
    "#\n",
    "# Unless required by applicable law or agreed to in writing, software\n",
    "# distributed under the License is distributed on an \"AS IS\" BASIS,\n",
    "# WITHOUT WARRANTIES OR CONDITIONS OF ANY KIND, either express or implied.\n",
    "# See the License for the specific language governing permissions and\n",
    "# limitations under the License."
   ]
  },
  {
   "cell_type": "markdown",
   "metadata": {
    "id": "e7LTWrXvT6LK"
   },
   "source": [
    "**Note:** This notebook can run using TensorFlow 2.5.0"
   ]
  },
  {
   "cell_type": "code",
   "execution_count": null,
   "metadata": {
    "id": "I6NpdaKzT6LK"
   },
   "outputs": [],
   "source": [
    "#!pip install tensorflow==2.5.0"
   ]
  },
  {
   "cell_type": "code",
   "execution_count": 1,
   "metadata": {
    "colab": {
     "base_uri": "https://localhost:8080/",
     "height": 361
    },
    "id": "P-AhVYeBWgQ3",
    "outputId": "4afd9f47-59cb-4375-ce1e-2b7b593e7cf8"
   },
   "outputs": [
    {
     "name": "stdout",
     "output_type": "stream",
     "text": [
      "2.6.0\n",
      "\u001b[1mDownloading and preparing dataset imdb_reviews/plain_text/1.0.0 (download: 80.23 MiB, generated: Unknown size, total: 80.23 MiB) to /root/tensorflow_datasets/imdb_reviews/plain_text/1.0.0...\u001b[0m\n"
     ]
    },
    {
     "data": {
      "application/vnd.jupyter.widget-view+json": {
       "model_id": "bca94ac10f12435a84d14c830245d9f3",
       "version_major": 2,
       "version_minor": 0
      },
      "text/plain": [
       "Dl Completed...: 0 url [00:00, ? url/s]"
      ]
     },
     "metadata": {},
     "output_type": "display_data"
    },
    {
     "data": {
      "application/vnd.jupyter.widget-view+json": {
       "model_id": "65fd49bfcc9d4f05a7d65558f2c6ae26",
       "version_major": 2,
       "version_minor": 0
      },
      "text/plain": [
       "Dl Size...: 0 MiB [00:00, ? MiB/s]"
      ]
     },
     "metadata": {},
     "output_type": "display_data"
    },
    {
     "name": "stdout",
     "output_type": "stream",
     "text": [
      "\n",
      "\n"
     ]
    },
    {
     "data": {
      "application/vnd.jupyter.widget-view+json": {
       "model_id": "3602e800ad15432581de5de7f395149b",
       "version_major": 2,
       "version_minor": 0
      },
      "text/plain": [
       "0 examples [00:00, ? examples/s]"
      ]
     },
     "metadata": {},
     "output_type": "display_data"
    },
    {
     "name": "stdout",
     "output_type": "stream",
     "text": [
      "Shuffling and writing examples to /root/tensorflow_datasets/imdb_reviews/plain_text/1.0.0.incompleteXB9AAL/imdb_reviews-train.tfrecord\n"
     ]
    },
    {
     "data": {
      "application/vnd.jupyter.widget-view+json": {
       "model_id": "1b929c18dd334de2bd2ce65fe6779108",
       "version_major": 2,
       "version_minor": 0
      },
      "text/plain": [
       "  0%|          | 0/25000 [00:00<?, ? examples/s]"
      ]
     },
     "metadata": {},
     "output_type": "display_data"
    },
    {
     "data": {
      "application/vnd.jupyter.widget-view+json": {
       "model_id": "11fe73535fd04b63a0ac91194632d163",
       "version_major": 2,
       "version_minor": 0
      },
      "text/plain": [
       "0 examples [00:00, ? examples/s]"
      ]
     },
     "metadata": {},
     "output_type": "display_data"
    },
    {
     "name": "stdout",
     "output_type": "stream",
     "text": [
      "Shuffling and writing examples to /root/tensorflow_datasets/imdb_reviews/plain_text/1.0.0.incompleteXB9AAL/imdb_reviews-test.tfrecord\n"
     ]
    },
    {
     "data": {
      "application/vnd.jupyter.widget-view+json": {
       "model_id": "0508c4a9652a4c1195a0a19cd433b2c9",
       "version_major": 2,
       "version_minor": 0
      },
      "text/plain": [
       "  0%|          | 0/25000 [00:00<?, ? examples/s]"
      ]
     },
     "metadata": {},
     "output_type": "display_data"
    },
    {
     "data": {
      "application/vnd.jupyter.widget-view+json": {
       "model_id": "2a331ee591c34bd1b79f318b9e2b1bdb",
       "version_major": 2,
       "version_minor": 0
      },
      "text/plain": [
       "0 examples [00:00, ? examples/s]"
      ]
     },
     "metadata": {},
     "output_type": "display_data"
    },
    {
     "name": "stdout",
     "output_type": "stream",
     "text": [
      "Shuffling and writing examples to /root/tensorflow_datasets/imdb_reviews/plain_text/1.0.0.incompleteXB9AAL/imdb_reviews-unsupervised.tfrecord\n"
     ]
    },
    {
     "data": {
      "application/vnd.jupyter.widget-view+json": {
       "model_id": "644a366817b04b9eb08734adf7eab2a1",
       "version_major": 2,
       "version_minor": 0
      },
      "text/plain": [
       "  0%|          | 0/50000 [00:00<?, ? examples/s]"
      ]
     },
     "metadata": {},
     "output_type": "display_data"
    },
    {
     "name": "stderr",
     "output_type": "stream",
     "text": [
      "WARNING:absl:Dataset is using deprecated text encoder API which will be removed soon. Please use the plain_text version of the dataset and migrate to `tensorflow_text`.\n"
     ]
    },
    {
     "name": "stdout",
     "output_type": "stream",
     "text": [
      "\u001b[1mDataset imdb_reviews downloaded and prepared to /root/tensorflow_datasets/imdb_reviews/plain_text/1.0.0. Subsequent calls will reuse this data.\u001b[0m\n"
     ]
    }
   ],
   "source": [
    "import tensorflow as tf\n",
    "print(tf.__version__)\n",
    "\n",
    "# !pip install -q tensorflow-datasets\n",
    "\n",
    "import tensorflow_datasets as tfds\n",
    "imdb, info = tfds.load(\"imdb_reviews\", with_info=True, as_supervised=True)\n"
   ]
  },
  {
   "cell_type": "code",
   "execution_count": 2,
   "metadata": {
    "id": "wHQ2Ko0zl7M4"
   },
   "outputs": [],
   "source": [
    "import numpy as np\n",
    "\n",
    "train_data, test_data = imdb['train'], imdb['test']\n",
    "\n",
    "training_sentences = []\n",
    "training_labels = []\n",
    "\n",
    "testing_sentences = []\n",
    "testing_labels = []\n",
    "\n",
    "# str(s.tonumpy()) is needed in Python3 instead of just s.numpy()\n",
    "for s,l in train_data:\n",
    "  training_sentences.append(str(s.numpy()))\n",
    "  training_labels.append(l.numpy())\n",
    "  \n",
    "for s,l in test_data:\n",
    "  testing_sentences.append(str(s.numpy()))\n",
    "  testing_labels.append(l.numpy())\n",
    "  \n",
    "training_labels_final = np.array(training_labels)\n",
    "testing_labels_final = np.array(testing_labels)\n"
   ]
  },
  {
   "cell_type": "code",
   "execution_count": 3,
   "metadata": {
    "id": "7n15yyMdmoH1"
   },
   "outputs": [],
   "source": [
    "vocab_size = 10000\n",
    "embedding_dim = 16\n",
    "max_length = 120\n",
    "trunc_type='post'\n",
    "oov_tok = \"<OOV>\"\n",
    "\n",
    "\n",
    "from tensorflow.keras.preprocessing.text import Tokenizer\n",
    "from tensorflow.keras.preprocessing.sequence import pad_sequences\n",
    "\n",
    "tokenizer = Tokenizer(num_words = vocab_size, oov_token=oov_tok)\n",
    "tokenizer.fit_on_texts(training_sentences)\n",
    "word_index = tokenizer.word_index\n",
    "sequences = tokenizer.texts_to_sequences(training_sentences)\n",
    "padded = pad_sequences(sequences,maxlen=max_length, truncating=trunc_type)\n",
    "\n",
    "testing_sequences = tokenizer.texts_to_sequences(testing_sentences)\n",
    "testing_padded = pad_sequences(testing_sequences,maxlen=max_length)\n"
   ]
  },
  {
   "cell_type": "code",
   "execution_count": 4,
   "metadata": {
    "colab": {
     "base_uri": "https://localhost:8080/"
    },
    "id": "9axf0uIXVMhO",
    "outputId": "97c6dd4e-0db1-4f7e-80a4-5839d53a8f69"
   },
   "outputs": [
    {
     "name": "stdout",
     "output_type": "stream",
     "text": [
      "? ? ? ? ? ? ? b'i have been known to fall asleep during films but this is usually due to a combination of things including really tired being warm and comfortable on the <OOV> and having just eaten a lot however on this occasion i fell asleep because the film was rubbish the plot development was constant constantly slow and boring things seemed to happen but with no explanation of what was causing them or why i admit i may have missed part of the film but i watched the majority of it and everything just seemed to happen of its own <OOV> without any real concern for anything else i cant recommend this film at all '\n",
      "b'I have been known to fall asleep during films, but this is usually due to a combination of things including, really tired, being warm and comfortable on the sette and having just eaten a lot. However on this occasion I fell asleep because the film was rubbish. The plot development was constant. Constantly slow and boring. Things seemed to happen, but with no explanation of what was causing them or why. I admit, I may have missed part of the film, but i watched the majority of it and everything just seemed to happen of its own accord without any real concern for anything else. I cant recommend this film at all.'\n"
     ]
    }
   ],
   "source": [
    "reverse_word_index = dict([(value, key) for (key, value) in word_index.items()])\n",
    "\n",
    "def decode_review(text):\n",
    "    return ' '.join([reverse_word_index.get(i, '?') for i in text])\n",
    "\n",
    "print(decode_review(padded[1]))\n",
    "print(training_sentences[1])"
   ]
  },
  {
   "cell_type": "code",
   "execution_count": 6,
   "metadata": {
    "id": "7o5Tgx56zs3j"
   },
   "outputs": [],
   "source": [
    "import matplotlib.pyplot as plt\n",
    "\n",
    "\n",
    "def plot_graphs(history, string):\n",
    "  plt.plot(history.history[string])\n",
    "  plt.plot(history.history['val_'+string])\n",
    "  plt.xlabel(\"Epochs\")\n",
    "  plt.ylabel(string)\n",
    "  plt.legend([string, 'val_'+string])\n",
    "  plt.show()\n"
   ]
  },
  {
   "cell_type": "code",
   "execution_count": 7,
   "metadata": {
    "colab": {
     "base_uri": "https://localhost:8080/",
     "height": 1000
    },
    "id": "xhIredwnzwB0",
    "outputId": "78c08d7e-9270-4711-d6dd-eeaff8ba2f3e"
   },
   "outputs": [
    {
     "name": "stdout",
     "output_type": "stream",
     "text": [
      "Model: \"sequential_1\"\n",
      "_________________________________________________________________\n",
      "Layer (type)                 Output Shape              Param #   \n",
      "=================================================================\n",
      "embedding_1 (Embedding)      (None, 120, 16)           160000    \n",
      "_________________________________________________________________\n",
      "bidirectional_1 (Bidirection (None, 64)                9600      \n",
      "_________________________________________________________________\n",
      "dense_2 (Dense)              (None, 6)                 390       \n",
      "_________________________________________________________________\n",
      "dense_3 (Dense)              (None, 1)                 7         \n",
      "=================================================================\n",
      "Total params: 169,997\n",
      "Trainable params: 169,997\n",
      "Non-trainable params: 0\n",
      "_________________________________________________________________\n",
      "Epoch 1/50\n",
      "782/782 [==============================] - 54s 58ms/step - loss: 0.5127 - accuracy: 0.7255 - val_loss: 0.3714 - val_accuracy: 0.8388\n",
      "Epoch 2/50\n",
      "782/782 [==============================] - 45s 58ms/step - loss: 0.3061 - accuracy: 0.8766 - val_loss: 0.3622 - val_accuracy: 0.8472\n",
      "Epoch 3/50\n",
      "782/782 [==============================] - 46s 58ms/step - loss: 0.2380 - accuracy: 0.9080 - val_loss: 0.3732 - val_accuracy: 0.8394\n",
      "Epoch 4/50\n",
      "782/782 [==============================] - 46s 58ms/step - loss: 0.1820 - accuracy: 0.9306 - val_loss: 0.4185 - val_accuracy: 0.8294\n",
      "Epoch 5/50\n",
      "782/782 [==============================] - 45s 57ms/step - loss: 0.1288 - accuracy: 0.9542 - val_loss: 0.5009 - val_accuracy: 0.8254\n",
      "Epoch 6/50\n",
      "782/782 [==============================] - 45s 57ms/step - loss: 0.0878 - accuracy: 0.9710 - val_loss: 0.5654 - val_accuracy: 0.8220\n",
      "Epoch 7/50\n",
      "782/782 [==============================] - 45s 57ms/step - loss: 0.0586 - accuracy: 0.9813 - val_loss: 0.7223 - val_accuracy: 0.8123\n",
      "Epoch 8/50\n",
      "782/782 [==============================] - 45s 58ms/step - loss: 0.0400 - accuracy: 0.9873 - val_loss: 0.8088 - val_accuracy: 0.8127\n",
      "Epoch 9/50\n",
      "782/782 [==============================] - 45s 58ms/step - loss: 0.0362 - accuracy: 0.9878 - val_loss: 0.8260 - val_accuracy: 0.8052\n",
      "Epoch 10/50\n",
      "782/782 [==============================] - 45s 58ms/step - loss: 0.0242 - accuracy: 0.9923 - val_loss: 1.0100 - val_accuracy: 0.8123\n",
      "Epoch 11/50\n",
      "782/782 [==============================] - 45s 57ms/step - loss: 0.0204 - accuracy: 0.9933 - val_loss: 0.9852 - val_accuracy: 0.8137\n",
      "Epoch 12/50\n",
      "782/782 [==============================] - 45s 57ms/step - loss: 0.0186 - accuracy: 0.9941 - val_loss: 1.0145 - val_accuracy: 0.8128\n",
      "Epoch 13/50\n",
      "782/782 [==============================] - 44s 57ms/step - loss: 0.0171 - accuracy: 0.9944 - val_loss: 1.1231 - val_accuracy: 0.8074\n",
      "Epoch 14/50\n",
      "782/782 [==============================] - 45s 57ms/step - loss: 0.0150 - accuracy: 0.9949 - val_loss: 1.1232 - val_accuracy: 0.8035\n",
      "Epoch 15/50\n",
      "782/782 [==============================] - 45s 57ms/step - loss: 0.0118 - accuracy: 0.9960 - val_loss: 1.3151 - val_accuracy: 0.7976\n",
      "Epoch 16/50\n",
      "782/782 [==============================] - 45s 58ms/step - loss: 0.0073 - accuracy: 0.9976 - val_loss: 1.3843 - val_accuracy: 0.8118\n",
      "Epoch 17/50\n",
      "782/782 [==============================] - 46s 58ms/step - loss: 0.0092 - accuracy: 0.9972 - val_loss: 1.2147 - val_accuracy: 0.8065\n",
      "Epoch 18/50\n",
      "782/782 [==============================] - 46s 58ms/step - loss: 0.0113 - accuracy: 0.9966 - val_loss: 1.2635 - val_accuracy: 0.8067\n",
      "Epoch 19/50\n",
      "782/782 [==============================] - 45s 58ms/step - loss: 0.0064 - accuracy: 0.9979 - val_loss: 1.4647 - val_accuracy: 0.7950\n",
      "Epoch 20/50\n",
      "782/782 [==============================] - 45s 57ms/step - loss: 0.0058 - accuracy: 0.9980 - val_loss: 1.2704 - val_accuracy: 0.8061\n",
      "Epoch 21/50\n",
      "782/782 [==============================] - 45s 57ms/step - loss: 0.0112 - accuracy: 0.9964 - val_loss: 1.3604 - val_accuracy: 0.8034\n",
      "Epoch 22/50\n",
      "782/782 [==============================] - 46s 58ms/step - loss: 0.0076 - accuracy: 0.9975 - val_loss: 1.2493 - val_accuracy: 0.7998\n",
      "Epoch 23/50\n",
      "782/782 [==============================] - 45s 58ms/step - loss: 0.0042 - accuracy: 0.9985 - val_loss: 1.3525 - val_accuracy: 0.8098\n",
      "Epoch 24/50\n",
      "782/782 [==============================] - 45s 58ms/step - loss: 0.0042 - accuracy: 0.9984 - val_loss: 1.3673 - val_accuracy: 0.8083\n",
      "Epoch 25/50\n",
      "782/782 [==============================] - 45s 57ms/step - loss: 0.0072 - accuracy: 0.9978 - val_loss: 1.3716 - val_accuracy: 0.8007\n",
      "Epoch 26/50\n",
      "782/782 [==============================] - 45s 57ms/step - loss: 0.0081 - accuracy: 0.9970 - val_loss: 1.2670 - val_accuracy: 0.8128\n",
      "Epoch 27/50\n",
      "782/782 [==============================] - 46s 58ms/step - loss: 0.0016 - accuracy: 0.9995 - val_loss: 1.4803 - val_accuracy: 0.8080\n",
      "Epoch 28/50\n",
      "782/782 [==============================] - 45s 58ms/step - loss: 1.4439e-04 - accuracy: 1.0000 - val_loss: 1.5922 - val_accuracy: 0.8083\n",
      "Epoch 29/50\n",
      "782/782 [==============================] - 45s 58ms/step - loss: 4.2836e-05 - accuracy: 1.0000 - val_loss: 1.6605 - val_accuracy: 0.8086\n",
      "Epoch 30/50\n",
      "782/782 [==============================] - 45s 57ms/step - loss: 2.7168e-05 - accuracy: 1.0000 - val_loss: 1.7255 - val_accuracy: 0.8088\n",
      "Epoch 31/50\n",
      "782/782 [==============================] - 45s 57ms/step - loss: 1.8007e-05 - accuracy: 1.0000 - val_loss: 1.7831 - val_accuracy: 0.8088\n",
      "Epoch 32/50\n",
      "782/782 [==============================] - 45s 58ms/step - loss: 1.2150e-05 - accuracy: 1.0000 - val_loss: 1.8493 - val_accuracy: 0.8090\n",
      "Epoch 33/50\n",
      "782/782 [==============================] - 46s 58ms/step - loss: 8.1271e-06 - accuracy: 1.0000 - val_loss: 1.9125 - val_accuracy: 0.8092\n",
      "Epoch 34/50\n",
      "782/782 [==============================] - 46s 58ms/step - loss: 5.4252e-06 - accuracy: 1.0000 - val_loss: 1.9778 - val_accuracy: 0.8092\n",
      "Epoch 35/50\n",
      "782/782 [==============================] - 45s 57ms/step - loss: 3.5927e-06 - accuracy: 1.0000 - val_loss: 2.0442 - val_accuracy: 0.8091\n",
      "Epoch 36/50\n",
      "782/782 [==============================] - 45s 57ms/step - loss: 2.3710e-06 - accuracy: 1.0000 - val_loss: 2.1102 - val_accuracy: 0.8091\n",
      "Epoch 37/50\n",
      "782/782 [==============================] - 45s 58ms/step - loss: 1.5610e-06 - accuracy: 1.0000 - val_loss: 2.1764 - val_accuracy: 0.8087\n",
      "Epoch 38/50\n",
      "782/782 [==============================] - 46s 58ms/step - loss: 1.0226e-06 - accuracy: 1.0000 - val_loss: 2.2435 - val_accuracy: 0.8087\n",
      "Epoch 39/50\n",
      "782/782 [==============================] - 45s 58ms/step - loss: 6.7107e-07 - accuracy: 1.0000 - val_loss: 2.3140 - val_accuracy: 0.8085\n",
      "Epoch 40/50\n",
      "782/782 [==============================] - 45s 58ms/step - loss: 4.4063e-07 - accuracy: 1.0000 - val_loss: 2.3805 - val_accuracy: 0.8084\n",
      "Epoch 41/50\n",
      "782/782 [==============================] - 45s 57ms/step - loss: 2.8966e-07 - accuracy: 1.0000 - val_loss: 2.4496 - val_accuracy: 0.8082\n",
      "Epoch 42/50\n",
      "782/782 [==============================] - 45s 57ms/step - loss: 1.9047e-07 - accuracy: 1.0000 - val_loss: 2.5155 - val_accuracy: 0.8081\n",
      "Epoch 43/50\n",
      "782/782 [==============================] - 46s 58ms/step - loss: 1.2599e-07 - accuracy: 1.0000 - val_loss: 2.5794 - val_accuracy: 0.8080\n",
      "Epoch 44/50\n",
      "782/782 [==============================] - 46s 58ms/step - loss: 8.3543e-08 - accuracy: 1.0000 - val_loss: 2.6459 - val_accuracy: 0.8082\n",
      "Epoch 45/50\n",
      "782/782 [==============================] - 45s 58ms/step - loss: 5.5627e-08 - accuracy: 1.0000 - val_loss: 2.7122 - val_accuracy: 0.8078\n",
      "Epoch 46/50\n",
      "782/782 [==============================] - 45s 57ms/step - loss: 3.7237e-08 - accuracy: 1.0000 - val_loss: 2.7768 - val_accuracy: 0.8083\n",
      "Epoch 47/50\n",
      "782/782 [==============================] - 45s 57ms/step - loss: 2.5149e-08 - accuracy: 1.0000 - val_loss: 2.8402 - val_accuracy: 0.8082\n",
      "Epoch 48/50\n",
      "782/782 [==============================] - 46s 58ms/step - loss: 1.7187e-08 - accuracy: 1.0000 - val_loss: 2.9026 - val_accuracy: 0.8080\n",
      "Epoch 49/50\n",
      "782/782 [==============================] - 46s 58ms/step - loss: 1.1847e-08 - accuracy: 1.0000 - val_loss: 2.9603 - val_accuracy: 0.8080\n",
      "Epoch 50/50\n",
      "782/782 [==============================] - 46s 58ms/step - loss: 8.3060e-09 - accuracy: 1.0000 - val_loss: 3.0212 - val_accuracy: 0.8077\n"
     ]
    },
    {
     "data": {
      "image/png": "[encoded data removed]",
      "text/plain": [
       "<Figure size 432x288 with 1 Axes>"
      ]
     },
     "metadata": {
      "needs_background": "light"
     },
     "output_type": "display_data"
    },
    {
     "data": {
      "image/png": "[encoded data removed]",
      "text/plain": [
       "<Figure size 432x288 with 1 Axes>"
      ]
     },
     "metadata": {
      "needs_background": "light"
     },
     "output_type": "display_data"
    }
   ],
   "source": [
    "# Model Definition with GRU\n",
    "model_GRU = tf.keras.Sequential([\n",
    "    tf.keras.layers.Embedding(vocab_size, embedding_dim, input_length=max_length),\n",
    "    tf.keras.layers.Bidirectional(tf.keras.layers.GRU(32)),\n",
    "    tf.keras.layers.Dense(6, activation='relu'),\n",
    "    tf.keras.layers.Dense(1, activation='sigmoid')\n",
    "])\n",
    "model_GRU.compile(loss='binary_crossentropy',optimizer='adam',metrics=['accuracy'])\n",
    "model_GRU.summary()\n",
    "num_epochs = 50\n",
    "history_GRU = model_GRU.fit(padded, training_labels_final, epochs=num_epochs, validation_data=(testing_padded, testing_labels_final))\n",
    "plot_graphs(history_GRU, 'accuracy')\n",
    "plot_graphs(history_GRU, 'loss')"
   ]
  },
  {
   "cell_type": "code",
   "execution_count": 8,
   "metadata": {
    "colab": {
     "base_uri": "https://localhost:8080/",
     "height": 1000
    },
    "id": "wSualgGPPK0S",
    "outputId": "0ec06fa2-d51c-4bf6-fc38-da3aa913c843"
   },
   "outputs": [
    {
     "name": "stdout",
     "output_type": "stream",
     "text": [
      "Model: \"sequential_2\"\n",
      "_________________________________________________________________\n",
      "Layer (type)                 Output Shape              Param #   \n",
      "=================================================================\n",
      "embedding_2 (Embedding)      (None, 120, 16)           160000    \n",
      "_________________________________________________________________\n",
      "bidirectional_2 (Bidirection (None, 64)                12544     \n",
      "_________________________________________________________________\n",
      "dense_4 (Dense)              (None, 6)                 390       \n",
      "_________________________________________________________________\n",
      "dense_5 (Dense)              (None, 1)                 7         \n",
      "=================================================================\n",
      "Total params: 172,941\n",
      "Trainable params: 172,941\n",
      "Non-trainable params: 0\n",
      "_________________________________________________________________\n",
      "Epoch 1/50\n",
      "782/782 [==============================] - 50s 59ms/step - loss: 0.4765 - accuracy: 0.7558 - val_loss: 0.3568 - val_accuracy: 0.8407\n",
      "Epoch 2/50\n",
      "782/782 [==============================] - 46s 58ms/step - loss: 0.2959 - accuracy: 0.8799 - val_loss: 0.3678 - val_accuracy: 0.8404\n",
      "Epoch 3/50\n",
      "782/782 [==============================] - 46s 59ms/step - loss: 0.2428 - accuracy: 0.9062 - val_loss: 0.3627 - val_accuracy: 0.8419\n",
      "Epoch 4/50\n",
      "782/782 [==============================] - 46s 59ms/step - loss: 0.1984 - accuracy: 0.9259 - val_loss: 0.4195 - val_accuracy: 0.8322\n",
      "Epoch 5/50\n",
      "782/782 [==============================] - 45s 58ms/step - loss: 0.1575 - accuracy: 0.9436 - val_loss: 0.4581 - val_accuracy: 0.8258\n",
      "Epoch 6/50\n",
      "782/782 [==============================] - 45s 57ms/step - loss: 0.1201 - accuracy: 0.9592 - val_loss: 0.5626 - val_accuracy: 0.8229\n",
      "Epoch 7/50\n",
      "782/782 [==============================] - 45s 58ms/step - loss: 0.0878 - accuracy: 0.9708 - val_loss: 0.5627 - val_accuracy: 0.8232\n",
      "Epoch 8/50\n",
      "782/782 [==============================] - 46s 59ms/step - loss: 0.0696 - accuracy: 0.9764 - val_loss: 0.6230 - val_accuracy: 0.8181\n",
      "Epoch 9/50\n",
      "782/782 [==============================] - 46s 59ms/step - loss: 0.0485 - accuracy: 0.9838 - val_loss: 0.7151 - val_accuracy: 0.8206\n",
      "Epoch 10/50\n",
      "782/782 [==============================] - 46s 59ms/step - loss: 0.0346 - accuracy: 0.9894 - val_loss: 0.8812 - val_accuracy: 0.8226\n",
      "Epoch 11/50\n",
      "782/782 [==============================] - 45s 57ms/step - loss: 0.0414 - accuracy: 0.9868 - val_loss: 0.7711 - val_accuracy: 0.8157\n",
      "Epoch 12/50\n",
      "782/782 [==============================] - 45s 58ms/step - loss: 0.0274 - accuracy: 0.9914 - val_loss: 0.7829 - val_accuracy: 0.8181\n",
      "Epoch 13/50\n",
      "782/782 [==============================] - 46s 59ms/step - loss: 0.0240 - accuracy: 0.9926 - val_loss: 0.8787 - val_accuracy: 0.8144\n",
      "Epoch 14/50\n",
      "782/782 [==============================] - 46s 59ms/step - loss: 0.0220 - accuracy: 0.9930 - val_loss: 0.9891 - val_accuracy: 0.8148\n",
      "Epoch 15/50\n",
      "782/782 [==============================] - 46s 59ms/step - loss: 0.0178 - accuracy: 0.9945 - val_loss: 0.9651 - val_accuracy: 0.8191\n",
      "Epoch 16/50\n",
      "782/782 [==============================] - 45s 58ms/step - loss: 0.0120 - accuracy: 0.9964 - val_loss: 1.1256 - val_accuracy: 0.8193\n",
      "Epoch 17/50\n",
      "782/782 [==============================] - 45s 57ms/step - loss: 0.0168 - accuracy: 0.9945 - val_loss: 0.9595 - val_accuracy: 0.8174\n",
      "Epoch 18/50\n",
      "782/782 [==============================] - 46s 58ms/step - loss: 0.0170 - accuracy: 0.9946 - val_loss: 0.9485 - val_accuracy: 0.8135\n",
      "Epoch 19/50\n",
      "782/782 [==============================] - 46s 59ms/step - loss: 0.0199 - accuracy: 0.9934 - val_loss: 0.9554 - val_accuracy: 0.8141\n",
      "Epoch 20/50\n",
      "782/782 [==============================] - 46s 59ms/step - loss: 0.0081 - accuracy: 0.9975 - val_loss: 1.1131 - val_accuracy: 0.8162\n",
      "Epoch 21/50\n",
      "782/782 [==============================] - 45s 58ms/step - loss: 0.0085 - accuracy: 0.9973 - val_loss: 1.1726 - val_accuracy: 0.8181\n",
      "Epoch 22/50\n",
      "782/782 [==============================] - 45s 57ms/step - loss: 0.0117 - accuracy: 0.9961 - val_loss: 1.0400 - val_accuracy: 0.8027\n",
      "Epoch 23/50\n",
      "782/782 [==============================] - 46s 58ms/step - loss: 0.0068 - accuracy: 0.9976 - val_loss: 1.4009 - val_accuracy: 0.8079\n",
      "Epoch 24/50\n",
      "782/782 [==============================] - 46s 59ms/step - loss: 0.0109 - accuracy: 0.9968 - val_loss: 1.2119 - val_accuracy: 0.8170\n",
      "Epoch 25/50\n",
      "782/782 [==============================] - 46s 59ms/step - loss: 0.0084 - accuracy: 0.9973 - val_loss: 1.2047 - val_accuracy: 0.8133\n",
      "Epoch 26/50\n",
      "782/782 [==============================] - 45s 58ms/step - loss: 0.0068 - accuracy: 0.9980 - val_loss: 1.3843 - val_accuracy: 0.8164\n",
      "Epoch 27/50\n",
      "782/782 [==============================] - 45s 57ms/step - loss: 0.0034 - accuracy: 0.9990 - val_loss: 1.4028 - val_accuracy: 0.8026\n",
      "Epoch 28/50\n",
      "782/782 [==============================] - 45s 58ms/step - loss: 0.0123 - accuracy: 0.9958 - val_loss: 1.1767 - val_accuracy: 0.8111\n",
      "Epoch 29/50\n",
      "782/782 [==============================] - 46s 59ms/step - loss: 0.0075 - accuracy: 0.9979 - val_loss: 1.2667 - val_accuracy: 0.8086\n",
      "Epoch 30/50\n",
      "782/782 [==============================] - 46s 59ms/step - loss: 0.0050 - accuracy: 0.9986 - val_loss: 1.1855 - val_accuracy: 0.8142\n",
      "Epoch 31/50\n",
      "782/782 [==============================] - 46s 58ms/step - loss: 0.0031 - accuracy: 0.9991 - val_loss: 1.5133 - val_accuracy: 0.8166\n",
      "Epoch 32/50\n",
      "782/782 [==============================] - 45s 58ms/step - loss: 0.0075 - accuracy: 0.9975 - val_loss: 1.3208 - val_accuracy: 0.8125\n",
      "Epoch 33/50\n",
      "782/782 [==============================] - 45s 58ms/step - loss: 0.0040 - accuracy: 0.9988 - val_loss: 1.3030 - val_accuracy: 0.8112\n",
      "Epoch 34/50\n",
      "782/782 [==============================] - 46s 59ms/step - loss: 0.0048 - accuracy: 0.9986 - val_loss: 1.2882 - val_accuracy: 0.8108\n",
      "Epoch 35/50\n",
      "782/782 [==============================] - 46s 59ms/step - loss: 0.0074 - accuracy: 0.9978 - val_loss: 1.4168 - val_accuracy: 0.8148\n",
      "Epoch 36/50\n",
      "782/782 [==============================] - 46s 59ms/step - loss: 0.0077 - accuracy: 0.9975 - val_loss: 1.2870 - val_accuracy: 0.8120\n",
      "Epoch 37/50\n",
      "782/782 [==============================] - 45s 58ms/step - loss: 0.0037 - accuracy: 0.9988 - val_loss: 1.2778 - val_accuracy: 0.8112\n",
      "Epoch 38/50\n",
      "782/782 [==============================] - 45s 58ms/step - loss: 0.0010 - accuracy: 0.9997 - val_loss: 1.2227 - val_accuracy: 0.8008\n",
      "Epoch 39/50\n",
      "782/782 [==============================] - 46s 59ms/step - loss: 3.1455e-04 - accuracy: 1.0000 - val_loss: 1.4811 - val_accuracy: 0.8130\n",
      "Epoch 40/50\n",
      "782/782 [==============================] - 46s 58ms/step - loss: 4.4111e-05 - accuracy: 1.0000 - val_loss: 1.5690 - val_accuracy: 0.8135\n",
      "Epoch 41/50\n",
      "782/782 [==============================] - 46s 59ms/step - loss: 2.5477e-05 - accuracy: 1.0000 - val_loss: 1.6517 - val_accuracy: 0.8137\n",
      "Epoch 42/50\n",
      "782/782 [==============================] - 45s 58ms/step - loss: 1.6273e-05 - accuracy: 1.0000 - val_loss: 1.7169 - val_accuracy: 0.8135\n",
      "Epoch 43/50\n",
      "782/782 [==============================] - 45s 58ms/step - loss: 1.0614e-05 - accuracy: 1.0000 - val_loss: 1.7870 - val_accuracy: 0.8134\n",
      "Epoch 44/50\n",
      "782/782 [==============================] - 45s 58ms/step - loss: 6.9619e-06 - accuracy: 1.0000 - val_loss: 1.8568 - val_accuracy: 0.8132\n",
      "Epoch 45/50\n",
      "782/782 [==============================] - 46s 59ms/step - loss: 4.5640e-06 - accuracy: 1.0000 - val_loss: 1.9219 - val_accuracy: 0.8132\n",
      "Epoch 46/50\n",
      "782/782 [==============================] - 46s 59ms/step - loss: 2.9792e-06 - accuracy: 1.0000 - val_loss: 1.9930 - val_accuracy: 0.8132\n",
      "Epoch 47/50\n",
      "782/782 [==============================] - 46s 58ms/step - loss: 1.9377e-06 - accuracy: 1.0000 - val_loss: 2.0662 - val_accuracy: 0.8134\n",
      "Epoch 48/50\n",
      "782/782 [==============================] - 45s 57ms/step - loss: 1.2547e-06 - accuracy: 1.0000 - val_loss: 2.1390 - val_accuracy: 0.8130\n",
      "Epoch 49/50\n",
      "782/782 [==============================] - 45s 58ms/step - loss: 8.1110e-07 - accuracy: 1.0000 - val_loss: 2.2070 - val_accuracy: 0.8132\n",
      "Epoch 50/50\n",
      "782/782 [==============================] - 46s 59ms/step - loss: 5.2350e-07 - accuracy: 1.0000 - val_loss: 2.2851 - val_accuracy: 0.8130\n"
     ]
    },
    {
     "data": {
      "image/png": "[encoded data removed]",
      "text/plain": [
       "<Figure size 432x288 with 1 Axes>"
      ]
     },
     "metadata": {
      "needs_background": "light"
     },
     "output_type": "display_data"
    },
    {
     "data": {
      "image/png": "[encoded data removed]",
      "text/plain": [
       "<Figure size 432x288 with 1 Axes>"
      ]
     },
     "metadata": {
      "needs_background": "light"
     },
     "output_type": "display_data"
    }
   ],
   "source": [
    "# Model Definition with LSTM\n",
    "model_LSTM = tf.keras.Sequential([\n",
    "    tf.keras.layers.Embedding(vocab_size, embedding_dim, input_length=max_length),\n",
    "    tf.keras.layers.Bidirectional(tf.keras.layers.LSTM(32)),\n",
    "    tf.keras.layers.Dense(6, activation='relu'),\n",
    "    tf.keras.layers.Dense(1, activation='sigmoid')\n",
    "])\n",
    "model_LSTM.compile(loss='binary_crossentropy',optimizer='adam',metrics=['accuracy'])\n",
    "model_LSTM.summary()\n",
    "num_epochs = 50\n",
    "history_LSTM = model_LSTM.fit(padded, training_labels_final, epochs=num_epochs, validation_data=(testing_padded, testing_labels_final))\n",
    "plot_graphs(history_LSTM, 'accuracy')\n",
    "plot_graphs(history_LSTM, 'loss')"
   ]
  },
  {
   "cell_type": "code",
   "execution_count": 9,
   "metadata": {
    "colab": {
     "base_uri": "https://localhost:8080/",
     "height": 1000
    },
    "id": "K_Jc7cY3Qxke",
    "outputId": "a35befcf-f3ef-43cd-8676-496a1da05c58"
   },
   "outputs": [
    {
     "name": "stdout",
     "output_type": "stream",
     "text": [
      "Model: \"sequential_3\"\n",
      "_________________________________________________________________\n",
      "Layer (type)                 Output Shape              Param #   \n",
      "=================================================================\n",
      "embedding_3 (Embedding)      (None, 120, 16)           160000    \n",
      "_________________________________________________________________\n",
      "conv1d (Conv1D)              (None, 116, 128)          10368     \n",
      "_________________________________________________________________\n",
      "global_average_pooling1d (Gl (None, 128)               0         \n",
      "_________________________________________________________________\n",
      "dense_6 (Dense)              (None, 6)                 774       \n",
      "_________________________________________________________________\n",
      "dense_7 (Dense)              (None, 1)                 7         \n",
      "=================================================================\n",
      "Total params: 171,149\n",
      "Trainable params: 171,149\n",
      "Non-trainable params: 0\n",
      "_________________________________________________________________\n",
      "Epoch 1/50\n",
      "782/782 [==============================] - 33s 9ms/step - loss: 0.4960 - accuracy: 0.7546 - val_loss: 0.3516 - val_accuracy: 0.8461\n",
      "Epoch 2/50\n",
      "782/782 [==============================] - 6s 8ms/step - loss: 0.2887 - accuracy: 0.8808 - val_loss: 0.3535 - val_accuracy: 0.8456\n",
      "Epoch 3/50\n",
      "782/782 [==============================] - 7s 9ms/step - loss: 0.2355 - accuracy: 0.9091 - val_loss: 0.3847 - val_accuracy: 0.8384\n",
      "Epoch 4/50\n",
      "782/782 [==============================] - 7s 9ms/step - loss: 0.1992 - accuracy: 0.9254 - val_loss: 0.4217 - val_accuracy: 0.8292\n",
      "Epoch 5/50\n",
      "782/782 [==============================] - 6s 8ms/step - loss: 0.1694 - accuracy: 0.9394 - val_loss: 0.4662 - val_accuracy: 0.8256\n",
      "Epoch 6/50\n",
      "782/782 [==============================] - 6s 8ms/step - loss: 0.1400 - accuracy: 0.9518 - val_loss: 0.5136 - val_accuracy: 0.8243\n",
      "Epoch 7/50\n",
      "782/782 [==============================] - 6s 8ms/step - loss: 0.1147 - accuracy: 0.9636 - val_loss: 0.5782 - val_accuracy: 0.8151\n",
      "Epoch 8/50\n",
      "782/782 [==============================] - 7s 9ms/step - loss: 0.0927 - accuracy: 0.9719 - val_loss: 0.6506 - val_accuracy: 0.8124\n",
      "Epoch 9/50\n",
      "782/782 [==============================] - 6s 8ms/step - loss: 0.0735 - accuracy: 0.9792 - val_loss: 0.7464 - val_accuracy: 0.8074\n",
      "Epoch 10/50\n",
      "782/782 [==============================] - 6s 8ms/step - loss: 0.0569 - accuracy: 0.9854 - val_loss: 0.8303 - val_accuracy: 0.8066\n",
      "Epoch 11/50\n",
      "782/782 [==============================] - 6s 8ms/step - loss: 0.0454 - accuracy: 0.9882 - val_loss: 0.9717 - val_accuracy: 0.8020\n",
      "Epoch 12/50\n",
      "782/782 [==============================] - 6s 8ms/step - loss: 0.0387 - accuracy: 0.9903 - val_loss: 1.0563 - val_accuracy: 0.8028\n",
      "Epoch 13/50\n",
      "782/782 [==============================] - 7s 9ms/step - loss: 0.0330 - accuracy: 0.9916 - val_loss: 1.1534 - val_accuracy: 0.8014\n",
      "Epoch 14/50\n",
      "782/782 [==============================] - 6s 8ms/step - loss: 0.0315 - accuracy: 0.9905 - val_loss: 1.2091 - val_accuracy: 0.7970\n",
      "Epoch 15/50\n",
      "782/782 [==============================] - 7s 9ms/step - loss: 0.0261 - accuracy: 0.9930 - val_loss: 1.2865 - val_accuracy: 0.7975\n",
      "Epoch 16/50\n",
      "782/782 [==============================] - 6s 8ms/step - loss: 0.0191 - accuracy: 0.9956 - val_loss: 1.4247 - val_accuracy: 0.7981\n",
      "Epoch 17/50\n",
      "782/782 [==============================] - 7s 9ms/step - loss: 0.0149 - accuracy: 0.9960 - val_loss: 1.5547 - val_accuracy: 0.7986\n",
      "Epoch 18/50\n",
      "782/782 [==============================] - 7s 9ms/step - loss: 0.0141 - accuracy: 0.9962 - val_loss: 1.6196 - val_accuracy: 0.7950\n",
      "Epoch 19/50\n",
      "782/782 [==============================] - 7s 9ms/step - loss: 0.0158 - accuracy: 0.9951 - val_loss: 1.6163 - val_accuracy: 0.7978\n",
      "Epoch 20/50\n",
      "782/782 [==============================] - 7s 9ms/step - loss: 0.0165 - accuracy: 0.9946 - val_loss: 1.6770 - val_accuracy: 0.7968\n",
      "Epoch 21/50\n",
      "782/782 [==============================] - 6s 8ms/step - loss: 0.0103 - accuracy: 0.9970 - val_loss: 1.7920 - val_accuracy: 0.7944\n",
      "Epoch 22/50\n",
      "782/782 [==============================] - 6s 8ms/step - loss: 0.0063 - accuracy: 0.9985 - val_loss: 1.8826 - val_accuracy: 0.7936\n",
      "Epoch 23/50\n",
      "782/782 [==============================] - 6s 8ms/step - loss: 0.0065 - accuracy: 0.9984 - val_loss: 2.0004 - val_accuracy: 0.7956\n",
      "Epoch 24/50\n",
      "782/782 [==============================] - 6s 8ms/step - loss: 0.0096 - accuracy: 0.9968 - val_loss: 2.0560 - val_accuracy: 0.7969\n",
      "Epoch 25/50\n",
      "782/782 [==============================] - 6s 8ms/step - loss: 0.0128 - accuracy: 0.9958 - val_loss: 2.0494 - val_accuracy: 0.7974\n",
      "Epoch 26/50\n",
      "782/782 [==============================] - 6s 8ms/step - loss: 0.0068 - accuracy: 0.9981 - val_loss: 1.9982 - val_accuracy: 0.7946\n",
      "Epoch 27/50\n",
      "782/782 [==============================] - 6s 8ms/step - loss: 0.0041 - accuracy: 0.9989 - val_loss: 2.1806 - val_accuracy: 0.7925\n",
      "Epoch 28/50\n",
      "782/782 [==============================] - 6s 8ms/step - loss: 0.0032 - accuracy: 0.9990 - val_loss: 2.2498 - val_accuracy: 0.7943\n",
      "Epoch 29/50\n",
      "782/782 [==============================] - 6s 8ms/step - loss: 0.0064 - accuracy: 0.9978 - val_loss: 2.1398 - val_accuracy: 0.7898\n",
      "Epoch 30/50\n",
      "782/782 [==============================] - 6s 8ms/step - loss: 0.0099 - accuracy: 0.9968 - val_loss: 2.2277 - val_accuracy: 0.7914\n",
      "Epoch 31/50\n",
      "782/782 [==============================] - 6s 8ms/step - loss: 0.0057 - accuracy: 0.9982 - val_loss: 2.2144 - val_accuracy: 0.7927\n",
      "Epoch 32/50\n",
      "782/782 [==============================] - 6s 8ms/step - loss: 0.0024 - accuracy: 0.9993 - val_loss: 2.3744 - val_accuracy: 0.7936\n",
      "Epoch 33/50\n",
      "782/782 [==============================] - 6s 8ms/step - loss: 0.0041 - accuracy: 0.9986 - val_loss: 2.4381 - val_accuracy: 0.7931\n",
      "Epoch 34/50\n",
      "782/782 [==============================] - 7s 9ms/step - loss: 0.0039 - accuracy: 0.9990 - val_loss: 2.5009 - val_accuracy: 0.7936\n",
      "Epoch 35/50\n",
      "782/782 [==============================] - 6s 8ms/step - loss: 0.0038 - accuracy: 0.9988 - val_loss: 2.7348 - val_accuracy: 0.7926\n",
      "Epoch 36/50\n",
      "782/782 [==============================] - 6s 8ms/step - loss: 0.0040 - accuracy: 0.9986 - val_loss: 2.5021 - val_accuracy: 0.7924\n",
      "Epoch 37/50\n",
      "782/782 [==============================] - 6s 8ms/step - loss: 0.0015 - accuracy: 0.9996 - val_loss: 2.4992 - val_accuracy: 0.7838\n",
      "Epoch 38/50\n",
      "782/782 [==============================] - 7s 9ms/step - loss: 0.0045 - accuracy: 0.9986 - val_loss: 2.7577 - val_accuracy: 0.7944\n",
      "Epoch 39/50\n",
      "782/782 [==============================] - 6s 8ms/step - loss: 0.0081 - accuracy: 0.9972 - val_loss: 2.4486 - val_accuracy: 0.7844\n",
      "Epoch 40/50\n",
      "782/782 [==============================] - 7s 9ms/step - loss: 0.0037 - accuracy: 0.9986 - val_loss: 2.5501 - val_accuracy: 0.7918\n",
      "Epoch 41/50\n",
      "782/782 [==============================] - 6s 8ms/step - loss: 0.0021 - accuracy: 0.9994 - val_loss: 2.6504 - val_accuracy: 0.7950\n",
      "Epoch 42/50\n",
      "782/782 [==============================] - 6s 8ms/step - loss: 6.6815e-04 - accuracy: 0.9998 - val_loss: 2.6830 - val_accuracy: 0.7892\n",
      "Epoch 43/50\n",
      "782/782 [==============================] - 7s 9ms/step - loss: 1.9677e-04 - accuracy: 1.0000 - val_loss: 2.7873 - val_accuracy: 0.7918\n",
      "Epoch 44/50\n",
      "782/782 [==============================] - 6s 8ms/step - loss: 5.1500e-05 - accuracy: 1.0000 - val_loss: 2.8311 - val_accuracy: 0.7924\n",
      "Epoch 45/50\n",
      "782/782 [==============================] - 7s 9ms/step - loss: 2.9918e-05 - accuracy: 1.0000 - val_loss: 2.8778 - val_accuracy: 0.7918\n",
      "Epoch 46/50\n",
      "782/782 [==============================] - 6s 8ms/step - loss: 2.1043e-05 - accuracy: 1.0000 - val_loss: 2.9367 - val_accuracy: 0.7922\n",
      "Epoch 47/50\n",
      "782/782 [==============================] - 6s 8ms/step - loss: 1.4601e-05 - accuracy: 1.0000 - val_loss: 2.9962 - val_accuracy: 0.7925\n",
      "Epoch 48/50\n",
      "782/782 [==============================] - 7s 9ms/step - loss: 1.0324e-05 - accuracy: 1.0000 - val_loss: 3.0564 - val_accuracy: 0.7925\n",
      "Epoch 49/50\n",
      "782/782 [==============================] - 6s 8ms/step - loss: 7.1049e-06 - accuracy: 1.0000 - val_loss: 3.1216 - val_accuracy: 0.7926\n",
      "Epoch 50/50\n",
      "782/782 [==============================] - 6s 8ms/step - loss: 5.0162e-06 - accuracy: 1.0000 - val_loss: 3.2004 - val_accuracy: 0.7928\n"
     ]
    },
    {
     "data": {
      "image/png": "[encoded data removed]",
      "text/plain": [
       "<Figure size 432x288 with 1 Axes>"
      ]
     },
     "metadata": {
      "needs_background": "light"
     },
     "output_type": "display_data"
    },
    {
     "data": {
      "image/png": "[encoded data removed]",
      "text/plain": [
       "<Figure size 432x288 with 1 Axes>"
      ]
     },
     "metadata": {
      "needs_background": "light"
     },
     "output_type": "display_data"
    }
   ],
   "source": [
    "# Model Definition with Conv1D\n",
    "model_Conv = tf.keras.Sequential([\n",
    "    tf.keras.layers.Embedding(vocab_size, embedding_dim, input_length=max_length),\n",
    "    tf.keras.layers.Conv1D(128, 5, activation='relu'),\n",
    "    tf.keras.layers.GlobalAveragePooling1D(),\n",
    "    tf.keras.layers.Dense(6, activation='relu'),\n",
    "    tf.keras.layers.Dense(1, activation='sigmoid')\n",
    "])\n",
    "model_Conv.compile(loss='binary_crossentropy',optimizer='adam',metrics=['accuracy'])\n",
    "model_Conv.summary()\n",
    "num_epochs = 50\n",
    "history_conv = model_Conv.fit(padded, training_labels_final, epochs=num_epochs, validation_data=(testing_padded, testing_labels_final))\n",
    "plot_graphs(history_conv, 'accuracy')\n",
    "plot_graphs(history_conv, 'loss')"
   ]
  },
  {
   "cell_type": "code",
   "execution_count": null,
   "metadata": {
    "id": "REoqYNzF0Ym6"
   },
   "outputs": [],
   "source": []
  }
 ],
 "metadata": {
  "accelerator": "GPU",
  "colab": {
   "collapsed_sections": [],
   "name": "C3_W3_Lab_4_imdb_reviews_with_GRU_LSTM_Conv1D.ipynb",
   "provenance": [],
   "toc_visible": true
  },
  "kernelspec": {
   "display_name": "Python 3 (ipykernel)",
   "language": "python",
   "name": "python3"
  },
  "language_info": {
   "codemirror_mode": {
    "name": "ipython",
    "version": 3
   },
   "file_extension": ".py",
   "mimetype": "text/x-python",
   "name": "python",
   "nbconvert_exporter": "python",
   "pygments_lexer": "ipython3",
   "version": "3.9.0"
  }
 },
 "nbformat": 4,
 "nbformat_minor": 1
}
