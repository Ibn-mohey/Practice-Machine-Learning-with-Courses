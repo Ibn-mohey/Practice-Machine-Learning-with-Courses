{
 "cells": [
  {
   "cell_type": "code",
   "execution_count": null,
   "metadata": {
    "id": "zX4Kg8DUTKWO"
   },
   "outputs": [],
   "source": [
    "#@title Licensed under the Apache License, Version 2.0 (the \"License\");\n",
    "# you may not use this file except in compliance with the License.\n",
    "# You may obtain a copy of the License at\n",
    "#\n",
    "# https://www.apache.org/licenses/LICENSE-2.0\n",
    "#\n",
    "# Unless required by applicable law or agreed to in writing, software\n",
    "# distributed under the License is distributed on an \"AS IS\" BASIS,\n",
    "# WITHOUT WARRANTIES OR CONDITIONS OF ANY KIND, either express or implied.\n",
    "# See the License for the specific language governing permissions and\n",
    "# limitations under the License."
   ]
  },
  {
   "cell_type": "markdown",
   "metadata": {
    "id": "DAAo7FxNJOv8"
   },
   "source": [
    "**IMPORTANT NOTE:** This notebook is designed to run as a Colab. Click the button on top that says, `Open in Colab`, to run this notebook as a Colab. Running the notebook on your local machine might result in some of the code blocks throwing errors."
   ]
  },
  {
   "cell_type": "markdown",
   "metadata": {
    "id": "o2nwqAkdJOv9"
   },
   "source": [
    "**Note:** This notebook can run using TensorFlow 2.5.0"
   ]
  },
  {
   "cell_type": "code",
   "execution_count": null,
   "metadata": {
    "id": "krV8SxsqJOv9"
   },
   "outputs": [],
   "source": [
    "#!pip install tensorflow==2.5.0"
   ]
  },
  {
   "cell_type": "code",
   "execution_count": 2,
   "metadata": {
    "colab": {
     "base_uri": "https://localhost:8080/"
    },
    "id": "XAcky60c1tTi",
    "outputId": "ee3b5578-94f5-4e91-b6f3-69a3513580f4"
   },
   "outputs": [
    {
     "name": "stdout",
     "output_type": "stream",
     "text": [
      "Permission denied: https://drive.google.com/uc?id=1dRzdJS7-cZS4S5CuUc32MZYSLJGkkxnp\n",
      "Maybe you need to change permission over 'Anyone with the link'?\n"
     ]
    }
   ],
   "source": [
    "# # sarcasm.json\n",
    "# !gdown --id 1dRzdJS7-cZS4S5CuUc32MZYSLJGkkxnp"
   ]
  },
  {
   "cell_type": "code",
   "execution_count": 3,
   "metadata": {
    "colab": {
     "base_uri": "https://localhost:8080/"
    },
    "id": "c4pCnkjb1c60",
    "outputId": "3a40cf91-c0b5-4be9-9b46-5e8f747573b3"
   },
   "outputs": [
    {
     "name": "stdout",
     "output_type": "stream",
     "text": [
      "Downloading...\n",
      "From: https://drive.google.com/uc?id=1xRU3xY5-tkiPGvlz5xBJ18_pHWSRzI4v\n",
      "To: /content/sarcasm.json\n",
      "\r",
      "  0% 0.00/5.64M [00:00<?, ?B/s]\r",
      "100% 5.64M/5.64M [00:00<00:00, 89.0MB/s]\n"
     ]
    }
   ],
   "source": [
    "import numpy as np\n",
    "\n",
    "import json\n",
    "import tensorflow as tf\n",
    "\n",
    "from tensorflow.keras.preprocessing.text import Tokenizer\n",
    "from tensorflow.keras.preprocessing.sequence import pad_sequences\n",
    "\n",
    "# sarcasm.json\n",
    "# !gdown --id 1dRzdJS7-cZS4S5CuUc32MZYSLJGkkxnp\n",
    "!gdown --id 1xRU3xY5-tkiPGvlz5xBJ18_pHWSRzI4v\n",
    "\n",
    "vocab_size = 1000\n",
    "embedding_dim = 16\n",
    "max_length = 120\n",
    "trunc_type='post'\n",
    "padding_type='post'\n",
    "oov_tok = \"<OOV>\"\n",
    "training_size = 20000\n",
    "\n",
    "\n",
    "with open(\"./sarcasm.json\", 'r') as f:\n",
    "    datastore = json.load(f)\n",
    "\n",
    "\n",
    "sentences = []\n",
    "labels = []\n",
    "urls = []\n",
    "for item in datastore:\n",
    "    sentences.append(item['headline'])\n",
    "    labels.append(item['is_sarcastic'])\n",
    "\n",
    "training_sentences = sentences[0:training_size]\n",
    "testing_sentences = sentences[training_size:]\n",
    "training_labels = labels[0:training_size]\n",
    "testing_labels = labels[training_size:]\n",
    "\n",
    "tokenizer = Tokenizer(num_words=vocab_size, oov_token=oov_tok)\n",
    "tokenizer.fit_on_texts(training_sentences)\n",
    "\n",
    "word_index = tokenizer.word_index\n",
    "\n",
    "training_sequences = tokenizer.texts_to_sequences(training_sentences)\n",
    "training_padded = pad_sequences(training_sequences, maxlen=max_length, padding=padding_type, truncating=trunc_type)\n",
    "\n",
    "testing_sequences = tokenizer.texts_to_sequences(testing_sentences)\n",
    "testing_padded = pad_sequences(testing_sequences, maxlen=max_length, padding=padding_type, truncating=trunc_type)\n"
   ]
  },
  {
   "cell_type": "code",
   "execution_count": 4,
   "metadata": {
    "id": "L-ttlFW00xBS"
   },
   "outputs": [],
   "source": [
    "import matplotlib.pyplot as plt\n",
    "\n",
    "\n",
    "def plot_graphs(history, string):\n",
    "  plt.plot(history.history[string])\n",
    "  plt.plot(history.history['val_'+string])\n",
    "  plt.xlabel(\"Epochs\")\n",
    "  plt.ylabel(string)\n",
    "  plt.legend([string, 'val_'+string])\n",
    "  plt.show()"
   ]
  },
  {
   "cell_type": "code",
   "execution_count": 5,
   "metadata": {
    "colab": {
     "base_uri": "https://localhost:8080/",
     "height": 1000
    },
    "id": "UvNNr9_s0vtr",
    "outputId": "3cca70a3-4928-4ce3-8361-f3efcca23cb2"
   },
   "outputs": [
    {
     "name": "stdout",
     "output_type": "stream",
     "text": [
      "Model: \"sequential\"\n",
      "_________________________________________________________________\n",
      "Layer (type)                 Output Shape              Param #   \n",
      "=================================================================\n",
      "embedding (Embedding)        (None, 120, 16)           16000     \n",
      "_________________________________________________________________\n",
      "bidirectional (Bidirectional (None, 64)                12544     \n",
      "_________________________________________________________________\n",
      "dense (Dense)                (None, 24)                1560      \n",
      "_________________________________________________________________\n",
      "dense_1 (Dense)              (None, 1)                 25        \n",
      "=================================================================\n",
      "Total params: 30,129\n",
      "Trainable params: 30,129\n",
      "Non-trainable params: 0\n",
      "_________________________________________________________________\n",
      "Epoch 1/50\n",
      "625/625 [==============================] - 46s 61ms/step - loss: 0.4574 - accuracy: 0.7699 - val_loss: 0.3869 - val_accuracy: 0.8222\n",
      "Epoch 2/50\n",
      "625/625 [==============================] - 37s 60ms/step - loss: 0.3543 - accuracy: 0.8375 - val_loss: 0.3801 - val_accuracy: 0.8235\n",
      "Epoch 3/50\n",
      "625/625 [==============================] - 37s 59ms/step - loss: 0.3298 - accuracy: 0.8520 - val_loss: 0.3690 - val_accuracy: 0.8334\n",
      "Epoch 4/50\n",
      "625/625 [==============================] - 37s 59ms/step - loss: 0.3109 - accuracy: 0.8612 - val_loss: 0.3760 - val_accuracy: 0.8343\n",
      "Epoch 5/50\n",
      "625/625 [==============================] - 37s 59ms/step - loss: 0.2994 - accuracy: 0.8669 - val_loss: 0.3706 - val_accuracy: 0.8360\n",
      "Epoch 6/50\n",
      "625/625 [==============================] - 37s 59ms/step - loss: 0.2908 - accuracy: 0.8729 - val_loss: 0.3791 - val_accuracy: 0.8353\n",
      "Epoch 7/50\n",
      "625/625 [==============================] - 37s 59ms/step - loss: 0.2817 - accuracy: 0.8755 - val_loss: 0.3782 - val_accuracy: 0.8340\n",
      "Epoch 8/50\n",
      "625/625 [==============================] - 37s 59ms/step - loss: 0.2741 - accuracy: 0.8814 - val_loss: 0.4024 - val_accuracy: 0.8286\n",
      "Epoch 9/50\n",
      "625/625 [==============================] - 37s 59ms/step - loss: 0.2676 - accuracy: 0.8834 - val_loss: 0.4021 - val_accuracy: 0.8271\n",
      "Epoch 10/50\n",
      "625/625 [==============================] - 37s 59ms/step - loss: 0.2607 - accuracy: 0.8874 - val_loss: 0.3922 - val_accuracy: 0.8278\n",
      "Epoch 11/50\n",
      "625/625 [==============================] - 37s 59ms/step - loss: 0.2561 - accuracy: 0.8896 - val_loss: 0.4244 - val_accuracy: 0.8214\n",
      "Epoch 12/50\n",
      "625/625 [==============================] - 37s 60ms/step - loss: 0.2480 - accuracy: 0.8939 - val_loss: 0.4301 - val_accuracy: 0.8192\n",
      "Epoch 13/50\n",
      "625/625 [==============================] - 37s 60ms/step - loss: 0.2404 - accuracy: 0.8971 - val_loss: 0.4176 - val_accuracy: 0.8228\n",
      "Epoch 14/50\n",
      "625/625 [==============================] - 37s 59ms/step - loss: 0.2325 - accuracy: 0.9004 - val_loss: 0.4399 - val_accuracy: 0.8195\n",
      "Epoch 15/50\n",
      "625/625 [==============================] - 37s 59ms/step - loss: 0.2253 - accuracy: 0.9034 - val_loss: 0.4402 - val_accuracy: 0.8219\n",
      "Epoch 16/50\n",
      "625/625 [==============================] - 37s 60ms/step - loss: 0.2170 - accuracy: 0.9074 - val_loss: 0.4606 - val_accuracy: 0.8158\n",
      "Epoch 17/50\n",
      "625/625 [==============================] - 37s 59ms/step - loss: 0.2106 - accuracy: 0.9119 - val_loss: 0.4802 - val_accuracy: 0.8196\n",
      "Epoch 18/50\n",
      "625/625 [==============================] - 37s 59ms/step - loss: 0.2035 - accuracy: 0.9153 - val_loss: 0.4865 - val_accuracy: 0.8128\n",
      "Epoch 19/50\n",
      "625/625 [==============================] - 36s 58ms/step - loss: 0.1970 - accuracy: 0.9188 - val_loss: 0.5118 - val_accuracy: 0.8159\n",
      "Epoch 20/50\n",
      "625/625 [==============================] - 37s 59ms/step - loss: 0.1901 - accuracy: 0.9208 - val_loss: 0.5415 - val_accuracy: 0.8155\n",
      "Epoch 21/50\n",
      "625/625 [==============================] - 37s 59ms/step - loss: 0.1824 - accuracy: 0.9263 - val_loss: 0.5451 - val_accuracy: 0.8162\n",
      "Epoch 22/50\n",
      "625/625 [==============================] - 37s 58ms/step - loss: 0.1758 - accuracy: 0.9269 - val_loss: 0.5831 - val_accuracy: 0.8098\n",
      "Epoch 23/50\n",
      "625/625 [==============================] - 37s 59ms/step - loss: 0.1670 - accuracy: 0.9318 - val_loss: 0.6179 - val_accuracy: 0.8100\n",
      "Epoch 24/50\n",
      "625/625 [==============================] - 37s 59ms/step - loss: 0.1648 - accuracy: 0.9329 - val_loss: 0.6796 - val_accuracy: 0.8088\n",
      "Epoch 25/50\n",
      "625/625 [==============================] - 37s 59ms/step - loss: 0.1563 - accuracy: 0.9359 - val_loss: 0.6607 - val_accuracy: 0.8077\n",
      "Epoch 26/50\n",
      "625/625 [==============================] - 37s 59ms/step - loss: 0.1490 - accuracy: 0.9413 - val_loss: 0.7154 - val_accuracy: 0.8079\n",
      "Epoch 27/50\n",
      "625/625 [==============================] - 37s 59ms/step - loss: 0.1445 - accuracy: 0.9408 - val_loss: 0.7709 - val_accuracy: 0.8064\n",
      "Epoch 28/50\n",
      "625/625 [==============================] - 37s 59ms/step - loss: 0.1383 - accuracy: 0.9452 - val_loss: 0.7971 - val_accuracy: 0.8074\n",
      "Epoch 29/50\n",
      "625/625 [==============================] - 37s 59ms/step - loss: 0.1325 - accuracy: 0.9461 - val_loss: 0.8100 - val_accuracy: 0.8100\n",
      "Epoch 30/50\n",
      "625/625 [==============================] - 37s 58ms/step - loss: 0.1238 - accuracy: 0.9504 - val_loss: 0.8748 - val_accuracy: 0.8047\n",
      "Epoch 31/50\n",
      "625/625 [==============================] - 37s 59ms/step - loss: 0.1189 - accuracy: 0.9523 - val_loss: 0.8473 - val_accuracy: 0.8092\n",
      "Epoch 32/50\n",
      "625/625 [==============================] - 37s 59ms/step - loss: 0.1169 - accuracy: 0.9530 - val_loss: 0.9368 - val_accuracy: 0.8047\n",
      "Epoch 33/50\n",
      "625/625 [==============================] - 36s 58ms/step - loss: 0.1098 - accuracy: 0.9546 - val_loss: 1.0779 - val_accuracy: 0.8055\n",
      "Epoch 34/50\n",
      "625/625 [==============================] - 37s 59ms/step - loss: 0.1091 - accuracy: 0.9546 - val_loss: 1.0365 - val_accuracy: 0.8074\n",
      "Epoch 35/50\n",
      "625/625 [==============================] - 37s 59ms/step - loss: 0.1018 - accuracy: 0.9585 - val_loss: 1.1102 - val_accuracy: 0.8047\n",
      "Epoch 36/50\n",
      "625/625 [==============================] - 37s 59ms/step - loss: 0.0973 - accuracy: 0.9585 - val_loss: 1.1880 - val_accuracy: 0.8061\n",
      "Epoch 37/50\n",
      "625/625 [==============================] - 37s 59ms/step - loss: 0.0948 - accuracy: 0.9599 - val_loss: 1.1332 - val_accuracy: 0.8031\n",
      "Epoch 38/50\n",
      "625/625 [==============================] - 37s 59ms/step - loss: 0.0916 - accuracy: 0.9625 - val_loss: 1.1910 - val_accuracy: 0.8031\n",
      "Epoch 39/50\n",
      "625/625 [==============================] - 36s 58ms/step - loss: 0.0857 - accuracy: 0.9635 - val_loss: 1.2213 - val_accuracy: 0.8030\n",
      "Epoch 40/50\n",
      "625/625 [==============================] - 37s 59ms/step - loss: 0.0832 - accuracy: 0.9647 - val_loss: 1.3040 - val_accuracy: 0.8022\n",
      "Epoch 41/50\n",
      "625/625 [==============================] - 37s 59ms/step - loss: 0.0772 - accuracy: 0.9664 - val_loss: 1.4401 - val_accuracy: 0.8030\n",
      "Epoch 42/50\n",
      "625/625 [==============================] - 37s 59ms/step - loss: 0.0818 - accuracy: 0.9653 - val_loss: 1.3407 - val_accuracy: 0.8010\n",
      "Epoch 43/50\n",
      "625/625 [==============================] - 37s 59ms/step - loss: 0.0720 - accuracy: 0.9690 - val_loss: 1.4410 - val_accuracy: 0.7916\n",
      "Epoch 44/50\n",
      "625/625 [==============================] - 37s 59ms/step - loss: 0.0696 - accuracy: 0.9696 - val_loss: 1.4495 - val_accuracy: 0.8058\n",
      "Epoch 45/50\n",
      "625/625 [==============================] - 37s 59ms/step - loss: 0.0724 - accuracy: 0.9675 - val_loss: 1.5602 - val_accuracy: 0.7995\n",
      "Epoch 46/50\n",
      "625/625 [==============================] - 37s 59ms/step - loss: 0.0662 - accuracy: 0.9710 - val_loss: 1.6055 - val_accuracy: 0.7970\n",
      "Epoch 47/50\n",
      "625/625 [==============================] - 37s 59ms/step - loss: 0.0670 - accuracy: 0.9718 - val_loss: 1.6251 - val_accuracy: 0.7958\n",
      "Epoch 48/50\n",
      "625/625 [==============================] - 36s 58ms/step - loss: 0.0645 - accuracy: 0.9714 - val_loss: 1.6791 - val_accuracy: 0.7962\n",
      "Epoch 49/50\n",
      "625/625 [==============================] - 36s 58ms/step - loss: 0.0630 - accuracy: 0.9725 - val_loss: 1.6615 - val_accuracy: 0.7916\n",
      "Epoch 50/50\n",
      "625/625 [==============================] - 37s 58ms/step - loss: 0.0560 - accuracy: 0.9751 - val_loss: 1.7356 - val_accuracy: 0.7973\n"
     ]
    },
    {
     "data": {
      "image/png": "[encoded data removed]",
      "text/plain": [
       "<Figure size 432x288 with 1 Axes>"
      ]
     },
     "metadata": {
      "needs_background": "light"
     },
     "output_type": "display_data"
    },
    {
     "data": {
      "image/png": "[encoded data removed]",
      "text/plain": [
       "<Figure size 432x288 with 1 Axes>"
      ]
     },
     "metadata": {
      "needs_background": "light"
     },
     "output_type": "display_data"
    }
   ],
   "source": [
    "model_LSTM = tf.keras.Sequential([\n",
    "    tf.keras.layers.Embedding(vocab_size, embedding_dim, input_length=max_length),\n",
    "    tf.keras.layers.Bidirectional(tf.keras.layers.LSTM(32)),\n",
    "    tf.keras.layers.Dense(24, activation='relu'),\n",
    "    tf.keras.layers.Dense(1, activation='sigmoid')\n",
    "])\n",
    "model_LSTM.compile(loss='binary_crossentropy',optimizer='adam',metrics=['accuracy'])\n",
    "model_LSTM.summary()\n",
    "\n",
    "num_epochs = 50\n",
    "training_padded = np.array(training_padded)\n",
    "training_labels = np.array(training_labels)\n",
    "testing_padded = np.array(testing_padded)\n",
    "testing_labels = np.array(testing_labels)\n",
    "history_LSTM = model_LSTM.fit(training_padded, training_labels, epochs=num_epochs, validation_data=(testing_padded, testing_labels), verbose=1)\n",
    "\n",
    "\n",
    "plot_graphs(history_LSTM, 'accuracy')\n",
    "plot_graphs(history_LSTM, 'loss')\n",
    "\n",
    "model_LSTM.save(\"test.h5\")"
   ]
  },
  {
   "cell_type": "code",
   "execution_count": 6,
   "metadata": {
    "colab": {
     "base_uri": "https://localhost:8080/",
     "height": 1000
    },
    "id": "OoQGEqAt1c63",
    "outputId": "54607626-8e66-4de9-cdf4-675d57a364dd"
   },
   "outputs": [
    {
     "name": "stdout",
     "output_type": "stream",
     "text": [
      "Model: \"sequential_1\"\n",
      "_________________________________________________________________\n",
      "Layer (type)                 Output Shape              Param #   \n",
      "=================================================================\n",
      "embedding_1 (Embedding)      (None, 120, 16)           16000     \n",
      "_________________________________________________________________\n",
      "conv1d (Conv1D)              (None, 116, 128)          10368     \n",
      "_________________________________________________________________\n",
      "global_max_pooling1d (Global (None, 128)               0         \n",
      "_________________________________________________________________\n",
      "dense_2 (Dense)              (None, 24)                3096      \n",
      "_________________________________________________________________\n",
      "dense_3 (Dense)              (None, 1)                 25        \n",
      "=================================================================\n",
      "Total params: 29,489\n",
      "Trainable params: 29,489\n",
      "Non-trainable params: 0\n",
      "_________________________________________________________________\n",
      "Epoch 1/50\n",
      "625/625 [==============================] - 30s 7ms/step - loss: 0.4839 - accuracy: 0.7485 - val_loss: 0.4080 - val_accuracy: 0.8120\n",
      "Epoch 2/50\n",
      "625/625 [==============================] - 4s 7ms/step - loss: 0.3638 - accuracy: 0.8378 - val_loss: 0.3943 - val_accuracy: 0.8246\n",
      "Epoch 3/50\n",
      "625/625 [==============================] - 4s 6ms/step - loss: 0.3272 - accuracy: 0.8535 - val_loss: 0.3977 - val_accuracy: 0.8170\n",
      "Epoch 4/50\n",
      "625/625 [==============================] - 4s 7ms/step - loss: 0.2949 - accuracy: 0.8711 - val_loss: 0.4087 - val_accuracy: 0.8195\n",
      "Epoch 5/50\n",
      "625/625 [==============================] - 4s 6ms/step - loss: 0.2626 - accuracy: 0.8874 - val_loss: 0.4127 - val_accuracy: 0.8144\n",
      "Epoch 6/50\n",
      "625/625 [==============================] - 4s 7ms/step - loss: 0.2303 - accuracy: 0.9035 - val_loss: 0.4478 - val_accuracy: 0.8171\n",
      "Epoch 7/50\n",
      "625/625 [==============================] - 4s 7ms/step - loss: 0.1952 - accuracy: 0.9215 - val_loss: 0.4999 - val_accuracy: 0.8086\n",
      "Epoch 8/50\n",
      "625/625 [==============================] - 4s 6ms/step - loss: 0.1663 - accuracy: 0.9352 - val_loss: 0.5524 - val_accuracy: 0.8098\n",
      "Epoch 9/50\n",
      "625/625 [==============================] - 4s 7ms/step - loss: 0.1398 - accuracy: 0.9471 - val_loss: 0.5939 - val_accuracy: 0.8083\n",
      "Epoch 10/50\n",
      "625/625 [==============================] - 4s 6ms/step - loss: 0.1142 - accuracy: 0.9586 - val_loss: 0.6918 - val_accuracy: 0.8043\n",
      "Epoch 11/50\n",
      "625/625 [==============================] - 4s 7ms/step - loss: 0.0944 - accuracy: 0.9666 - val_loss: 0.7628 - val_accuracy: 0.7973\n",
      "Epoch 12/50\n",
      "625/625 [==============================] - 4s 6ms/step - loss: 0.0806 - accuracy: 0.9722 - val_loss: 0.8529 - val_accuracy: 0.8012\n",
      "Epoch 13/50\n",
      "625/625 [==============================] - 4s 7ms/step - loss: 0.0674 - accuracy: 0.9764 - val_loss: 0.9228 - val_accuracy: 0.7988\n",
      "Epoch 14/50\n",
      "625/625 [==============================] - 4s 7ms/step - loss: 0.0577 - accuracy: 0.9798 - val_loss: 0.9941 - val_accuracy: 0.7931\n",
      "Epoch 15/50\n",
      "625/625 [==============================] - 4s 7ms/step - loss: 0.0521 - accuracy: 0.9805 - val_loss: 1.0941 - val_accuracy: 0.7891\n",
      "Epoch 16/50\n",
      "625/625 [==============================] - 4s 6ms/step - loss: 0.0475 - accuracy: 0.9829 - val_loss: 1.2021 - val_accuracy: 0.7931\n",
      "Epoch 17/50\n",
      "625/625 [==============================] - 4s 7ms/step - loss: 0.0436 - accuracy: 0.9838 - val_loss: 1.2382 - val_accuracy: 0.7891\n",
      "Epoch 18/50\n",
      "625/625 [==============================] - 4s 7ms/step - loss: 0.0403 - accuracy: 0.9839 - val_loss: 1.2971 - val_accuracy: 0.7885\n",
      "Epoch 19/50\n",
      "625/625 [==============================] - 4s 6ms/step - loss: 0.0350 - accuracy: 0.9868 - val_loss: 1.3798 - val_accuracy: 0.7872\n",
      "Epoch 20/50\n",
      "625/625 [==============================] - 4s 7ms/step - loss: 0.0319 - accuracy: 0.9886 - val_loss: 1.4565 - val_accuracy: 0.7852\n",
      "Epoch 21/50\n",
      "625/625 [==============================] - 4s 6ms/step - loss: 0.0343 - accuracy: 0.9872 - val_loss: 1.6136 - val_accuracy: 0.7840\n",
      "Epoch 22/50\n",
      "625/625 [==============================] - 4s 7ms/step - loss: 0.0345 - accuracy: 0.9866 - val_loss: 1.5032 - val_accuracy: 0.7879\n",
      "Epoch 23/50\n",
      "625/625 [==============================] - 4s 6ms/step - loss: 0.0343 - accuracy: 0.9867 - val_loss: 1.5778 - val_accuracy: 0.7876\n",
      "Epoch 24/50\n",
      "625/625 [==============================] - 4s 7ms/step - loss: 0.0300 - accuracy: 0.9887 - val_loss: 1.5950 - val_accuracy: 0.7863\n",
      "Epoch 25/50\n",
      "625/625 [==============================] - 4s 6ms/step - loss: 0.0259 - accuracy: 0.9905 - val_loss: 1.6581 - val_accuracy: 0.7879\n",
      "Epoch 26/50\n",
      "625/625 [==============================] - 4s 7ms/step - loss: 0.0251 - accuracy: 0.9901 - val_loss: 1.7115 - val_accuracy: 0.7843\n",
      "Epoch 27/50\n",
      "625/625 [==============================] - 4s 7ms/step - loss: 0.0268 - accuracy: 0.9891 - val_loss: 1.7195 - val_accuracy: 0.7898\n",
      "Epoch 28/50\n",
      "625/625 [==============================] - 4s 7ms/step - loss: 0.0285 - accuracy: 0.9881 - val_loss: 1.7055 - val_accuracy: 0.7906\n",
      "Epoch 29/50\n",
      "625/625 [==============================] - 4s 6ms/step - loss: 0.0319 - accuracy: 0.9876 - val_loss: 1.6815 - val_accuracy: 0.7872\n",
      "Epoch 30/50\n",
      "625/625 [==============================] - 4s 6ms/step - loss: 0.0238 - accuracy: 0.9897 - val_loss: 1.8325 - val_accuracy: 0.7898\n",
      "Epoch 31/50\n",
      "625/625 [==============================] - 4s 6ms/step - loss: 0.0262 - accuracy: 0.9897 - val_loss: 1.8408 - val_accuracy: 0.7904\n",
      "Epoch 32/50\n",
      "625/625 [==============================] - 4s 7ms/step - loss: 0.0253 - accuracy: 0.9895 - val_loss: 1.8987 - val_accuracy: 0.7924\n",
      "Epoch 33/50\n",
      "625/625 [==============================] - 4s 7ms/step - loss: 0.0209 - accuracy: 0.9915 - val_loss: 1.9556 - val_accuracy: 0.7869\n",
      "Epoch 34/50\n",
      "625/625 [==============================] - 4s 6ms/step - loss: 0.0191 - accuracy: 0.9917 - val_loss: 2.0327 - val_accuracy: 0.7872\n",
      "Epoch 35/50\n",
      "625/625 [==============================] - 4s 6ms/step - loss: 0.0224 - accuracy: 0.9908 - val_loss: 2.0722 - val_accuracy: 0.7866\n",
      "Epoch 36/50\n",
      "625/625 [==============================] - 4s 7ms/step - loss: 0.0259 - accuracy: 0.9898 - val_loss: 1.9835 - val_accuracy: 0.7928\n",
      "Epoch 37/50\n",
      "625/625 [==============================] - 4s 6ms/step - loss: 0.0250 - accuracy: 0.9898 - val_loss: 1.9900 - val_accuracy: 0.7910\n",
      "Epoch 38/50\n",
      "625/625 [==============================] - 4s 6ms/step - loss: 0.0214 - accuracy: 0.9909 - val_loss: 2.1062 - val_accuracy: 0.7825\n",
      "Epoch 39/50\n",
      "625/625 [==============================] - 4s 6ms/step - loss: 0.0203 - accuracy: 0.9911 - val_loss: 2.2015 - val_accuracy: 0.7869\n",
      "Epoch 40/50\n",
      "625/625 [==============================] - 4s 6ms/step - loss: 0.0233 - accuracy: 0.9902 - val_loss: 2.0430 - val_accuracy: 0.7872\n",
      "Epoch 41/50\n",
      "625/625 [==============================] - 4s 7ms/step - loss: 0.0229 - accuracy: 0.9908 - val_loss: 2.0536 - val_accuracy: 0.7910\n",
      "Epoch 42/50\n",
      "625/625 [==============================] - 4s 6ms/step - loss: 0.0211 - accuracy: 0.9912 - val_loss: 2.1007 - val_accuracy: 0.7936\n",
      "Epoch 43/50\n",
      "625/625 [==============================] - 4s 6ms/step - loss: 0.0182 - accuracy: 0.9917 - val_loss: 2.3165 - val_accuracy: 0.7924\n",
      "Epoch 44/50\n",
      "625/625 [==============================] - 4s 7ms/step - loss: 0.0201 - accuracy: 0.9908 - val_loss: 2.3489 - val_accuracy: 0.7888\n",
      "Epoch 45/50\n",
      "625/625 [==============================] - 4s 7ms/step - loss: 0.0200 - accuracy: 0.9914 - val_loss: 2.2776 - val_accuracy: 0.7866\n",
      "Epoch 46/50\n",
      "625/625 [==============================] - 4s 6ms/step - loss: 0.0202 - accuracy: 0.9912 - val_loss: 2.3024 - val_accuracy: 0.7854\n",
      "Epoch 47/50\n",
      "625/625 [==============================] - 4s 7ms/step - loss: 0.0236 - accuracy: 0.9904 - val_loss: 2.2765 - val_accuracy: 0.7886\n",
      "Epoch 48/50\n",
      "625/625 [==============================] - 4s 7ms/step - loss: 0.0196 - accuracy: 0.9912 - val_loss: 2.2739 - val_accuracy: 0.7876\n",
      "Epoch 49/50\n",
      "625/625 [==============================] - 4s 7ms/step - loss: 0.0203 - accuracy: 0.9907 - val_loss: 2.2589 - val_accuracy: 0.7895\n",
      "Epoch 50/50\n",
      "625/625 [==============================] - 4s 6ms/step - loss: 0.0158 - accuracy: 0.9923 - val_loss: 2.3793 - val_accuracy: 0.7852\n"
     ]
    },
    {
     "data": {
      "image/png": "[encoded data removed]",
      "text/plain": [
       "<Figure size 432x288 with 1 Axes>"
      ]
     },
     "metadata": {
      "needs_background": "light"
     },
     "output_type": "display_data"
    },
    {
     "data": {
      "image/png": "[encoded data removed]",
      "text/plain": [
       "<Figure size 432x288 with 1 Axes>"
      ]
     },
     "metadata": {
      "needs_background": "light"
     },
     "output_type": "display_data"
    }
   ],
   "source": [
    "model_Conv = tf.keras.Sequential([\n",
    "    tf.keras.layers.Embedding(vocab_size, embedding_dim, input_length=max_length),\n",
    "    tf.keras.layers.Conv1D(128, 5, activation='relu'),\n",
    "    tf.keras.layers.GlobalMaxPooling1D(),\n",
    "    tf.keras.layers.Dense(24, activation='relu'),\n",
    "    tf.keras.layers.Dense(1, activation='sigmoid')\n",
    "])\n",
    "model_Conv.compile(loss='binary_crossentropy',optimizer='adam',metrics=['accuracy'])\n",
    "model_Conv.summary()\n",
    "\n",
    "num_epochs = 50\n",
    "\n",
    "training_padded = np.array(training_padded)\n",
    "training_labels = np.array(training_labels)\n",
    "testing_padded = np.array(testing_padded)\n",
    "testing_labels = np.array(testing_labels)\n",
    "\n",
    "history_conv = model_Conv.fit(training_padded, training_labels, epochs=num_epochs, validation_data=(testing_padded, testing_labels), verbose=1)\n",
    "\n",
    "plot_graphs(history_conv, 'accuracy')\n",
    "plot_graphs(history_conv, 'loss')\n",
    "\n",
    "model_Conv.save(\"test.h5\")"
   ]
  },
  {
   "cell_type": "code",
   "execution_count": null,
   "metadata": {
    "id": "1TkIXOG71jlq"
   },
   "outputs": [],
   "source": []
  }
 ],
 "metadata": {
  "accelerator": "GPU",
  "colab": {
   "collapsed_sections": [],
   "name": "C3_W3_Lab_5_sarcasm_with_bi_LSTM.ipynb",
   "provenance": []
  },
  "kernelspec": {
   "display_name": "Python 3 (ipykernel)",
   "language": "python",
   "name": "python3"
  },
  "language_info": {
   "codemirror_mode": {
    "name": "ipython",
    "version": 3
   },
   "file_extension": ".py",
   "mimetype": "text/x-python",
   "name": "python",
   "nbconvert_exporter": "python",
   "pygments_lexer": "ipython3",
   "version": "3.9.0"
  }
 },
 "nbformat": 4,
 "nbformat_minor": 1
}
