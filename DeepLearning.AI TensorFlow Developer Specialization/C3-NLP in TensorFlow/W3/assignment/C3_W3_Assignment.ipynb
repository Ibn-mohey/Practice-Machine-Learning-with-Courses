{
 "cells": [
  {
   "cell_type": "code",
   "execution_count": null,
   "metadata": {
    "id": "zX4Kg8DUTKWO"
   },
   "outputs": [],
   "source": [
    "#@title Licensed under the Apache License, Version 2.0 (the \"License\");\n",
    "# you may not use this file except in compliance with the License.\n",
    "# You may obtain a copy of the License at\n",
    "#\n",
    "# https://www.apache.org/licenses/LICENSE-2.0\n",
    "#\n",
    "# Unless required by applicable law or agreed to in writing, software\n",
    "# distributed under the License is distributed on an \"AS IS\" BASIS,\n",
    "# WITHOUT WARRANTIES OR CONDITIONS OF ANY KIND, either express or implied.\n",
    "# See the License for the specific language governing permissions and\n",
    "# limitations under the License."
   ]
  },
  {
   "cell_type": "markdown",
   "metadata": {
    "id": "-v8aHcpUdtKN"
   },
   "source": [
    "**Note:** This notebook can run using TensorFlow 2.5.0"
   ]
  },
  {
   "cell_type": "code",
   "execution_count": null,
   "metadata": {
    "id": "FtL554lDdtKO"
   },
   "outputs": [],
   "source": [
    "#!pip install tensorflow==2.5.0"
   ]
  },
  {
   "cell_type": "code",
   "execution_count": 1,
   "metadata": {
    "id": "hmA6EzkQJ5jt"
   },
   "outputs": [],
   "source": [
    "import json\n",
    "import tensorflow as tf\n",
    "import csv\n",
    "import random\n",
    "import numpy as np\n",
    "\n",
    "from tensorflow.keras.preprocessing.text import Tokenizer\n",
    "from tensorflow.keras.preprocessing.sequence import pad_sequences\n",
    "from tensorflow.keras.utils import to_categorical\n",
    "from tensorflow.keras import regularizers\n",
    "\n",
    "\n",
    "embedding_dim = 100\n",
    "max_length = 16\n",
    "trunc_type='post'\n",
    "padding_type='post'\n",
    "oov_tok = \"<OOV>\"\n",
    "training_size=160000\n",
    "test_portion=.1"
   ]
  },
  {
   "cell_type": "code",
   "execution_count": null,
   "metadata": {
    "id": "j6sD9vsA4l-y"
   },
   "outputs": [],
   "source": [
    "#row \n",
    "#['0', '1553137722', 'Sat Apr 18 13:28:22 PDT 2009', 'NO_QUERY', 'beedebuuv', \"trying to get moby instelled with twitter  doesn't work really. not yet\"]\n",
    "# 0     1             2                               3             4         5                                         "
   ]
  },
  {
   "cell_type": "code",
   "execution_count": 27,
   "metadata": {
    "id": "bM0l_dORKqE0"
   },
   "outputs": [],
   "source": [
    "# Note that I cleaned the Stanford dataset to remove LATIN1 encoding to make it easier for Python CSV reader\n",
    "# You can do that yourself with:\n",
    "# iconv -f LATIN1 -t UTF8 training.1600000.processed.noemoticon.csv -o training_cleaned.csv\n",
    "\n",
    "# training_cleaned.csv\n",
    "# !gdown --id 1wd8KaeCSHxt-nEpMeuHFSNWrDp8joUXJ\n",
    "\n",
    "num_sentences = 0\n",
    "\n",
    "with open(\"./training_cleaned.csv\") as csvfile:\n",
    "    reader = csv.reader(csvfile, delimiter=',')\n",
    "    for row in reader:\n",
    "        list_item=[]\n",
    "        \n",
    "        #Create list items where the first item is the text, found in row[5], and the second is the label. \n",
    "        #Note that the label is a '0' or a '4' in the text. When it's the former, make\n",
    "        # your label to be 0, otherwise 1. Keep a count of the number of sentences in num_sentences\n",
    "        list_item.append(row[5])\n",
    "        if row[0]=='0':\n",
    "            list_item.append(0)\n",
    "        else:\n",
    "            list_item.append(1)\n",
    "\n",
    "        \n",
    "        num_sentences = num_sentences + 1\n",
    "        corpus.append(list_item)\n"
   ]
  },
  {
   "cell_type": "code",
   "execution_count": 28,
   "metadata": {
    "colab": {
     "base_uri": "https://localhost:8080/"
    },
    "id": "3kxblBUjEUX-",
    "outputId": "29854d2e-bc40-42fd-e57b-b7bb0403d9ea"
   },
   "outputs": [
    {
     "name": "stdout",
     "output_type": "stream",
     "text": [
      "1600000\n",
      "3200000\n",
      "['hi  r u with cookie?', 1]\n",
      "['@LAsnark I am not a spammer and was sad you unfollowed  but then again i dont want people following if i bore them, so do what thou wilt!', 0]\n",
      "[\"is upset that he can't update his Facebook by texting it... and might cry as a result  School today also. Blah!\", 0]\n"
     ]
    }
   ],
   "source": [
    "print(num_sentences)\n",
    "print(len(corpus))\n",
    "print(corpus[806339])\n",
    "print(corpus[159000])\n",
    "print(corpus[1])\n",
    "# Expected Output:\n",
    "# 1600000\n",
    "# 1600000\n",
    "# [\"is upset that he can't update his Facebook by texting it... and might cry as a result  School today also. Blah!\", 0]"
   ]
  },
  {
   "cell_type": "code",
   "execution_count": 29,
   "metadata": {
    "id": "ohOGz24lsNAD"
   },
   "outputs": [],
   "source": [
    "sentences=[]\n",
    "labels=[]\n",
    "random.shuffle(corpus)\n",
    "for x in range(training_size):\n",
    "    sentences.append(corpus[x][0])# YOUR CODE HERE)\n",
    "    labels.append(corpus[x][1])# YOUR CODE HERE)\n",
    "\n",
    "\n",
    "tokenizer = Tokenizer()\n",
    "tokenizer.fit_on_texts(sentences)# YOUR CODE HERE)\n",
    "\n",
    "word_index = tokenizer.word_index\n",
    "vocab_size=len(word_index)# YOUR CODE HERE)\n",
    "\n",
    "sequences = tokenizer.texts_to_sequences(sentences)# YOUR CODE HERE)\n",
    "padded = pad_sequences(sequences, maxlen=max_length, padding=padding_type, truncating=trunc_type)# YOUR CODE HERE)\n",
    "\n",
    "split = int(test_portion * training_size)\n",
    "\n",
    "test_sequences = padded[0:split]# YOUR CODE HERE)\n",
    "training_sequences = padded[split:training_size]# YOUR CODE HERE)\n",
    "test_labels = labels[0:split]# YOUR CODE HERE)\n",
    "training_labels = labels[split:training_size]# YOUR CODE HERE)"
   ]
  },
  {
   "cell_type": "code",
   "execution_count": 30,
   "metadata": {
    "colab": {
     "base_uri": "https://localhost:8080/"
    },
    "id": "gIrtRem1En3N",
    "outputId": "a42d96c2-6cc9-4363-cfcb-d30ce78b2892"
   },
   "outputs": [
    {
     "name": "stdout",
     "output_type": "stream",
     "text": [
      "136152\n",
      "1\n"
     ]
    }
   ],
   "source": [
    "print(vocab_size)\n",
    "print(word_index['i'])\n",
    "# Expected Output\n",
    "# 138856\n",
    "# 1"
   ]
  },
  {
   "cell_type": "code",
   "execution_count": 31,
   "metadata": {
    "colab": {
     "base_uri": "https://localhost:8080/"
    },
    "id": "C1zdgJkusRh0",
    "outputId": "7df3dcc2-1792-4db9-a9be-7743ac702a84"
   },
   "outputs": [
    {
     "name": "stdout",
     "output_type": "stream",
     "text": [
      "Downloading...\n",
      "From: https://drive.google.com/uc?id=1W5vZy2etitAblLdFn8_DxnsQKzfFJ98g\n",
      "To: /content/glove.6B.100d.txt\n",
      "100% 347M/347M [00:02<00:00, 165MB/s]\n"
     ]
    }
   ],
   "source": [
    "# Note this is the 100 dimension version of GloVe from Stanford\n",
    "\n",
    "# glove.6B.100d.txt\n",
    "# !gdown --id 1W5vZy2etitAblLdFn8_DxnsQKzfFJ98g\n",
    "\n",
    "embeddings_index = {};\n",
    "with open('./glove.6B.100d.txt') as f:\n",
    "    for line in f:\n",
    "        values = line.split();\n",
    "        word = values[0];\n",
    "        coefs = np.asarray(values[1:], dtype='float32');\n",
    "        embeddings_index[word] = coefs;\n",
    "\n",
    "embeddings_matrix = np.zeros((vocab_size+1, embedding_dim));\n",
    "for word, i in word_index.items():\n",
    "    embedding_vector = embeddings_index.get(word);\n",
    "    if embedding_vector is not None:\n",
    "        embeddings_matrix[i] = embedding_vector;"
   ]
  },
  {
   "cell_type": "code",
   "execution_count": 32,
   "metadata": {
    "colab": {
     "base_uri": "https://localhost:8080/"
    },
    "id": "71NLk_lpFLNt",
    "outputId": "a79eb8e0-9c55-4a55-9776-70de5f43ba84"
   },
   "outputs": [
    {
     "name": "stdout",
     "output_type": "stream",
     "text": [
      "136153\n"
     ]
    }
   ],
   "source": [
    "print(len(embeddings_matrix))\n",
    "# Expected Output\n",
    "# 138857"
   ]
  },
  {
   "cell_type": "code",
   "execution_count": 33,
   "metadata": {
    "colab": {
     "base_uri": "https://localhost:8080/"
    },
    "id": "iKKvbuEBOGFz",
    "outputId": "ff792e2b-e106-468a-e7b6-18542e0dcee4"
   },
   "outputs": [
    {
     "name": "stdout",
     "output_type": "stream",
     "text": [
      "Model: \"sequential\"\n",
      "_________________________________________________________________\n",
      "Layer (type)                 Output Shape              Param #   \n",
      "=================================================================\n",
      "embedding (Embedding)        (None, 16, 100)           13615300  \n",
      "_________________________________________________________________\n",
      "dropout (Dropout)            (None, 16, 100)           0         \n",
      "_________________________________________________________________\n",
      "conv1d (Conv1D)              (None, 12, 64)            32064     \n",
      "_________________________________________________________________\n",
      "max_pooling1d (MaxPooling1D) (None, 3, 64)             0         \n",
      "_________________________________________________________________\n",
      "lstm (LSTM)                  (None, 64)                33024     \n",
      "_________________________________________________________________\n",
      "dense (Dense)                (None, 1)                 65        \n",
      "=================================================================\n",
      "Total params: 13,680,453\n",
      "Trainable params: 65,153\n",
      "Non-trainable params: 13,615,300\n",
      "_________________________________________________________________\n",
      "Epoch 1/50\n",
      "4500/4500 - 50s - loss: 0.5700 - accuracy: 0.6960 - val_loss: 0.5272 - val_accuracy: 0.7352\n",
      "Epoch 2/50\n",
      "4500/4500 - 18s - loss: 0.5283 - accuracy: 0.7301 - val_loss: 0.5166 - val_accuracy: 0.7437\n",
      "Epoch 3/50\n",
      "4500/4500 - 18s - loss: 0.5121 - accuracy: 0.7426 - val_loss: 0.5117 - val_accuracy: 0.7456\n",
      "Epoch 4/50\n",
      "4500/4500 - 18s - loss: 0.5005 - accuracy: 0.7504 - val_loss: 0.5079 - val_accuracy: 0.7455\n",
      "Epoch 5/50\n",
      "4500/4500 - 18s - loss: 0.4917 - accuracy: 0.7558 - val_loss: 0.5069 - val_accuracy: 0.7531\n",
      "Epoch 6/50\n",
      "4500/4500 - 17s - loss: 0.4842 - accuracy: 0.7613 - val_loss: 0.5042 - val_accuracy: 0.7554\n",
      "Epoch 7/50\n",
      "4500/4500 - 17s - loss: 0.4781 - accuracy: 0.7657 - val_loss: 0.5008 - val_accuracy: 0.7544\n",
      "Epoch 8/50\n",
      "4500/4500 - 17s - loss: 0.4736 - accuracy: 0.7672 - val_loss: 0.5087 - val_accuracy: 0.7544\n",
      "Epoch 9/50\n",
      "4500/4500 - 18s - loss: 0.4696 - accuracy: 0.7696 - val_loss: 0.5058 - val_accuracy: 0.7536\n",
      "Epoch 10/50\n",
      "4500/4500 - 17s - loss: 0.4652 - accuracy: 0.7730 - val_loss: 0.5019 - val_accuracy: 0.7558\n",
      "Epoch 11/50\n",
      "4500/4500 - 18s - loss: 0.4617 - accuracy: 0.7752 - val_loss: 0.5039 - val_accuracy: 0.7560\n",
      "Epoch 12/50\n",
      "4500/4500 - 18s - loss: 0.4585 - accuracy: 0.7773 - val_loss: 0.5043 - val_accuracy: 0.7564\n",
      "Epoch 13/50\n",
      "4500/4500 - 18s - loss: 0.4554 - accuracy: 0.7796 - val_loss: 0.5032 - val_accuracy: 0.7553\n",
      "Epoch 14/50\n",
      "4500/4500 - 18s - loss: 0.4523 - accuracy: 0.7804 - val_loss: 0.5065 - val_accuracy: 0.7575\n",
      "Epoch 15/50\n",
      "4500/4500 - 18s - loss: 0.4520 - accuracy: 0.7817 - val_loss: 0.5054 - val_accuracy: 0.7596\n",
      "Epoch 16/50\n",
      "4500/4500 - 18s - loss: 0.4496 - accuracy: 0.7828 - val_loss: 0.5047 - val_accuracy: 0.7564\n",
      "Epoch 17/50\n",
      "4500/4500 - 18s - loss: 0.4478 - accuracy: 0.7828 - val_loss: 0.5069 - val_accuracy: 0.7514\n",
      "Epoch 18/50\n",
      "4500/4500 - 18s - loss: 0.4461 - accuracy: 0.7842 - val_loss: 0.5079 - val_accuracy: 0.7546\n",
      "Epoch 19/50\n",
      "4500/4500 - 18s - loss: 0.4443 - accuracy: 0.7868 - val_loss: 0.5100 - val_accuracy: 0.7548\n",
      "Epoch 20/50\n",
      "4500/4500 - 18s - loss: 0.4421 - accuracy: 0.7883 - val_loss: 0.5150 - val_accuracy: 0.7544\n",
      "Epoch 21/50\n",
      "4500/4500 - 18s - loss: 0.4423 - accuracy: 0.7876 - val_loss: 0.5077 - val_accuracy: 0.7556\n",
      "Epoch 22/50\n",
      "4500/4500 - 18s - loss: 0.4398 - accuracy: 0.7899 - val_loss: 0.5096 - val_accuracy: 0.7547\n",
      "Epoch 23/50\n",
      "4500/4500 - 18s - loss: 0.4387 - accuracy: 0.7899 - val_loss: 0.5132 - val_accuracy: 0.7523\n",
      "Epoch 24/50\n",
      "4500/4500 - 18s - loss: 0.4383 - accuracy: 0.7906 - val_loss: 0.5148 - val_accuracy: 0.7539\n",
      "Epoch 25/50\n",
      "4500/4500 - 18s - loss: 0.4362 - accuracy: 0.7907 - val_loss: 0.5155 - val_accuracy: 0.7554\n",
      "Epoch 26/50\n",
      "4500/4500 - 18s - loss: 0.4364 - accuracy: 0.7906 - val_loss: 0.5129 - val_accuracy: 0.7529\n",
      "Epoch 27/50\n",
      "4500/4500 - 18s - loss: 0.4363 - accuracy: 0.7908 - val_loss: 0.5156 - val_accuracy: 0.7502\n",
      "Epoch 28/50\n",
      "4500/4500 - 18s - loss: 0.4344 - accuracy: 0.7921 - val_loss: 0.5190 - val_accuracy: 0.7532\n",
      "Epoch 29/50\n",
      "4500/4500 - 18s - loss: 0.4333 - accuracy: 0.7925 - val_loss: 0.5182 - val_accuracy: 0.7532\n",
      "Epoch 30/50\n",
      "4500/4500 - 18s - loss: 0.4342 - accuracy: 0.7927 - val_loss: 0.5213 - val_accuracy: 0.7531\n",
      "Epoch 31/50\n",
      "4500/4500 - 18s - loss: 0.4343 - accuracy: 0.7923 - val_loss: 0.5146 - val_accuracy: 0.7567\n",
      "Epoch 32/50\n",
      "4500/4500 - 17s - loss: 0.4318 - accuracy: 0.7944 - val_loss: 0.5150 - val_accuracy: 0.7551\n",
      "Epoch 33/50\n",
      "4500/4500 - 17s - loss: 0.4328 - accuracy: 0.7934 - val_loss: 0.5156 - val_accuracy: 0.7580\n",
      "Epoch 34/50\n",
      "4500/4500 - 18s - loss: 0.4305 - accuracy: 0.7946 - val_loss: 0.5140 - val_accuracy: 0.7574\n",
      "Epoch 35/50\n",
      "4500/4500 - 18s - loss: 0.4304 - accuracy: 0.7945 - val_loss: 0.5136 - val_accuracy: 0.7536\n",
      "Epoch 36/50\n",
      "4500/4500 - 18s - loss: 0.4302 - accuracy: 0.7954 - val_loss: 0.5141 - val_accuracy: 0.7588\n",
      "Epoch 37/50\n",
      "4500/4500 - 17s - loss: 0.4300 - accuracy: 0.7937 - val_loss: 0.5204 - val_accuracy: 0.7553\n",
      "Epoch 38/50\n",
      "4500/4500 - 18s - loss: 0.4303 - accuracy: 0.7948 - val_loss: 0.5185 - val_accuracy: 0.7565\n",
      "Epoch 39/50\n",
      "4500/4500 - 18s - loss: 0.4297 - accuracy: 0.7951 - val_loss: 0.5114 - val_accuracy: 0.7567\n",
      "Epoch 40/50\n",
      "4500/4500 - 18s - loss: 0.4296 - accuracy: 0.7953 - val_loss: 0.5143 - val_accuracy: 0.7546\n",
      "Epoch 41/50\n",
      "4500/4500 - 18s - loss: 0.4302 - accuracy: 0.7950 - val_loss: 0.5185 - val_accuracy: 0.7502\n",
      "Epoch 42/50\n",
      "4500/4500 - 17s - loss: 0.4285 - accuracy: 0.7960 - val_loss: 0.5183 - val_accuracy: 0.7514\n",
      "Epoch 43/50\n",
      "4500/4500 - 18s - loss: 0.4281 - accuracy: 0.7953 - val_loss: 0.5160 - val_accuracy: 0.7534\n",
      "Epoch 44/50\n",
      "4500/4500 - 17s - loss: 0.4273 - accuracy: 0.7957 - val_loss: 0.5169 - val_accuracy: 0.7551\n",
      "Epoch 45/50\n",
      "4500/4500 - 17s - loss: 0.4266 - accuracy: 0.7971 - val_loss: 0.5180 - val_accuracy: 0.7544\n",
      "Epoch 46/50\n",
      "4500/4500 - 17s - loss: 0.4279 - accuracy: 0.7961 - val_loss: 0.5139 - val_accuracy: 0.7544\n",
      "Epoch 47/50\n",
      "4500/4500 - 18s - loss: 0.4288 - accuracy: 0.7962 - val_loss: 0.5169 - val_accuracy: 0.7569\n",
      "Epoch 48/50\n",
      "4500/4500 - 18s - loss: 0.4267 - accuracy: 0.7973 - val_loss: 0.5209 - val_accuracy: 0.7526\n",
      "Epoch 49/50\n",
      "4500/4500 - 17s - loss: 0.4257 - accuracy: 0.7974 - val_loss: 0.5159 - val_accuracy: 0.7539\n",
      "Epoch 50/50\n",
      "4500/4500 - 17s - loss: 0.4255 - accuracy: 0.7985 - val_loss: 0.5180 - val_accuracy: 0.7534\n",
      "Training Complete\n"
     ]
    }
   ],
   "source": [
    "model = tf.keras.Sequential([\n",
    "    tf.keras.layers.Embedding(vocab_size+1, embedding_dim, input_length=max_length, weights=[embeddings_matrix], trainable=False),\n",
    "    #experiment with combining different types, such as convolutions and LSTMs\n",
    "    tf.keras.layers.Conv1D(64, 5, activation='relu'),\n",
    "    tf.keras.layers.MaxPooling1D(pool_size=4),\n",
    "    tf.keras.layers.LSTM(64),\n",
    "    tf.keras.layers.Dense(1, activation='sigmoid')\n",
    "])\n",
    "model.compile(loss='binary_crossentropy',optimizer='adam',metrics=['accuracy'])# YOUR CODE HERE)\n",
    "model.summary()\n",
    "\n",
    "num_epochs = 50\n",
    "\n",
    "training_padded = np.array(training_sequences)\n",
    "training_labels = np.array(training_labels)\n",
    "testing_padded = np.array(test_sequences)\n",
    "testing_labels = np.array(test_labels)\n",
    "\n",
    "history = model.fit(training_padded, training_labels, epochs=num_epochs, validation_data=(testing_padded, testing_labels), verbose=2)\n",
    "\n",
    "print(\"Training Complete\")"
   ]
  },
  {
   "cell_type": "code",
   "execution_count": 34,
   "metadata": {
    "colab": {
     "base_uri": "https://localhost:8080/",
     "height": 609
    },
    "id": "qxju4ItJKO8F",
    "outputId": "4f96c626-bbac-40f5-9dc5-ce2f6a73af4f"
   },
   "outputs": [
    {
     "data": {
      "text/plain": [
       "<Figure size 432x288 with 0 Axes>"
      ]
     },
     "execution_count": 34,
     "metadata": {},
     "output_type": "execute_result"
    },
    {
     "data": {
      "image/png": "[encoded data removed]",
      "text/plain": [
       "<Figure size 432x288 with 1 Axes>"
      ]
     },
     "metadata": {
      "needs_background": "light"
     },
     "output_type": "display_data"
    },
    {
     "data": {
      "image/png": "[encoded data removed]",
      "text/plain": [
       "<Figure size 432x288 with 1 Axes>"
      ]
     },
     "metadata": {
      "needs_background": "light"
     },
     "output_type": "display_data"
    },
    {
     "data": {
      "text/plain": [
       "<Figure size 432x288 with 0 Axes>"
      ]
     },
     "metadata": {},
     "output_type": "display_data"
    }
   ],
   "source": [
    "import matplotlib.image  as mpimg\n",
    "import matplotlib.pyplot as plt\n",
    "\n",
    "#-----------------------------------------------------------\n",
    "# Retrieve a list of list results on training and test data\n",
    "# sets for each training epoch\n",
    "#-----------------------------------------------------------\n",
    "acc=history.history['accuracy']\n",
    "val_acc=history.history['val_accuracy']\n",
    "loss=history.history['loss']\n",
    "val_loss=history.history['val_loss']\n",
    "\n",
    "epochs=range(len(acc)) # Get number of epochs\n",
    "\n",
    "#------------------------------------------------\n",
    "# Plot training and validation accuracy per epoch\n",
    "#------------------------------------------------\n",
    "plt.plot(epochs, acc, 'r')\n",
    "plt.plot(epochs, val_acc, 'b')\n",
    "plt.title('Training and validation accuracy')\n",
    "plt.xlabel(\"Epochs\")\n",
    "plt.ylabel(\"Accuracy\")\n",
    "plt.legend([\"Accuracy\", \"Validation Accuracy\"])\n",
    "\n",
    "plt.figure()\n",
    "\n",
    "#------------------------------------------------\n",
    "# Plot training and validation loss per epoch\n",
    "#------------------------------------------------\n",
    "plt.plot(epochs, loss, 'r')\n",
    "plt.plot(epochs, val_loss, 'b')\n",
    "plt.title('Training and validation loss')\n",
    "plt.xlabel(\"Epochs\")\n",
    "plt.ylabel(\"Loss\")\n",
    "plt.legend([\"Loss\", \"Validation Loss\"])\n",
    "\n",
    "plt.figure()\n",
    "\n",
    "\n",
    "# Expected Output\n",
    "# A chart where the validation loss does not increase sharply!"
   ]
  },
  {
   "cell_type": "code",
   "execution_count": null,
   "metadata": {
    "id": "WOL71j8Y63wb"
   },
   "outputs": [],
   "source": []
  }
 ],
 "metadata": {
  "accelerator": "GPU",
  "colab": {
   "collapsed_sections": [],
   "name": "C3_W3_Assignment_Solution.ipynb",
   "provenance": [],
   "toc_visible": true
  },
  "kernelspec": {
   "display_name": "Python 3 (ipykernel)",
   "language": "python",
   "name": "python3"
  },
  "language_info": {
   "codemirror_mode": {
    "name": "ipython",
    "version": 3
   },
   "file_extension": ".py",
   "mimetype": "text/x-python",
   "name": "python",
   "nbconvert_exporter": "python",
   "pygments_lexer": "ipython3",
   "version": "3.9.0"
  }
 },
 "nbformat": 4,
 "nbformat_minor": 1
}
