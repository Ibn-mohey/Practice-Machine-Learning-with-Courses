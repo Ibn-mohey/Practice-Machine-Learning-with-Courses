{
 "cells": [
  {
   "cell_type": "markdown",
   "metadata": {
    "colab_type": "text",
    "id": "view-in-github"
   },
   "source": [
    "<a href=\"https://colab.research.google.com/github/https-deeplearning-ai/tensorflow-1-public/blob/adding_C1/C1/W4/assignment/C1_W4_Assignment.ipynb\" target=\"_parent\"><img src=\"https://colab.research.google.com/assets/colab-badge.svg\" alt=\"Open In Colab\"/></a>"
   ]
  },
  {
   "cell_type": "code",
   "execution_count": 1,
   "metadata": {
    "id": "zX4Kg8DUTKWO"
   },
   "outputs": [],
   "source": [
    "#@title Licensed under the Apache License, Version 2.0 (the \"License\");\n",
    "# you may not use this file except in compliance with the License.\n",
    "# You may obtain a copy of the License at\n",
    "#\n",
    "# https://www.apache.org/licenses/LICENSE-2.0\n",
    "#\n",
    "# Unless required by applicable law or agreed to in writing, software\n",
    "# distributed under the License is distributed on an \"AS IS\" BASIS,\n",
    "# WITHOUT WARRANTIES OR CONDITIONS OF ANY KIND, either express or implied.\n",
    "# See the License for the specific language governing permissions and\n",
    "# limitations under the License."
   ]
  },
  {
   "cell_type": "markdown",
   "metadata": {
    "id": "5FZ6L2rlHbG5"
   },
   "source": [
    "**Things to Note:**\n",
    "1. When coding the `class myCallback`, Python 3 will run into an error\n",
    "```python\n",
    "TypeError: '>' not supported between instances of 'NoneType' and 'float'\n",
    "```\n",
    "when using the code\n",
    "```python\n",
    "if(logs.get('accuracy')>0.99):\n",
    "```\n",
    "\n",
    "For Python 3, use the following equivalent code line\n",
    "\n",
    "```python\n",
    "if logs.get('accuracy') is not None and logs.get('accuracy') > 0.99:\n",
    "```\n",
    "\n",
    "2. You can run the notebook using TensorFlow 2.5.0"
   ]
  },
  {
   "cell_type": "code",
   "execution_count": 2,
   "metadata": {
    "id": "4UdrR8PdHbG5"
   },
   "outputs": [],
   "source": [
    "#!pip install tensorflow==2.5.0"
   ]
  },
  {
   "cell_type": "code",
   "execution_count": 3,
   "metadata": {
    "id": "D8Q4rstTHbG6"
   },
   "outputs": [],
   "source": [
    "# this is used in downloading data from the google drive\n",
    "#!pip install gdown"
   ]
  },
  {
   "cell_type": "markdown",
   "metadata": {
    "id": "q_9-x1fbHbG6"
   },
   "source": [
    "Below is code with a link to a happy or sad dataset which contains 80 images, 40 happy and 40 sad. \n",
    "Create a convolutional neural network that trains to 100% accuracy on these images,  which cancels training upon hitting training accuracy of >.999\n",
    "\n",
    "Hint -- it will work best with 3 convolutional layers."
   ]
  },
  {
   "cell_type": "code",
   "execution_count": 4,
   "metadata": {},
   "outputs": [
    {
     "name": "stderr",
     "output_type": "stream",
     "text": [
      "Downloading...\n",
      "From: https://drive.google.com/uc?id=1NvV6VhmrfU8JDZNoEbwJxwx_6dhyN5bf\n",
      "To: E:\\career\\Dataa\\github\\Machine-Learning-Courses\\DeepLearning.AI TensorFlow Developer Specialization\\C1-Introduction\\W4\\assignment\\happy-or-sad.zip\n",
      "\n",
      "  0%|          | 0.00/2.67M [00:00<?, ?B/s]\n",
      " 20%|#9        | 524k/2.67M [00:00<00:01, 1.53MB/s]\n",
      " 39%|###9      | 1.05M/2.67M [00:00<00:00, 1.83MB/s]\n",
      " 59%|#####8    | 1.57M/2.67M [00:00<00:00, 1.97MB/s]\n",
      " 79%|#######8  | 2.10M/2.67M [00:01<00:00, 2.05MB/s]\n",
      " 98%|#########8| 2.62M/2.67M [00:01<00:00, 1.92MB/s]\n",
      "100%|##########| 2.67M/2.67M [00:01<00:00, 1.91MB/s]\n"
     ]
    }
   ],
   "source": [
    "# !gdown --id 1NvV6VhmrfU8JDZNoEbwJxwx_6dhyN5bf "
   ]
  },
  {
   "cell_type": "code",
   "execution_count": 5,
   "metadata": {
    "id": "3NFuMFYXtwsT"
   },
   "outputs": [],
   "source": [
    "import tensorflow as tf\n",
    "import os\n",
    "import zipfile\n",
    "\n",
    "zip_ref = zipfile.ZipFile(\"./happy-or-sad.zip\", 'r')\n",
    "zip_ref.extractall(\"./h-or-s\")\n",
    "zip_ref.close()"
   ]
  },
  {
   "cell_type": "code",
   "execution_count": 7,
   "metadata": {
    "id": "eUcNTpra1FK0"
   },
   "outputs": [],
   "source": [
    "# GRADED FUNCTION: train_happy_sad_model\n",
    "def train_happy_sad_model():\n",
    "    # Please write your code only where you are indicated.\n",
    "    # please do not remove # model fitting inline comments.\n",
    "\n",
    "    DESIRED_ACCURACY = 0.999\n",
    "\n",
    "    class myCallback(tf.keras.callbacks.Callback): # YOUR CODE HERE):\n",
    "        \n",
    "        # YOUR CODE START HERE\n",
    "        \n",
    "        def on_epoch_end(self, epoch, logs={}):\n",
    "            if logs.get('accuracy') is not None and logs.get('accuracy') > DESIRED_ACCURACY:\n",
    "                print(\"\\nReached 99.9% accuracy so cancelling training!\")\n",
    "                self.model.stop_training = True\n",
    "                \n",
    "                \n",
    "        \n",
    "    callbacks = myCallback()\n",
    "    \n",
    "    model = tf.keras.models.Sequential([\n",
    "        # Note the input shape is the desired size of the image 150X150 with 3 bytes color\n",
    "        # This is the first convolution\n",
    "        tf.keras.layers.Conv2D(16, (3,3), activation='relu', input_shape=(150, 150, 3)),\n",
    "        tf.keras.layers.MaxPooling2D(2, 2),\n",
    "        # The second convolution\n",
    "        tf.keras.layers.Conv2D(32, (3,3), activation='relu'),\n",
    "        tf.keras.layers.MaxPooling2D(2,2),\n",
    "        # The third convolution\n",
    "        tf.keras.layers.Conv2D(64, (3,3), activation='relu'),\n",
    "        tf.keras.layers.MaxPooling2D(2,2),\n",
    "        # The fourth convolution\n",
    "        tf.keras.layers.Conv2D(64, (3,3), activation='relu'),\n",
    "        tf.keras.layers.MaxPooling2D(2,2),\n",
    "        # The fifth convolution\n",
    "        tf.keras.layers.Conv2D(64, (3,3), activation='relu'),\n",
    "        tf.keras.layers.MaxPooling2D(2,2),\n",
    "        # Flatten the results to feed into a DNN\n",
    "        tf.keras.layers.Flatten(),\n",
    "        # 512 neuron hidden layer\n",
    "        tf.keras.layers.Dense(512, activation='relu'),\n",
    "        # Only 1 output neuron. It will contain a value from 0-1 where 0 for 1 class ('horses') and 1 for the other ('humans')\n",
    "        tf.keras.layers.Dense(1, activation='sigmoid')\n",
    "    ])\n",
    "\n",
    "    from tensorflow.keras.optimizers import RMSprop\n",
    "\n",
    "    model.compile(loss='binary_crossentropy',\n",
    "                  optimizer=RMSprop(learning_rate=0.001),\n",
    "                  metrics=['accuracy']) \n",
    "    \n",
    "    # This code block should create an instance of an ImageDataGenerator called train_datagen \n",
    "    # And a train_generator by calling train_datagen.flow_from_directory\n",
    "\n",
    "    from tensorflow.keras.preprocessing.image import ImageDataGenerator\n",
    "\n",
    "    train_datagen = ImageDataGenerator(rescale=1/255) \n",
    "    \n",
    "    # Please use a target_size of 150 X 150.\n",
    "    train_generator = train_datagen.flow_from_directory( \"./h-or-s\", \n",
    "                                                        target_size=(150, 150), \n",
    "                                                        batch_size=10,\n",
    "                                                        class_mode='binary') \n",
    "    # Expected output: 'Found 80 images belonging to 2 classes'\n",
    "\n",
    "    # This code block should call model.fit_generator and train for\n",
    "    # a number of epochs.\n",
    "    # model fitting\n",
    "    history = model.fit(train_generator, \n",
    "                        steps_per_epoch=8,\n",
    "                        epochs=20,\n",
    "                        verbose=1,\n",
    "                        callbacks=[callbacks]\n",
    "                       )\n",
    "    \n",
    "    return history.history['accuracy'][-1]"
   ]
  },
  {
   "cell_type": "code",
   "execution_count": 8,
   "metadata": {
    "id": "sSaPPUe_z_OU"
   },
   "outputs": [
    {
     "name": "stdout",
     "output_type": "stream",
     "text": [
      "Found 80 images belonging to 2 classes.\n",
      "Epoch 1/20\n",
      "8/8 [==============================] - 5s 75ms/step - loss: 0.6598 - accuracy: 0.6750\n",
      "Epoch 2/20\n",
      "8/8 [==============================] - 0s 18ms/step - loss: 0.7519 - accuracy: 0.7375\n",
      "Epoch 3/20\n",
      "8/8 [==============================] - 0s 18ms/step - loss: 0.4697 - accuracy: 0.8000\n",
      "Epoch 4/20\n",
      "8/8 [==============================] - 0s 20ms/step - loss: 0.3754 - accuracy: 0.8250\n",
      "Epoch 5/20\n",
      "8/8 [==============================] - 0s 19ms/step - loss: 0.2316 - accuracy: 0.9125\n",
      "Epoch 6/20\n",
      "8/8 [==============================] - 0s 16ms/step - loss: 0.1615 - accuracy: 0.9250\n",
      "Epoch 7/20\n",
      "8/8 [==============================] - 0s 19ms/step - loss: 0.2187 - accuracy: 0.9500\n",
      "Epoch 8/20\n",
      "8/8 [==============================] - 0s 17ms/step - loss: 0.2344 - accuracy: 0.9250\n",
      "Epoch 9/20\n",
      "8/8 [==============================] - 0s 16ms/step - loss: 0.1007 - accuracy: 0.9625\n",
      "Epoch 10/20\n",
      "8/8 [==============================] - 0s 18ms/step - loss: 0.1902 - accuracy: 0.9000\n",
      "Epoch 11/20\n",
      "8/8 [==============================] - 0s 19ms/step - loss: 0.0593 - accuracy: 0.9750\n",
      "Epoch 12/20\n",
      "8/8 [==============================] - 0s 19ms/step - loss: 0.0245 - accuracy: 1.0000\n",
      "\n",
      "Reached 99.9% accuracy so cancelling training!\n"
     ]
    },
    {
     "data": {
      "text/plain": [
       "1.0"
      ]
     },
     "execution_count": 8,
     "metadata": {},
     "output_type": "execute_result"
    }
   ],
   "source": [
    "train_happy_sad_model()"
   ]
  },
  {
   "cell_type": "code",
   "execution_count": null,
   "metadata": {
    "id": "0imravDn0Ajz"
   },
   "outputs": [],
   "source": []
  }
 ],
 "metadata": {
  "accelerator": "GPU",
  "colab": {
   "collapsed_sections": [],
   "include_colab_link": true,
   "name": "C1_W4_Assignment.ipynb",
   "provenance": [],
   "toc_visible": true
  },
  "kernelspec": {
   "display_name": "Python 3 (ipykernel)",
   "language": "python",
   "name": "python3"
  },
  "language_info": {
   "codemirror_mode": {
    "name": "ipython",
    "version": 3
   },
   "file_extension": ".py",
   "mimetype": "text/x-python",
   "name": "python",
   "nbconvert_exporter": "python",
   "pygments_lexer": "ipython3",
   "version": "3.8.3"
  }
 },
 "nbformat": 4,
 "nbformat_minor": 1
}
