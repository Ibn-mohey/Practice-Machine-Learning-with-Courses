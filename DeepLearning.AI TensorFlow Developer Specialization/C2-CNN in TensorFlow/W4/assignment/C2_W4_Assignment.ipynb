{
  "nbformat": 4,
  "nbformat_minor": 0,
  "metadata": {
    "colab": {
      "name": "C2_W4_Assignment.ipynb",
      "provenance": [],
      "collapsed_sections": []
    },
    "kernelspec": {
      "display_name": "Python 3",
      "language": "python",
      "name": "python3"
    },
    "language_info": {
      "codemirror_mode": {
        "name": "ipython",
        "version": 3
      },
      "file_extension": ".py",
      "mimetype": "text/x-python",
      "name": "python",
      "nbconvert_exporter": "python",
      "pygments_lexer": "ipython3",
      "version": "3.8.5"
    },
    "accelerator": "GPU"
  },
  "cells": [
    {
      "cell_type": "code",
      "metadata": {
        "id": "zX4Kg8DUTKWO"
      },
      "source": [
        "#@title Licensed under the Apache License, Version 2.0 (the \"License\");\n",
        "# you may not use this file except in compliance with the License.\n",
        "# You may obtain a copy of the License at\n",
        "#\n",
        "# https://www.apache.org/licenses/LICENSE-2.0\n",
        "#\n",
        "# Unless required by applicable law or agreed to in writing, software\n",
        "# distributed under the License is distributed on an \"AS IS\" BASIS,\n",
        "# WITHOUT WARRANTIES OR CONDITIONS OF ANY KIND, either express or implied.\n",
        "# See the License for the specific language governing permissions and\n",
        "# limitations under the License."
      ],
      "execution_count": null,
      "outputs": []
    },
    {
      "cell_type": "markdown",
      "metadata": {
        "id": "KGYHjVbZHv1G"
      },
      "source": [
        "**IMPORTANT NOTE:** This notebook is designed to run as a Colab. Click the button on top that says, `Open in Colab`, to run this notebook as a Colab. Running the notebook on your local machine might result in some of the code blocks throwing errors."
      ]
    },
    {
      "cell_type": "code",
      "metadata": {
        "id": "wYtuKeK0dImp"
      },
      "source": [
        "import csv\n",
        "import numpy as np\n",
        "import tensorflow as tf\n",
        "from tensorflow.keras.preprocessing.image import ImageDataGenerator\n",
        "from google.colab import files"
      ],
      "execution_count": 1,
      "outputs": []
    },
    {
      "cell_type": "code",
      "metadata": {
        "id": "4kxw-_rmcnVu",
        "outputId": "f77481de-f2fb-45a1-b8db-7890b91e2352",
        "colab": {
          "base_uri": "https://localhost:8080/"
        }
      },
      "source": [
        "# # sign_mnist_train.csv\n",
        "# !gdown --id 1z0DkA9BytlLxO1C0BAWzknLyQmZAp0HR\n",
        "# # sign_mnist_test.csv\n",
        "# !gdown --id 1z1BIj4qmri59GWBG4ivMNFtpZ4AXIbzg\n",
        "\n",
        "def get_data(filename):\n",
        "  # You will need to write code that will read the file passed\n",
        "  # into this function. The first line contains the column headers\n",
        "  # so you should ignore it\n",
        "  # Each successive line contians 785 comma separated values between 0 and 255\n",
        "  # The first value is the label\n",
        "  # The rest are the pixel values for that picture\n",
        "  # The function will return 2 np.array types. One with all the labels\n",
        "  # One with all the images\n",
        "  #\n",
        "  # Tips: \n",
        "  # If you read a full line (as 'row') then row[0] has the label\n",
        "  # and row[1:785] has the 784 pixel values\n",
        "  # Take a look at np.array_split to turn the 784 pixels into 28x28\n",
        "  # You are reading in strings, but need the values to be floats\n",
        "  # Check out np.array().astype for a conversion  \n",
        "    with open(filename , \"r\") as training_file:\n",
        "        ### START CODE HERE\n",
        "      csv_reader = csv.reader(training_file, delimiter=',')\n",
        "      headers = next(csv_reader, None)\n",
        "      temp_images = []\n",
        "      temp_labels = []\n",
        "      for row in csv_reader: \n",
        "        temp_labels.append(row[0])\n",
        "        image_data = row[1:785]\n",
        "        image_data_as_array = np.array_split(image_data, 28)\n",
        "        temp_images.append(image_data_as_array)\n",
        "      \n",
        "      images = np.array(temp_images).astype('float')\n",
        "      labels = np.array(temp_labels).astype('float')\n",
        "\n",
        "        ### END CODE HERE\n",
        "    return images, labels\n",
        "\n",
        "\n",
        "training_images, training_labels = get_data('./sign_mnist_train.csv')\n",
        "testing_images, testing_labels = get_data('./sign_mnist_test.csv')\n",
        "\n",
        "print(training_images.shape)\n",
        "print(training_labels.shape)\n",
        "print(testing_images.shape)\n",
        "print(testing_labels.shape)\n",
        "\n",
        "# Their output should be:\n",
        "# (27455, 28, 28)\n",
        "# (27455,)\n",
        "# (7172, 28, 28)\n",
        "# (7172,)"
      ],
      "execution_count": 10,
      "outputs": [
        {
          "output_type": "stream",
          "name": "stdout",
          "text": [
            "(27455, 28, 28)\n",
            "(27455,)\n",
            "(7172, 28, 28)\n",
            "(7172,)\n"
          ]
        }
      ]
    },
    {
      "cell_type": "code",
      "metadata": {
        "id": "eo9JbEiiTjwe",
        "outputId": "59a26afb-d628-409d-b082-c942fc98ddca",
        "colab": {
          "base_uri": "https://localhost:8080/"
        }
      },
      "source": [
        "training_labels.max()"
      ],
      "execution_count": 16,
      "outputs": [
        {
          "output_type": "execute_result",
          "data": {
            "text/plain": [
              "24.0"
            ]
          },
          "metadata": {},
          "execution_count": 16
        }
      ]
    },
    {
      "cell_type": "code",
      "metadata": {
        "id": "awoqRpyZdQkD",
        "outputId": "07ec1885-c133-4c55-ebb7-dcfc5040a5fa",
        "colab": {
          "base_uri": "https://localhost:8080/"
        }
      },
      "source": [
        "# In this section you will have to add another dimension to the data\n",
        "# So, for example, if your array is (10000, 28, 28)\n",
        "# You will need to make it (10000, 28, 28, 1)\n",
        "# Hint: np.expand_dims\n",
        "\n",
        "training_images = np.expand_dims(training_images, axis=3) \n",
        "testing_images = np.expand_dims(testing_images, axis=3) \n",
        "\n",
        "train_datagen = ImageDataGenerator(\n",
        "    \n",
        "    rescale=1. / 255,\n",
        "    rotation_range=40,\n",
        "    width_shift_range=0.2,\n",
        "    height_shift_range=0.2,\n",
        "    shear_range=0.2,\n",
        "    zoom_range=0.2,\n",
        "    horizontal_flip=True,\n",
        "    fill_mode='nearest'\n",
        "    )\n",
        "\n",
        "\n",
        "validation_datagen = ImageDataGenerator(\n",
        "    \n",
        "    rescale=1. / 255\n",
        "    )\n",
        "\n",
        "# Keep These\n",
        "print(training_images.shape)\n",
        "print(testing_images.shape)\n",
        "    \n",
        "# Their output should be:\n",
        "# (27455, 28, 28, 1)\n",
        "# (7172, 28, 28, 1)"
      ],
      "execution_count": 11,
      "outputs": [
        {
          "output_type": "stream",
          "name": "stdout",
          "text": [
            "(27455, 28, 28, 1)\n",
            "(7172, 28, 28, 1)\n"
          ]
        }
      ]
    },
    {
      "cell_type": "code",
      "metadata": {
        "id": "Rmb7S32cgRqS",
        "outputId": "c27c2372-cd5b-4334-ae10-e98280e30add",
        "colab": {
          "base_uri": "https://localhost:8080/"
        }
      },
      "source": [
        "# Define the model\n",
        "# Use no more than 2 Conv2D and 2 MaxPooling2D\n",
        "model = tf.keras.models.Sequential([\n",
        "    ### START CODE HERE                                \n",
        "    tf.keras.layers.Conv2D(64, (3, 3), activation='relu', input_shape=(28, 28, 1)),\n",
        "    tf.keras.layers.MaxPooling2D(2, 2),\n",
        "    tf.keras.layers.Conv2D(64, (3, 3), activation='relu'),\n",
        "    tf.keras.layers.MaxPooling2D(2, 2),\n",
        "    tf.keras.layers.Flatten(),\n",
        "    tf.keras.layers.Dense(128, activation='relu'),\n",
        "    tf.keras.layers.Dense(25, activation='softmax')]\n",
        "    ### END CODE HERE\n",
        "    )\n",
        "\n",
        "model.compile(optimizer = tf.optimizers.Adam(), \n",
        "              loss = 'sparse_categorical_crossentropy',\n",
        "              metrics=['accuracy'])\n",
        "\n",
        "history = model.fit(train_datagen.flow(training_images, training_labels, batch_size=32), \n",
        "                              steps_per_epoch=len(training_images) / 32,\n",
        "                              epochs=15,\n",
        "                              validation_data=validation_datagen.flow(testing_images, testing_labels, batch_size=32),\n",
        "                              validation_steps=len(testing_images) / 32)\n",
        "\n",
        "model.evaluate(testing_images, testing_labels)\n",
        "\n",
        "# The output from model.evaluate should be close to:\n",
        "# [6.92426086682151, 0.56609035]\n"
      ],
      "execution_count": 19,
      "outputs": [
        {
          "output_type": "stream",
          "name": "stdout",
          "text": [
            "Epoch 1/15\n",
            "857/857 [==============================] - 18s 20ms/step - loss: 2.8997 - accuracy: 0.1265 - val_loss: 2.1173 - val_accuracy: 0.3292\n",
            "Epoch 2/15\n",
            "857/857 [==============================] - 17s 20ms/step - loss: 2.1744 - accuracy: 0.3116 - val_loss: 1.4744 - val_accuracy: 0.5119\n",
            "Epoch 3/15\n",
            "857/857 [==============================] - 17s 20ms/step - loss: 1.8516 - accuracy: 0.4091 - val_loss: 1.2279 - val_accuracy: 0.5756\n",
            "Epoch 4/15\n",
            "857/857 [==============================] - 17s 20ms/step - loss: 1.6463 - accuracy: 0.4673 - val_loss: 1.1345 - val_accuracy: 0.5983\n",
            "Epoch 5/15\n",
            "857/857 [==============================] - 17s 20ms/step - loss: 1.4717 - accuracy: 0.5206 - val_loss: 0.8891 - val_accuracy: 0.6764\n",
            "Epoch 6/15\n",
            "857/857 [==============================] - 17s 20ms/step - loss: 1.3513 - accuracy: 0.5556 - val_loss: 0.8098 - val_accuracy: 0.7110\n",
            "Epoch 7/15\n",
            "857/857 [==============================] - 17s 20ms/step - loss: 1.2586 - accuracy: 0.5878 - val_loss: 0.7278 - val_accuracy: 0.7440\n",
            "Epoch 8/15\n",
            "857/857 [==============================] - 17s 20ms/step - loss: 1.1733 - accuracy: 0.6157 - val_loss: 0.7714 - val_accuracy: 0.7190\n",
            "Epoch 9/15\n",
            "857/857 [==============================] - 17s 20ms/step - loss: 1.1034 - accuracy: 0.6368 - val_loss: 0.6878 - val_accuracy: 0.7411\n",
            "Epoch 10/15\n",
            "857/857 [==============================] - 17s 20ms/step - loss: 1.0355 - accuracy: 0.6602 - val_loss: 0.6596 - val_accuracy: 0.7524\n",
            "Epoch 11/15\n",
            "857/857 [==============================] - 17s 20ms/step - loss: 0.9816 - accuracy: 0.6734 - val_loss: 0.5516 - val_accuracy: 0.8041\n",
            "Epoch 12/15\n",
            "857/857 [==============================] - 17s 20ms/step - loss: 0.9505 - accuracy: 0.6863 - val_loss: 0.5101 - val_accuracy: 0.8146\n",
            "Epoch 13/15\n",
            "857/857 [==============================] - 17s 20ms/step - loss: 0.9138 - accuracy: 0.6967 - val_loss: 0.4955 - val_accuracy: 0.8300\n",
            "Epoch 14/15\n",
            "857/857 [==============================] - 17s 20ms/step - loss: 0.8830 - accuracy: 0.7082 - val_loss: 0.4927 - val_accuracy: 0.8242\n",
            "Epoch 15/15\n",
            "857/857 [==============================] - 17s 20ms/step - loss: 0.8536 - accuracy: 0.7178 - val_loss: 0.4655 - val_accuracy: 0.8380\n",
            "225/225 [==============================] - 1s 5ms/step - loss: 206.0095 - accuracy: 0.6424\n"
          ]
        },
        {
          "output_type": "execute_result",
          "data": {
            "text/plain": [
              "[206.00946044921875, 0.64235919713974]"
            ]
          },
          "metadata": {},
          "execution_count": 19
        }
      ]
    },
    {
      "cell_type": "code",
      "metadata": {
        "id": "_Q3Zpr46dsij",
        "outputId": "f6dcb57b-3193-407f-efce-4a90b3749c7b",
        "colab": {
          "base_uri": "https://localhost:8080/",
          "height": 545
        }
      },
      "source": [
        "# Plot the chart for accuracy and loss on both training and validation\n",
        "\n",
        "import matplotlib.pyplot as plt\n",
        "acc = history.history['accuracy'] \n",
        "val_acc = history.history['val_accuracy'] \n",
        "loss = history.history['loss'] \n",
        "val_loss = history.history['val_loss'] \n",
        "\n",
        "epochs = range(len(acc))\n",
        "\n",
        "plt.plot(epochs, acc, 'r', label='Training accuracy')\n",
        "plt.plot(epochs, val_acc, 'b', label='Validation accuracy')\n",
        "plt.title('Training and validation accuracy')\n",
        "plt.legend()\n",
        "plt.figure()\n",
        "\n",
        "plt.plot(epochs, loss, 'r', label='Training Loss')\n",
        "plt.plot(epochs, val_loss, 'b', label='Validation Loss')\n",
        "plt.title('Training and validation loss')\n",
        "plt.legend()\n",
        "\n",
        "plt.show()"
      ],
      "execution_count": 20,
      "outputs": [
        {
          "output_type": "display_data",
          "data": {
            "image/png": "[encoded data removed]",
            "text/plain": [
              "<Figure size 432x288 with 1 Axes>"
            ]
          },
          "metadata": {
            "needs_background": "light"
          }
        },
        {
          "output_type": "display_data",
          "data": {
            "image/png": "[encoded data removed]",
            "text/plain": [
              "<Figure size 432x288 with 1 Axes>"
            ]
          },
          "metadata": {
            "needs_background": "light"
          }
        }
      ]
    },
    {
      "cell_type": "code",
      "metadata": {
        "id": "low6st2RTvfV"
      },
      "source": [
        ""
      ],
      "execution_count": null,
      "outputs": []
    }
  ]
}