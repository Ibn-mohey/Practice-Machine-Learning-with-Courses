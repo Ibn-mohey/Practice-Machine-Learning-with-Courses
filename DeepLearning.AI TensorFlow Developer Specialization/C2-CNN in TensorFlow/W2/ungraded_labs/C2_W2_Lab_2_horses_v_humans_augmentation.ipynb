{
  "nbformat": 4,
  "nbformat_minor": 0,
  "metadata": {
    "accelerator": "GPU",
    "colab": {
      "name": "C2_W2_Lab_2_horses_v_humans_augmentation.ipynb",
      "provenance": [],
      "collapsed_sections": []
    },
    "kernelspec": {
      "display_name": "Python 3",
      "language": "python",
      "name": "python3"
    },
    "language_info": {
      "codemirror_mode": {
        "name": "ipython",
        "version": 3
      },
      "file_extension": ".py",
      "mimetype": "text/x-python",
      "name": "python",
      "nbconvert_exporter": "python",
      "pygments_lexer": "ipython3",
      "version": "3.8.5"
    }
  },
  "cells": [
    {
      "cell_type": "markdown",
      "metadata": {
        "id": "rX8mhOLljYeM"
      },
      "source": [
        "##### Copyright 2019 The TensorFlow Authors."
      ]
    },
    {
      "cell_type": "code",
      "metadata": {
        "cellView": "form",
        "id": "BZSlp3DAjdYf"
      },
      "source": [
        "#@title Licensed under the Apache License, Version 2.0 (the \"License\");\n",
        "# you may not use this file except in compliance with the License.\n",
        "# You may obtain a copy of the License at\n",
        "#\n",
        "# https://www.apache.org/licenses/LICENSE-2.0\n",
        "#\n",
        "# Unless required by applicable law or agreed to in writing, software\n",
        "# distributed under the License is distributed on an \"AS IS\" BASIS,\n",
        "# WITHOUT WARRANTIES OR CONDITIONS OF ANY KIND, either express or implied.\n",
        "# See the License for the specific language governing permissions and\n",
        "# limitations under the License."
      ],
      "execution_count": null,
      "outputs": []
    },
    {
      "cell_type": "code",
      "metadata": {
        "id": "RXZT2UsyIVe_",
        "outputId": "9936b11b-4690-4cfa-b2d0-863f25be7a1e",
        "colab": {
          "base_uri": "https://localhost:8080/"
        }
      },
      "source": [
        "# horses-or-humans dataset\n",
        "!gdown --id 1onaG42NZft3wCE1WH0GDEbUhu75fedP5\n",
        "\n",
        "# horses-or-humans validation dataset\n",
        "!gdown --id 1LYeusSEIiZQpwN-mthh5nKdA75VsKG1U\n",
        "  \n",
        "import os\n",
        "import zipfile\n",
        "\n",
        "zip_ref = zipfile.ZipFile('./horse-or-human.zip', 'r')\n",
        "zip_ref.extractall('tmp/horse-or-human')\n",
        "\n",
        "zip_ref = zipfile.ZipFile('./validation-horse-or-human.zip', 'r')\n",
        "zip_ref.extractall('tmp/validation-horse-or-human')\n",
        "\n",
        "zip_ref.close()\n",
        "\n",
        "# Directory with our training horse pictures\n",
        "train_horse_dir = os.path.join('tmp/horse-or-human/horses')\n",
        "\n",
        "# Directory with our training human pictures\n",
        "train_human_dir = os.path.join('tmp/horse-or-human/humans')\n",
        "\n",
        "# Directory with our training horse pictures\n",
        "validation_horse_dir = os.path.join('tmp/validation-horse-or-human/horses')\n",
        "\n",
        "# Directory with our training human pictures\n",
        "validation_human_dir = os.path.join('tmp/validation-horse-or-human/humans')"
      ],
      "execution_count": 1,
      "outputs": [
        {
          "output_type": "stream",
          "name": "stdout",
          "text": [
            "Downloading...\n",
            "From: https://drive.google.com/uc?id=1onaG42NZft3wCE1WH0GDEbUhu75fedP5\n",
            "To: /content/horse-or-human.zip\n",
            "150MB [00:01, 146MB/s]\n",
            "Downloading...\n",
            "From: https://drive.google.com/uc?id=1LYeusSEIiZQpwN-mthh5nKdA75VsKG1U\n",
            "To: /content/validation-horse-or-human.zip\n",
            "11.5MB [00:01, 8.40MB/s]\n"
          ]
        }
      ]
    },
    {
      "cell_type": "markdown",
      "metadata": {
        "id": "5oqBkNBJmtUv"
      },
      "source": [
        "## Building a Small Model from Scratch\n",
        "\n",
        "But before we continue, let's start defining the model:\n",
        "\n",
        "Step 1 will be to import tensorflow."
      ]
    },
    {
      "cell_type": "code",
      "metadata": {
        "id": "qvfZg3LQbD-5"
      },
      "source": [
        "import tensorflow as tf"
      ],
      "execution_count": 2,
      "outputs": []
    },
    {
      "cell_type": "markdown",
      "metadata": {
        "id": "BnhYCP4tdqjC"
      },
      "source": [
        "We then add convolutional layers as in the previous example, and flatten the final result to feed into the densely connected layers."
      ]
    },
    {
      "cell_type": "markdown",
      "metadata": {
        "id": "gokG5HKpdtzm"
      },
      "source": [
        "Finally we add the densely connected layers. \n",
        "\n",
        "Note that because we are facing a two-class classification problem, i.e. a *binary classification problem*, we will end our network with a [*sigmoid* activation](https://wikipedia.org/wiki/Sigmoid_function), so that the output of our network will be a single scalar between 0 and 1, encoding the probability that the current image is class 1 (as opposed to class 0)."
      ]
    },
    {
      "cell_type": "code",
      "metadata": {
        "id": "PixZ2s5QbYQ3"
      },
      "source": [
        "model = tf.keras.models.Sequential([\n",
        "    # Note the input shape is the desired size of the image 300x300 with 3 bytes color\n",
        "    # This is the first convolution\n",
        "    tf.keras.layers.Conv2D(16, (3,3), activation='relu', input_shape=(300, 300, 3)),\n",
        "    tf.keras.layers.MaxPooling2D(2, 2),\n",
        "    # The second convolution\n",
        "    tf.keras.layers.Conv2D(32, (3,3), activation='relu'),\n",
        "    tf.keras.layers.MaxPooling2D(2,2),\n",
        "    # The third convolution\n",
        "    tf.keras.layers.Conv2D(64, (3,3), activation='relu'),\n",
        "    tf.keras.layers.MaxPooling2D(2,2),\n",
        "    # The fourth convolution\n",
        "    tf.keras.layers.Conv2D(64, (3,3), activation='relu'),\n",
        "    tf.keras.layers.MaxPooling2D(2,2),\n",
        "    # The fifth convolution\n",
        "    tf.keras.layers.Conv2D(64, (3,3), activation='relu'),\n",
        "    tf.keras.layers.MaxPooling2D(2,2),\n",
        "    # Flatten the results to feed into a DNN\n",
        "    tf.keras.layers.Flatten(),\n",
        "    # 512 neuron hidden layer\n",
        "    tf.keras.layers.Dense(512, activation='relu'),\n",
        "    # Only 1 output neuron. It will contain a value from 0-1 where 0 for 1 class ('horses') and 1 for the other ('humans')\n",
        "    tf.keras.layers.Dense(1, activation='sigmoid')\n",
        "])"
      ],
      "execution_count": 3,
      "outputs": []
    },
    {
      "cell_type": "code",
      "metadata": {
        "id": "8DHWhFP_uhq3"
      },
      "source": [
        "from tensorflow.keras.optimizers import RMSprop\n",
        "\n",
        "model.compile(loss='binary_crossentropy',\n",
        "              optimizer=RMSprop(learning_rate=1e-4),\n",
        "              metrics=['accuracy'])"
      ],
      "execution_count": 4,
      "outputs": []
    },
    {
      "cell_type": "code",
      "metadata": {
        "id": "ClebU9NJg99G",
        "outputId": "1fc10753-d88c-4a8b-ca7b-a538c1f16593",
        "colab": {
          "base_uri": "https://localhost:8080/"
        }
      },
      "source": [
        "from tensorflow.keras.preprocessing.image import ImageDataGenerator\n",
        "\n",
        "# All images will be rescaled by 1./255\n",
        "train_datagen = ImageDataGenerator(\n",
        "      rescale=1./255,\n",
        "      rotation_range=40,\n",
        "      width_shift_range=0.2,\n",
        "      height_shift_range=0.2,\n",
        "      shear_range=0.2,\n",
        "      zoom_range=0.2,\n",
        "      horizontal_flip=True,\n",
        "      fill_mode='nearest')\n",
        "\n",
        "validation_datagen = ImageDataGenerator(rescale=1/255)\n",
        "\n",
        "# Flow training images in batches of 128 using train_datagen generator\n",
        "train_generator = train_datagen.flow_from_directory(\n",
        "        'tmp/horse-or-human/',  # This is the source directory for training images\n",
        "        target_size=(300, 300),  # All images will be resized to 150x150\n",
        "        batch_size=128,\n",
        "        # Since we use binary_crossentropy loss, we need binary labels\n",
        "        class_mode='binary')\n",
        "\n",
        "# Flow training images in batches of 128 using train_datagen generator\n",
        "validation_generator = validation_datagen.flow_from_directory(\n",
        "        'tmp/validation-horse-or-human/',  # This is the source directory for training images\n",
        "        target_size=(300, 300),  # All images will be resized to 150x150\n",
        "        batch_size=32,\n",
        "        # Since we use binary_crossentropy loss, we need binary labels\n",
        "        class_mode='binary')"
      ],
      "execution_count": 5,
      "outputs": [
        {
          "output_type": "stream",
          "name": "stdout",
          "text": [
            "Found 1027 images belonging to 2 classes.\n",
            "Found 256 images belonging to 2 classes.\n"
          ]
        }
      ]
    },
    {
      "cell_type": "code",
      "metadata": {
        "id": "Fb1_lgobv81m",
        "outputId": "6374704f-5752-4950-93f9-a81ff5987cc5",
        "colab": {
          "base_uri": "https://localhost:8080/"
        }
      },
      "source": [
        "history = model.fit(\n",
        "      train_generator,\n",
        "      steps_per_epoch=8,  \n",
        "      epochs=100,\n",
        "      verbose=1,\n",
        "      validation_data = validation_generator,\n",
        "      validation_steps=8)"
      ],
      "execution_count": 6,
      "outputs": [
        {
          "output_type": "stream",
          "name": "stdout",
          "text": [
            "Epoch 1/100\n",
            "8/8 [==============================] - 58s 3s/step - loss: 0.6928 - accuracy: 0.5391 - val_loss: 0.6655 - val_accuracy: 0.5781\n",
            "Epoch 2/100\n",
            "8/8 [==============================] - 24s 3s/step - loss: 0.6666 - accuracy: 0.6029 - val_loss: 0.6815 - val_accuracy: 0.5078\n",
            "Epoch 3/100\n",
            "8/8 [==============================] - 24s 3s/step - loss: 0.6330 - accuracy: 0.6518 - val_loss: 0.5857 - val_accuracy: 0.8320\n",
            "Epoch 4/100\n",
            "8/8 [==============================] - 24s 3s/step - loss: 0.6365 - accuracy: 0.6830 - val_loss: 0.6114 - val_accuracy: 0.5938\n",
            "Epoch 5/100\n",
            "8/8 [==============================] - 24s 3s/step - loss: 0.5962 - accuracy: 0.7208 - val_loss: 0.8353 - val_accuracy: 0.5000\n",
            "Epoch 6/100\n",
            "8/8 [==============================] - 24s 3s/step - loss: 0.5739 - accuracy: 0.7097 - val_loss: 0.5329 - val_accuracy: 0.7578\n",
            "Epoch 7/100\n",
            "8/8 [==============================] - 24s 3s/step - loss: 0.5800 - accuracy: 0.6852 - val_loss: 0.5577 - val_accuracy: 0.6719\n",
            "Epoch 8/100\n",
            "8/8 [==============================] - 24s 3s/step - loss: 0.5470 - accuracy: 0.7341 - val_loss: 0.4419 - val_accuracy: 0.8789\n",
            "Epoch 9/100\n",
            "8/8 [==============================] - 26s 3s/step - loss: 0.5358 - accuracy: 0.7510 - val_loss: 0.4829 - val_accuracy: 0.7539\n",
            "Epoch 10/100\n",
            "8/8 [==============================] - 24s 3s/step - loss: 0.5270 - accuracy: 0.7453 - val_loss: 0.6837 - val_accuracy: 0.6250\n",
            "Epoch 11/100\n",
            "8/8 [==============================] - 24s 3s/step - loss: 0.5260 - accuracy: 0.7553 - val_loss: 0.3357 - val_accuracy: 0.9062\n",
            "Epoch 12/100\n",
            "8/8 [==============================] - 24s 3s/step - loss: 0.5780 - accuracy: 0.7208 - val_loss: 0.7168 - val_accuracy: 0.6406\n",
            "Epoch 13/100\n",
            "8/8 [==============================] - 24s 3s/step - loss: 0.4770 - accuracy: 0.7798 - val_loss: 0.8695 - val_accuracy: 0.6172\n",
            "Epoch 14/100\n",
            "8/8 [==============================] - 24s 3s/step - loss: 0.5739 - accuracy: 0.7419 - val_loss: 0.9175 - val_accuracy: 0.5859\n",
            "Epoch 15/100\n",
            "8/8 [==============================] - 24s 3s/step - loss: 0.4840 - accuracy: 0.7731 - val_loss: 0.7595 - val_accuracy: 0.6328\n",
            "Epoch 16/100\n",
            "8/8 [==============================] - 24s 3s/step - loss: 0.4719 - accuracy: 0.7731 - val_loss: 0.9379 - val_accuracy: 0.6094\n",
            "Epoch 17/100\n",
            "8/8 [==============================] - 24s 3s/step - loss: 0.5002 - accuracy: 0.7675 - val_loss: 0.7763 - val_accuracy: 0.6641\n",
            "Epoch 18/100\n",
            "8/8 [==============================] - 24s 3s/step - loss: 0.4352 - accuracy: 0.8165 - val_loss: 1.2715 - val_accuracy: 0.5781\n",
            "Epoch 19/100\n",
            "8/8 [==============================] - 23s 3s/step - loss: 0.4845 - accuracy: 0.7653 - val_loss: 0.9905 - val_accuracy: 0.6328\n",
            "Epoch 20/100\n",
            "8/8 [==============================] - 24s 3s/step - loss: 0.4212 - accuracy: 0.8076 - val_loss: 0.8503 - val_accuracy: 0.6797\n",
            "Epoch 21/100\n",
            "8/8 [==============================] - 24s 3s/step - loss: 0.3967 - accuracy: 0.8254 - val_loss: 1.5183 - val_accuracy: 0.5664\n",
            "Epoch 22/100\n",
            "8/8 [==============================] - 24s 3s/step - loss: 0.4157 - accuracy: 0.8087 - val_loss: 1.0537 - val_accuracy: 0.6367\n",
            "Epoch 23/100\n",
            "8/8 [==============================] - 24s 3s/step - loss: 0.3995 - accuracy: 0.8220 - val_loss: 1.3847 - val_accuracy: 0.6016\n",
            "Epoch 24/100\n",
            "8/8 [==============================] - 24s 3s/step - loss: 0.4252 - accuracy: 0.7942 - val_loss: 1.0904 - val_accuracy: 0.6641\n",
            "Epoch 25/100\n",
            "8/8 [==============================] - 24s 3s/step - loss: 0.3999 - accuracy: 0.8187 - val_loss: 1.3293 - val_accuracy: 0.6211\n",
            "Epoch 26/100\n",
            "8/8 [==============================] - 25s 3s/step - loss: 0.3853 - accuracy: 0.8209 - val_loss: 1.7022 - val_accuracy: 0.5625\n",
            "Epoch 27/100\n",
            "8/8 [==============================] - 24s 3s/step - loss: 0.3583 - accuracy: 0.8476 - val_loss: 1.2873 - val_accuracy: 0.6406\n",
            "Epoch 28/100\n",
            "8/8 [==============================] - 24s 3s/step - loss: 0.4170 - accuracy: 0.8131 - val_loss: 1.2348 - val_accuracy: 0.6328\n",
            "Epoch 29/100\n",
            "8/8 [==============================] - 24s 3s/step - loss: 0.3430 - accuracy: 0.8365 - val_loss: 0.9630 - val_accuracy: 0.6953\n",
            "Epoch 30/100\n",
            "8/8 [==============================] - 24s 3s/step - loss: 0.3946 - accuracy: 0.8265 - val_loss: 2.1118 - val_accuracy: 0.5508\n",
            "Epoch 31/100\n",
            "8/8 [==============================] - 24s 3s/step - loss: 0.3747 - accuracy: 0.8365 - val_loss: 1.2150 - val_accuracy: 0.6641\n",
            "Epoch 32/100\n",
            "8/8 [==============================] - 24s 3s/step - loss: 0.3157 - accuracy: 0.8799 - val_loss: 1.2527 - val_accuracy: 0.6602\n",
            "Epoch 33/100\n",
            "8/8 [==============================] - 24s 3s/step - loss: 0.3782 - accuracy: 0.8254 - val_loss: 0.9270 - val_accuracy: 0.6953\n",
            "Epoch 34/100\n",
            "8/8 [==============================] - 24s 3s/step - loss: 0.3397 - accuracy: 0.8498 - val_loss: 2.0016 - val_accuracy: 0.5508\n",
            "Epoch 35/100\n",
            "8/8 [==============================] - 24s 3s/step - loss: 0.2994 - accuracy: 0.8676 - val_loss: 0.1528 - val_accuracy: 0.9219\n",
            "Epoch 36/100\n",
            "8/8 [==============================] - 25s 3s/step - loss: 0.5940 - accuracy: 0.8187 - val_loss: 1.5233 - val_accuracy: 0.6055\n",
            "Epoch 37/100\n",
            "8/8 [==============================] - 27s 3s/step - loss: 0.2778 - accuracy: 0.8818 - val_loss: 1.9073 - val_accuracy: 0.5820\n",
            "Epoch 38/100\n",
            "8/8 [==============================] - 24s 3s/step - loss: 0.3445 - accuracy: 0.8420 - val_loss: 1.5781 - val_accuracy: 0.6055\n",
            "Epoch 39/100\n",
            "8/8 [==============================] - 25s 3s/step - loss: 0.3149 - accuracy: 0.8543 - val_loss: 1.7822 - val_accuracy: 0.5898\n",
            "Epoch 40/100\n",
            "8/8 [==============================] - 25s 3s/step - loss: 0.3918 - accuracy: 0.8354 - val_loss: 1.6415 - val_accuracy: 0.5664\n",
            "Epoch 41/100\n",
            "8/8 [==============================] - 25s 3s/step - loss: 0.2685 - accuracy: 0.8888 - val_loss: 0.9202 - val_accuracy: 0.7227\n",
            "Epoch 42/100\n",
            "8/8 [==============================] - 25s 3s/step - loss: 0.3452 - accuracy: 0.8509 - val_loss: 2.4824 - val_accuracy: 0.5469\n",
            "Epoch 43/100\n",
            "8/8 [==============================] - 24s 3s/step - loss: 0.2763 - accuracy: 0.8910 - val_loss: 2.0095 - val_accuracy: 0.5742\n",
            "Epoch 44/100\n",
            "8/8 [==============================] - 24s 3s/step - loss: 0.3336 - accuracy: 0.8587 - val_loss: 1.9972 - val_accuracy: 0.5898\n",
            "Epoch 45/100\n",
            "8/8 [==============================] - 25s 3s/step - loss: 0.2775 - accuracy: 0.8776 - val_loss: 2.3136 - val_accuracy: 0.5586\n",
            "Epoch 46/100\n",
            "8/8 [==============================] - 27s 3s/step - loss: 0.2394 - accuracy: 0.9131 - val_loss: 2.6309 - val_accuracy: 0.5547\n",
            "Epoch 47/100\n",
            "8/8 [==============================] - 25s 3s/step - loss: 0.3384 - accuracy: 0.8543 - val_loss: 1.6015 - val_accuracy: 0.6406\n",
            "Epoch 48/100\n",
            "8/8 [==============================] - 24s 3s/step - loss: 0.2574 - accuracy: 0.8877 - val_loss: 1.9062 - val_accuracy: 0.6016\n",
            "Epoch 49/100\n",
            "8/8 [==============================] - 24s 3s/step - loss: 0.2815 - accuracy: 0.8810 - val_loss: 1.7763 - val_accuracy: 0.6016\n",
            "Epoch 50/100\n",
            "8/8 [==============================] - 24s 3s/step - loss: 0.2470 - accuracy: 0.9032 - val_loss: 0.6016 - val_accuracy: 0.7891\n",
            "Epoch 51/100\n",
            "8/8 [==============================] - 24s 3s/step - loss: 0.3155 - accuracy: 0.8643 - val_loss: 1.5190 - val_accuracy: 0.6367\n",
            "Epoch 52/100\n",
            "8/8 [==============================] - 26s 3s/step - loss: 0.2208 - accuracy: 0.9219 - val_loss: 1.6238 - val_accuracy: 0.6523\n",
            "Epoch 53/100\n",
            "8/8 [==============================] - 24s 3s/step - loss: 0.2068 - accuracy: 0.9210 - val_loss: 2.5209 - val_accuracy: 0.5703\n",
            "Epoch 54/100\n",
            "8/8 [==============================] - 24s 3s/step - loss: 0.2996 - accuracy: 0.8643 - val_loss: 1.8630 - val_accuracy: 0.6250\n",
            "Epoch 55/100\n",
            "8/8 [==============================] - 24s 3s/step - loss: 0.2142 - accuracy: 0.9277 - val_loss: 1.4194 - val_accuracy: 0.6953\n",
            "Epoch 56/100\n",
            "8/8 [==============================] - 24s 3s/step - loss: 0.2404 - accuracy: 0.8988 - val_loss: 1.1942 - val_accuracy: 0.7109\n",
            "Epoch 57/100\n",
            "8/8 [==============================] - 24s 3s/step - loss: 0.2765 - accuracy: 0.8865 - val_loss: 2.1526 - val_accuracy: 0.6016\n",
            "Epoch 58/100\n",
            "8/8 [==============================] - 24s 3s/step - loss: 0.2252 - accuracy: 0.9155 - val_loss: 1.6353 - val_accuracy: 0.6680\n",
            "Epoch 59/100\n",
            "8/8 [==============================] - 24s 3s/step - loss: 0.2187 - accuracy: 0.9088 - val_loss: 2.2272 - val_accuracy: 0.6133\n",
            "Epoch 60/100\n",
            "8/8 [==============================] - 24s 3s/step - loss: 0.2360 - accuracy: 0.8999 - val_loss: 1.1651 - val_accuracy: 0.6914\n",
            "Epoch 61/100\n",
            "8/8 [==============================] - 25s 3s/step - loss: 0.2664 - accuracy: 0.8899 - val_loss: 1.6173 - val_accuracy: 0.6523\n",
            "Epoch 62/100\n",
            "8/8 [==============================] - 27s 3s/step - loss: 0.1936 - accuracy: 0.9277 - val_loss: 1.5620 - val_accuracy: 0.6758\n",
            "Epoch 63/100\n",
            "8/8 [==============================] - 25s 3s/step - loss: 0.2125 - accuracy: 0.9166 - val_loss: 1.4391 - val_accuracy: 0.6914\n",
            "Epoch 64/100\n",
            "8/8 [==============================] - 24s 3s/step - loss: 0.2005 - accuracy: 0.9177 - val_loss: 2.2168 - val_accuracy: 0.6328\n",
            "Epoch 65/100\n",
            "8/8 [==============================] - 25s 3s/step - loss: 0.1778 - accuracy: 0.9277 - val_loss: 2.4523 - val_accuracy: 0.5977\n",
            "Epoch 66/100\n",
            "8/8 [==============================] - 25s 3s/step - loss: 0.1865 - accuracy: 0.9221 - val_loss: 2.1005 - val_accuracy: 0.6680\n",
            "Epoch 67/100\n",
            "8/8 [==============================] - 25s 3s/step - loss: 0.2693 - accuracy: 0.8854 - val_loss: 1.8136 - val_accuracy: 0.6680\n",
            "Epoch 68/100\n",
            "8/8 [==============================] - 24s 3s/step - loss: 0.1752 - accuracy: 0.9366 - val_loss: 2.0935 - val_accuracy: 0.6523\n",
            "Epoch 69/100\n",
            "8/8 [==============================] - 24s 3s/step - loss: 0.2167 - accuracy: 0.9066 - val_loss: 1.4696 - val_accuracy: 0.6797\n",
            "Epoch 70/100\n",
            "8/8 [==============================] - 24s 3s/step - loss: 0.1868 - accuracy: 0.9221 - val_loss: 2.8146 - val_accuracy: 0.5781\n",
            "Epoch 71/100\n",
            "8/8 [==============================] - 25s 3s/step - loss: 0.1819 - accuracy: 0.9244 - val_loss: 1.7954 - val_accuracy: 0.6562\n",
            "Epoch 72/100\n",
            "8/8 [==============================] - 25s 3s/step - loss: 0.2407 - accuracy: 0.8966 - val_loss: 1.8975 - val_accuracy: 0.6641\n",
            "Epoch 73/100\n",
            "8/8 [==============================] - 25s 3s/step - loss: 0.2662 - accuracy: 0.8932 - val_loss: 2.2465 - val_accuracy: 0.6328\n",
            "Epoch 74/100\n",
            "8/8 [==============================] - 24s 3s/step - loss: 0.1586 - accuracy: 0.9444 - val_loss: 2.3365 - val_accuracy: 0.6367\n",
            "Epoch 75/100\n",
            "8/8 [==============================] - 25s 3s/step - loss: 0.1886 - accuracy: 0.9255 - val_loss: 2.5438 - val_accuracy: 0.6250\n",
            "Epoch 76/100\n",
            "8/8 [==============================] - 24s 3s/step - loss: 0.1541 - accuracy: 0.9410 - val_loss: 2.2936 - val_accuracy: 0.6523\n",
            "Epoch 77/100\n",
            "8/8 [==============================] - 24s 3s/step - loss: 0.2236 - accuracy: 0.9121 - val_loss: 3.5162 - val_accuracy: 0.5391\n",
            "Epoch 78/100\n",
            "8/8 [==============================] - 24s 3s/step - loss: 0.1832 - accuracy: 0.9299 - val_loss: 4.2088 - val_accuracy: 0.5234\n",
            "Epoch 79/100\n",
            "8/8 [==============================] - 24s 3s/step - loss: 0.1931 - accuracy: 0.9255 - val_loss: 2.1173 - val_accuracy: 0.6562\n",
            "Epoch 80/100\n",
            "8/8 [==============================] - 27s 3s/step - loss: 0.1509 - accuracy: 0.9414 - val_loss: 1.5532 - val_accuracy: 0.6992\n",
            "Epoch 81/100\n",
            "8/8 [==============================] - 25s 3s/step - loss: 0.1974 - accuracy: 0.9110 - val_loss: 1.8268 - val_accuracy: 0.6758\n",
            "Epoch 82/100\n",
            "8/8 [==============================] - 25s 3s/step - loss: 0.1569 - accuracy: 0.9399 - val_loss: 2.9065 - val_accuracy: 0.5859\n",
            "Epoch 83/100\n",
            "8/8 [==============================] - 24s 3s/step - loss: 0.1463 - accuracy: 0.9444 - val_loss: 1.8826 - val_accuracy: 0.7109\n",
            "Epoch 84/100\n",
            "8/8 [==============================] - 24s 3s/step - loss: 0.2400 - accuracy: 0.9032 - val_loss: 2.3644 - val_accuracy: 0.6367\n",
            "Epoch 85/100\n",
            "8/8 [==============================] - 24s 3s/step - loss: 0.1460 - accuracy: 0.9466 - val_loss: 2.3233 - val_accuracy: 0.6562\n",
            "Epoch 86/100\n",
            "8/8 [==============================] - 27s 3s/step - loss: 0.1286 - accuracy: 0.9600 - val_loss: 1.5263 - val_accuracy: 0.7305\n",
            "Epoch 87/100\n",
            "8/8 [==============================] - 24s 3s/step - loss: 0.2552 - accuracy: 0.8854 - val_loss: 1.9507 - val_accuracy: 0.6484\n",
            "Epoch 88/100\n",
            "8/8 [==============================] - 24s 3s/step - loss: 0.1342 - accuracy: 0.9544 - val_loss: 2.2792 - val_accuracy: 0.6641\n",
            "Epoch 89/100\n",
            "8/8 [==============================] - 26s 3s/step - loss: 0.1302 - accuracy: 0.9443 - val_loss: 2.5106 - val_accuracy: 0.6602\n",
            "Epoch 90/100\n",
            "8/8 [==============================] - 24s 3s/step - loss: 0.1771 - accuracy: 0.9266 - val_loss: 3.5815 - val_accuracy: 0.5586\n",
            "Epoch 91/100\n",
            "8/8 [==============================] - 24s 3s/step - loss: 0.1498 - accuracy: 0.9366 - val_loss: 2.2102 - val_accuracy: 0.6602\n",
            "Epoch 92/100\n",
            "8/8 [==============================] - 24s 3s/step - loss: 0.1346 - accuracy: 0.9477 - val_loss: 2.5930 - val_accuracy: 0.6602\n",
            "Epoch 93/100\n",
            "8/8 [==============================] - 24s 3s/step - loss: 0.1767 - accuracy: 0.9266 - val_loss: 2.3034 - val_accuracy: 0.6602\n",
            "Epoch 94/100\n",
            "8/8 [==============================] - 26s 3s/step - loss: 0.1170 - accuracy: 0.9629 - val_loss: 3.0795 - val_accuracy: 0.6367\n",
            "Epoch 95/100\n",
            "8/8 [==============================] - 24s 3s/step - loss: 0.2128 - accuracy: 0.9166 - val_loss: 2.0047 - val_accuracy: 0.6641\n",
            "Epoch 96/100\n",
            "8/8 [==============================] - 24s 3s/step - loss: 0.1436 - accuracy: 0.9410 - val_loss: 2.7514 - val_accuracy: 0.6211\n",
            "Epoch 97/100\n",
            "8/8 [==============================] - 23s 3s/step - loss: 0.1737 - accuracy: 0.9321 - val_loss: 3.1041 - val_accuracy: 0.6289\n",
            "Epoch 98/100\n",
            "8/8 [==============================] - 24s 3s/step - loss: 0.1180 - accuracy: 0.9611 - val_loss: 2.0905 - val_accuracy: 0.6719\n",
            "Epoch 99/100\n",
            "8/8 [==============================] - 24s 3s/step - loss: 0.1249 - accuracy: 0.9522 - val_loss: 1.4158 - val_accuracy: 0.7500\n",
            "Epoch 100/100\n",
            "8/8 [==============================] - 24s 3s/step - loss: 0.2006 - accuracy: 0.9221 - val_loss: 2.8705 - val_accuracy: 0.6094\n"
          ]
        }
      ]
    },
    {
      "cell_type": "code",
      "metadata": {
        "id": "7zNPRWOVJdOH",
        "outputId": "6911e618-338f-40c8-dca6-119119cf43b9",
        "colab": {
          "base_uri": "https://localhost:8080/",
          "height": 545
        }
      },
      "source": [
        "import matplotlib.pyplot as plt\n",
        "acc = history.history['accuracy']\n",
        "val_acc = history.history['val_accuracy']\n",
        "loss = history.history['loss']\n",
        "val_loss = history.history['val_loss']\n",
        "\n",
        "epochs = range(len(acc))\n",
        "\n",
        "plt.plot(epochs, acc, 'r', label='Training accuracy')\n",
        "plt.plot(epochs, val_acc, 'b', label='Validation accuracy')\n",
        "plt.title('Training and validation accuracy')\n",
        "\n",
        "plt.figure()\n",
        "\n",
        "plt.plot(epochs, loss, 'r', label='Training Loss')\n",
        "plt.plot(epochs, val_loss, 'b', label='Validation Loss')\n",
        "plt.title('Training and validation loss')\n",
        "plt.legend()\n",
        "\n",
        "plt.show()"
      ],
      "execution_count": 7,
      "outputs": [
        {
          "output_type": "display_data",
          "data": {
            "image/png": "[encoded data removed]",
            "text/plain": [
              "<Figure size 432x288 with 1 Axes>"
            ]
          },
          "metadata": {
            "needs_background": "light"
          }
        },
        {
          "output_type": "display_data",
          "data": {
            "image/png": "[encoded data removed]",
            "text/plain": [
              "<Figure size 432x288 with 1 Axes>"
            ]
          },
          "metadata": {
            "needs_background": "light"
          }
        }
      ]
    },
    {
      "cell_type": "code",
      "metadata": {
        "id": "mi3WCwg87pMH"
      },
      "source": [
        ""
      ],
      "execution_count": null,
      "outputs": []
    }
  ]
}